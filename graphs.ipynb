{
 "cells": [
  {
   "cell_type": "code",
   "execution_count": 1,
   "metadata": {},
   "outputs": [
    {
     "name": "stderr",
     "output_type": "stream",
     "text": [
      "/tmp/ipykernel_130530/241899341.py:2: DeprecationWarning: Importing display from IPython.core.display is deprecated since IPython 7.14, please import from IPython display\n",
      "  from IPython.core.display import display, HTML\n"
     ]
    }
   ],
   "source": [
    "import plotly.graph_objects as go\n",
    "from IPython.core.display import display, HTML\n",
    "import pandas as pd"
   ]
  },
  {
   "cell_type": "code",
   "execution_count": 3,
   "metadata": {},
   "outputs": [],
   "source": [
    "df = pd.read_csv(\"ga_syn.csv\")"
   ]
  },
  {
   "cell_type": "code",
   "execution_count": 4,
   "metadata": {},
   "outputs": [],
   "source": [
    "c1_exps = df['c1']\n",
    "c2_exps = df['c2']\n",
    "c3_exps = df['c3']\n",
    "c4_exps = df['c4']\n",
    "k31_exps = df['k31']\n",
    "k41_exps = df['k41']\n",
    "k51_exps = df['k51']"
   ]
  },
  {
   "cell_type": "code",
   "execution_count": 7,
   "metadata": {},
   "outputs": [],
   "source": [
    "df = pd.read_csv(\"synthetic_param.csv\")\n",
    "truth = list(df.iloc[0])"
   ]
  },
  {
   "cell_type": "code",
   "execution_count": 12,
   "metadata": {},
   "outputs": [
    {
     "ename": "ValueError",
     "evalue": "\nImage export using the \"kaleido\" engine requires the kaleido package,\nwhich can be installed using pip:\n    $ pip install -U kaleido\n",
     "output_type": "error",
     "traceback": [
      "\u001b[0;31m---------------------------------------------------------------------------\u001b[0m",
      "\u001b[0;31mValueError\u001b[0m                                Traceback (most recent call last)",
      "Cell \u001b[0;32mIn[12], line 54\u001b[0m\n\u001b[1;32m     34\u001b[0m fig\u001b[39m.\u001b[39mupdate_layout(\n\u001b[1;32m     35\u001b[0m         title\u001b[39m=\u001b[39m\u001b[39mf\u001b[39m\u001b[39m\"\u001b[39m\u001b[39mParameter exponents of top ten individuals\u001b[39m\u001b[39m\"\u001b[39m,\n\u001b[1;32m     36\u001b[0m         title_font\u001b[39m=\u001b[39m\u001b[39mdict\u001b[39m(size\u001b[39m=\u001b[39m\u001b[39m24\u001b[39m, family\u001b[39m=\u001b[39m\u001b[39m\"\u001b[39m\u001b[39mCourier New, monospace\u001b[39m\u001b[39m\"\u001b[39m),\n\u001b[0;32m   (...)\u001b[0m\n\u001b[1;32m     49\u001b[0m         )\n\u001b[1;32m     50\u001b[0m     )\n\u001b[1;32m     53\u001b[0m \u001b[39m# fig.show()\u001b[39;00m\n\u001b[0;32m---> 54\u001b[0m fig\u001b[39m.\u001b[39;49mwrite_image(\u001b[39m'\u001b[39;49m\u001b[39maccuracy_test.png\u001b[39;49m\u001b[39m'\u001b[39;49m)\n",
      "File \u001b[0;32m~/anaconda3/lib/python3.10/site-packages/plotly/basedatatypes.py:3829\u001b[0m, in \u001b[0;36mBaseFigure.write_image\u001b[0;34m(self, *args, **kwargs)\u001b[0m\n\u001b[1;32m   3769\u001b[0m \u001b[39m\"\"\"\u001b[39;00m\n\u001b[1;32m   3770\u001b[0m \u001b[39mConvert a figure to a static image and write it to a file or writeable\u001b[39;00m\n\u001b[1;32m   3771\u001b[0m \u001b[39mobject\u001b[39;00m\n\u001b[0;32m   (...)\u001b[0m\n\u001b[1;32m   3825\u001b[0m \u001b[39mNone\u001b[39;00m\n\u001b[1;32m   3826\u001b[0m \u001b[39m\"\"\"\u001b[39;00m\n\u001b[1;32m   3827\u001b[0m \u001b[39mimport\u001b[39;00m \u001b[39mplotly\u001b[39;00m\u001b[39m.\u001b[39;00m\u001b[39mio\u001b[39;00m \u001b[39mas\u001b[39;00m \u001b[39mpio\u001b[39;00m\n\u001b[0;32m-> 3829\u001b[0m \u001b[39mreturn\u001b[39;00m pio\u001b[39m.\u001b[39;49mwrite_image(\u001b[39mself\u001b[39;49m, \u001b[39m*\u001b[39;49margs, \u001b[39m*\u001b[39;49m\u001b[39m*\u001b[39;49mkwargs)\n",
      "File \u001b[0;32m~/anaconda3/lib/python3.10/site-packages/plotly/io/_kaleido.py:267\u001b[0m, in \u001b[0;36mwrite_image\u001b[0;34m(fig, file, format, scale, width, height, validate, engine)\u001b[0m\n\u001b[1;32m    251\u001b[0m             \u001b[39mraise\u001b[39;00m \u001b[39mValueError\u001b[39;00m(\n\u001b[1;32m    252\u001b[0m                 \u001b[39m\"\"\"\u001b[39;00m\n\u001b[1;32m    253\u001b[0m \u001b[39mCannot infer image type from output path '{file}'.\u001b[39;00m\n\u001b[0;32m   (...)\u001b[0m\n\u001b[1;32m    261\u001b[0m                 )\n\u001b[1;32m    262\u001b[0m             )\n\u001b[1;32m    264\u001b[0m     \u001b[39m# Request image\u001b[39;00m\n\u001b[1;32m    265\u001b[0m     \u001b[39m# -------------\u001b[39;00m\n\u001b[1;32m    266\u001b[0m     \u001b[39m# Do this first so we don't create a file if image conversion fails\u001b[39;00m\n\u001b[0;32m--> 267\u001b[0m     img_data \u001b[39m=\u001b[39m to_image(\n\u001b[1;32m    268\u001b[0m         fig,\n\u001b[1;32m    269\u001b[0m         \u001b[39mformat\u001b[39;49m\u001b[39m=\u001b[39;49m\u001b[39mformat\u001b[39;49m,\n\u001b[1;32m    270\u001b[0m         scale\u001b[39m=\u001b[39;49mscale,\n\u001b[1;32m    271\u001b[0m         width\u001b[39m=\u001b[39;49mwidth,\n\u001b[1;32m    272\u001b[0m         height\u001b[39m=\u001b[39;49mheight,\n\u001b[1;32m    273\u001b[0m         validate\u001b[39m=\u001b[39;49mvalidate,\n\u001b[1;32m    274\u001b[0m         engine\u001b[39m=\u001b[39;49mengine,\n\u001b[1;32m    275\u001b[0m     )\n\u001b[1;32m    277\u001b[0m     \u001b[39m# Open file\u001b[39;00m\n\u001b[1;32m    278\u001b[0m     \u001b[39m# ---------\u001b[39;00m\n\u001b[1;32m    279\u001b[0m     \u001b[39mif\u001b[39;00m path \u001b[39mis\u001b[39;00m \u001b[39mNone\u001b[39;00m:\n\u001b[1;32m    280\u001b[0m         \u001b[39m# We previously failed to make sense of `file` as a pathlib object.\u001b[39;00m\n\u001b[1;32m    281\u001b[0m         \u001b[39m# Attempt to write to `file` as an open file descriptor.\u001b[39;00m\n",
      "File \u001b[0;32m~/anaconda3/lib/python3.10/site-packages/plotly/io/_kaleido.py:133\u001b[0m, in \u001b[0;36mto_image\u001b[0;34m(fig, format, width, height, scale, validate, engine)\u001b[0m\n\u001b[1;32m    131\u001b[0m     \u001b[39m# Raise informative error message if Kaleido is not installed\u001b[39;00m\n\u001b[1;32m    132\u001b[0m     \u001b[39mif\u001b[39;00m scope \u001b[39mis\u001b[39;00m \u001b[39mNone\u001b[39;00m:\n\u001b[0;32m--> 133\u001b[0m         \u001b[39mraise\u001b[39;00m \u001b[39mValueError\u001b[39;00m(\n\u001b[1;32m    134\u001b[0m             \u001b[39m\"\"\"\u001b[39;00m\n\u001b[1;32m    135\u001b[0m \u001b[39mImage export using the \"kaleido\" engine requires the kaleido package,\u001b[39;00m\n\u001b[1;32m    136\u001b[0m \u001b[39mwhich can be installed using pip:\u001b[39;00m\n\u001b[1;32m    137\u001b[0m \u001b[39m    $ pip install -U kaleido\u001b[39;00m\n\u001b[1;32m    138\u001b[0m \u001b[39m\"\"\"\u001b[39;00m\n\u001b[1;32m    139\u001b[0m         )\n\u001b[1;32m    141\u001b[0m     \u001b[39m# Validate figure\u001b[39;00m\n\u001b[1;32m    142\u001b[0m     \u001b[39m# ---------------\u001b[39;00m\n\u001b[1;32m    143\u001b[0m     fig_dict \u001b[39m=\u001b[39m validate_coerce_fig_to_dict(fig, validate)\n",
      "\u001b[0;31mValueError\u001b[0m: \nImage export using the \"kaleido\" engine requires the kaleido package,\nwhich can be installed using pip:\n    $ pip install -U kaleido\n"
     ]
    }
   ],
   "source": [
    "# Extract the top ten individuals from each run (there are totally NUM_RUNS=10 runs)\n",
    "\n",
    "# top_ten_individuals = top10\n",
    "\n",
    "# Unzipping the parameters\n",
    "# c1_exps, c2_exps, c3_exps, c4_exps, k31_exps, k41_exps, k51_exps = zip(*top_ten_individuals)\n",
    "\n",
    "# Create subplots\n",
    "fig = go.Figure()\n",
    "\n",
    "# Adding subplots for each parameter\n",
    "params = [c1_exps, c2_exps, c3_exps, c4_exps, k31_exps, k41_exps, k51_exps]\n",
    "param_names = [\"c1_exp\", \"c2_exp\", \"c3_exp\", \"c4_exp\", \"k31_exp\", \"k41_exp\", \"k51_exp\"]\n",
    "\n",
    "for param, name in zip(params, param_names):\n",
    "    fig.add_trace(go.Box(\n",
    "        y=param,\n",
    "        name=name\n",
    "    ))\n",
    "\n",
    "    truth_value = truth[param_names.index(name)]  # Assuming the order matches\n",
    "    fig.add_trace(go.Scatter(\n",
    "        x=[name],\n",
    "        y=[truth_value],\n",
    "        mode='markers',\n",
    "        marker=dict(size=10, color='red'),\n",
    "        name='Truth Value'\n",
    "    ))\n",
    "\n",
    "\n",
    "fig.update_xaxes(showgrid=True, gridwidth=2, gridcolor='white')\n",
    "fig.update_yaxes(showgrid=True, gridwidth=2, gridcolor='white')\n",
    "\n",
    "fig.update_layout(\n",
    "        title=f\"Parameter exponents of top ten individuals\",\n",
    "        title_font=dict(size=24, family=\"Courier New, monospace\"),\n",
    "        title_x=0.5,  # center\n",
    "        title_y=0.9,\n",
    "        width=800, height=700,\n",
    "        yaxis_title=\"Parameter Exponent Value\",\n",
    "        xaxis_title=\"Seven Parameter Exponents\",\n",
    "        xaxis=dict(\n",
    "            title_font=dict(size=22, family=\"Courier New, monospace\"),\n",
    "            tickfont=dict(size=22, family=\"Courier New, monospace\")\n",
    "        ),\n",
    "        yaxis=dict(\n",
    "            title_font=dict(size=22, family=\"Courier New, monospace\"),\n",
    "            tickfont=dict(size=22, family=\"Courier New, monospace\")\n",
    "        )\n",
    "    )\n",
    "\n",
    "\n",
    "fig.show()\n",
    "# fig.write_image('accuracy_test.png')"
   ]
  }
 ],
 "metadata": {
  "kernelspec": {
   "display_name": "base",
   "language": "python",
   "name": "python3"
  },
  "language_info": {
   "codemirror_mode": {
    "name": "ipython",
    "version": 3
   },
   "file_extension": ".py",
   "mimetype": "text/x-python",
   "name": "python",
   "nbconvert_exporter": "python",
   "pygments_lexer": "ipython3",
   "version": "3.10.9"
  },
  "orig_nbformat": 4
 },
 "nbformat": 4,
 "nbformat_minor": 2
}
