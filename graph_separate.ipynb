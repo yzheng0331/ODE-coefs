{
 "cells": [
  {
   "cell_type": "code",
   "execution_count": 1,
   "metadata": {},
   "outputs": [
    {
     "name": "stderr",
     "output_type": "stream",
     "text": [
      "/tmp/ipykernel_172862/241899341.py:2: DeprecationWarning: Importing display from IPython.core.display is deprecated since IPython 7.14, please import from IPython display\n",
      "  from IPython.core.display import display, HTML\n"
     ]
    }
   ],
   "source": [
    "import plotly.graph_objects as go\n",
    "from IPython.core.display import display, HTML\n",
    "import pandas as pd"
   ]
  },
  {
   "cell_type": "code",
   "execution_count": 12,
   "metadata": {},
   "outputs": [],
   "source": [
    "import numpy as np\n",
    "from scipy.integrate import odeint\n",
    "from tqdm import tqdm\n",
    "import time\n",
    "import random\n",
    "\n",
    "# Constants\n",
    "a21 = 1\n",
    "a31 = 0.27\n",
    "a32 = 0.73\n",
    "\n",
    "a41 = 0.18\n",
    "a42 = 0.24\n",
    "a43 = 0.58\n",
    "\n",
    "a51 = 0.24\n",
    "a52 = 0.23\n",
    "a53 = 0.2\n",
    "a54 = 0.33\n",
    "\n",
    "W2 = 63000\n",
    "W3 = 20000\n",
    "W4 = 15000\n",
    "W5 = 33000\n",
    "Ws2 = 8000\n",
    "\n",
    "# P980 = 3*10**4  # our PD\n",
    "\n",
    "def system(state, t, x, P980, c1, c2, c3, c4, k31, k41, k51):\n",
    "\n",
    "    ns2, n1, n2, n3, n4, n5 = state\n",
    "\n",
    "    #ns2\n",
    "    ms2 = 1.23*P980*(37*(100-x)-ns2) - Ws2*ns2 - (c1*n1+c2*n2+c3*n3+c4*n4)*ns2  # ns1 = total_Yb - ns2\n",
    "\n",
    "    # n1\n",
    "    m1 = -c1*n1*ns2 + a21*W2*n2 + a31*W3*n3 + a41*W4*n4 + a51*W5*n5 - k41*n1*n4 - k31*n1*n3 - k51*n5*n1\n",
    "\n",
    "    # n2\n",
    "    m2 = c1*n1*ns2 - c2*n2*ns2 - a21*W2*n2 + a32*W3*n3 + a42*W4*n4 + a52*W5*n5 + k41*n1*n4 + 2*k31*n1*n3\n",
    "\n",
    "    # n3\n",
    "    m3 = c2*n2*ns2 - c3*n3*ns2 - (a31+a32)*W3*n3 + a43*W4*n4 + a53*W5*n5 + 2*k51*n1*n5 + k41*n1*n4 - k31*n1*n3\n",
    "\n",
    "    # n4\n",
    "    m4 = c3*n3*ns2 - c4*n4*ns2 - (a43+a42+a41)*W4*n4 + a54*W5*n5 - k41*n1*n4\n",
    "\n",
    "    # n5\n",
    "    m5 = c4*n4*ns2 - (a54+a53+a52+a51)*W5*n5 - k51*n1*n5\n",
    "\n",
    "\n",
    "    return [ms2, m1, m2, m3, m4, m5]"
   ]
  },
  {
   "cell_type": "code",
   "execution_count": 3,
   "metadata": {},
   "outputs": [],
   "source": [
    "syn = pd.read_csv('conc_10.csv')"
   ]
  },
  {
   "cell_type": "code",
   "execution_count": 13,
   "metadata": {},
   "outputs": [],
   "source": [
    "from scipy.integrate import odeint\n",
    "from tqdm import tqdm\n",
    "\n",
    "def compute_values_for_x(x, P980, c1, c2, c3, c4, k31, k41, k51):\n",
    "\n",
    "    # Compute initial condition\n",
    "    y = 37 * x\n",
    "    state0 = [0, y, 0, 0, 0, 0]\n",
    "\n",
    "    # ODEs\n",
    "    t = np.arange(0.0, 0.001, 0.000001)\n",
    "\n",
    "    state = odeint(system, state0, t, args=(x, P980, c1, c2, c3, c4, k31, k41, k51))\n",
    "\n",
    "    # Compute NIR and blue_total\n",
    "    NIR = a31 * W3 * state[:, 3][-1]\n",
    "    blue_1 = a41 * W4 * state[:, 4][-1]\n",
    "    blue_2 = a52 * W5 * state[:, 5][-1]\n",
    "    blue_total = blue_1 + blue_2\n",
    "\n",
    "    return NIR, blue_total\n",
    "\n",
    "\n",
    "# x_values = [4, 6, 8, 10, 12, 15, 50]  # Range of C2 values from 2% to 40%\n"
   ]
  },
  {
   "cell_type": "code",
   "execution_count": 13,
   "metadata": {},
   "outputs": [],
   "source": [
    "Cr = 8 / 100\n",
    "\n",
    "def calculate_up(up, C2):\n",
    "    C2 = C2 / 100\n",
    "    return 3 * up / (2 + (Cr / C2) ** 2)\n",
    "\n",
    "\n",
    "def calculate_k(k, C2):\n",
    "    C2 = C2 / 100\n",
    "    return k * (C2 / Cr) ** 2"
   ]
  },
  {
   "cell_type": "code",
   "execution_count": 5,
   "metadata": {},
   "outputs": [],
   "source": [
    "p10_blue = [2.8*10**3, 4.4*10**3, 5*10**3, 6*10**3, 7.5*10**3, 9.1*10**3, 1.1*10**4, 1.4*10**4, 1.7*10**4, 2*10**4, 2.3*10**4, 2.7*10**4, 3*10**4]\n",
    "p10_nir = [1.2*10**3, 1.8*10**3, 2.8*10**3, 4.4*10**3, 5*10**3, 6*10**3, 7.5*10**3, 9.1*10**3, 1.1*10**4, 1.4*10**4, 1.7*10**4, 2*10**4, 2.3*10**4, 2.7*10**4, 3*10**4]\n",
    "p12_nir = [1.2*10**3, 1.8*10**3, 2.8*10**3, 4.4*10**3, 5*10**3, 6*10**3, 7.5*10**3, 9.1*10**3, 1.1*10**4, 1.4*10**4, 1.7*10**4, 2*10**4, 2.3*10**4, 2.7*10**4, 3*10**4]\n",
    "p12_blue = [4.4*10**3, 5*10**3, 6*10**3, 7.5*10**3, 9.1*10**3, 1.1*10**4, 1.4*10**4, 1.7*10**4, 2*10**4, 2.3*10**4, 2.7*10**4, 3*10**4]\n",
    "p15_nir = [1.2*10**3, 1.8*10**3, 2.8*10**3, 4.4*10**3, 5*10**3, 6*10**3, 7.5*10**3, 9.1*10**3, 1.1*10**4, 1.4*10**4, 1.7*10**4, 2*10**4, 2.3*10**4, 2.7*10**4, 3*10**4]\n",
    "p15_blue = [4.4*10**3, 5*10**3, 6*10**3, 7.5*10**3, 9.1*10**3, 1.1*10**4, 1.4*10**4, 1.7*10**4, 2*10**4, 2.3*10**4, 2.7*10**4, 3*10**4]\n",
    "\n",
    "power = {10: (p10_nir, p10_blue), 12: (p12_nir, p12_blue), 15: (p15_nir, p15_blue)}"
   ]
  },
  {
   "cell_type": "code",
   "execution_count": 14,
   "metadata": {},
   "outputs": [],
   "source": [
    "NIR_values = {x: [] for x in power[10][0]}\n",
    "blue_total_values = {x: [] for x in power[10][1]}\n",
    "\n",
    "count = 0\n",
    "for index, row in syn.iterrows():\n",
    "    c1, c2, c3, c4, k31, k41, k51 = row['c1'], row['c2'], row['c3'],row['c4'],row['k31'],row['k41'],row['k51']\n",
    "    c1, c2, c3, c4, k31, k41, k51 = 10**c1, 10**c2, 10**c3, 10**c4, 10**k31, 10**k41, 10**k51\n",
    "    for index, x in enumerate(power[10][0]):\n",
    "        NIR, _ = compute_values_for_x(10, x, c1, c2, c3, c4, k31, k41, k51)\n",
    "        NIR_values[x].append(NIR)\n",
    "    for index, x in enumerate(power[10][1]):\n",
    "        _, blue = compute_values_for_x(10, x, c1, c2, c3, c4, k31, k41, k51)\n",
    "        blue_total_values[x].append(blue)\n",
    "    # print(NIR_values[4])\n",
    "    # print(blue_total_values[4])\n",
    "    # count += 1\n",
    "    # if count >=100:\n",
    "    #     break\n"
   ]
  },
  {
   "cell_type": "code",
   "execution_count": null,
   "metadata": {},
   "outputs": [],
   "source": [
    "1333.8498887328628 0.0072478135983081 3.2853147027185314 1.1270140700426954e-07 0.047535610423267455 3.3565807876241085e-11 0.0028903051172732234"
   ]
  },
  {
   "cell_type": "code",
   "execution_count": 15,
   "metadata": {},
   "outputs": [],
   "source": [
    "nir_mean_values = [np.mean(NIR_values[x]) for x in power[10][0]]\n",
    "nir_std_values = [np.std(NIR_values[x]) for x in power[10][0]]\n",
    "\n",
    "blue_mean_values = [np.mean(blue_total_values[x]) for x in power[10][1]]\n",
    "blue_std_values = [np.std(blue_total_values[x]) for x in power[10][1]]"
   ]
  },
  {
   "cell_type": "code",
   "execution_count": 16,
   "metadata": {},
   "outputs": [
    {
     "data": {
      "text/plain": [
       "([50.43952064111411,\n",
       "  121.10189436136079,\n",
       "  324.1496774857541,\n",
       "  899.5386728759809,\n",
       "  1187.2899500855237,\n",
       "  1720.4389010341195,\n",
       "  2553.7836613660315,\n",
       "  3382.0807028300246,\n",
       "  4226.840676804585,\n",
       "  5272.743503126627,\n",
       "  6053.125318425338,\n",
       "  6650.756875414442,\n",
       "  7120.930406463133,\n",
       "  7609.999424173675,\n",
       "  7902.710828836292],\n",
       " [9.251153830910836,\n",
       "  20.952147333236447,\n",
       "  49.13184835539394,\n",
       "  100.10683414981844,\n",
       "  115.96156190488091,\n",
       "  138.64408130555861,\n",
       "  172.80079832631617,\n",
       "  212.0769423814028,\n",
       "  255.8864203428575,\n",
       "  313.77576139546306,\n",
       "  361.7148687622353,\n",
       "  403.6393051574512,\n",
       "  441.3432893628235,\n",
       "  486.32477654251574,\n",
       "  516.5982214246588])"
      ]
     },
     "execution_count": 16,
     "metadata": {},
     "output_type": "execute_result"
    }
   ],
   "source": [
    "nir_mean_values, nir_std_values"
   ]
  },
  {
   "cell_type": "code",
   "execution_count": 17,
   "metadata": {},
   "outputs": [
    {
     "data": {
      "text/plain": [
       "([4.8644726379372205,\n",
       "  34.45008428164688,\n",
       "  59.652584846144926,\n",
       "  125.68537530197095,\n",
       "  282.4159570305501,\n",
       "  508.0441076319262,\n",
       "  816.0332626806561,\n",
       "  1316.0041216350367,\n",
       "  1781.7347148567535,\n",
       "  2195.8879176253035,\n",
       "  2558.6574551990225,\n",
       "  2972.067142567074,\n",
       "  3237.704271374678],\n",
       " [0.37449713799828305,\n",
       "  1.9591768337711601,\n",
       "  2.807801663435588,\n",
       "  3.670853009850959,\n",
       "  6.587335654428091,\n",
       "  17.75339524258726,\n",
       "  37.69217319390493,\n",
       "  75.45686539029454,\n",
       "  114.48649582400637,\n",
       "  151.40626262888085,\n",
       "  185.08185632462263,\n",
       "  224.72465860723048,\n",
       "  250.82998312445991])"
      ]
     },
     "execution_count": 17,
     "metadata": {},
     "output_type": "execute_result"
    }
   ],
   "source": [
    "blue_mean_values, blue_std_values"
   ]
  },
  {
   "cell_type": "code",
   "execution_count": 10,
   "metadata": {},
   "outputs": [],
   "source": [
    "def objective_syn(exponents):\n",
    "    print('hello')\n",
    "\n",
    "    # c1, c2, c3, c4, k31, k41, k51 = params\n",
    "    c1_exp, c2_exp, c3_exp, c4_exp, k31_exp, k41_exp, k51_exp = exponents\n",
    "\n",
    "    # Converting exponent values to actual values\n",
    "    c1, c2, c3, c4, k31, k41, k51 = (10**c1_exp, 10**c2_exp, 10**c3_exp,\n",
    "                                 10**c4_exp, 10**k31_exp, 10**k41_exp, 10**k51_exp)\n",
    "\n",
    "    up_values = [c1, c2, c3, c4]\n",
    "    k_values = [k31, k41, k51]\n",
    "\n",
    "    C2_range = [4, 6, 8, 10, 12, 15, 50]\n",
    "\n",
    "    # storing new cross relaxation and new up-conversion values\n",
    "    nested_up_list = []\n",
    "    nested_k_list = []\n",
    "\n",
    "    for C2 in C2_range:\n",
    "\n",
    "        up_sublist = [calculate_up(up, C2) for up in up_values]\n",
    "        k_sublist = [calculate_k(k, C2) for k in k_values]\n",
    "        nested_up_list.append(up_sublist)\n",
    "        nested_k_list.append(k_sublist)\n",
    "\n",
    "    print(nested_up_list)\n",
    "    print(nested_k_list)\n",
    "\n",
    "    x_values = [4, 6, 8, 10, 12, 15, 50]\n",
    "\n",
    "    df_syn_data = pd.read_csv(\"synthetic_data.csv\")    \n",
    "\n",
    "    exp_blue_total = list(df_syn_data.iloc[1])\n",
    "    # [4.5*10**3, 5.7*10**3, 5.5*10**3, 3.5*10**3, 2*10**3, 1.2*10**3, 0.6*10**3]\n",
    "    # blue_std=[1*10**3, 1.5*10**3, 1*10**3, 1*10**3, 0.5*10**3, 0.5*10**3, 0.25*10**3]\n",
    "\n",
    "    #blue_weight=[i/j for i, j in zip(exp_blue_total, blue_std)]\n",
    "    #blue_weight_2=[x/sum(blue_weight) for x in blue_weight]\n",
    "\n",
    "    exp_NIR = list(df_syn_data.iloc[0])\n",
    "    # [5*10**3, 8.5*10**3, 6.6*10**3, 7.5*10**3, 6*10**3, 5.5*10**3, 0.6*10**3]\n",
    "    # NIR_std=[1.1*10**3, 2.25*10**3, 0.7*10**3, 1.5*10**3, 1*10**3, 1.7*10**3, 0.25*10**3]\n",
    "\n",
    "    #NIR_weight=[i/j for i, j in zip(exp_NIR, NIR_std)]\n",
    "    #NIR_weight_2=[x/sum(NIR_weight) for x in NIR_weight]\n",
    "\n",
    "    total_error = 0\n",
    "\n",
    "    for index, x in enumerate(x_values):\n",
    "\n",
    "        c1, c2, c3, c4 = nested_up_list[index]\n",
    "        k31, k41, k51 = nested_k_list[index]\n",
    "        print('c1234, k3141501: ', c1, c2, c3, c4, k31, k41, k51)\n",
    "        NIR, blue_total = compute_values_for_x(x, c1, c2, c3, c4, k31, k41, k51)\n",
    "\n",
    "        print(NIR, exp_NIR[index])\n",
    "        print(blue_total, exp_blue_total[index])\n",
    "\n",
    "        error_NIR = ((NIR - exp_NIR[index])/exp_NIR[index])**2\n",
    "        error_blue = ((blue_total - exp_blue_total[index])/exp_blue_total[index])**2\n",
    "        total_error += error_NIR + error_blue\n",
    "\n",
    "    return total_error, # a return statement with a trailing comma, it means the function is returning a tuple with a single element.\n"
   ]
  },
  {
   "cell_type": "code",
   "execution_count": 11,
   "metadata": {},
   "outputs": [
    {
     "name": "stdout",
     "output_type": "stream",
     "text": [
      "hello\n"
     ]
    },
    {
     "ename": "NameError",
     "evalue": "name 'calculate_up' is not defined",
     "output_type": "error",
     "traceback": [
      "\u001b[0;31m---------------------------------------------------------------------------\u001b[0m",
      "\u001b[0;31mNameError\u001b[0m                                 Traceback (most recent call last)",
      "Cell \u001b[0;32mIn[11], line 1\u001b[0m\n\u001b[0;32m----> 1\u001b[0m x \u001b[39m=\u001b[39m objective_syn( [\u001b[39m3.426136952558433\u001b[39;49m,\u001b[39m-\u001b[39;49m\u001b[39m1.8387629888542367\u001b[39;49m,\u001b[39m0.817606972941167\u001b[39;49m,\n\u001b[1;32m      2\u001b[0m               \u001b[39m-\u001b[39;49m\u001b[39m6.647040666369984\u001b[39;49m,\u001b[39m-\u001b[39;49m\u001b[39m0.7209209334458407\u001b[39;49m,\u001b[39m-\u001b[39;49m\u001b[39m9.872042904239695\u001b[39;49m,\n\u001b[1;32m      3\u001b[0m               \u001b[39m-\u001b[39;49m\u001b[39m1.9369963168658189\u001b[39;49m])\n\u001b[1;32m      4\u001b[0m \u001b[39mprint\u001b[39m(x)\n",
      "Cell \u001b[0;32mIn[10], line 22\u001b[0m, in \u001b[0;36mobjective_syn\u001b[0;34m(exponents)\u001b[0m\n\u001b[1;32m     18\u001b[0m nested_k_list \u001b[39m=\u001b[39m []\n\u001b[1;32m     20\u001b[0m \u001b[39mfor\u001b[39;00m C2 \u001b[39min\u001b[39;00m C2_range:\n\u001b[0;32m---> 22\u001b[0m     up_sublist \u001b[39m=\u001b[39m [calculate_up(up, C2) \u001b[39mfor\u001b[39;00m up \u001b[39min\u001b[39;00m up_values]\n\u001b[1;32m     23\u001b[0m     k_sublist \u001b[39m=\u001b[39m [calculate_k(k, C2) \u001b[39mfor\u001b[39;00m k \u001b[39min\u001b[39;00m k_values]\n\u001b[1;32m     24\u001b[0m     nested_up_list\u001b[39m.\u001b[39mappend(up_sublist)\n",
      "Cell \u001b[0;32mIn[10], line 22\u001b[0m, in \u001b[0;36m<listcomp>\u001b[0;34m(.0)\u001b[0m\n\u001b[1;32m     18\u001b[0m nested_k_list \u001b[39m=\u001b[39m []\n\u001b[1;32m     20\u001b[0m \u001b[39mfor\u001b[39;00m C2 \u001b[39min\u001b[39;00m C2_range:\n\u001b[0;32m---> 22\u001b[0m     up_sublist \u001b[39m=\u001b[39m [calculate_up(up, C2) \u001b[39mfor\u001b[39;00m up \u001b[39min\u001b[39;00m up_values]\n\u001b[1;32m     23\u001b[0m     k_sublist \u001b[39m=\u001b[39m [calculate_k(k, C2) \u001b[39mfor\u001b[39;00m k \u001b[39min\u001b[39;00m k_values]\n\u001b[1;32m     24\u001b[0m     nested_up_list\u001b[39m.\u001b[39mappend(up_sublist)\n",
      "\u001b[0;31mNameError\u001b[0m: name 'calculate_up' is not defined"
     ]
    }
   ],
   "source": [
    "x = objective_syn( [3.426136952558433,-1.8387629888542367,0.817606972941167,\n",
    "              -6.647040666369984,-0.7209209334458407,-9.872042904239695,\n",
    "              -1.9369963168658189])\n",
    "print(x)"
   ]
  },
  {
   "cell_type": "code",
   "execution_count": 67,
   "metadata": {},
   "outputs": [
    {
     "data": {
      "text/plain": [
       "[4, 6, 8, 10, 12, 15, 50, 50, 15, 12, 10, 8, 6, 4]"
      ]
     },
     "execution_count": 67,
     "metadata": {},
     "output_type": "execute_result"
    }
   ],
   "source": [
    "x_values + x_values[::-1]"
   ]
  },
  {
   "cell_type": "code",
   "execution_count": 68,
   "metadata": {},
   "outputs": [
    {
     "data": {
      "text/plain": [
       "[1439.9362856402327,\n",
       " 3152.649577506874,\n",
       " 4092.0305064430686,\n",
       " 4973.962932197278,\n",
       " 5717.92810431109,\n",
       " 6509.1163957769595,\n",
       " 76.82792820719868,\n",
       " 1206.8711606378458,\n",
       " 2556.2064579596204,\n",
       " 2344.3639048583714,\n",
       " 2330.5157560711095,\n",
       " 2457.12744318531,\n",
       " 2718.4873724567497,\n",
       " 41.067009453118814,\n",
       " 76.82792820719868,\n",
       " 6509.1163957769595,\n",
       " 5717.92810431109,\n",
       " 4973.962932197278,\n",
       " 4092.0305064430686,\n",
       " 3152.649577506874,\n",
       " 1439.9362856402327]"
      ]
     },
     "execution_count": 68,
     "metadata": {},
     "output_type": "execute_result"
    }
   ],
   "source": [
    "nir_mean_values + nir_std_values + nir_mean_values[::-1]"
   ]
  },
  {
   "cell_type": "code",
   "execution_count": 27,
   "metadata": {},
   "outputs": [
    {
     "ename": "TypeError",
     "evalue": "'float' object is not iterable",
     "output_type": "error",
     "traceback": [
      "\u001b[0;31m---------------------------------------------------------------------------\u001b[0m",
      "\u001b[0;31mTypeError\u001b[0m                                 Traceback (most recent call last)",
      "Cell \u001b[0;32mIn[27], line 33\u001b[0m\n\u001b[1;32m     17\u001b[0m fig\u001b[39m.\u001b[39madd_trace(go\u001b[39m.\u001b[39mScatter(\n\u001b[1;32m     18\u001b[0m     x\u001b[39m=\u001b[39mpower[\u001b[39m10\u001b[39m][\u001b[39m1\u001b[39m] \u001b[39m+\u001b[39m power[\u001b[39m10\u001b[39m][\u001b[39m1\u001b[39m][::\u001b[39m-\u001b[39m\u001b[39m1\u001b[39m],\n\u001b[1;32m     19\u001b[0m     y\u001b[39m=\u001b[39m[i\u001b[39m+\u001b[39mj \u001b[39mfor\u001b[39;00m i, j \u001b[39min\u001b[39;00m \u001b[39mzip\u001b[39m(blue_mean_values,blue_std_values)] \u001b[39m+\u001b[39m [i\u001b[39m-\u001b[39mj \u001b[39mfor\u001b[39;00m i, j \u001b[39min\u001b[39;00m \u001b[39mzip\u001b[39m(blue_mean_values,blue_std_values)][::\u001b[39m-\u001b[39m\u001b[39m1\u001b[39m],\n\u001b[0;32m   (...)\u001b[0m\n\u001b[1;32m     23\u001b[0m     name\u001b[39m=\u001b[39m\u001b[39m'\u001b[39m\u001b[39mNIR_simulation\u001b[39m\u001b[39m'\u001b[39m\n\u001b[1;32m     24\u001b[0m ))\n\u001b[1;32m     26\u001b[0m \u001b[39m# exp_blue_total = [4.5*10**3, 5.7*10**3, 5.5*10**3, 3.5*10**3, 2*10**3, 1.2*10**3, 0.6*10**3]\u001b[39;00m\n\u001b[1;32m     27\u001b[0m \u001b[39m# exp_NIR = [5*10**3, 8.5*10**3, 6.6*10**3, 7.5*10**3, 6*10**3, 5.5*10**3, 0.6*10**3]\u001b[39;00m\n\u001b[1;32m     28\u001b[0m \u001b[39m# exp_sum = [i+j for i, j in zip(exp_blue_total, exp_NIR)]\u001b[39;00m\n\u001b[1;32m     29\u001b[0m \n\u001b[1;32m     30\u001b[0m \n\u001b[1;32m     31\u001b[0m \u001b[39m# exp_sum = [i+j for i, j in zip(exp_blue_total, exp_NIR)]\u001b[39;00m\n\u001b[0;32m---> 33\u001b[0m \u001b[39mprint\u001b[39m(\u001b[39mint\u001b[39m(\u001b[39mmin\u001b[39;49m(\u001b[39mmin\u001b[39;49m(blue_total_values)) \u001b[39m/\u001b[39m \u001b[39m1e3\u001b[39m),\n\u001b[1;32m     34\u001b[0m                             \u001b[39mint\u001b[39m(\u001b[39mmax\u001b[39m(\u001b[39mmax\u001b[39m(blue_total_values)) \u001b[39m/\u001b[39m \u001b[39m1e3\u001b[39m) \u001b[39m+\u001b[39m \u001b[39m1\u001b[39m)\n\u001b[1;32m     36\u001b[0m y_ticks \u001b[39m=\u001b[39m [i \u001b[39mfor\u001b[39;00m i \u001b[39min\u001b[39;00m \u001b[39mrange\u001b[39m(\u001b[39mint\u001b[39m(\u001b[39mmin\u001b[39m(\u001b[39mmin\u001b[39m(blue_total_values)) \u001b[39m/\u001b[39m \u001b[39m1e3\u001b[39m),\n\u001b[1;32m     37\u001b[0m                             \u001b[39mint\u001b[39m(\u001b[39mmax\u001b[39m(\u001b[39mmax\u001b[39m(blue_total_values)) \u001b[39m/\u001b[39m \u001b[39m1e3\u001b[39m) \u001b[39m+\u001b[39m \u001b[39m1\u001b[39m)]\n\u001b[1;32m     39\u001b[0m \u001b[39m# y_ticks = [i for i in range(int(min(min(exp_sum), min(blue_total_values)) / 1e3),\u001b[39;00m\n\u001b[1;32m     40\u001b[0m \u001b[39m#                             int(max(max(exp_sum), max(blue_total_values)) / 1e3) + 1)]\u001b[39;00m\n",
      "\u001b[0;31mTypeError\u001b[0m: 'float' object is not iterable"
     ]
    }
   ],
   "source": [
    "fig = go.Figure()\n",
    "\n",
    "# Add the main trace (mean curve)\n",
    "fig.add_trace(go.Scatter(x=power[10][0], y=nir_mean_values, mode='lines+markers', name='Mean'))\n",
    "fig.add_trace(go.Scatter(x=power[10][1], y=blue_mean_values, mode='lines+markers', name='Mean'))\n",
    "\n",
    "# Add the uncertainty shade trace\n",
    "fig.add_trace(go.Scatter(\n",
    "    x=power[10][0] + power[10][0][::-1],\n",
    "    y=[i+j for i, j in zip(nir_mean_values,nir_std_values)] + [i-j for i, j in zip(nir_mean_values,nir_std_values)][::-1],\n",
    "    fill='toself',\n",
    "    fillcolor='rgba(170, 68, 153, 0.2)',\n",
    "    line=dict(color='rgba(255,255,255,0)'),\n",
    "    name='NIR_simulation'\n",
    "))\n",
    "\n",
    "fig.add_trace(go.Scatter(\n",
    "    x=power[10][1] + power[10][1][::-1],\n",
    "    y=[i+j for i, j in zip(blue_mean_values,blue_std_values)] + [i-j for i, j in zip(blue_mean_values,blue_std_values)][::-1],\n",
    "    fill='toself',\n",
    "    fillcolor='rgba(170, 68, 153, 0.2)',\n",
    "    line=dict(color='rgba(255,255,255,0)'),\n",
    "    name='NIR_simulation'\n",
    "))\n",
    "\n",
    "# exp_blue_total = [4.5*10**3, 5.7*10**3, 5.5*10**3, 3.5*10**3, 2*10**3, 1.2*10**3, 0.6*10**3]\n",
    "# exp_NIR = [5*10**3, 8.5*10**3, 6.6*10**3, 7.5*10**3, 6*10**3, 5.5*10**3, 0.6*10**3]\n",
    "# exp_sum = [i+j for i, j in zip(exp_blue_total, exp_NIR)]\n",
    "\n",
    "\n",
    "# exp_sum = [i+j for i, j in zip(exp_blue_total, exp_NIR)]\n",
    "\n",
    "print(int(min(min(blue_total_values)) / 1e3),\n",
    "                            int(max(max(blue_total_values)) / 1e3) + 1)\n",
    "\n",
    "y_ticks = [i for i in range(int(min(min(blue_total_values)) / 1e3),\n",
    "                            int(max(max(blue_total_values)) / 1e3) + 1)]\n",
    "\n",
    "# y_ticks = [i for i in range(int(min(min(exp_sum), min(blue_total_values)) / 1e3),\n",
    "#                             int(max(max(exp_sum), max(blue_total_values)) / 1e3) + 1)]\n",
    "\n",
    "fig.update_yaxes(tickvals=[tick * 1e3 for tick in y_ticks],\n",
    "                 ticktext=[f\"{tick} × 10^3\" for tick in y_ticks])\n",
    "\n",
    "\n",
    "fig.update_xaxes(title_font=dict(size=18, color='black'),tickfont=dict(size=14),showgrid=True, gridwidth=2, gridcolor='white', dtick=2)\n",
    "fig.update_yaxes(title_font=dict(size=18, color='black'),tickfont=dict(size=14),showgrid=True, gridwidth=2, gridcolor='white')\n",
    "\n",
    "# ... Your existing layout and formatting ...\n",
    "\n",
    "fig.update_layout(\n",
    "    title_text='NaYbF4: (1-x)% Yb, x% Tm',  # Main Title\n",
    "    title_font=dict(size=24, family=\"Arial, sans-serif\", color='royalblue'),\n",
    "    width=800, height=600,\n",
    "    xaxis_title='Tm concentration(%)',\n",
    "    yaxis_title='Intensity(kpps)',\n",
    "    title_x=0.42,  # Center the main title\n",
    "    title_y=0.95,  # Adjust the vertical position of the main title\n",
    "    showlegend=True, margin=dict(l=20, r=20, b=20, t=70),\n",
    "    legend=dict(\n",
    "        font=dict(\n",
    "            size=20,\n",
    "            family=\"Arial, sans-serif\"\n",
    "        )\n",
    "    )\n",
    ")\n",
    "\n",
    "syn_data = pd.read_csv('synthetic_data_1.csv')\n",
    "exp_NIR = list(syn_data.iloc[0])\n",
    "exp_blue_total = list(syn_data.iloc[1])\n",
    "fig.add_trace(go.Scatter(x= [4, 6, 8, 10, 12, 15, 50], y= exp_NIR, mode='markers', name='NIR_exp', marker=dict(color='rgb(170, 68, 153)', size=10)))\n",
    "fig.add_trace(go.Scatter(x= [4, 6, 8, 10, 12, 15, 50], y= exp_blue_total, mode='markers', name='Blue_exp', marker=dict(color='#0099C6', size=10)))\n",
    "\n",
    "# Show the plot\n",
    "fig.show()\n",
    "# print('hihi')"
   ]
  },
  {
   "cell_type": "code",
   "execution_count": null,
   "metadata": {},
   "outputs": [],
   "source": []
  }
 ],
 "metadata": {
  "kernelspec": {
   "display_name": "base",
   "language": "python",
   "name": "python3"
  },
  "language_info": {
   "codemirror_mode": {
    "name": "ipython",
    "version": 3
   },
   "file_extension": ".py",
   "mimetype": "text/x-python",
   "name": "python",
   "nbconvert_exporter": "python",
   "pygments_lexer": "ipython3",
   "version": "3.10.9"
  },
  "orig_nbformat": 4
 },
 "nbformat": 4,
 "nbformat_minor": 2
}
