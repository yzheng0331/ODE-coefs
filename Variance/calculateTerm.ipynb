{
 "cells": [
  {
   "cell_type": "code",
   "execution_count": 18,
   "metadata": {},
   "outputs": [],
   "source": [
    "import json\n",
    "import plotly.graph_objects as go\n",
    "from scipy.integrate import odeint\n",
    "import numpy as np\n",
    "import pandas as pd\n",
    "import seaborn as sns\n",
    "import sys\n",
    "sys.path.append('../src') \n",
    "from separate_fitting import power"
   ]
  },
  {
   "cell_type": "code",
   "execution_count": 7,
   "metadata": {},
   "outputs": [],
   "source": [
    "a21 = 1\n",
    "a31 = 0.27\n",
    "a32 = 0.73\n",
    "\n",
    "a41 = 0.18\n",
    "a42 = 0.24\n",
    "a43 = 0.58\n",
    "\n",
    "a51 = 0.24\n",
    "a52 = 0.23\n",
    "a53 = 0.2\n",
    "a54 = 0.33\n",
    "\n",
    "W2 = 63000\n",
    "W3 = 20000\n",
    "W4 = 15000\n",
    "W5 = 33000\n",
    "Ws2 = 8000"
   ]
  },
  {
   "cell_type": "code",
   "execution_count": 8,
   "metadata": {},
   "outputs": [],
   "source": [
    "def system(state, t, x, P980, c1, c2, c3, c4, k31, k41, k51):\n",
    "\n",
    "    ns2, n1, n2, n3, n4, n5 = state\n",
    "\n",
    "    #ns2\n",
    "    ms2 = 1.23*P980*(37*(100-x)-ns2) - Ws2*ns2 - (c1*n1+c2*n2+c3*n3+c4*n4)*ns2  # ns1 = total_Yb - ns2\n",
    "\n",
    "    # n1\n",
    "    m1 = -c1*n1*ns2 + a21*W2*n2 + a31*W3*n3 + a41*W4*n4 + a51*W5*n5 - k41*n1*n4 - k31*n1*n3 - k51*n5*n1\n",
    "\n",
    "    # n2\n",
    "    m2 = c1*n1*ns2 - c2*n2*ns2 - a21*W2*n2 + a32*W3*n3 + a42*W4*n4 + a52*W5*n5 + k41*n1*n4 + 2*k31*n1*n3\n",
    "\n",
    "    # n3\n",
    "    m3 = c2*n2*ns2 - c3*n3*ns2 - (a31+a32)*W3*n3 + a43*W4*n4 + a53*W5*n5 + 2*k51*n1*n5 + k41*n1*n4 - k31*n1*n3\n",
    "\n",
    "    # n4\n",
    "    m4 = c3*n3*ns2 - c4*n4*ns2 - (a43+a42+a41)*W4*n4 + a54*W5*n5 - k41*n1*n4\n",
    "\n",
    "    # n5\n",
    "    m5 = c4*n4*ns2 - (a54+a53+a52+a51)*W5*n5 - k51*n1*n5\n",
    "\n",
    "\n",
    "    return [ms2, m1, m2, m3, m4, m5]"
   ]
  },
  {
   "cell_type": "code",
   "execution_count": 9,
   "metadata": {},
   "outputs": [],
   "source": [
    "x=10\n",
    "P980 = 6*10**3"
   ]
  },
  {
   "cell_type": "code",
   "execution_count": 10,
   "metadata": {},
   "outputs": [],
   "source": [
    "with open(f'./../synthetic_data/syn_{x}.json', 'r') as f:\n",
    "    loaded_json_data = f.read()\n",
    "loaded_data = json.loads(loaded_json_data)\n",
    "params = loaded_data.get('param', [])\n",
    "experimental_data_NIR = loaded_data.get('NIR', [])\n",
    "experimental_data_blue = loaded_data.get('blue', [])"
   ]
  },
  {
   "cell_type": "code",
   "execution_count": 11,
   "metadata": {},
   "outputs": [],
   "source": [
    "c1, c2, c3, c4, k31, k41, k51 = params\n",
    "c1, c2, c3, c4, k31, k41, k51 = 10**c1, 10**c2, 10**c3, 10**c4, 10**k31, 10**k41, 10**k51"
   ]
  },
  {
   "cell_type": "code",
   "execution_count": 12,
   "metadata": {},
   "outputs": [],
   "source": [
    "y = 37 * x\n",
    "state0 = [0, y, 0, 0, 0, 0]\n",
    "t = np.arange(0.0, 0.001, 0.000001)\n",
    "state = odeint(system, state0, t, args=(x, P980, c1, c2, c3, c4, k31, k41, k51))"
   ]
  },
  {
   "cell_type": "code",
   "execution_count": 17,
   "metadata": {},
   "outputs": [],
   "source": [
    "ss = [state[:, i][-1] for i in range(6)]\n",
    "ns2, n1, n2, n3, n4, n5 = ss"
   ]
  },
  {
   "cell_type": "code",
   "execution_count": 30,
   "metadata": {},
   "outputs": [
    {
     "data": {
      "text/plain": [
       "[625.9604449753849,\n",
       " 132.51885095333108,\n",
       " 237.10813531380353,\n",
       " 0.3530331773077807,\n",
       " 0.004042848314338817,\n",
       " 0.01593770724318207]"
      ]
     },
     "execution_count": 30,
     "metadata": {},
     "output_type": "execute_result"
    }
   ],
   "source": [
    "ss"
   ]
  },
  {
   "cell_type": "code",
   "execution_count": 29,
   "metadata": {},
   "outputs": [
    {
     "name": "stdout",
     "output_type": "stream",
     "text": [
      "[82951.55891037383, 148420.31388831223, 220.9848047586524, 2.5306631298115105, 46.7835510052307, 0.5357536131947915, 2.11204665069707]\n",
      "14937812.524769623\n"
     ]
    }
   ],
   "source": [
    "# c1*n1*ns2\n",
    "# c2*n2*ns2\n",
    "# c3*n3*ns2\n",
    "# c4*n4*ns2\n",
    "# k31*n1*n3\n",
    "# k41*n1*n4\n",
    "# k51*n1*n5\n",
    "\n",
    "print([n1*ns2, n2*ns2, n3*ns2, n4*ns2, n1*n3, n1*n4, n1*n5])\n",
    "print(a21*W2*n2)"
   ]
  },
  {
   "cell_type": "code",
   "execution_count": 22,
   "metadata": {},
   "outputs": [
    {
     "name": "stdout",
     "output_type": "stream",
     "text": [
      "14939561.78358791 7342.165675509951 696.368867157074 528.0275640490805 10.921066802086193 281.26020335135286 2.083157512521155\n"
     ]
    }
   ],
   "source": [
    "print(c1*n1*ns2, c2*n2*ns2, c3*n3*ns2, c4*n4*ns2, k31*n1*n3, k41*n1*n4, k51*n1*n5)"
   ]
  },
  {
   "cell_type": "code",
   "execution_count": 24,
   "metadata": {},
   "outputs": [
    {
     "name": "stdout",
     "output_type": "stream",
     "text": [
      "180.09983151407158 0.04946873836309903 3.1512070158742826 208.65185801652277 0.23343817575679854 524.9805067559873 0.9863217329189294\n"
     ]
    }
   ],
   "source": [
    "print(c1, c2, c3, c4, k31, k41, k51)"
   ]
  },
  {
   "cell_type": "code",
   "execution_count": 27,
   "metadata": {},
   "outputs": [
    {
     "data": {
      "text/plain": [
       "5154.284388693599"
      ]
     },
     "execution_count": 27,
     "metadata": {},
     "output_type": "execute_result"
    }
   ],
   "source": [
    "a32*W3*n3"
   ]
  },
  {
   "cell_type": "code",
   "execution_count": 28,
   "metadata": {},
   "outputs": [
    {
     "data": {
      "text/plain": [
       "35.172780334747706"
      ]
     },
     "execution_count": 28,
     "metadata": {},
     "output_type": "execute_result"
    }
   ],
   "source": [
    "a43*W4*n4"
   ]
  },
  {
   "cell_type": "code",
   "execution_count": null,
   "metadata": {},
   "outputs": [],
   "source": []
  }
 ],
 "metadata": {
  "kernelspec": {
   "display_name": "Python 3",
   "language": "python",
   "name": "python3"
  },
  "language_info": {
   "codemirror_mode": {
    "name": "ipython",
    "version": 3
   },
   "file_extension": ".py",
   "mimetype": "text/x-python",
   "name": "python",
   "nbconvert_exporter": "python",
   "pygments_lexer": "ipython3",
   "version": "3.11.3"
  }
 },
 "nbformat": 4,
 "nbformat_minor": 2
}
