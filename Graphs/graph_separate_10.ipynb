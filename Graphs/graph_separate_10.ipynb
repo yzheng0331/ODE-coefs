{
 "cells": [
  {
   "cell_type": "code",
   "execution_count": 1,
   "metadata": {},
   "outputs": [
    {
     "name": "stderr",
     "output_type": "stream",
     "text": [
      "C:\\Users\\Yuxuan Zheng\\AppData\\Local\\Temp\\ipykernel_25992\\1834911006.py:2: DeprecationWarning: Importing display from IPython.core.display is deprecated since IPython 7.14, please import from IPython display\n",
      "  from IPython.core.display import display, HTML\n"
     ]
    }
   ],
   "source": [
    "import plotly.graph_objects as go\n",
    "from IPython.core.display import display, HTML\n",
    "import pandas as pd\n",
    "import sys\n",
    "sys.path.append('..')"
   ]
  },
  {
   "cell_type": "code",
   "execution_count": 2,
   "metadata": {},
   "outputs": [],
   "source": [
    "conc = 10"
   ]
  },
  {
   "cell_type": "code",
   "execution_count": 3,
   "metadata": {},
   "outputs": [],
   "source": [
    "import numpy as np\n",
    "from scipy.integrate import odeint\n",
    "from tqdm import tqdm\n",
    "import time\n",
    "import random\n",
    "\n",
    "# Constants\n",
    "a21 = 1\n",
    "a31 = 0.27\n",
    "a32 = 0.73\n",
    "\n",
    "a41 = 0.18\n",
    "a42 = 0.24\n",
    "a43 = 0.58\n",
    "\n",
    "a51 = 0.24\n",
    "a52 = 0.23\n",
    "a53 = 0.2\n",
    "a54 = 0.33\n",
    "\n",
    "W2 = 63000\n",
    "W3 = 20000\n",
    "W4 = 15000\n",
    "W5 = 33000\n",
    "Ws2 = 8000\n",
    "\n",
    "# P980 = 3*10**4  # our PD\n",
    "\n",
    "def system(state, t, x, P980, c1, c2, c3, c4, k31, k41, k51):\n",
    "\n",
    "    ns2, n1, n2, n3, n4, n5 = state\n",
    "\n",
    "    #ns2\n",
    "    ms2 = 1.23*P980*(37*(100-x)-ns2) - Ws2*ns2 - (c1*n1+c2*n2+c3*n3+c4*n4)*ns2  # ns1 = total_Yb - ns2\n",
    "\n",
    "    # n1\n",
    "    m1 = -c1*n1*ns2 + a21*W2*n2 + a31*W3*n3 + a41*W4*n4 + a51*W5*n5 - k41*n1*n4 - k31*n1*n3 - k51*n5*n1\n",
    "\n",
    "    # n2\n",
    "    m2 = c1*n1*ns2 - c2*n2*ns2 - a21*W2*n2 + a32*W3*n3 + a42*W4*n4 + a52*W5*n5 + k41*n1*n4 + 2*k31*n1*n3\n",
    "\n",
    "    # n3\n",
    "    m3 = c2*n2*ns2 - c3*n3*ns2 - (a31+a32)*W3*n3 + a43*W4*n4 + a53*W5*n5 + 2*k51*n1*n5 + k41*n1*n4 - k31*n1*n3\n",
    "\n",
    "    # n4\n",
    "    m4 = c3*n3*ns2 - c4*n4*ns2 - (a43+a42+a41)*W4*n4 + a54*W5*n5 - k41*n1*n4\n",
    "\n",
    "    # n5\n",
    "    m5 = c4*n4*ns2 - (a54+a53+a52+a51)*W5*n5 - k51*n1*n5\n",
    "\n",
    "\n",
    "    return [ms2, m1, m2, m3, m4, m5]"
   ]
  },
  {
   "cell_type": "code",
   "execution_count": 4,
   "metadata": {},
   "outputs": [
    {
     "name": "stderr",
     "output_type": "stream",
     "text": [
      "'ls' is not recognized as an internal or external command,\n",
      "operable program or batch file.\n"
     ]
    }
   ],
   "source": [
    "!ls"
   ]
  },
  {
   "cell_type": "code",
   "execution_count": 5,
   "metadata": {},
   "outputs": [],
   "source": [
    "syn = pd.read_csv(f'./../conc_{conc}.csv')"
   ]
  },
  {
   "cell_type": "code",
   "execution_count": 6,
   "metadata": {},
   "outputs": [],
   "source": [
    "from scipy.integrate import odeint\n",
    "from tqdm import tqdm\n",
    "\n",
    "def compute_values_for_x(x, P980, c1, c2, c3, c4, k31, k41, k51):\n",
    "\n",
    "    # Compute initial condition\n",
    "    y = 37 * x\n",
    "    state0 = [0, y, 0, 0, 0, 0]\n",
    "\n",
    "    # ODEs\n",
    "    t = np.arange(0.0, 0.001, 0.000001)\n",
    "\n",
    "    state = odeint(system, state0, t, args=(x, P980, c1, c2, c3, c4, k31, k41, k51))\n",
    "\n",
    "    # Compute NIR and blue_total\n",
    "    NIR = a31 * W3 * state[:, 3][-1]\n",
    "    blue_1 = a41 * W4 * state[:, 4][-1]\n",
    "    blue_2 = a52 * W5 * state[:, 5][-1]\n",
    "    blue_total = blue_1 + blue_2\n",
    "\n",
    "    return NIR, blue_total\n",
    "\n",
    "\n",
    "# x_values = [4, 6, 8, 10, 12, 15, 50]  # Range of C2 values from 2% to 40%\n"
   ]
  },
  {
   "cell_type": "code",
   "execution_count": 7,
   "metadata": {},
   "outputs": [],
   "source": [
    "p10_blue = [2.8*10**3, 4.4*10**3, 5*10**3, 6*10**3, 7.5*10**3, 9.1*10**3, 1.1*10**4, 1.4*10**4, 1.7*10**4, 2*10**4, 2.3*10**4, 2.7*10**4, 3*10**4]\n",
    "p10_nir = [1.2*10**3, 1.8*10**3, 2.8*10**3, 4.4*10**3, 5*10**3, 6*10**3, 7.5*10**3, 9.1*10**3, 1.1*10**4, 1.4*10**4, 1.7*10**4, 2*10**4, 2.3*10**4, 2.7*10**4, 3*10**4]\n",
    "p12_nir = [1.2*10**3, 1.8*10**3, 2.8*10**3, 4.4*10**3, 5*10**3, 6*10**3, 7.5*10**3, 9.1*10**3, 1.1*10**4, 1.4*10**4, 1.7*10**4, 2*10**4, 2.3*10**4, 2.7*10**4, 3*10**4]\n",
    "p12_blue = [4.4*10**3, 5*10**3, 6*10**3, 7.5*10**3, 9.1*10**3, 1.1*10**4, 1.4*10**4, 1.7*10**4, 2*10**4, 2.3*10**4, 2.7*10**4, 3*10**4]\n",
    "p15_nir = [1.2*10**3, 1.8*10**3, 2.8*10**3, 4.4*10**3, 5*10**3, 6*10**3, 7.5*10**3, 9.1*10**3, 1.1*10**4, 1.4*10**4, 1.7*10**4, 2*10**4, 2.3*10**4, 2.7*10**4, 3*10**4]\n",
    "p15_blue = [4.4*10**3, 5*10**3, 6*10**3, 7.5*10**3, 9.1*10**3, 1.1*10**4, 1.4*10**4, 1.7*10**4, 2*10**4, 2.3*10**4, 2.7*10**4, 3*10**4]\n",
    "\n",
    "power = {10: (p10_nir, p10_blue), 12: (p12_nir, p12_blue), 15: (p15_nir, p15_blue)}"
   ]
  },
  {
   "cell_type": "code",
   "execution_count": 8,
   "metadata": {},
   "outputs": [],
   "source": [
    "NIR_values = {x: [] for x in power[conc][0]}\n",
    "blue_total_values = {x: [] for x in power[conc][1]}\n",
    "\n",
    "count = 0\n",
    "for index, row in syn.iterrows():\n",
    "    c1, c2, c3, c4, k31, k41, k51 = row['c1'], row['c2'], row['c3'],row['c4'],row['k31'],row['k41'],row['k51']\n",
    "    c1, c2, c3, c4, k31, k41, k51 = 10**c1, 10**c2, 10**c3, 10**c4, 10**k31, 10**k41, 10**k51\n",
    "    for index, x in enumerate(power[conc][0]):\n",
    "        NIR, _ = compute_values_for_x(conc, x, c1, c2, c3, c4, k31, k41, k51)\n",
    "        NIR_values[x].append(NIR)\n",
    "    for index, x in enumerate(power[conc][1]):\n",
    "        _, blue = compute_values_for_x(conc, x, c1, c2, c3, c4, k31, k41, k51)\n",
    "        blue_total_values[x].append(blue)\n",
    "    # print(NIR_values[4])\n",
    "    # print(blue_total_values[4])\n",
    "    # count += 1\n",
    "    # if count >=100:\n",
    "    #     break\n"
   ]
  },
  {
   "cell_type": "code",
   "execution_count": 9,
   "metadata": {},
   "outputs": [],
   "source": [
    "nir_mean_values = [np.mean(NIR_values[x]) for x in power[conc][0]]\n",
    "nir_std_values = [np.std(NIR_values[x]) for x in power[conc][0]]\n",
    "\n",
    "blue_mean_values = [np.mean(blue_total_values[x]) for x in power[conc][1]]\n",
    "blue_std_values = [np.std(blue_total_values[x]) for x in power[conc][1]]"
   ]
  },
  {
   "cell_type": "code",
   "execution_count": 10,
   "metadata": {},
   "outputs": [
    {
     "data": {
      "text/plain": [
       "([50.439520807375814,\n",
       "  121.10189447025351,\n",
       "  324.1496785452112,\n",
       "  899.5386730320914,\n",
       "  1187.2899488540536,\n",
       "  1720.4388987986217,\n",
       "  2553.7836639469256,\n",
       "  3382.080697229911,\n",
       "  4226.840682788368,\n",
       "  5272.743493339431,\n",
       "  6053.1253217895155,\n",
       "  6650.756874336496,\n",
       "  7120.93038519894,\n",
       "  7609.999409138979,\n",
       "  7902.710846781095],\n",
       " [9.25115381683419,\n",
       "  20.95214741292309,\n",
       "  49.13184906402303,\n",
       "  100.10683427939767,\n",
       "  115.96156231357749,\n",
       "  138.64408384720738,\n",
       "  172.80079439311018,\n",
       "  212.07693878604158,\n",
       "  255.88642294476796,\n",
       "  313.77576575517867,\n",
       "  361.71488240824385,\n",
       "  403.63930865300614,\n",
       "  441.3433169124743,\n",
       "  486.32478325108303,\n",
       "  516.5982163929807])"
      ]
     },
     "execution_count": 10,
     "metadata": {},
     "output_type": "execute_result"
    }
   ],
   "source": [
    "nir_mean_values, nir_std_values"
   ]
  },
  {
   "cell_type": "code",
   "execution_count": 11,
   "metadata": {},
   "outputs": [
    {
     "data": {
      "text/plain": [
       "([4.864473008097281,\n",
       "  34.45008428196438,\n",
       "  59.65258439196603,\n",
       "  125.68537511898349,\n",
       "  282.41595925427146,\n",
       "  508.04410274415613,\n",
       "  816.0332658373211,\n",
       "  1316.0041136517298,\n",
       "  1781.7347207351568,\n",
       "  2195.887917589356,\n",
       "  2558.6574345620243,\n",
       "  2972.067126547992,\n",
       "  3237.70428786765],\n",
       " [0.37449776319942024,\n",
       "  1.9591768130912552,\n",
       "  2.807801278096661,\n",
       "  3.6708516466175145,\n",
       "  6.587333872457713,\n",
       "  17.753394553875015,\n",
       "  37.692178098391594,\n",
       "  75.45686791533548,\n",
       "  114.48648823711866,\n",
       "  151.40625356885258,\n",
       "  185.0818553377272,\n",
       "  224.7246497956869,\n",
       "  250.8299820207525])"
      ]
     },
     "execution_count": 11,
     "metadata": {},
     "output_type": "execute_result"
    }
   ],
   "source": [
    "blue_mean_values, blue_std_values"
   ]
  },
  {
   "cell_type": "code",
   "execution_count": 12,
   "metadata": {},
   "outputs": [
    {
     "data": {
      "text/plain": [
       "[50.439520807375814,\n",
       " 121.10189447025351,\n",
       " 324.1496785452112,\n",
       " 899.5386730320914,\n",
       " 1187.2899488540536,\n",
       " 1720.4388987986217,\n",
       " 2553.7836639469256,\n",
       " 3382.080697229911,\n",
       " 4226.840682788368,\n",
       " 5272.743493339431,\n",
       " 6053.1253217895155,\n",
       " 6650.756874336496,\n",
       " 7120.93038519894,\n",
       " 7609.999409138979,\n",
       " 7902.710846781095,\n",
       " 9.25115381683419,\n",
       " 20.95214741292309,\n",
       " 49.13184906402303,\n",
       " 100.10683427939767,\n",
       " 115.96156231357749,\n",
       " 138.64408384720738,\n",
       " 172.80079439311018,\n",
       " 212.07693878604158,\n",
       " 255.88642294476796,\n",
       " 313.77576575517867,\n",
       " 361.71488240824385,\n",
       " 403.63930865300614,\n",
       " 441.3433169124743,\n",
       " 486.32478325108303,\n",
       " 516.5982163929807,\n",
       " 7902.710846781095,\n",
       " 7609.999409138979,\n",
       " 7120.93038519894,\n",
       " 6650.756874336496,\n",
       " 6053.1253217895155,\n",
       " 5272.743493339431,\n",
       " 4226.840682788368,\n",
       " 3382.080697229911,\n",
       " 2553.7836639469256,\n",
       " 1720.4388987986217,\n",
       " 1187.2899488540536,\n",
       " 899.5386730320914,\n",
       " 324.1496785452112,\n",
       " 121.10189447025351,\n",
       " 50.439520807375814]"
      ]
     },
     "execution_count": 12,
     "metadata": {},
     "output_type": "execute_result"
    }
   ],
   "source": [
    "nir_mean_values + nir_std_values + nir_mean_values[::-1]"
   ]
  },
  {
   "cell_type": "code",
   "execution_count": 13,
   "metadata": {},
   "outputs": [
    {
     "data": {
      "application/vnd.plotly.v1+json": {
       "config": {
        "plotlyServerURL": "https://plot.ly"
       },
       "data": [
        {
         "mode": "lines+markers",
         "name": "Mean_NIR_Simulation",
         "type": "scatter",
         "x": [
          1200,
          1800,
          2800,
          4400,
          5000,
          6000,
          7500,
          9100,
          11000,
          14000,
          17000,
          20000,
          23000,
          27000,
          30000
         ],
         "y": [
          50.439520807375814,
          121.10189447025351,
          324.1496785452112,
          899.5386730320914,
          1187.2899488540536,
          1720.4388987986217,
          2553.7836639469256,
          3382.080697229911,
          4226.840682788368,
          5272.743493339431,
          6053.1253217895155,
          6650.756874336496,
          7120.93038519894,
          7609.999409138979,
          7902.710846781095
         ]
        },
        {
         "mode": "lines+markers",
         "name": "Mean_blue_Simulation",
         "type": "scatter",
         "x": [
          2800,
          4400,
          5000,
          6000,
          7500,
          9100,
          11000,
          14000,
          17000,
          20000,
          23000,
          27000,
          30000
         ],
         "y": [
          4.864473008097281,
          34.45008428196438,
          59.65258439196603,
          125.68537511898349,
          282.41595925427146,
          508.04410274415613,
          816.0332658373211,
          1316.0041136517298,
          1781.7347207351568,
          2195.887917589356,
          2558.6574345620243,
          2972.067126547992,
          3237.70428786765
         ]
        },
        {
         "fill": "toself",
         "fillcolor": "rgba(170, 68, 153, 0.2)",
         "line": {
          "color": "rgba(255,255,255,0)"
         },
         "name": "NIR_simulation",
         "type": "scatter",
         "x": [
          1200,
          1800,
          2800,
          4400,
          5000,
          6000,
          7500,
          9100,
          11000,
          14000,
          17000,
          20000,
          23000,
          27000,
          30000,
          30000,
          27000,
          23000,
          20000,
          17000,
          14000,
          11000,
          9100,
          7500,
          6000,
          5000,
          4400,
          2800,
          1800,
          1200
         ],
         "y": [
          59.690674624210004,
          142.0540418831766,
          373.2815276092342,
          999.6455073114892,
          1303.2515111676312,
          1859.0829826458291,
          2726.584458340036,
          3594.1576360159524,
          4482.727105733136,
          5586.519259094609,
          6414.84020419776,
          7054.396182989502,
          7562.273702111414,
          8096.324192390062,
          8419.309063174076,
          7386.112630388114,
          7123.674625887896,
          6679.587068286465,
          6247.11756568349,
          5691.410439381271,
          4958.967727584252,
          3970.9542598436,
          3170.0037584438696,
          2380.9828695538154,
          1581.7948149514143,
          1071.328386540476,
          799.4318387526937,
          275.0178294811882,
          100.14974705733042,
          41.188366990541624
         ]
        },
        {
         "fill": "toself",
         "fillcolor": "rgba(170, 68, 153, 0.2)",
         "line": {
          "color": "rgba(255,255,255,0)"
         },
         "name": "Blue_simulation",
         "type": "scatter",
         "x": [
          2800,
          4400,
          5000,
          6000,
          7500,
          9100,
          11000,
          14000,
          17000,
          20000,
          23000,
          27000,
          30000,
          30000,
          27000,
          23000,
          20000,
          17000,
          14000,
          11000,
          9100,
          7500,
          6000,
          5000,
          4400,
          2800
         ],
         "y": [
          5.238970771296701,
          36.40926109505563,
          62.46038567006269,
          129.356226765601,
          289.00329312672915,
          525.7974972980312,
          853.7254439357127,
          1391.4609815670653,
          1896.2212089722755,
          2347.294171158209,
          2743.7392898997514,
          3196.791776343679,
          3488.5342698884024,
          2986.874305846897,
          2747.3424767523047,
          2373.575579224297,
          2044.4816640205036,
          1667.248232498038,
          1240.5472457363942,
          778.3410877389294,
          490.2907081902811,
          275.82862538181377,
          122.01452347236597,
          56.84478311386937,
          32.490907468873125,
          4.489975244897861
         ]
        },
        {
         "marker": {
          "color": "rgb(170, 68, 153)",
          "size": 10
         },
         "mode": "markers",
         "name": "NIR_exp",
         "type": "scatter",
         "x": [
          1200,
          1800,
          2800,
          4400,
          5000,
          6000,
          7500,
          9100,
          11000,
          14000,
          17000,
          20000,
          23000,
          27000,
          30000
         ],
         "y": [
          67.7495642996998,
          159.79159790963834,
          412.1243896560029,
          1063.762944879831,
          1367.0240743609322,
          1906.3791574620159,
          2720.0437352973054,
          3517.5465971721746,
          4331.39469807193,
          5345.578363965799,
          6107.7285463171565,
          6694.199769212919,
          7157.008097565431,
          7639.463153814756,
          7928.610555370629
         ]
        },
        {
         "marker": {
          "color": "#0099C6",
          "size": 10
         },
         "mode": "markers",
         "name": "Blue_exp",
         "type": "scatter",
         "x": [
          2800,
          4400,
          5000,
          6000,
          7500,
          9100,
          11000,
          14000,
          17000,
          20000,
          23000,
          27000,
          30000
         ],
         "y": [
          4.1780112660192685,
          34.730771180880836,
          61.585370201082796,
          131.88288842446673,
          296.77380545945186,
          531.2650485973038,
          848.5639589502598,
          1359.5887816839595,
          1832.3640015511176,
          2250.6504525078017,
          2615.598369645266,
          3030.005404119039,
          3295.507636596591
         ]
        }
       ],
       "layout": {
        "height": 600,
        "legend": {
         "font": {
          "family": "Arial, sans-serif",
          "size": 20
         }
        },
        "margin": {
         "b": 20,
         "l": 20,
         "r": 20,
         "t": 70
        },
        "showlegend": true,
        "template": {
         "data": {
          "bar": [
           {
            "error_x": {
             "color": "#2a3f5f"
            },
            "error_y": {
             "color": "#2a3f5f"
            },
            "marker": {
             "line": {
              "color": "#E5ECF6",
              "width": 0.5
             },
             "pattern": {
              "fillmode": "overlay",
              "size": 10,
              "solidity": 0.2
             }
            },
            "type": "bar"
           }
          ],
          "barpolar": [
           {
            "marker": {
             "line": {
              "color": "#E5ECF6",
              "width": 0.5
             },
             "pattern": {
              "fillmode": "overlay",
              "size": 10,
              "solidity": 0.2
             }
            },
            "type": "barpolar"
           }
          ],
          "carpet": [
           {
            "aaxis": {
             "endlinecolor": "#2a3f5f",
             "gridcolor": "white",
             "linecolor": "white",
             "minorgridcolor": "white",
             "startlinecolor": "#2a3f5f"
            },
            "baxis": {
             "endlinecolor": "#2a3f5f",
             "gridcolor": "white",
             "linecolor": "white",
             "minorgridcolor": "white",
             "startlinecolor": "#2a3f5f"
            },
            "type": "carpet"
           }
          ],
          "choropleth": [
           {
            "colorbar": {
             "outlinewidth": 0,
             "ticks": ""
            },
            "type": "choropleth"
           }
          ],
          "contour": [
           {
            "colorbar": {
             "outlinewidth": 0,
             "ticks": ""
            },
            "colorscale": [
             [
              0,
              "#0d0887"
             ],
             [
              0.1111111111111111,
              "#46039f"
             ],
             [
              0.2222222222222222,
              "#7201a8"
             ],
             [
              0.3333333333333333,
              "#9c179e"
             ],
             [
              0.4444444444444444,
              "#bd3786"
             ],
             [
              0.5555555555555556,
              "#d8576b"
             ],
             [
              0.6666666666666666,
              "#ed7953"
             ],
             [
              0.7777777777777778,
              "#fb9f3a"
             ],
             [
              0.8888888888888888,
              "#fdca26"
             ],
             [
              1,
              "#f0f921"
             ]
            ],
            "type": "contour"
           }
          ],
          "contourcarpet": [
           {
            "colorbar": {
             "outlinewidth": 0,
             "ticks": ""
            },
            "type": "contourcarpet"
           }
          ],
          "heatmap": [
           {
            "colorbar": {
             "outlinewidth": 0,
             "ticks": ""
            },
            "colorscale": [
             [
              0,
              "#0d0887"
             ],
             [
              0.1111111111111111,
              "#46039f"
             ],
             [
              0.2222222222222222,
              "#7201a8"
             ],
             [
              0.3333333333333333,
              "#9c179e"
             ],
             [
              0.4444444444444444,
              "#bd3786"
             ],
             [
              0.5555555555555556,
              "#d8576b"
             ],
             [
              0.6666666666666666,
              "#ed7953"
             ],
             [
              0.7777777777777778,
              "#fb9f3a"
             ],
             [
              0.8888888888888888,
              "#fdca26"
             ],
             [
              1,
              "#f0f921"
             ]
            ],
            "type": "heatmap"
           }
          ],
          "heatmapgl": [
           {
            "colorbar": {
             "outlinewidth": 0,
             "ticks": ""
            },
            "colorscale": [
             [
              0,
              "#0d0887"
             ],
             [
              0.1111111111111111,
              "#46039f"
             ],
             [
              0.2222222222222222,
              "#7201a8"
             ],
             [
              0.3333333333333333,
              "#9c179e"
             ],
             [
              0.4444444444444444,
              "#bd3786"
             ],
             [
              0.5555555555555556,
              "#d8576b"
             ],
             [
              0.6666666666666666,
              "#ed7953"
             ],
             [
              0.7777777777777778,
              "#fb9f3a"
             ],
             [
              0.8888888888888888,
              "#fdca26"
             ],
             [
              1,
              "#f0f921"
             ]
            ],
            "type": "heatmapgl"
           }
          ],
          "histogram": [
           {
            "marker": {
             "pattern": {
              "fillmode": "overlay",
              "size": 10,
              "solidity": 0.2
             }
            },
            "type": "histogram"
           }
          ],
          "histogram2d": [
           {
            "colorbar": {
             "outlinewidth": 0,
             "ticks": ""
            },
            "colorscale": [
             [
              0,
              "#0d0887"
             ],
             [
              0.1111111111111111,
              "#46039f"
             ],
             [
              0.2222222222222222,
              "#7201a8"
             ],
             [
              0.3333333333333333,
              "#9c179e"
             ],
             [
              0.4444444444444444,
              "#bd3786"
             ],
             [
              0.5555555555555556,
              "#d8576b"
             ],
             [
              0.6666666666666666,
              "#ed7953"
             ],
             [
              0.7777777777777778,
              "#fb9f3a"
             ],
             [
              0.8888888888888888,
              "#fdca26"
             ],
             [
              1,
              "#f0f921"
             ]
            ],
            "type": "histogram2d"
           }
          ],
          "histogram2dcontour": [
           {
            "colorbar": {
             "outlinewidth": 0,
             "ticks": ""
            },
            "colorscale": [
             [
              0,
              "#0d0887"
             ],
             [
              0.1111111111111111,
              "#46039f"
             ],
             [
              0.2222222222222222,
              "#7201a8"
             ],
             [
              0.3333333333333333,
              "#9c179e"
             ],
             [
              0.4444444444444444,
              "#bd3786"
             ],
             [
              0.5555555555555556,
              "#d8576b"
             ],
             [
              0.6666666666666666,
              "#ed7953"
             ],
             [
              0.7777777777777778,
              "#fb9f3a"
             ],
             [
              0.8888888888888888,
              "#fdca26"
             ],
             [
              1,
              "#f0f921"
             ]
            ],
            "type": "histogram2dcontour"
           }
          ],
          "mesh3d": [
           {
            "colorbar": {
             "outlinewidth": 0,
             "ticks": ""
            },
            "type": "mesh3d"
           }
          ],
          "parcoords": [
           {
            "line": {
             "colorbar": {
              "outlinewidth": 0,
              "ticks": ""
             }
            },
            "type": "parcoords"
           }
          ],
          "pie": [
           {
            "automargin": true,
            "type": "pie"
           }
          ],
          "scatter": [
           {
            "fillpattern": {
             "fillmode": "overlay",
             "size": 10,
             "solidity": 0.2
            },
            "type": "scatter"
           }
          ],
          "scatter3d": [
           {
            "line": {
             "colorbar": {
              "outlinewidth": 0,
              "ticks": ""
             }
            },
            "marker": {
             "colorbar": {
              "outlinewidth": 0,
              "ticks": ""
             }
            },
            "type": "scatter3d"
           }
          ],
          "scattercarpet": [
           {
            "marker": {
             "colorbar": {
              "outlinewidth": 0,
              "ticks": ""
             }
            },
            "type": "scattercarpet"
           }
          ],
          "scattergeo": [
           {
            "marker": {
             "colorbar": {
              "outlinewidth": 0,
              "ticks": ""
             }
            },
            "type": "scattergeo"
           }
          ],
          "scattergl": [
           {
            "marker": {
             "colorbar": {
              "outlinewidth": 0,
              "ticks": ""
             }
            },
            "type": "scattergl"
           }
          ],
          "scattermapbox": [
           {
            "marker": {
             "colorbar": {
              "outlinewidth": 0,
              "ticks": ""
             }
            },
            "type": "scattermapbox"
           }
          ],
          "scatterpolar": [
           {
            "marker": {
             "colorbar": {
              "outlinewidth": 0,
              "ticks": ""
             }
            },
            "type": "scatterpolar"
           }
          ],
          "scatterpolargl": [
           {
            "marker": {
             "colorbar": {
              "outlinewidth": 0,
              "ticks": ""
             }
            },
            "type": "scatterpolargl"
           }
          ],
          "scatterternary": [
           {
            "marker": {
             "colorbar": {
              "outlinewidth": 0,
              "ticks": ""
             }
            },
            "type": "scatterternary"
           }
          ],
          "surface": [
           {
            "colorbar": {
             "outlinewidth": 0,
             "ticks": ""
            },
            "colorscale": [
             [
              0,
              "#0d0887"
             ],
             [
              0.1111111111111111,
              "#46039f"
             ],
             [
              0.2222222222222222,
              "#7201a8"
             ],
             [
              0.3333333333333333,
              "#9c179e"
             ],
             [
              0.4444444444444444,
              "#bd3786"
             ],
             [
              0.5555555555555556,
              "#d8576b"
             ],
             [
              0.6666666666666666,
              "#ed7953"
             ],
             [
              0.7777777777777778,
              "#fb9f3a"
             ],
             [
              0.8888888888888888,
              "#fdca26"
             ],
             [
              1,
              "#f0f921"
             ]
            ],
            "type": "surface"
           }
          ],
          "table": [
           {
            "cells": {
             "fill": {
              "color": "#EBF0F8"
             },
             "line": {
              "color": "white"
             }
            },
            "header": {
             "fill": {
              "color": "#C8D4E3"
             },
             "line": {
              "color": "white"
             }
            },
            "type": "table"
           }
          ]
         },
         "layout": {
          "annotationdefaults": {
           "arrowcolor": "#2a3f5f",
           "arrowhead": 0,
           "arrowwidth": 1
          },
          "autotypenumbers": "strict",
          "coloraxis": {
           "colorbar": {
            "outlinewidth": 0,
            "ticks": ""
           }
          },
          "colorscale": {
           "diverging": [
            [
             0,
             "#8e0152"
            ],
            [
             0.1,
             "#c51b7d"
            ],
            [
             0.2,
             "#de77ae"
            ],
            [
             0.3,
             "#f1b6da"
            ],
            [
             0.4,
             "#fde0ef"
            ],
            [
             0.5,
             "#f7f7f7"
            ],
            [
             0.6,
             "#e6f5d0"
            ],
            [
             0.7,
             "#b8e186"
            ],
            [
             0.8,
             "#7fbc41"
            ],
            [
             0.9,
             "#4d9221"
            ],
            [
             1,
             "#276419"
            ]
           ],
           "sequential": [
            [
             0,
             "#0d0887"
            ],
            [
             0.1111111111111111,
             "#46039f"
            ],
            [
             0.2222222222222222,
             "#7201a8"
            ],
            [
             0.3333333333333333,
             "#9c179e"
            ],
            [
             0.4444444444444444,
             "#bd3786"
            ],
            [
             0.5555555555555556,
             "#d8576b"
            ],
            [
             0.6666666666666666,
             "#ed7953"
            ],
            [
             0.7777777777777778,
             "#fb9f3a"
            ],
            [
             0.8888888888888888,
             "#fdca26"
            ],
            [
             1,
             "#f0f921"
            ]
           ],
           "sequentialminus": [
            [
             0,
             "#0d0887"
            ],
            [
             0.1111111111111111,
             "#46039f"
            ],
            [
             0.2222222222222222,
             "#7201a8"
            ],
            [
             0.3333333333333333,
             "#9c179e"
            ],
            [
             0.4444444444444444,
             "#bd3786"
            ],
            [
             0.5555555555555556,
             "#d8576b"
            ],
            [
             0.6666666666666666,
             "#ed7953"
            ],
            [
             0.7777777777777778,
             "#fb9f3a"
            ],
            [
             0.8888888888888888,
             "#fdca26"
            ],
            [
             1,
             "#f0f921"
            ]
           ]
          },
          "colorway": [
           "#636efa",
           "#EF553B",
           "#00cc96",
           "#ab63fa",
           "#FFA15A",
           "#19d3f3",
           "#FF6692",
           "#B6E880",
           "#FF97FF",
           "#FECB52"
          ],
          "font": {
           "color": "#2a3f5f"
          },
          "geo": {
           "bgcolor": "white",
           "lakecolor": "white",
           "landcolor": "#E5ECF6",
           "showlakes": true,
           "showland": true,
           "subunitcolor": "white"
          },
          "hoverlabel": {
           "align": "left"
          },
          "hovermode": "closest",
          "mapbox": {
           "style": "light"
          },
          "paper_bgcolor": "white",
          "plot_bgcolor": "#E5ECF6",
          "polar": {
           "angularaxis": {
            "gridcolor": "white",
            "linecolor": "white",
            "ticks": ""
           },
           "bgcolor": "#E5ECF6",
           "radialaxis": {
            "gridcolor": "white",
            "linecolor": "white",
            "ticks": ""
           }
          },
          "scene": {
           "xaxis": {
            "backgroundcolor": "#E5ECF6",
            "gridcolor": "white",
            "gridwidth": 2,
            "linecolor": "white",
            "showbackground": true,
            "ticks": "",
            "zerolinecolor": "white"
           },
           "yaxis": {
            "backgroundcolor": "#E5ECF6",
            "gridcolor": "white",
            "gridwidth": 2,
            "linecolor": "white",
            "showbackground": true,
            "ticks": "",
            "zerolinecolor": "white"
           },
           "zaxis": {
            "backgroundcolor": "#E5ECF6",
            "gridcolor": "white",
            "gridwidth": 2,
            "linecolor": "white",
            "showbackground": true,
            "ticks": "",
            "zerolinecolor": "white"
           }
          },
          "shapedefaults": {
           "line": {
            "color": "#2a3f5f"
           }
          },
          "ternary": {
           "aaxis": {
            "gridcolor": "white",
            "linecolor": "white",
            "ticks": ""
           },
           "baxis": {
            "gridcolor": "white",
            "linecolor": "white",
            "ticks": ""
           },
           "bgcolor": "#E5ECF6",
           "caxis": {
            "gridcolor": "white",
            "linecolor": "white",
            "ticks": ""
           }
          },
          "title": {
           "x": 0.05
          },
          "xaxis": {
           "automargin": true,
           "gridcolor": "white",
           "linecolor": "white",
           "ticks": "",
           "title": {
            "standoff": 15
           },
           "zerolinecolor": "white",
           "zerolinewidth": 2
          },
          "yaxis": {
           "automargin": true,
           "gridcolor": "white",
           "linecolor": "white",
           "ticks": "",
           "title": {
            "standoff": 15
           },
           "zerolinecolor": "white",
           "zerolinewidth": 2
          }
         }
        },
        "title": {
         "font": {
          "color": "royalblue",
          "family": "Arial, sans-serif",
          "size": 24
         },
         "text": "NaYbF4: (1-x)% Yb, x% Tm",
         "x": 0.42,
         "y": 0.95
        },
        "width": 800,
        "xaxis": {
         "dtick": 2000,
         "gridcolor": "white",
         "gridwidth": 2,
         "showgrid": true,
         "tickfont": {
          "size": 14
         },
         "title": {
          "text": "Power Density (W/cm^2)"
         }
        },
        "yaxis": {
         "gridcolor": "white",
         "gridwidth": 2,
         "showgrid": true,
         "tickfont": {
          "size": 14
         },
         "title": {
          "text": "Intensity(kpps)"
         }
        }
       }
      }
     },
     "metadata": {},
     "output_type": "display_data"
    }
   ],
   "source": [
    "import json\n",
    "fig = go.Figure()\n",
    "\n",
    "# Add the main trace (mean curve)\n",
    "fig.add_trace(go.Scatter(x=power[conc][0], y=nir_mean_values, mode='lines+markers', name='Mean_NIR_Simulation'))\n",
    "fig.add_trace(go.Scatter(x=power[conc][1], y=blue_mean_values, mode='lines+markers', name='Mean_blue_Simulation'))\n",
    "\n",
    "# Add the uncertainty shade trace\n",
    "fig.add_trace(go.Scatter(\n",
    "    x=power[conc][0] + power[conc][0][::-1],\n",
    "    y=[i+j for i, j in zip(nir_mean_values,nir_std_values)] + [i-j for i, j in zip(nir_mean_values,nir_std_values)][::-1],\n",
    "    fill='toself',\n",
    "    fillcolor='rgba(170, 68, 153, 0.2)',\n",
    "    line=dict(color='rgba(255,255,255,0)'),\n",
    "    name='NIR_simulation'\n",
    "))\n",
    "\n",
    "fig.add_trace(go.Scatter(\n",
    "    x=power[conc][1] + power[conc][1][::-1],\n",
    "    y=[i+j for i, j in zip(blue_mean_values,blue_std_values)] + [i-j for i, j in zip(blue_mean_values,blue_std_values)][::-1],\n",
    "    fill='toself',\n",
    "    fillcolor='rgba(170, 68, 153, 0.2)',\n",
    "    line=dict(color='rgba(255,255,255,0)'),\n",
    "    name='Blue_simulation'\n",
    "))\n",
    "\n",
    "# exp_blue_total = [4.5*10**3, 5.7*10**3, 5.5*10**3, 3.5*10**3, 2*10**3, 1.2*10**3, 0.6*10**3]\n",
    "# exp_NIR = [5*10**3, 8.5*10**3, 6.6*10**3, 7.5*10**3, 6*10**3, 5.5*10**3, 0.6*10**3]\n",
    "# exp_sum = [i+j for i, j in zip(exp_blue_total, exp_NIR)]\n",
    "\n",
    "\n",
    "# exp_sum = [i+j for i, j in zip(exp_blue_total, exp_NIR)]\n",
    "\n",
    "# print(int(min(min(blue_mean_values)) / 1e3),\n",
    "#                             int(max(max(blue_mean_values)) / 1e3) + 1)\n",
    "\n",
    "# y_ticks = [i for i in range(int(min(blue_mean_values) / 1e3),\n",
    "#                             int(max(blue_mean_values) / 1e3) + 1)]\n",
    "\n",
    "# y_ticks = [i for i in range(int(min(min(exp_sum), min(blue_total_values)) / 1e3),\n",
    "#                             int(max(max(exp_sum), max(blue_total_values)) / 1e3) + 1)]\n",
    "\n",
    "# fig.update_yaxes(tickvals=[tick * 1e3 for tick in y_ticks],\n",
    "#                  ticktext=[f\"{tick} × 10^3\" for tick in y_ticks])\n",
    "\n",
    "\n",
    "fig.update_xaxes(title_font=dict(size=18, color='black'),tickfont=dict(size=14),showgrid=True, gridwidth=2, gridcolor='white', dtick=2000)\n",
    "fig.update_yaxes(title_font=dict(size=18, color='black'),tickfont=dict(size=14),showgrid=True, gridwidth=2, gridcolor='white')\n",
    "\n",
    "# ... Your existing layout and formatting ...\n",
    "\n",
    "fig.update_layout(\n",
    "    title_text='NaYbF4: (1-x)% Yb, x% Tm',  # Main Title\n",
    "    title_font=dict(size=24, family=\"Arial, sans-serif\", color='royalblue'),\n",
    "    width=800, height=600,\n",
    "    xaxis_title='Power Density (W/cm^2)',\n",
    "    yaxis_title='Intensity(kpps)',\n",
    "    title_x=0.42,  # Center the main title\n",
    "    title_y=0.95,  # Adjust the vertical position of the main title\n",
    "    showlegend=True, margin=dict(l=20, r=20, b=20, t=70),\n",
    "    legend=dict(\n",
    "        font=dict(\n",
    "            size=20,\n",
    "            family=\"Arial, sans-serif\"\n",
    "        )\n",
    "    )\n",
    ")\n",
    "\n",
    "with open(f'./../synthetic_data/syn_{conc}.json', 'r') as f:\n",
    "    loaded_json_data = f.read()\n",
    "loaded_data = json.loads(loaded_json_data)\n",
    "exp_blue_total = loaded_data.get('blue', [])\n",
    "exp_NIR = loaded_data.get('NIR', [])\n",
    "fig.add_trace(go.Scatter(x= power[conc][0], y= exp_NIR, mode='markers', name='NIR_exp', marker=dict(color='rgb(170, 68, 153)', size=10)))\n",
    "fig.add_trace(go.Scatter(x= power[conc][1], y= exp_blue_total, mode='markers', name='Blue_exp', marker=dict(color='#0099C6', size=10)))\n",
    "\n",
    "# Show the plot\n",
    "fig.show()\n",
    "# print('hihi')"
   ]
  },
  {
   "cell_type": "code",
   "execution_count": 14,
   "metadata": {},
   "outputs": [],
   "source": [
    "truth = loaded_data.get('param', [])"
   ]
  },
  {
   "cell_type": "code",
   "execution_count": 15,
   "metadata": {},
   "outputs": [],
   "source": [
    "c1_exps = syn['c1']\n",
    "c2_exps = syn['c2']\n",
    "c3_exps = syn['c3']\n",
    "c4_exps = syn['c4']\n",
    "k31_exps = syn['k31']\n",
    "k41_exps = syn['k41']\n",
    "k51_exps = syn['k51']"
   ]
  },
  {
   "cell_type": "code",
   "execution_count": 16,
   "metadata": {},
   "outputs": [
    {
     "data": {
      "application/vnd.plotly.v1+json": {
       "config": {
        "plotlyServerURL": "https://plot.ly"
       },
       "data": [
        {
         "name": "c1_exp",
         "type": "box",
         "y": [
          2.4898297736446526,
          2.4898297736446526,
          2.4898297736446526,
          2.4898297736446526,
          2.4898901192402274,
          2.4898901192402274,
          2.489876486743676,
          2.489876486743676,
          2.489876486743676,
          2.489827570570241,
          2.339840507514066,
          2.339840507514066,
          2.339840507514066,
          2.339840507514066,
          2.339840507514066,
          2.339840507514066,
          2.339840507514066,
          2.3398031337654595,
          2.3398031337654595,
          2.3398031337654595,
          2.3550374488667347,
          2.3550374488667347,
          2.3550374488667347,
          2.3550374505760883,
          2.3550374505760883,
          2.3550374505760883,
          2.355037427342088,
          2.355037427342088,
          2.355037427342088,
          2.355037410607669,
          2.539795476547458,
          2.539798273734356,
          2.539798273734356,
          2.539794867114033,
          2.539794867114033,
          2.539812087934347,
          2.539796514327953,
          2.539796514327953,
          2.539798288802061,
          2.539798288802061,
          2.242587456446733,
          2.242587456446733,
          2.242587456446733,
          2.2441829854895583,
          2.2441829854895583,
          2.2441829854895583,
          2.2451915262748727,
          2.2451915262748727,
          2.2451915262748727,
          2.2453161865404754,
          2.401698016323964,
          2.401698016323964,
          2.401698016323964,
          2.401698016323964,
          2.401698016323964,
          2.4004697779319306,
          2.4004697779319306,
          2.402340481984195,
          2.402340481984195,
          2.40051777641704,
          2.287558666480419,
          2.287558666480419,
          2.287558666480419,
          2.287557860984861,
          2.287557860984861,
          2.287557860984861,
          2.287557860984861,
          2.287557860984861,
          2.287560637581811,
          2.287560637581811,
          2.5769506057200897,
          2.5769506057200897,
          2.5769506057200897,
          2.5769506057200897,
          2.577405198418169,
          2.577405198418169,
          2.577405198418169,
          2.577405198418169,
          2.5774552494102125,
          2.5774552494102125,
          2.40698140222866,
          2.40698140222866,
          2.40698140222866,
          2.40698140222866,
          2.4069815798366845,
          2.4069815798366845,
          2.406981871806612,
          2.406981847900101,
          2.406981847900101,
          2.406981847900101,
          2.468394778280917,
          2.468394778280917,
          2.4683703056030573,
          2.4683703056030573,
          2.4683703056030573,
          2.4683703056030573,
          2.4684674363069594,
          2.4699822427857283,
          2.4699822427857283,
          2.4686569356205794
         ]
        },
        {
         "marker": {
          "color": "red",
          "size": 10
         },
         "mode": "markers",
         "name": "c1_exp Input",
         "type": "scatter",
         "x": [
          "c1_exp"
         ],
         "y": [
          2.25551330653112
         ]
        },
        {
         "name": "c2_exp",
         "type": "box",
         "y": [
          -1.315626735399195,
          -1.315626735399195,
          -1.315626735399195,
          -1.315626735399195,
          -1.3156266840768889,
          -1.3156266840768889,
          -1.3156266814506032,
          -1.3156266814506032,
          -1.3156266814506032,
          -1.315626696608622,
          -1.3091865503459656,
          -1.3091865503459656,
          -1.3091865503459656,
          -1.3091865503459656,
          -1.3091865503459656,
          -1.3091865503459656,
          -1.3091865503459656,
          -1.3091881475294151,
          -1.3091881475294151,
          -1.3091881475294151,
          -1.2999098538077325,
          -1.2999098538077325,
          -1.2999098538077325,
          -1.2999112823636327,
          -1.2999112823636327,
          -1.2999112823636327,
          -1.2999160625845652,
          -1.2999160625845652,
          -1.2999160625845652,
          -1.299915213471354,
          -1.313747556460347,
          -1.313770854098434,
          -1.313770854098434,
          -1.313876572571887,
          -1.313876572571887,
          -1.3138141314642695,
          -1.3138633405755875,
          -1.3138633405755875,
          -1.3138668564119165,
          -1.3138668564119165,
          -1.385871267400974,
          -1.385871267400974,
          -1.385871267400974,
          -1.38587153401108,
          -1.38587153401108,
          -1.38587153401108,
          -1.3858706831916776,
          -1.3858706831916776,
          -1.3858706831916776,
          -1.385868556134275,
          -1.2938727745727625,
          -1.2938727745727625,
          -1.2938727745727625,
          -1.2938727745727625,
          -1.2938727745727625,
          -1.2939008774133027,
          -1.2939008774133027,
          -1.294154603762654,
          -1.294154603762654,
          -1.294092943919576,
          -1.3035540787194135,
          -1.3035540787194135,
          -1.3035540787194135,
          -1.3039119866937368,
          -1.3039119866937368,
          -1.3039119866937368,
          -1.3039119866937368,
          -1.3039119866937368,
          -1.302885920962354,
          -1.302885920962354,
          -1.3553568446147872,
          -1.3553568446147872,
          -1.3553568446147872,
          -1.3553568446147872,
          -1.3553545393815625,
          -1.3553545393815625,
          -1.3553545393815625,
          -1.3553545393815625,
          -1.3553573459539292,
          -1.3553573459539292,
          -1.3742788160625763,
          -1.3742788160625763,
          -1.3742788160625763,
          -1.3742788160625763,
          -1.3742816220651626,
          -1.3742816220651626,
          -1.374310223770972,
          -1.374327867592385,
          -1.374327867592385,
          -1.374327867592385,
          -1.322314434302007,
          -1.322314434302007,
          -1.3223143891502178,
          -1.3223143891502178,
          -1.3223143891502178,
          -1.3223143891502178,
          -1.3223143896977585,
          -1.3223144321627904,
          -1.3223144321627904,
          -1.3223143898843557
         ]
        },
        {
         "marker": {
          "color": "red",
          "size": 10
         },
         "mode": "markers",
         "name": "c2_exp Input",
         "type": "scatter",
         "x": [
          "c2_exp"
         ],
         "y": [
          -1.3056691656198742
         ]
        },
        {
         "name": "c3_exp",
         "type": "box",
         "y": [
          0.6136416984120069,
          0.6136416984120069,
          0.6136416984120069,
          0.6136416984120069,
          0.6136389022381423,
          0.6136389022381423,
          0.6136328860428873,
          0.6136328860428873,
          0.6136328860428873,
          0.6136310617000832,
          1.077310746072118,
          1.077310746072118,
          1.077310746072118,
          1.077310746072118,
          1.077310746072118,
          1.077310746072118,
          1.077310746072118,
          1.0773107290639723,
          1.0773107290639723,
          1.0773107290639723,
          0.4950968873346991,
          0.4950968873346991,
          0.4950968873346991,
          0.4950968975793526,
          0.4950968975793526,
          0.4950968975793526,
          0.4950968868324005,
          0.4950968868324005,
          0.4950968868324005,
          0.4950968835890073,
          0.729396178138463,
          0.7293963401807333,
          0.7293963401807333,
          0.7293961946695293,
          0.7293961946695293,
          0.7293963540182291,
          0.7293962525065187,
          0.7293962525065187,
          0.7293964049587776,
          0.7293964049587776,
          0.624446555904781,
          0.624446555904781,
          0.624446555904781,
          0.6244487660456886,
          0.6244487660456886,
          0.6244487660456886,
          0.6244557218692063,
          0.6244557218692063,
          0.6244557218692063,
          0.6244440152103495,
          0.3321974623813231,
          0.3321974623813231,
          0.3321974623813231,
          0.3321974623813231,
          0.3321974623813231,
          0.3317469551797101,
          0.3317469551797101,
          0.3320269840451856,
          0.3320269840451856,
          0.3321395613122357,
          0.4069708707878914,
          0.4069708707878914,
          0.4069708707878914,
          0.4076471061916802,
          0.4076471061916802,
          0.4076471061916802,
          0.4076471061916802,
          0.4076471061916802,
          0.4072306629195674,
          0.4072306629195674,
          0.8042659254734638,
          0.8042659254734638,
          0.8042659254734638,
          0.8042659254734638,
          0.8039329561112489,
          0.8039329561112489,
          0.8039329561112489,
          0.8039329561112489,
          0.8044846905188934,
          0.8044846905188934,
          0.8926320032364764,
          0.8926320032364764,
          0.8926320032364764,
          0.8926320032364764,
          0.8926319808148658,
          0.8926319808148658,
          0.8926320793084729,
          0.8926319264317553,
          0.8926319264317553,
          0.8926319264317553,
          0.5638683695792976,
          0.5638683695792976,
          0.5638681151747849,
          0.5638681151747849,
          0.5638681151747849,
          0.5638681151747849,
          0.5638684289493388,
          0.5638682623069317,
          0.5638682623069317,
          0.5638683875625938
         ]
        },
        {
         "marker": {
          "color": "red",
          "size": 10
         },
         "mode": "markers",
         "name": "c3_exp Input",
         "type": "scatter",
         "x": [
          "c3_exp"
         ],
         "y": [
          0.4984769347191149
         ]
        },
        {
         "name": "c4_exp",
         "type": "box",
         "y": [
          0.8583341500833924,
          0.8583341500833924,
          0.8583341500833924,
          0.8583341500833924,
          0.8556475202026891,
          0.8556475202026891,
          0.8579806897662718,
          0.8579806897662718,
          0.8579806897662718,
          0.8564370146786567,
          -9.927730167014277,
          -9.927730167014277,
          -9.927730167014277,
          -9.927730167014277,
          -9.927730167014277,
          -9.927730167014277,
          -9.927730167014277,
          -9.216000748412764,
          -9.216000748412764,
          -9.216000748412764,
          1.7186929924248442,
          1.7186929924248442,
          1.7186929924248442,
          1.718689866951681,
          1.718689866951681,
          1.718689866951681,
          1.7186832843506907,
          1.7186832843506907,
          1.7186832843506907,
          1.7186933087593677,
          -0.0088234208354563,
          -0.0071258283355846,
          -0.0071258283355846,
          -0.0039091630972591,
          -0.0039091630972591,
          -0.0087966228287106,
          -0.0045066636259742,
          -0.0045066636259742,
          -0.0136318184093493,
          -0.0136318184093493,
          3.1765925456544246,
          3.1765925456544246,
          3.1765925456544246,
          3.1765648129878583,
          3.1765648129878583,
          3.1765648129878583,
          3.176562591774511,
          3.176562591774511,
          3.176562591774511,
          3.1766297602087485,
          3.2659513272852,
          3.2659513272852,
          3.2659513272852,
          3.2659513272852,
          3.2659513272852,
          3.260857301490658,
          3.260857301490658,
          3.252885531123324,
          3.252885531123324,
          3.26654582179121,
          2.54457903624305,
          2.54457903624305,
          2.54457903624305,
          2.542828346260768,
          2.542828346260768,
          2.542828346260768,
          2.542828346260768,
          2.542828346260768,
          2.542851406282164,
          2.542851406282164,
          -5.654528343649326,
          -5.654528343649326,
          -5.654528343649326,
          -5.654528343649326,
          -4.529727008314498,
          -4.529727008314498,
          -4.529727008314498,
          -4.529727008314498,
          -4.685627524138839,
          -4.685627524138839,
          0.4282338588016771,
          0.4282338588016771,
          0.4282338588016771,
          0.4282338588016771,
          0.4282106886439119,
          0.4282106886439119,
          0.4281301669504031,
          0.4287320619514193,
          0.4287320619514193,
          0.4287320619514193,
          1.1776692499617003,
          1.1776692499617003,
          1.1815841895025905,
          1.1815841895025905,
          1.1815841895025905,
          1.1815841895025905,
          1.1800834786542354,
          1.186005557624524,
          1.186005557624524,
          1.184678831874696
         ]
        },
        {
         "marker": {
          "color": "red",
          "size": 10
         },
         "mode": "markers",
         "name": "c4_exp Input",
         "type": "scatter",
         "x": [
          "c4_exp"
         ],
         "y": [
          2.31942225639846
         ]
        },
        {
         "name": "k31_exp",
         "type": "box",
         "y": [
          -5.887871578351507,
          -5.887871578351507,
          -5.887871578351507,
          -5.887871578351507,
          -4.655426587788463,
          -4.655426587788463,
          -5.693282468330651,
          -5.693282468330651,
          -5.693282468330651,
          -5.798580653021984,
          -5.943862114987599,
          -5.943862114987599,
          -5.943862114987599,
          -5.943862114987599,
          -5.943862114987599,
          -5.943862114987599,
          -5.943862114987599,
          -10.736685010515084,
          -10.736685010515084,
          -10.736685010515084,
          -4.281733461423208,
          -4.281733461423208,
          -4.281733461423208,
          -4.326176376124366,
          -4.326176376124366,
          -4.326176376124366,
          -4.321184116260938,
          -4.321184116260938,
          -4.321184116260938,
          -4.377392380597744,
          -1.9886095330477545,
          -1.9000091288739025,
          -1.9000091288739025,
          -2.394096595426058,
          -2.394096595426058,
          -2.075504845762777,
          -1.851025455384363,
          -1.851025455384363,
          -1.8964093330412717,
          -1.8964093330412717,
          -8.568631474985837,
          -8.568631474985837,
          -8.568631474985837,
          -8.706417157735002,
          -8.706417157735002,
          -8.706417157735002,
          -7.620545088905853,
          -7.620545088905853,
          -7.620545088905853,
          -8.519038414229959,
          -7.0200810087897,
          -7.0200810087897,
          -7.0200810087897,
          -7.0200810087897,
          -7.0200810087897,
          -7.184498552882986,
          -7.184498552882986,
          -7.348397794832423,
          -7.348397794832423,
          -7.57732436989289,
          -1.4619695257823064,
          -1.4619695257823064,
          -1.4619695257823064,
          -0.8496610286554587,
          -0.8496610286554587,
          -0.8496610286554587,
          -0.8496610286554587,
          -0.8496610286554587,
          -1.4716829182719078,
          -1.4716829182719078,
          -6.189436239964385,
          -6.189436239964385,
          -6.189436239964385,
          -6.189436239964385,
          -5.8195943398835865,
          -5.8195943398835865,
          -5.8195943398835865,
          -5.8195943398835865,
          -3.117226569618929,
          -3.117226569618929,
          -3.915579442757695,
          -3.915579442757695,
          -3.915579442757695,
          -3.915579442757695,
          -3.981211984664787,
          -3.981211984664787,
          -4.27648448735677,
          -3.9549145457945873,
          -3.9549145457945873,
          -3.9549145457945873,
          -8.442987844668707,
          -8.442987844668707,
          -8.668286340343235,
          -8.668286340343235,
          -8.668286340343235,
          -8.668286340343235,
          -8.579312271437196,
          -8.961673669093225,
          -8.961673669093225,
          -8.040067824118392
         ]
        },
        {
         "marker": {
          "color": "red",
          "size": 10
         },
         "mode": "markers",
         "name": "k31_exp Input",
         "type": "scatter",
         "x": [
          "k31_exp"
         ],
         "y": [
          -0.631828119307082
         ]
        },
        {
         "name": "k41_exp",
         "type": "box",
         "y": [
          1.2890319830643535,
          1.2890319830643535,
          1.2890319830643535,
          1.2890319830643535,
          1.2968511200601578,
          1.2968511200601578,
          1.2889090079623993,
          1.2889090079623993,
          1.2889090079623993,
          1.2884725039614229,
          2.4922797928010003,
          2.4922797928010003,
          2.4922797928010003,
          2.4922797928010003,
          2.4922797928010003,
          2.4922797928010003,
          2.4922797928010003,
          2.4922232906270634,
          2.4922232906270634,
          2.4922232906270634,
          1.9952308749257133,
          1.9952308749257133,
          1.9952308749257133,
          1.9952315165090089,
          1.9952315165090089,
          1.9952315165090089,
          1.995201781515993,
          1.995201781515993,
          1.995201781515993,
          1.9951742617377053,
          1.493344789191067,
          1.4890487743705054,
          1.4890487743705054,
          1.4900512787921856,
          1.4900512787921856,
          1.4810836172568642,
          1.4929035392457315,
          1.4929035392457315,
          1.4903094440788116,
          1.4903094440788116,
          3.1302221585922627,
          3.1302221585922627,
          3.1302221585922627,
          3.124441267198845,
          3.124441267198845,
          3.124441267198845,
          3.1313220031976368,
          3.1313220031976368,
          3.1313220031976368,
          3.129853779825657,
          2.8255814772751497,
          2.8255814772751497,
          2.8255814772751497,
          2.8255814772751497,
          2.8255814772751497,
          2.813951381919318,
          2.813951381919318,
          2.8063692414775088,
          2.8063692414775088,
          2.815074957989785,
          2.538272852800717,
          2.538272852800717,
          2.538272852800717,
          2.5383027506457334,
          2.5383027506457334,
          2.5383027506457334,
          2.5383027506457334,
          2.5383027506457334,
          2.5383008792001016,
          2.5383008792001016,
          1.4802323659680454,
          1.4802323659680454,
          1.4802323659680454,
          1.4802323659680454,
          1.4758220169698326,
          1.4758220169698326,
          1.4758220169698326,
          1.4758220169698326,
          1.469179309372554,
          1.469179309372554,
          1.9174619289831023,
          1.9174619289831023,
          1.9174619289831023,
          1.9174619289831023,
          1.917452131509212,
          1.917452131509212,
          1.9174664992713475,
          1.9174626822424368,
          1.9174626822424368,
          1.9174626822424368,
          1.2140225411289665,
          1.2140225411289665,
          1.2112547943007563,
          1.2112547943007563,
          1.2112547943007563,
          1.2112547943007563,
          1.2054101491869715,
          1.224205910485221,
          1.224205910485221,
          1.2054597398010118
         ]
        },
        {
         "marker": {
          "color": "red",
          "size": 10
         },
         "mode": "markers",
         "name": "k41_exp Input",
         "type": "scatter",
         "x": [
          "k41_exp"
         ],
         "y": [
          2.7201431777574223
         ]
        },
        {
         "name": "k51_exp",
         "type": "box",
         "y": [
          -2.8662146784703157,
          -2.8662146784703157,
          -2.8662146784703157,
          -2.8662146784703157,
          -2.885693186934868,
          -2.885693186934868,
          -2.950149425300584,
          -2.950149425300584,
          -2.950149425300584,
          -2.110848116796916,
          -1.2503941225741166,
          -1.2503941225741166,
          -1.2503941225741166,
          -1.2503941225741166,
          -1.2503941225741166,
          -1.2503941225741166,
          -1.2503941225741166,
          1.137073263291335,
          1.137073263291335,
          1.137073263291335,
          -5.426937562504202,
          -5.426937562504202,
          -5.426937562504202,
          -5.318220478939955,
          -5.318220478939955,
          -5.318220478939955,
          -5.718804253258973,
          -5.718804253258973,
          -5.718804253258973,
          -5.3862858003340985,
          -1.5132984753742271,
          -1.6358672822282403,
          -1.6358672822282403,
          -5.808482086925138,
          -5.808482086925138,
          -1.670471998101701,
          -1.5332418117456137,
          -1.5332418117456137,
          -1.7797574026894312,
          -1.7797574026894312,
          2.1104757550561777,
          2.1104757550561777,
          2.1104757550561777,
          2.110471883786697,
          2.110471883786697,
          2.110471883786697,
          2.110478817500124,
          2.110478817500124,
          2.110478817500124,
          2.110479164623443,
          -4.689363755485191,
          -4.689363755485191,
          -4.689363755485191,
          -4.689363755485191,
          -4.689363755485191,
          -4.797633578144065,
          -4.797633578144065,
          -4.8504107586458,
          -4.8504107586458,
          -4.705451085473526,
          1.1464507490547533,
          1.1464507490547533,
          1.1464507490547533,
          0.968033164170627,
          0.968033164170627,
          0.9680331641706268,
          0.9680331641706268,
          0.9680331641706268,
          0.971798637068478,
          0.971798637068478,
          -1.60849788609297,
          -1.60849788609297,
          -1.60849788609297,
          -1.60849788609297,
          -2.6458208863041226,
          -2.6458208863041226,
          -2.6458208863041226,
          -2.6458208863041226,
          -2.2080335643811546,
          -2.2080335643811546,
          3.639203731492933,
          3.639203731492933,
          3.639203731492933,
          3.639203731492933,
          3.639115684786344,
          3.639115684786344,
          3.6308949858125454,
          3.6328658643112175,
          3.6328658643112175,
          3.6328658643112175,
          -3.505717498341745,
          -3.505717498341745,
          -3.355970122396719,
          -3.355970122396719,
          -3.355970122396719,
          -3.355970122396719,
          -3.356561724479642,
          -3.428608374639512,
          -3.428608374639512,
          -3.461650155297276
         ]
        },
        {
         "marker": {
          "color": "red",
          "size": 10
         },
         "mode": "markers",
         "name": "k51_exp Input",
         "type": "scatter",
         "x": [
          "k51_exp"
         ],
         "y": [
          -0.005981397391665376
         ]
        }
       ],
       "layout": {
        "height": 560,
        "template": {
         "data": {
          "bar": [
           {
            "error_x": {
             "color": "#2a3f5f"
            },
            "error_y": {
             "color": "#2a3f5f"
            },
            "marker": {
             "line": {
              "color": "#E5ECF6",
              "width": 0.5
             },
             "pattern": {
              "fillmode": "overlay",
              "size": 10,
              "solidity": 0.2
             }
            },
            "type": "bar"
           }
          ],
          "barpolar": [
           {
            "marker": {
             "line": {
              "color": "#E5ECF6",
              "width": 0.5
             },
             "pattern": {
              "fillmode": "overlay",
              "size": 10,
              "solidity": 0.2
             }
            },
            "type": "barpolar"
           }
          ],
          "carpet": [
           {
            "aaxis": {
             "endlinecolor": "#2a3f5f",
             "gridcolor": "white",
             "linecolor": "white",
             "minorgridcolor": "white",
             "startlinecolor": "#2a3f5f"
            },
            "baxis": {
             "endlinecolor": "#2a3f5f",
             "gridcolor": "white",
             "linecolor": "white",
             "minorgridcolor": "white",
             "startlinecolor": "#2a3f5f"
            },
            "type": "carpet"
           }
          ],
          "choropleth": [
           {
            "colorbar": {
             "outlinewidth": 0,
             "ticks": ""
            },
            "type": "choropleth"
           }
          ],
          "contour": [
           {
            "colorbar": {
             "outlinewidth": 0,
             "ticks": ""
            },
            "colorscale": [
             [
              0,
              "#0d0887"
             ],
             [
              0.1111111111111111,
              "#46039f"
             ],
             [
              0.2222222222222222,
              "#7201a8"
             ],
             [
              0.3333333333333333,
              "#9c179e"
             ],
             [
              0.4444444444444444,
              "#bd3786"
             ],
             [
              0.5555555555555556,
              "#d8576b"
             ],
             [
              0.6666666666666666,
              "#ed7953"
             ],
             [
              0.7777777777777778,
              "#fb9f3a"
             ],
             [
              0.8888888888888888,
              "#fdca26"
             ],
             [
              1,
              "#f0f921"
             ]
            ],
            "type": "contour"
           }
          ],
          "contourcarpet": [
           {
            "colorbar": {
             "outlinewidth": 0,
             "ticks": ""
            },
            "type": "contourcarpet"
           }
          ],
          "heatmap": [
           {
            "colorbar": {
             "outlinewidth": 0,
             "ticks": ""
            },
            "colorscale": [
             [
              0,
              "#0d0887"
             ],
             [
              0.1111111111111111,
              "#46039f"
             ],
             [
              0.2222222222222222,
              "#7201a8"
             ],
             [
              0.3333333333333333,
              "#9c179e"
             ],
             [
              0.4444444444444444,
              "#bd3786"
             ],
             [
              0.5555555555555556,
              "#d8576b"
             ],
             [
              0.6666666666666666,
              "#ed7953"
             ],
             [
              0.7777777777777778,
              "#fb9f3a"
             ],
             [
              0.8888888888888888,
              "#fdca26"
             ],
             [
              1,
              "#f0f921"
             ]
            ],
            "type": "heatmap"
           }
          ],
          "heatmapgl": [
           {
            "colorbar": {
             "outlinewidth": 0,
             "ticks": ""
            },
            "colorscale": [
             [
              0,
              "#0d0887"
             ],
             [
              0.1111111111111111,
              "#46039f"
             ],
             [
              0.2222222222222222,
              "#7201a8"
             ],
             [
              0.3333333333333333,
              "#9c179e"
             ],
             [
              0.4444444444444444,
              "#bd3786"
             ],
             [
              0.5555555555555556,
              "#d8576b"
             ],
             [
              0.6666666666666666,
              "#ed7953"
             ],
             [
              0.7777777777777778,
              "#fb9f3a"
             ],
             [
              0.8888888888888888,
              "#fdca26"
             ],
             [
              1,
              "#f0f921"
             ]
            ],
            "type": "heatmapgl"
           }
          ],
          "histogram": [
           {
            "marker": {
             "pattern": {
              "fillmode": "overlay",
              "size": 10,
              "solidity": 0.2
             }
            },
            "type": "histogram"
           }
          ],
          "histogram2d": [
           {
            "colorbar": {
             "outlinewidth": 0,
             "ticks": ""
            },
            "colorscale": [
             [
              0,
              "#0d0887"
             ],
             [
              0.1111111111111111,
              "#46039f"
             ],
             [
              0.2222222222222222,
              "#7201a8"
             ],
             [
              0.3333333333333333,
              "#9c179e"
             ],
             [
              0.4444444444444444,
              "#bd3786"
             ],
             [
              0.5555555555555556,
              "#d8576b"
             ],
             [
              0.6666666666666666,
              "#ed7953"
             ],
             [
              0.7777777777777778,
              "#fb9f3a"
             ],
             [
              0.8888888888888888,
              "#fdca26"
             ],
             [
              1,
              "#f0f921"
             ]
            ],
            "type": "histogram2d"
           }
          ],
          "histogram2dcontour": [
           {
            "colorbar": {
             "outlinewidth": 0,
             "ticks": ""
            },
            "colorscale": [
             [
              0,
              "#0d0887"
             ],
             [
              0.1111111111111111,
              "#46039f"
             ],
             [
              0.2222222222222222,
              "#7201a8"
             ],
             [
              0.3333333333333333,
              "#9c179e"
             ],
             [
              0.4444444444444444,
              "#bd3786"
             ],
             [
              0.5555555555555556,
              "#d8576b"
             ],
             [
              0.6666666666666666,
              "#ed7953"
             ],
             [
              0.7777777777777778,
              "#fb9f3a"
             ],
             [
              0.8888888888888888,
              "#fdca26"
             ],
             [
              1,
              "#f0f921"
             ]
            ],
            "type": "histogram2dcontour"
           }
          ],
          "mesh3d": [
           {
            "colorbar": {
             "outlinewidth": 0,
             "ticks": ""
            },
            "type": "mesh3d"
           }
          ],
          "parcoords": [
           {
            "line": {
             "colorbar": {
              "outlinewidth": 0,
              "ticks": ""
             }
            },
            "type": "parcoords"
           }
          ],
          "pie": [
           {
            "automargin": true,
            "type": "pie"
           }
          ],
          "scatter": [
           {
            "fillpattern": {
             "fillmode": "overlay",
             "size": 10,
             "solidity": 0.2
            },
            "type": "scatter"
           }
          ],
          "scatter3d": [
           {
            "line": {
             "colorbar": {
              "outlinewidth": 0,
              "ticks": ""
             }
            },
            "marker": {
             "colorbar": {
              "outlinewidth": 0,
              "ticks": ""
             }
            },
            "type": "scatter3d"
           }
          ],
          "scattercarpet": [
           {
            "marker": {
             "colorbar": {
              "outlinewidth": 0,
              "ticks": ""
             }
            },
            "type": "scattercarpet"
           }
          ],
          "scattergeo": [
           {
            "marker": {
             "colorbar": {
              "outlinewidth": 0,
              "ticks": ""
             }
            },
            "type": "scattergeo"
           }
          ],
          "scattergl": [
           {
            "marker": {
             "colorbar": {
              "outlinewidth": 0,
              "ticks": ""
             }
            },
            "type": "scattergl"
           }
          ],
          "scattermapbox": [
           {
            "marker": {
             "colorbar": {
              "outlinewidth": 0,
              "ticks": ""
             }
            },
            "type": "scattermapbox"
           }
          ],
          "scatterpolar": [
           {
            "marker": {
             "colorbar": {
              "outlinewidth": 0,
              "ticks": ""
             }
            },
            "type": "scatterpolar"
           }
          ],
          "scatterpolargl": [
           {
            "marker": {
             "colorbar": {
              "outlinewidth": 0,
              "ticks": ""
             }
            },
            "type": "scatterpolargl"
           }
          ],
          "scatterternary": [
           {
            "marker": {
             "colorbar": {
              "outlinewidth": 0,
              "ticks": ""
             }
            },
            "type": "scatterternary"
           }
          ],
          "surface": [
           {
            "colorbar": {
             "outlinewidth": 0,
             "ticks": ""
            },
            "colorscale": [
             [
              0,
              "#0d0887"
             ],
             [
              0.1111111111111111,
              "#46039f"
             ],
             [
              0.2222222222222222,
              "#7201a8"
             ],
             [
              0.3333333333333333,
              "#9c179e"
             ],
             [
              0.4444444444444444,
              "#bd3786"
             ],
             [
              0.5555555555555556,
              "#d8576b"
             ],
             [
              0.6666666666666666,
              "#ed7953"
             ],
             [
              0.7777777777777778,
              "#fb9f3a"
             ],
             [
              0.8888888888888888,
              "#fdca26"
             ],
             [
              1,
              "#f0f921"
             ]
            ],
            "type": "surface"
           }
          ],
          "table": [
           {
            "cells": {
             "fill": {
              "color": "#EBF0F8"
             },
             "line": {
              "color": "white"
             }
            },
            "header": {
             "fill": {
              "color": "#C8D4E3"
             },
             "line": {
              "color": "white"
             }
            },
            "type": "table"
           }
          ]
         },
         "layout": {
          "annotationdefaults": {
           "arrowcolor": "#2a3f5f",
           "arrowhead": 0,
           "arrowwidth": 1
          },
          "autotypenumbers": "strict",
          "coloraxis": {
           "colorbar": {
            "outlinewidth": 0,
            "ticks": ""
           }
          },
          "colorscale": {
           "diverging": [
            [
             0,
             "#8e0152"
            ],
            [
             0.1,
             "#c51b7d"
            ],
            [
             0.2,
             "#de77ae"
            ],
            [
             0.3,
             "#f1b6da"
            ],
            [
             0.4,
             "#fde0ef"
            ],
            [
             0.5,
             "#f7f7f7"
            ],
            [
             0.6,
             "#e6f5d0"
            ],
            [
             0.7,
             "#b8e186"
            ],
            [
             0.8,
             "#7fbc41"
            ],
            [
             0.9,
             "#4d9221"
            ],
            [
             1,
             "#276419"
            ]
           ],
           "sequential": [
            [
             0,
             "#0d0887"
            ],
            [
             0.1111111111111111,
             "#46039f"
            ],
            [
             0.2222222222222222,
             "#7201a8"
            ],
            [
             0.3333333333333333,
             "#9c179e"
            ],
            [
             0.4444444444444444,
             "#bd3786"
            ],
            [
             0.5555555555555556,
             "#d8576b"
            ],
            [
             0.6666666666666666,
             "#ed7953"
            ],
            [
             0.7777777777777778,
             "#fb9f3a"
            ],
            [
             0.8888888888888888,
             "#fdca26"
            ],
            [
             1,
             "#f0f921"
            ]
           ],
           "sequentialminus": [
            [
             0,
             "#0d0887"
            ],
            [
             0.1111111111111111,
             "#46039f"
            ],
            [
             0.2222222222222222,
             "#7201a8"
            ],
            [
             0.3333333333333333,
             "#9c179e"
            ],
            [
             0.4444444444444444,
             "#bd3786"
            ],
            [
             0.5555555555555556,
             "#d8576b"
            ],
            [
             0.6666666666666666,
             "#ed7953"
            ],
            [
             0.7777777777777778,
             "#fb9f3a"
            ],
            [
             0.8888888888888888,
             "#fdca26"
            ],
            [
             1,
             "#f0f921"
            ]
           ]
          },
          "colorway": [
           "#636efa",
           "#EF553B",
           "#00cc96",
           "#ab63fa",
           "#FFA15A",
           "#19d3f3",
           "#FF6692",
           "#B6E880",
           "#FF97FF",
           "#FECB52"
          ],
          "font": {
           "color": "#2a3f5f"
          },
          "geo": {
           "bgcolor": "white",
           "lakecolor": "white",
           "landcolor": "#E5ECF6",
           "showlakes": true,
           "showland": true,
           "subunitcolor": "white"
          },
          "hoverlabel": {
           "align": "left"
          },
          "hovermode": "closest",
          "mapbox": {
           "style": "light"
          },
          "paper_bgcolor": "white",
          "plot_bgcolor": "#E5ECF6",
          "polar": {
           "angularaxis": {
            "gridcolor": "white",
            "linecolor": "white",
            "ticks": ""
           },
           "bgcolor": "#E5ECF6",
           "radialaxis": {
            "gridcolor": "white",
            "linecolor": "white",
            "ticks": ""
           }
          },
          "scene": {
           "xaxis": {
            "backgroundcolor": "#E5ECF6",
            "gridcolor": "white",
            "gridwidth": 2,
            "linecolor": "white",
            "showbackground": true,
            "ticks": "",
            "zerolinecolor": "white"
           },
           "yaxis": {
            "backgroundcolor": "#E5ECF6",
            "gridcolor": "white",
            "gridwidth": 2,
            "linecolor": "white",
            "showbackground": true,
            "ticks": "",
            "zerolinecolor": "white"
           },
           "zaxis": {
            "backgroundcolor": "#E5ECF6",
            "gridcolor": "white",
            "gridwidth": 2,
            "linecolor": "white",
            "showbackground": true,
            "ticks": "",
            "zerolinecolor": "white"
           }
          },
          "shapedefaults": {
           "line": {
            "color": "#2a3f5f"
           }
          },
          "ternary": {
           "aaxis": {
            "gridcolor": "white",
            "linecolor": "white",
            "ticks": ""
           },
           "baxis": {
            "gridcolor": "white",
            "linecolor": "white",
            "ticks": ""
           },
           "bgcolor": "#E5ECF6",
           "caxis": {
            "gridcolor": "white",
            "linecolor": "white",
            "ticks": ""
           }
          },
          "title": {
           "x": 0.05
          },
          "xaxis": {
           "automargin": true,
           "gridcolor": "white",
           "linecolor": "white",
           "ticks": "",
           "title": {
            "standoff": 15
           },
           "zerolinecolor": "white",
           "zerolinewidth": 2
          },
          "yaxis": {
           "automargin": true,
           "gridcolor": "white",
           "linecolor": "white",
           "ticks": "",
           "title": {
            "standoff": 15
           },
           "zerolinecolor": "white",
           "zerolinewidth": 2
          }
         }
        },
        "title": {
         "font": {
          "family": "Courier New, monospace",
          "size": 24
         },
         "text": "Parameter exponents of top ten individuals",
         "x": 0.5,
         "y": 0.9
        },
        "width": 640,
        "xaxis": {
         "gridcolor": "white",
         "gridwidth": 2,
         "showgrid": true,
         "tickfont": {
          "family": "Courier New, monospace",
          "size": 22
         },
         "title": {
          "font": {
           "family": "Courier New, monospace",
           "size": 22
          },
          "text": "Seven Parameter Exponents"
         }
        },
        "yaxis": {
         "gridcolor": "white",
         "gridwidth": 2,
         "showgrid": true,
         "tickfont": {
          "family": "Courier New, monospace",
          "size": 22
         },
         "title": {
          "font": {
           "family": "Courier New, monospace",
           "size": 22
          },
          "text": "Parameter Exponent Value"
         }
        }
       }
      }
     },
     "metadata": {},
     "output_type": "display_data"
    }
   ],
   "source": [
    "fig = go.Figure()\n",
    "\n",
    "# Adding subplots for each parameter\n",
    "params = [c1_exps, c2_exps, c3_exps, c4_exps, k31_exps, k41_exps, k51_exps]\n",
    "param_names = [\"c1_exp\", \"c2_exp\", \"c3_exp\", \"c4_exp\", \"k31_exp\", \"k41_exp\", \"k51_exp\"]\n",
    "\n",
    "for param, name in zip(params, param_names):\n",
    "    fig.add_trace(go.Box(\n",
    "        y=param,\n",
    "        name=name\n",
    "    ))\n",
    "\n",
    "    truth_value = truth[param_names.index(name)]  # Assuming the order matches\n",
    "    fig.add_trace(go.Scatter(\n",
    "        x=[name],\n",
    "        y=[truth_value],\n",
    "        mode='markers',\n",
    "        marker=dict(size=10, color='red'),\n",
    "        name=f'{name} Input'\n",
    "    ))\n",
    "\n",
    "fig.update_xaxes(showgrid=True, gridwidth=2, gridcolor='white')\n",
    "fig.update_yaxes(showgrid=True, gridwidth=2, gridcolor='white')\n",
    "\n",
    "fig.update_layout(\n",
    "        title=f\"Parameter exponents of top ten individuals\",\n",
    "        title_font=dict(size=24, family=\"Courier New, monospace\"),\n",
    "        title_x=0.5,  # center\n",
    "        title_y=0.9,\n",
    "        width=640, height=560,\n",
    "        yaxis_title=\"Parameter Exponent Value\",\n",
    "        xaxis_title=\"Seven Parameter Exponents\",\n",
    "        xaxis=dict(\n",
    "            title_font=dict(size=22, family=\"Courier New, monospace\"),\n",
    "            tickfont=dict(size=22, family=\"Courier New, monospace\")\n",
    "        ),\n",
    "        yaxis=dict(\n",
    "            title_font=dict(size=22, family=\"Courier New, monospace\"),\n",
    "            tickfont=dict(size=22, family=\"Courier New, monospace\")\n",
    "        )\n",
    "    )\n",
    "\n",
    "\n",
    "fig.show()"
   ]
  }
 ],
 "metadata": {
  "kernelspec": {
   "display_name": "base",
   "language": "python",
   "name": "python3"
  },
  "language_info": {
   "codemirror_mode": {
    "name": "ipython",
    "version": 3
   },
   "file_extension": ".py",
   "mimetype": "text/x-python",
   "name": "python",
   "nbconvert_exporter": "python",
   "pygments_lexer": "ipython3",
   "version": "3.11.3"
  },
  "orig_nbformat": 4
 },
 "nbformat": 4,
 "nbformat_minor": 2
}
