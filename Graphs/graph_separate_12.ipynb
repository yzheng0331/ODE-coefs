{
 "cells": [
  {
   "cell_type": "code",
   "execution_count": 1,
   "metadata": {},
   "outputs": [
    {
     "name": "stderr",
     "output_type": "stream",
     "text": [
      "C:\\Users\\Yuxuan Zheng\\AppData\\Local\\Temp\\ipykernel_15788\\1834911006.py:2: DeprecationWarning: Importing display from IPython.core.display is deprecated since IPython 7.14, please import from IPython display\n",
      "  from IPython.core.display import display, HTML\n"
     ]
    }
   ],
   "source": [
    "import plotly.graph_objects as go\n",
    "from IPython.core.display import display, HTML\n",
    "import pandas as pd\n",
    "import sys\n",
    "sys.path.append('..')"
   ]
  },
  {
   "cell_type": "code",
   "execution_count": 2,
   "metadata": {},
   "outputs": [],
   "source": [
    "conc = 12"
   ]
  },
  {
   "cell_type": "code",
   "execution_count": 3,
   "metadata": {},
   "outputs": [],
   "source": [
    "import numpy as np\n",
    "from scipy.integrate import odeint\n",
    "from tqdm import tqdm\n",
    "import time\n",
    "import random\n",
    "\n",
    "# Constants\n",
    "a21 = 1\n",
    "a31 = 0.27\n",
    "a32 = 0.73\n",
    "\n",
    "a41 = 0.18\n",
    "a42 = 0.24\n",
    "a43 = 0.58\n",
    "\n",
    "a51 = 0.24\n",
    "a52 = 0.23\n",
    "a53 = 0.2\n",
    "a54 = 0.33\n",
    "\n",
    "W2 = 63000\n",
    "W3 = 20000\n",
    "W4 = 15000\n",
    "W5 = 33000\n",
    "Ws2 = 8000\n",
    "\n",
    "# P980 = 3*10**4  # our PD\n",
    "\n",
    "def system(state, t, x, P980, c1, c2, c3, c4, k31, k41, k51):\n",
    "\n",
    "    ns2, n1, n2, n3, n4, n5 = state\n",
    "\n",
    "    #ns2\n",
    "    ms2 = 1.23*P980*(37*(100-x)-ns2) - Ws2*ns2 - (c1*n1+c2*n2+c3*n3+c4*n4)*ns2  # ns1 = total_Yb - ns2\n",
    "\n",
    "    # n1\n",
    "    m1 = -c1*n1*ns2 + a21*W2*n2 + a31*W3*n3 + a41*W4*n4 + a51*W5*n5 - k41*n1*n4 - k31*n1*n3 - k51*n5*n1\n",
    "\n",
    "    # n2\n",
    "    m2 = c1*n1*ns2 - c2*n2*ns2 - a21*W2*n2 + a32*W3*n3 + a42*W4*n4 + a52*W5*n5 + k41*n1*n4 + 2*k31*n1*n3\n",
    "\n",
    "    # n3\n",
    "    m3 = c2*n2*ns2 - c3*n3*ns2 - (a31+a32)*W3*n3 + a43*W4*n4 + a53*W5*n5 + 2*k51*n1*n5 + k41*n1*n4 - k31*n1*n3\n",
    "\n",
    "    # n4\n",
    "    m4 = c3*n3*ns2 - c4*n4*ns2 - (a43+a42+a41)*W4*n4 + a54*W5*n5 - k41*n1*n4\n",
    "\n",
    "    # n5\n",
    "    m5 = c4*n4*ns2 - (a54+a53+a52+a51)*W5*n5 - k51*n1*n5\n",
    "\n",
    "\n",
    "    return [ms2, m1, m2, m3, m4, m5]"
   ]
  },
  {
   "cell_type": "code",
   "execution_count": 4,
   "metadata": {},
   "outputs": [
    {
     "name": "stderr",
     "output_type": "stream",
     "text": [
      "'ls' is not recognized as an internal or external command,\n",
      "operable program or batch file.\n"
     ]
    }
   ],
   "source": [
    "!ls"
   ]
  },
  {
   "cell_type": "code",
   "execution_count": 5,
   "metadata": {},
   "outputs": [],
   "source": [
    "syn = pd.read_csv(f'./../conc_{conc}.csv')"
   ]
  },
  {
   "cell_type": "code",
   "execution_count": 6,
   "metadata": {},
   "outputs": [],
   "source": [
    "from scipy.integrate import odeint\n",
    "from tqdm import tqdm\n",
    "\n",
    "def compute_values_for_x(x, P980, c1, c2, c3, c4, k31, k41, k51):\n",
    "\n",
    "    # Compute initial condition\n",
    "    y = 37 * x\n",
    "    state0 = [0, y, 0, 0, 0, 0]\n",
    "\n",
    "    # ODEs\n",
    "    t = np.arange(0.0, 0.001, 0.000001)\n",
    "\n",
    "    state = odeint(system, state0, t, args=(x, P980, c1, c2, c3, c4, k31, k41, k51))\n",
    "\n",
    "    # Compute NIR and blue_total\n",
    "    NIR = a31 * W3 * state[:, 3][-1]\n",
    "    blue_1 = a41 * W4 * state[:, 4][-1]\n",
    "    blue_2 = a52 * W5 * state[:, 5][-1]\n",
    "    blue_total = blue_1 + blue_2\n",
    "\n",
    "    return NIR, blue_total\n",
    "\n",
    "\n",
    "# x_values = [4, 6, 8, 10, 12, 15, 50]  # Range of C2 values from 2% to 40%\n"
   ]
  },
  {
   "cell_type": "code",
   "execution_count": 7,
   "metadata": {},
   "outputs": [],
   "source": [
    "p10_blue = [2.8*10**3, 4.4*10**3, 5*10**3, 6*10**3, 7.5*10**3, 9.1*10**3, 1.1*10**4, 1.4*10**4, 1.7*10**4, 2*10**4, 2.3*10**4, 2.7*10**4, 3*10**4]\n",
    "p10_nir = [1.2*10**3, 1.8*10**3, 2.8*10**3, 4.4*10**3, 5*10**3, 6*10**3, 7.5*10**3, 9.1*10**3, 1.1*10**4, 1.4*10**4, 1.7*10**4, 2*10**4, 2.3*10**4, 2.7*10**4, 3*10**4]\n",
    "p12_nir = [1.2*10**3, 1.8*10**3, 2.8*10**3, 4.4*10**3, 5*10**3, 6*10**3, 7.5*10**3, 9.1*10**3, 1.1*10**4, 1.4*10**4, 1.7*10**4, 2*10**4, 2.3*10**4, 2.7*10**4, 3*10**4]\n",
    "p12_blue = [4.4*10**3, 5*10**3, 6*10**3, 7.5*10**3, 9.1*10**3, 1.1*10**4, 1.4*10**4, 1.7*10**4, 2*10**4, 2.3*10**4, 2.7*10**4, 3*10**4]\n",
    "p15_nir = [1.2*10**3, 1.8*10**3, 2.8*10**3, 4.4*10**3, 5*10**3, 6*10**3, 7.5*10**3, 9.1*10**3, 1.1*10**4, 1.4*10**4, 1.7*10**4, 2*10**4, 2.3*10**4, 2.7*10**4, 3*10**4]\n",
    "p15_blue = [4.4*10**3, 5*10**3, 6*10**3, 7.5*10**3, 9.1*10**3, 1.1*10**4, 1.4*10**4, 1.7*10**4, 2*10**4, 2.3*10**4, 2.7*10**4, 3*10**4]\n",
    "\n",
    "power = {10: (p10_nir, p10_blue), 12: (p12_nir, p12_blue), 15: (p15_nir, p15_blue)}"
   ]
  },
  {
   "cell_type": "code",
   "execution_count": 8,
   "metadata": {},
   "outputs": [],
   "source": [
    "NIR_values = {x: [] for x in power[conc][0]}\n",
    "blue_total_values = {x: [] for x in power[conc][1]}\n",
    "\n",
    "count = 0\n",
    "for index, row in syn.iterrows():\n",
    "    c1, c2, c3, c4, k31, k41, k51 = row['c1'], row['c2'], row['c3'],row['c4'],row['k31'],row['k41'],row['k51']\n",
    "    c1, c2, c3, c4, k31, k41, k51 = 10**c1, 10**c2, 10**c3, 10**c4, 10**k31, 10**k41, 10**k51\n",
    "    for index, x in enumerate(power[conc][0]):\n",
    "        NIR, _ = compute_values_for_x(conc, x, c1, c2, c3, c4, k31, k41, k51)\n",
    "        NIR_values[x].append(NIR)\n",
    "    for index, x in enumerate(power[conc][1]):\n",
    "        _, blue = compute_values_for_x(conc, x, c1, c2, c3, c4, k31, k41, k51)\n",
    "        blue_total_values[x].append(blue)\n",
    "    # print(NIR_values[4])\n",
    "    # print(blue_total_values[4])\n",
    "    # count += 1\n",
    "    # if count >=100:\n",
    "    #     break\n"
   ]
  },
  {
   "cell_type": "code",
   "execution_count": 9,
   "metadata": {},
   "outputs": [],
   "source": [
    "nir_mean_values = [np.mean(NIR_values[x]) for x in power[conc][0]]\n",
    "nir_std_values = [np.std(NIR_values[x]) for x in power[conc][0]]\n",
    "\n",
    "blue_mean_values = [np.mean(blue_total_values[x]) for x in power[conc][1]]\n",
    "blue_std_values = [np.std(blue_total_values[x]) for x in power[conc][1]]"
   ]
  },
  {
   "cell_type": "code",
   "execution_count": 10,
   "metadata": {},
   "outputs": [
    {
     "data": {
      "text/plain": [
       "([21.999424006297303,\n",
       "  52.67889581252566,\n",
       "  141.36527984070403,\n",
       "  405.78111588102,\n",
       "  548.5120710392509,\n",
       "  835.5442512441937,\n",
       "  1346.415725390071,\n",
       "  1923.8840568591331,\n",
       "  2570.7801781547746,\n",
       "  3432.9941923811903,\n",
       "  4110.757107395738,\n",
       "  4646.70358569736,\n",
       "  5077.976369816444,\n",
       "  5535.43327698052,\n",
       "  5813.597853618158],\n",
       " [2.448473399566872,\n",
       "  5.725822298143263,\n",
       "  14.603582102836326,\n",
       "  37.527064044049695,\n",
       "  48.4500171223644,\n",
       "  68.80438607641071,\n",
       "  102.92826564259641,\n",
       "  139.90512803975716,\n",
       "  177.92277486575404,\n",
       "  221.17249214780637,\n",
       "  251.48098444917082,\n",
       "  277.6224766303525,\n",
       "  304.1542428518975,\n",
       "  342.27893291705954,\n",
       "  372.5687773648516])"
      ]
     },
     "execution_count": 10,
     "metadata": {},
     "output_type": "execute_result"
    }
   ],
   "source": [
    "nir_mean_values, nir_std_values"
   ]
  },
  {
   "cell_type": "code",
   "execution_count": 11,
   "metadata": {},
   "outputs": [
    {
     "data": {
      "text/plain": [
       "([7.037609503271139,\n",
       "  12.187523733601278,\n",
       "  26.752985590922755,\n",
       "  67.06671364064097,\n",
       "  135.9335647679737,\n",
       "  244.1205750498128,\n",
       "  442.35326507675825,\n",
       "  643.7860469785587,\n",
       "  832.6112431980391,\n",
       "  1003.933722343478,\n",
       "  1204.7848677204051,\n",
       "  1336.5929222626721],\n",
       " [0.7288930241169218,\n",
       "  1.1116142522100956,\n",
       "  1.9610780381296833,\n",
       "  3.4945108419008877,\n",
       "  4.874179065771853,\n",
       "  6.13956005342937,\n",
       "  11.457026418141558,\n",
       "  21.525446111456006,\n",
       "  33.19420944223494,\n",
       "  44.75395587978623,\n",
       "  58.885868086727314,\n",
       "  68.28831721599398])"
      ]
     },
     "execution_count": 11,
     "metadata": {},
     "output_type": "execute_result"
    }
   ],
   "source": [
    "blue_mean_values, blue_std_values"
   ]
  },
  {
   "cell_type": "code",
   "execution_count": 12,
   "metadata": {},
   "outputs": [
    {
     "data": {
      "text/plain": [
       "[21.999424006297303,\n",
       " 52.67889581252566,\n",
       " 141.36527984070403,\n",
       " 405.78111588102,\n",
       " 548.5120710392509,\n",
       " 835.5442512441937,\n",
       " 1346.415725390071,\n",
       " 1923.8840568591331,\n",
       " 2570.7801781547746,\n",
       " 3432.9941923811903,\n",
       " 4110.757107395738,\n",
       " 4646.70358569736,\n",
       " 5077.976369816444,\n",
       " 5535.43327698052,\n",
       " 5813.597853618158,\n",
       " 2.448473399566872,\n",
       " 5.725822298143263,\n",
       " 14.603582102836326,\n",
       " 37.527064044049695,\n",
       " 48.4500171223644,\n",
       " 68.80438607641071,\n",
       " 102.92826564259641,\n",
       " 139.90512803975716,\n",
       " 177.92277486575404,\n",
       " 221.17249214780637,\n",
       " 251.48098444917082,\n",
       " 277.6224766303525,\n",
       " 304.1542428518975,\n",
       " 342.27893291705954,\n",
       " 372.5687773648516,\n",
       " 5813.597853618158,\n",
       " 5535.43327698052,\n",
       " 5077.976369816444,\n",
       " 4646.70358569736,\n",
       " 4110.757107395738,\n",
       " 3432.9941923811903,\n",
       " 2570.7801781547746,\n",
       " 1923.8840568591331,\n",
       " 1346.415725390071,\n",
       " 835.5442512441937,\n",
       " 548.5120710392509,\n",
       " 405.78111588102,\n",
       " 141.36527984070403,\n",
       " 52.67889581252566,\n",
       " 21.999424006297303]"
      ]
     },
     "execution_count": 12,
     "metadata": {},
     "output_type": "execute_result"
    }
   ],
   "source": [
    "nir_mean_values + nir_std_values + nir_mean_values[::-1]"
   ]
  },
  {
   "cell_type": "code",
   "execution_count": 13,
   "metadata": {},
   "outputs": [
    {
     "data": {
      "application/vnd.plotly.v1+json": {
       "config": {
        "plotlyServerURL": "https://plot.ly"
       },
       "data": [
        {
         "mode": "lines+markers",
         "name": "Mean_NIR_Simulation",
         "type": "scatter",
         "x": [
          1200,
          1800,
          2800,
          4400,
          5000,
          6000,
          7500,
          9100,
          11000,
          14000,
          17000,
          20000,
          23000,
          27000,
          30000
         ],
         "y": [
          21.999424006297303,
          52.67889581252566,
          141.36527984070403,
          405.78111588102,
          548.5120710392509,
          835.5442512441937,
          1346.415725390071,
          1923.8840568591331,
          2570.7801781547746,
          3432.9941923811903,
          4110.757107395738,
          4646.70358569736,
          5077.976369816444,
          5535.43327698052,
          5813.597853618158
         ]
        },
        {
         "mode": "lines+markers",
         "name": "Mean_blue_Simulation",
         "type": "scatter",
         "x": [
          4400,
          5000,
          6000,
          7500,
          9100,
          11000,
          14000,
          17000,
          20000,
          23000,
          27000,
          30000
         ],
         "y": [
          7.037609503271139,
          12.187523733601278,
          26.752985590922755,
          67.06671364064097,
          135.9335647679737,
          244.1205750498128,
          442.35326507675825,
          643.7860469785587,
          832.6112431980391,
          1003.933722343478,
          1204.7848677204051,
          1336.5929222626721
         ]
        },
        {
         "fill": "toself",
         "fillcolor": "rgba(170, 68, 153, 0.2)",
         "line": {
          "color": "rgba(255,255,255,0)"
         },
         "name": "NIR_simulation",
         "type": "scatter",
         "x": [
          1200,
          1800,
          2800,
          4400,
          5000,
          6000,
          7500,
          9100,
          11000,
          14000,
          17000,
          20000,
          23000,
          27000,
          30000,
          30000,
          27000,
          23000,
          20000,
          17000,
          14000,
          11000,
          9100,
          7500,
          6000,
          5000,
          4400,
          2800,
          1800,
          1200
         ],
         "y": [
          24.447897405864175,
          58.404718110668924,
          155.96886194354036,
          443.3081799250697,
          596.9620881616154,
          904.3486373206044,
          1449.3439910326674,
          2063.78918489889,
          2748.7029530205286,
          3654.1666845289965,
          4362.238091844909,
          4924.326062327712,
          5382.130612668342,
          5877.712209897579,
          6186.16663098301,
          5441.029076253307,
          5193.1543440634605,
          4773.822126964546,
          4369.081109067008,
          3859.276122946567,
          3211.821700233384,
          2392.8574032890206,
          1783.978928819376,
          1243.4874597474745,
          766.7398651677829,
          500.06205391688655,
          368.25405183697035,
          126.7616977378677,
          46.953073514382396,
          19.55095060673043
         ]
        },
        {
         "fill": "toself",
         "fillcolor": "rgba(170, 68, 153, 0.2)",
         "line": {
          "color": "rgba(255,255,255,0)"
         },
         "name": "Blue_simulation",
         "type": "scatter",
         "x": [
          4400,
          5000,
          6000,
          7500,
          9100,
          11000,
          14000,
          17000,
          20000,
          23000,
          27000,
          30000,
          30000,
          27000,
          23000,
          20000,
          17000,
          14000,
          11000,
          9100,
          7500,
          6000,
          5000,
          4400
         ],
         "y": [
          7.766502527388061,
          13.299137985811374,
          28.71406362905244,
          70.56122448254186,
          140.80774383374555,
          250.26013510324216,
          453.8102914948998,
          665.3114930900147,
          865.8054526402741,
          1048.6876782232644,
          1263.6707358071324,
          1404.8812394786662,
          1268.304605046678,
          1145.898999633678,
          959.1797664636919,
          799.4170337558041,
          622.2606008671028,
          430.8962386586167,
          237.98101499638344,
          131.05938570220187,
          63.57220279874008,
          24.79190755279307,
          11.075909481391182,
          6.308716479154217
         ]
        },
        {
         "marker": {
          "color": "rgb(170, 68, 153)",
          "size": 10
         },
         "mode": "markers",
         "name": "NIR_exp",
         "type": "scatter",
         "x": [
          1200,
          1800,
          2800,
          4400,
          5000,
          6000,
          7500,
          9100,
          11000,
          14000,
          17000,
          20000,
          23000,
          27000,
          30000
         ],
         "y": [
          33.22567785616295,
          77.95059324802473,
          200.69080572745472,
          530.0059397776423,
          692.490287630225,
          998.7169473649466,
          1503.9589245650754,
          2046.578697392226,
          2641.4498087220168,
          3428.551189395056,
          4045.750608476273,
          4532.44010966467,
          4922.544013025742,
          5334.132525304717,
          5582.973414738005
         ]
        },
        {
         "marker": {
          "color": "#0099C6",
          "size": 10
         },
         "mode": "markers",
         "name": "Blue_exp",
         "type": "scatter",
         "x": [
          4400,
          5000,
          6000,
          7500,
          9100,
          11000,
          14000,
          17000,
          20000,
          23000,
          27000,
          30000
         ],
         "y": [
          13.39161387485596,
          22.053794685983462,
          44.32160661292917,
          98.72764740662825,
          182.9556857658817,
          307.7747158892406,
          528.3940277220916,
          748.2895781356752,
          952.3876137509807,
          1136.3799573705937,
          1350.9227301075553,
          1491.1121622400203
         ]
        }
       ],
       "layout": {
        "height": 600,
        "legend": {
         "font": {
          "family": "Arial, sans-serif",
          "size": 20
         }
        },
        "margin": {
         "b": 20,
         "l": 20,
         "r": 20,
         "t": 70
        },
        "showlegend": true,
        "template": {
         "data": {
          "bar": [
           {
            "error_x": {
             "color": "#2a3f5f"
            },
            "error_y": {
             "color": "#2a3f5f"
            },
            "marker": {
             "line": {
              "color": "#E5ECF6",
              "width": 0.5
             },
             "pattern": {
              "fillmode": "overlay",
              "size": 10,
              "solidity": 0.2
             }
            },
            "type": "bar"
           }
          ],
          "barpolar": [
           {
            "marker": {
             "line": {
              "color": "#E5ECF6",
              "width": 0.5
             },
             "pattern": {
              "fillmode": "overlay",
              "size": 10,
              "solidity": 0.2
             }
            },
            "type": "barpolar"
           }
          ],
          "carpet": [
           {
            "aaxis": {
             "endlinecolor": "#2a3f5f",
             "gridcolor": "white",
             "linecolor": "white",
             "minorgridcolor": "white",
             "startlinecolor": "#2a3f5f"
            },
            "baxis": {
             "endlinecolor": "#2a3f5f",
             "gridcolor": "white",
             "linecolor": "white",
             "minorgridcolor": "white",
             "startlinecolor": "#2a3f5f"
            },
            "type": "carpet"
           }
          ],
          "choropleth": [
           {
            "colorbar": {
             "outlinewidth": 0,
             "ticks": ""
            },
            "type": "choropleth"
           }
          ],
          "contour": [
           {
            "colorbar": {
             "outlinewidth": 0,
             "ticks": ""
            },
            "colorscale": [
             [
              0,
              "#0d0887"
             ],
             [
              0.1111111111111111,
              "#46039f"
             ],
             [
              0.2222222222222222,
              "#7201a8"
             ],
             [
              0.3333333333333333,
              "#9c179e"
             ],
             [
              0.4444444444444444,
              "#bd3786"
             ],
             [
              0.5555555555555556,
              "#d8576b"
             ],
             [
              0.6666666666666666,
              "#ed7953"
             ],
             [
              0.7777777777777778,
              "#fb9f3a"
             ],
             [
              0.8888888888888888,
              "#fdca26"
             ],
             [
              1,
              "#f0f921"
             ]
            ],
            "type": "contour"
           }
          ],
          "contourcarpet": [
           {
            "colorbar": {
             "outlinewidth": 0,
             "ticks": ""
            },
            "type": "contourcarpet"
           }
          ],
          "heatmap": [
           {
            "colorbar": {
             "outlinewidth": 0,
             "ticks": ""
            },
            "colorscale": [
             [
              0,
              "#0d0887"
             ],
             [
              0.1111111111111111,
              "#46039f"
             ],
             [
              0.2222222222222222,
              "#7201a8"
             ],
             [
              0.3333333333333333,
              "#9c179e"
             ],
             [
              0.4444444444444444,
              "#bd3786"
             ],
             [
              0.5555555555555556,
              "#d8576b"
             ],
             [
              0.6666666666666666,
              "#ed7953"
             ],
             [
              0.7777777777777778,
              "#fb9f3a"
             ],
             [
              0.8888888888888888,
              "#fdca26"
             ],
             [
              1,
              "#f0f921"
             ]
            ],
            "type": "heatmap"
           }
          ],
          "heatmapgl": [
           {
            "colorbar": {
             "outlinewidth": 0,
             "ticks": ""
            },
            "colorscale": [
             [
              0,
              "#0d0887"
             ],
             [
              0.1111111111111111,
              "#46039f"
             ],
             [
              0.2222222222222222,
              "#7201a8"
             ],
             [
              0.3333333333333333,
              "#9c179e"
             ],
             [
              0.4444444444444444,
              "#bd3786"
             ],
             [
              0.5555555555555556,
              "#d8576b"
             ],
             [
              0.6666666666666666,
              "#ed7953"
             ],
             [
              0.7777777777777778,
              "#fb9f3a"
             ],
             [
              0.8888888888888888,
              "#fdca26"
             ],
             [
              1,
              "#f0f921"
             ]
            ],
            "type": "heatmapgl"
           }
          ],
          "histogram": [
           {
            "marker": {
             "pattern": {
              "fillmode": "overlay",
              "size": 10,
              "solidity": 0.2
             }
            },
            "type": "histogram"
           }
          ],
          "histogram2d": [
           {
            "colorbar": {
             "outlinewidth": 0,
             "ticks": ""
            },
            "colorscale": [
             [
              0,
              "#0d0887"
             ],
             [
              0.1111111111111111,
              "#46039f"
             ],
             [
              0.2222222222222222,
              "#7201a8"
             ],
             [
              0.3333333333333333,
              "#9c179e"
             ],
             [
              0.4444444444444444,
              "#bd3786"
             ],
             [
              0.5555555555555556,
              "#d8576b"
             ],
             [
              0.6666666666666666,
              "#ed7953"
             ],
             [
              0.7777777777777778,
              "#fb9f3a"
             ],
             [
              0.8888888888888888,
              "#fdca26"
             ],
             [
              1,
              "#f0f921"
             ]
            ],
            "type": "histogram2d"
           }
          ],
          "histogram2dcontour": [
           {
            "colorbar": {
             "outlinewidth": 0,
             "ticks": ""
            },
            "colorscale": [
             [
              0,
              "#0d0887"
             ],
             [
              0.1111111111111111,
              "#46039f"
             ],
             [
              0.2222222222222222,
              "#7201a8"
             ],
             [
              0.3333333333333333,
              "#9c179e"
             ],
             [
              0.4444444444444444,
              "#bd3786"
             ],
             [
              0.5555555555555556,
              "#d8576b"
             ],
             [
              0.6666666666666666,
              "#ed7953"
             ],
             [
              0.7777777777777778,
              "#fb9f3a"
             ],
             [
              0.8888888888888888,
              "#fdca26"
             ],
             [
              1,
              "#f0f921"
             ]
            ],
            "type": "histogram2dcontour"
           }
          ],
          "mesh3d": [
           {
            "colorbar": {
             "outlinewidth": 0,
             "ticks": ""
            },
            "type": "mesh3d"
           }
          ],
          "parcoords": [
           {
            "line": {
             "colorbar": {
              "outlinewidth": 0,
              "ticks": ""
             }
            },
            "type": "parcoords"
           }
          ],
          "pie": [
           {
            "automargin": true,
            "type": "pie"
           }
          ],
          "scatter": [
           {
            "fillpattern": {
             "fillmode": "overlay",
             "size": 10,
             "solidity": 0.2
            },
            "type": "scatter"
           }
          ],
          "scatter3d": [
           {
            "line": {
             "colorbar": {
              "outlinewidth": 0,
              "ticks": ""
             }
            },
            "marker": {
             "colorbar": {
              "outlinewidth": 0,
              "ticks": ""
             }
            },
            "type": "scatter3d"
           }
          ],
          "scattercarpet": [
           {
            "marker": {
             "colorbar": {
              "outlinewidth": 0,
              "ticks": ""
             }
            },
            "type": "scattercarpet"
           }
          ],
          "scattergeo": [
           {
            "marker": {
             "colorbar": {
              "outlinewidth": 0,
              "ticks": ""
             }
            },
            "type": "scattergeo"
           }
          ],
          "scattergl": [
           {
            "marker": {
             "colorbar": {
              "outlinewidth": 0,
              "ticks": ""
             }
            },
            "type": "scattergl"
           }
          ],
          "scattermapbox": [
           {
            "marker": {
             "colorbar": {
              "outlinewidth": 0,
              "ticks": ""
             }
            },
            "type": "scattermapbox"
           }
          ],
          "scatterpolar": [
           {
            "marker": {
             "colorbar": {
              "outlinewidth": 0,
              "ticks": ""
             }
            },
            "type": "scatterpolar"
           }
          ],
          "scatterpolargl": [
           {
            "marker": {
             "colorbar": {
              "outlinewidth": 0,
              "ticks": ""
             }
            },
            "type": "scatterpolargl"
           }
          ],
          "scatterternary": [
           {
            "marker": {
             "colorbar": {
              "outlinewidth": 0,
              "ticks": ""
             }
            },
            "type": "scatterternary"
           }
          ],
          "surface": [
           {
            "colorbar": {
             "outlinewidth": 0,
             "ticks": ""
            },
            "colorscale": [
             [
              0,
              "#0d0887"
             ],
             [
              0.1111111111111111,
              "#46039f"
             ],
             [
              0.2222222222222222,
              "#7201a8"
             ],
             [
              0.3333333333333333,
              "#9c179e"
             ],
             [
              0.4444444444444444,
              "#bd3786"
             ],
             [
              0.5555555555555556,
              "#d8576b"
             ],
             [
              0.6666666666666666,
              "#ed7953"
             ],
             [
              0.7777777777777778,
              "#fb9f3a"
             ],
             [
              0.8888888888888888,
              "#fdca26"
             ],
             [
              1,
              "#f0f921"
             ]
            ],
            "type": "surface"
           }
          ],
          "table": [
           {
            "cells": {
             "fill": {
              "color": "#EBF0F8"
             },
             "line": {
              "color": "white"
             }
            },
            "header": {
             "fill": {
              "color": "#C8D4E3"
             },
             "line": {
              "color": "white"
             }
            },
            "type": "table"
           }
          ]
         },
         "layout": {
          "annotationdefaults": {
           "arrowcolor": "#2a3f5f",
           "arrowhead": 0,
           "arrowwidth": 1
          },
          "autotypenumbers": "strict",
          "coloraxis": {
           "colorbar": {
            "outlinewidth": 0,
            "ticks": ""
           }
          },
          "colorscale": {
           "diverging": [
            [
             0,
             "#8e0152"
            ],
            [
             0.1,
             "#c51b7d"
            ],
            [
             0.2,
             "#de77ae"
            ],
            [
             0.3,
             "#f1b6da"
            ],
            [
             0.4,
             "#fde0ef"
            ],
            [
             0.5,
             "#f7f7f7"
            ],
            [
             0.6,
             "#e6f5d0"
            ],
            [
             0.7,
             "#b8e186"
            ],
            [
             0.8,
             "#7fbc41"
            ],
            [
             0.9,
             "#4d9221"
            ],
            [
             1,
             "#276419"
            ]
           ],
           "sequential": [
            [
             0,
             "#0d0887"
            ],
            [
             0.1111111111111111,
             "#46039f"
            ],
            [
             0.2222222222222222,
             "#7201a8"
            ],
            [
             0.3333333333333333,
             "#9c179e"
            ],
            [
             0.4444444444444444,
             "#bd3786"
            ],
            [
             0.5555555555555556,
             "#d8576b"
            ],
            [
             0.6666666666666666,
             "#ed7953"
            ],
            [
             0.7777777777777778,
             "#fb9f3a"
            ],
            [
             0.8888888888888888,
             "#fdca26"
            ],
            [
             1,
             "#f0f921"
            ]
           ],
           "sequentialminus": [
            [
             0,
             "#0d0887"
            ],
            [
             0.1111111111111111,
             "#46039f"
            ],
            [
             0.2222222222222222,
             "#7201a8"
            ],
            [
             0.3333333333333333,
             "#9c179e"
            ],
            [
             0.4444444444444444,
             "#bd3786"
            ],
            [
             0.5555555555555556,
             "#d8576b"
            ],
            [
             0.6666666666666666,
             "#ed7953"
            ],
            [
             0.7777777777777778,
             "#fb9f3a"
            ],
            [
             0.8888888888888888,
             "#fdca26"
            ],
            [
             1,
             "#f0f921"
            ]
           ]
          },
          "colorway": [
           "#636efa",
           "#EF553B",
           "#00cc96",
           "#ab63fa",
           "#FFA15A",
           "#19d3f3",
           "#FF6692",
           "#B6E880",
           "#FF97FF",
           "#FECB52"
          ],
          "font": {
           "color": "#2a3f5f"
          },
          "geo": {
           "bgcolor": "white",
           "lakecolor": "white",
           "landcolor": "#E5ECF6",
           "showlakes": true,
           "showland": true,
           "subunitcolor": "white"
          },
          "hoverlabel": {
           "align": "left"
          },
          "hovermode": "closest",
          "mapbox": {
           "style": "light"
          },
          "paper_bgcolor": "white",
          "plot_bgcolor": "#E5ECF6",
          "polar": {
           "angularaxis": {
            "gridcolor": "white",
            "linecolor": "white",
            "ticks": ""
           },
           "bgcolor": "#E5ECF6",
           "radialaxis": {
            "gridcolor": "white",
            "linecolor": "white",
            "ticks": ""
           }
          },
          "scene": {
           "xaxis": {
            "backgroundcolor": "#E5ECF6",
            "gridcolor": "white",
            "gridwidth": 2,
            "linecolor": "white",
            "showbackground": true,
            "ticks": "",
            "zerolinecolor": "white"
           },
           "yaxis": {
            "backgroundcolor": "#E5ECF6",
            "gridcolor": "white",
            "gridwidth": 2,
            "linecolor": "white",
            "showbackground": true,
            "ticks": "",
            "zerolinecolor": "white"
           },
           "zaxis": {
            "backgroundcolor": "#E5ECF6",
            "gridcolor": "white",
            "gridwidth": 2,
            "linecolor": "white",
            "showbackground": true,
            "ticks": "",
            "zerolinecolor": "white"
           }
          },
          "shapedefaults": {
           "line": {
            "color": "#2a3f5f"
           }
          },
          "ternary": {
           "aaxis": {
            "gridcolor": "white",
            "linecolor": "white",
            "ticks": ""
           },
           "baxis": {
            "gridcolor": "white",
            "linecolor": "white",
            "ticks": ""
           },
           "bgcolor": "#E5ECF6",
           "caxis": {
            "gridcolor": "white",
            "linecolor": "white",
            "ticks": ""
           }
          },
          "title": {
           "x": 0.05
          },
          "xaxis": {
           "automargin": true,
           "gridcolor": "white",
           "linecolor": "white",
           "ticks": "",
           "title": {
            "standoff": 15
           },
           "zerolinecolor": "white",
           "zerolinewidth": 2
          },
          "yaxis": {
           "automargin": true,
           "gridcolor": "white",
           "linecolor": "white",
           "ticks": "",
           "title": {
            "standoff": 15
           },
           "zerolinecolor": "white",
           "zerolinewidth": 2
          }
         }
        },
        "title": {
         "font": {
          "color": "royalblue",
          "family": "Arial, sans-serif",
          "size": 24
         },
         "text": "NaYbF4: (1-x)% Yb, x% Tm",
         "x": 0.42,
         "y": 0.95
        },
        "width": 800,
        "xaxis": {
         "dtick": 2000,
         "gridcolor": "white",
         "gridwidth": 2,
         "showgrid": true,
         "tickfont": {
          "size": 14
         },
         "title": {
          "text": "Power Density (W/cm^2)"
         }
        },
        "yaxis": {
         "gridcolor": "white",
         "gridwidth": 2,
         "showgrid": true,
         "tickfont": {
          "size": 14
         },
         "title": {
          "text": "Intensity(kpps)"
         }
        }
       }
      }
     },
     "metadata": {},
     "output_type": "display_data"
    }
   ],
   "source": [
    "import json\n",
    "fig = go.Figure()\n",
    "\n",
    "# Add the main trace (mean curve)\n",
    "fig.add_trace(go.Scatter(x=power[conc][0], y=nir_mean_values, mode='lines+markers', name='Mean_NIR_Simulation'))\n",
    "fig.add_trace(go.Scatter(x=power[conc][1], y=blue_mean_values, mode='lines+markers', name='Mean_blue_Simulation'))\n",
    "\n",
    "# Add the uncertainty shade trace\n",
    "fig.add_trace(go.Scatter(\n",
    "    x=power[conc][0] + power[conc][0][::-1],\n",
    "    y=[i+j for i, j in zip(nir_mean_values,nir_std_values)] + [i-j for i, j in zip(nir_mean_values,nir_std_values)][::-1],\n",
    "    fill='toself',\n",
    "    fillcolor='rgba(170, 68, 153, 0.2)',\n",
    "    line=dict(color='rgba(255,255,255,0)'),\n",
    "    name='NIR_simulation'\n",
    "))\n",
    "\n",
    "fig.add_trace(go.Scatter(\n",
    "    x=power[conc][1] + power[conc][1][::-1],\n",
    "    y=[i+j for i, j in zip(blue_mean_values,blue_std_values)] + [i-j for i, j in zip(blue_mean_values,blue_std_values)][::-1],\n",
    "    fill='toself',\n",
    "    fillcolor='rgba(170, 68, 153, 0.2)',\n",
    "    line=dict(color='rgba(255,255,255,0)'),\n",
    "    name='Blue_simulation'\n",
    "))\n",
    "\n",
    "# exp_blue_total = [4.5*10**3, 5.7*10**3, 5.5*10**3, 3.5*10**3, 2*10**3, 1.2*10**3, 0.6*10**3]\n",
    "# exp_NIR = [5*10**3, 8.5*10**3, 6.6*10**3, 7.5*10**3, 6*10**3, 5.5*10**3, 0.6*10**3]\n",
    "# exp_sum = [i+j for i, j in zip(exp_blue_total, exp_NIR)]\n",
    "\n",
    "\n",
    "# exp_sum = [i+j for i, j in zip(exp_blue_total, exp_NIR)]\n",
    "\n",
    "# print(int(min(min(blue_mean_values)) / 1e3),\n",
    "#                             int(max(max(blue_mean_values)) / 1e3) + 1)\n",
    "\n",
    "# y_ticks = [i for i in range(int(min(blue_mean_values) / 1e3),\n",
    "#                             int(max(blue_mean_values) / 1e3) + 1)]\n",
    "\n",
    "# y_ticks = [i for i in range(int(min(min(exp_sum), min(blue_total_values)) / 1e3),\n",
    "#                             int(max(max(exp_sum), max(blue_total_values)) / 1e3) + 1)]\n",
    "\n",
    "# fig.update_yaxes(tickvals=[tick * 1e3 for tick in y_ticks],\n",
    "#                  ticktext=[f\"{tick} × 10^3\" for tick in y_ticks])\n",
    "\n",
    "\n",
    "fig.update_xaxes(title_font=dict(size=18, color='black'),tickfont=dict(size=14),showgrid=True, gridwidth=2, gridcolor='white', dtick=2000)\n",
    "fig.update_yaxes(title_font=dict(size=18, color='black'),tickfont=dict(size=14),showgrid=True, gridwidth=2, gridcolor='white')\n",
    "\n",
    "# ... Your existing layout and formatting ...\n",
    "\n",
    "fig.update_layout(\n",
    "    title_text='NaYbF4: (1-x)% Yb, x% Tm',  # Main Title\n",
    "    title_font=dict(size=24, family=\"Arial, sans-serif\", color='royalblue'),\n",
    "    width=800, height=600,\n",
    "    xaxis_title='Power Density (W/cm^2)',\n",
    "    yaxis_title='Intensity(kpps)',\n",
    "    title_x=0.42,  # Center the main title\n",
    "    title_y=0.95,  # Adjust the vertical position of the main title\n",
    "    showlegend=True, margin=dict(l=20, r=20, b=20, t=70),\n",
    "    legend=dict(\n",
    "        font=dict(\n",
    "            size=20,\n",
    "            family=\"Arial, sans-serif\"\n",
    "        )\n",
    "    )\n",
    ")\n",
    "\n",
    "with open(f'./../synthetic_data/syn_{conc}.json', 'r') as f:\n",
    "    loaded_json_data = f.read()\n",
    "loaded_data = json.loads(loaded_json_data)\n",
    "exp_blue_total = loaded_data.get('blue', [])\n",
    "exp_NIR = loaded_data.get('NIR', [])\n",
    "fig.add_trace(go.Scatter(x= power[conc][0], y= exp_NIR, mode='markers', name='NIR_exp', marker=dict(color='rgb(170, 68, 153)', size=10)))\n",
    "fig.add_trace(go.Scatter(x= power[conc][1], y= exp_blue_total, mode='markers', name='Blue_exp', marker=dict(color='#0099C6', size=10)))\n",
    "\n",
    "# Show the plot\n",
    "fig.show()\n",
    "# print('hihi')"
   ]
  },
  {
   "cell_type": "code",
   "execution_count": 14,
   "metadata": {},
   "outputs": [],
   "source": [
    "truth = loaded_data.get('param', [])"
   ]
  },
  {
   "cell_type": "code",
   "execution_count": 15,
   "metadata": {},
   "outputs": [],
   "source": [
    "c1_exps = syn['c1']\n",
    "c2_exps = syn['c2']\n",
    "c3_exps = syn['c3']\n",
    "c4_exps = syn['c4']\n",
    "k31_exps = syn['k31']\n",
    "k41_exps = syn['k41']\n",
    "k51_exps = syn['k51']"
   ]
  },
  {
   "cell_type": "code",
   "execution_count": 18,
   "metadata": {},
   "outputs": [
    {
     "data": {
      "application/vnd.plotly.v1+json": {
       "config": {
        "plotlyServerURL": "https://plot.ly"
       },
       "data": [
        {
         "marker": {
          "color": "red",
          "size": 10
         },
         "mode": "markers",
         "name": "c1_exp Input",
         "type": "scatter",
         "x": [
          "c1_exp"
         ],
         "y": [
          2.2476613699587853
         ]
        },
        {
         "marker": {
          "color": "red",
          "size": 10
         },
         "mode": "markers",
         "name": "c2_exp Input",
         "type": "scatter",
         "x": [
          "c2_exp"
         ],
         "y": [
          -1.5335185237890552
         ]
        },
        {
         "marker": {
          "color": "red",
          "size": 10
         },
         "mode": "markers",
         "name": "c3_exp Input",
         "type": "scatter",
         "x": [
          "c3_exp"
         ],
         "y": [
          0.37214497901439947
         ]
        },
        {
         "marker": {
          "color": "red",
          "size": 10
         },
         "mode": "markers",
         "name": "c4_exp Input",
         "type": "scatter",
         "x": [
          "c4_exp"
         ],
         "y": [
          1.3738754904537522
         ]
        },
        {
         "marker": {
          "color": "red",
          "size": 10
         },
         "mode": "markers",
         "name": "k31_exp Input",
         "type": "scatter",
         "x": [
          "k31_exp"
         ],
         "y": [
          -8.951898730459568
         ]
        },
        {
         "marker": {
          "color": "red",
          "size": 10
         },
         "mode": "markers",
         "name": "k41_exp Input",
         "type": "scatter",
         "x": [
          "k41_exp"
         ],
         "y": [
          1.3048106923399783
         ]
        },
        {
         "marker": {
          "color": "red",
          "size": 10
         },
         "mode": "markers",
         "name": "k51_exp Input",
         "type": "scatter",
         "x": [
          "k51_exp"
         ],
         "y": [
          -1.084474034127443
         ]
        }
       ],
       "layout": {
        "height": 560,
        "template": {
         "data": {
          "bar": [
           {
            "error_x": {
             "color": "#2a3f5f"
            },
            "error_y": {
             "color": "#2a3f5f"
            },
            "marker": {
             "line": {
              "color": "#E5ECF6",
              "width": 0.5
             },
             "pattern": {
              "fillmode": "overlay",
              "size": 10,
              "solidity": 0.2
             }
            },
            "type": "bar"
           }
          ],
          "barpolar": [
           {
            "marker": {
             "line": {
              "color": "#E5ECF6",
              "width": 0.5
             },
             "pattern": {
              "fillmode": "overlay",
              "size": 10,
              "solidity": 0.2
             }
            },
            "type": "barpolar"
           }
          ],
          "carpet": [
           {
            "aaxis": {
             "endlinecolor": "#2a3f5f",
             "gridcolor": "white",
             "linecolor": "white",
             "minorgridcolor": "white",
             "startlinecolor": "#2a3f5f"
            },
            "baxis": {
             "endlinecolor": "#2a3f5f",
             "gridcolor": "white",
             "linecolor": "white",
             "minorgridcolor": "white",
             "startlinecolor": "#2a3f5f"
            },
            "type": "carpet"
           }
          ],
          "choropleth": [
           {
            "colorbar": {
             "outlinewidth": 0,
             "ticks": ""
            },
            "type": "choropleth"
           }
          ],
          "contour": [
           {
            "colorbar": {
             "outlinewidth": 0,
             "ticks": ""
            },
            "colorscale": [
             [
              0,
              "#0d0887"
             ],
             [
              0.1111111111111111,
              "#46039f"
             ],
             [
              0.2222222222222222,
              "#7201a8"
             ],
             [
              0.3333333333333333,
              "#9c179e"
             ],
             [
              0.4444444444444444,
              "#bd3786"
             ],
             [
              0.5555555555555556,
              "#d8576b"
             ],
             [
              0.6666666666666666,
              "#ed7953"
             ],
             [
              0.7777777777777778,
              "#fb9f3a"
             ],
             [
              0.8888888888888888,
              "#fdca26"
             ],
             [
              1,
              "#f0f921"
             ]
            ],
            "type": "contour"
           }
          ],
          "contourcarpet": [
           {
            "colorbar": {
             "outlinewidth": 0,
             "ticks": ""
            },
            "type": "contourcarpet"
           }
          ],
          "heatmap": [
           {
            "colorbar": {
             "outlinewidth": 0,
             "ticks": ""
            },
            "colorscale": [
             [
              0,
              "#0d0887"
             ],
             [
              0.1111111111111111,
              "#46039f"
             ],
             [
              0.2222222222222222,
              "#7201a8"
             ],
             [
              0.3333333333333333,
              "#9c179e"
             ],
             [
              0.4444444444444444,
              "#bd3786"
             ],
             [
              0.5555555555555556,
              "#d8576b"
             ],
             [
              0.6666666666666666,
              "#ed7953"
             ],
             [
              0.7777777777777778,
              "#fb9f3a"
             ],
             [
              0.8888888888888888,
              "#fdca26"
             ],
             [
              1,
              "#f0f921"
             ]
            ],
            "type": "heatmap"
           }
          ],
          "heatmapgl": [
           {
            "colorbar": {
             "outlinewidth": 0,
             "ticks": ""
            },
            "colorscale": [
             [
              0,
              "#0d0887"
             ],
             [
              0.1111111111111111,
              "#46039f"
             ],
             [
              0.2222222222222222,
              "#7201a8"
             ],
             [
              0.3333333333333333,
              "#9c179e"
             ],
             [
              0.4444444444444444,
              "#bd3786"
             ],
             [
              0.5555555555555556,
              "#d8576b"
             ],
             [
              0.6666666666666666,
              "#ed7953"
             ],
             [
              0.7777777777777778,
              "#fb9f3a"
             ],
             [
              0.8888888888888888,
              "#fdca26"
             ],
             [
              1,
              "#f0f921"
             ]
            ],
            "type": "heatmapgl"
           }
          ],
          "histogram": [
           {
            "marker": {
             "pattern": {
              "fillmode": "overlay",
              "size": 10,
              "solidity": 0.2
             }
            },
            "type": "histogram"
           }
          ],
          "histogram2d": [
           {
            "colorbar": {
             "outlinewidth": 0,
             "ticks": ""
            },
            "colorscale": [
             [
              0,
              "#0d0887"
             ],
             [
              0.1111111111111111,
              "#46039f"
             ],
             [
              0.2222222222222222,
              "#7201a8"
             ],
             [
              0.3333333333333333,
              "#9c179e"
             ],
             [
              0.4444444444444444,
              "#bd3786"
             ],
             [
              0.5555555555555556,
              "#d8576b"
             ],
             [
              0.6666666666666666,
              "#ed7953"
             ],
             [
              0.7777777777777778,
              "#fb9f3a"
             ],
             [
              0.8888888888888888,
              "#fdca26"
             ],
             [
              1,
              "#f0f921"
             ]
            ],
            "type": "histogram2d"
           }
          ],
          "histogram2dcontour": [
           {
            "colorbar": {
             "outlinewidth": 0,
             "ticks": ""
            },
            "colorscale": [
             [
              0,
              "#0d0887"
             ],
             [
              0.1111111111111111,
              "#46039f"
             ],
             [
              0.2222222222222222,
              "#7201a8"
             ],
             [
              0.3333333333333333,
              "#9c179e"
             ],
             [
              0.4444444444444444,
              "#bd3786"
             ],
             [
              0.5555555555555556,
              "#d8576b"
             ],
             [
              0.6666666666666666,
              "#ed7953"
             ],
             [
              0.7777777777777778,
              "#fb9f3a"
             ],
             [
              0.8888888888888888,
              "#fdca26"
             ],
             [
              1,
              "#f0f921"
             ]
            ],
            "type": "histogram2dcontour"
           }
          ],
          "mesh3d": [
           {
            "colorbar": {
             "outlinewidth": 0,
             "ticks": ""
            },
            "type": "mesh3d"
           }
          ],
          "parcoords": [
           {
            "line": {
             "colorbar": {
              "outlinewidth": 0,
              "ticks": ""
             }
            },
            "type": "parcoords"
           }
          ],
          "pie": [
           {
            "automargin": true,
            "type": "pie"
           }
          ],
          "scatter": [
           {
            "fillpattern": {
             "fillmode": "overlay",
             "size": 10,
             "solidity": 0.2
            },
            "type": "scatter"
           }
          ],
          "scatter3d": [
           {
            "line": {
             "colorbar": {
              "outlinewidth": 0,
              "ticks": ""
             }
            },
            "marker": {
             "colorbar": {
              "outlinewidth": 0,
              "ticks": ""
             }
            },
            "type": "scatter3d"
           }
          ],
          "scattercarpet": [
           {
            "marker": {
             "colorbar": {
              "outlinewidth": 0,
              "ticks": ""
             }
            },
            "type": "scattercarpet"
           }
          ],
          "scattergeo": [
           {
            "marker": {
             "colorbar": {
              "outlinewidth": 0,
              "ticks": ""
             }
            },
            "type": "scattergeo"
           }
          ],
          "scattergl": [
           {
            "marker": {
             "colorbar": {
              "outlinewidth": 0,
              "ticks": ""
             }
            },
            "type": "scattergl"
           }
          ],
          "scattermapbox": [
           {
            "marker": {
             "colorbar": {
              "outlinewidth": 0,
              "ticks": ""
             }
            },
            "type": "scattermapbox"
           }
          ],
          "scatterpolar": [
           {
            "marker": {
             "colorbar": {
              "outlinewidth": 0,
              "ticks": ""
             }
            },
            "type": "scatterpolar"
           }
          ],
          "scatterpolargl": [
           {
            "marker": {
             "colorbar": {
              "outlinewidth": 0,
              "ticks": ""
             }
            },
            "type": "scatterpolargl"
           }
          ],
          "scatterternary": [
           {
            "marker": {
             "colorbar": {
              "outlinewidth": 0,
              "ticks": ""
             }
            },
            "type": "scatterternary"
           }
          ],
          "surface": [
           {
            "colorbar": {
             "outlinewidth": 0,
             "ticks": ""
            },
            "colorscale": [
             [
              0,
              "#0d0887"
             ],
             [
              0.1111111111111111,
              "#46039f"
             ],
             [
              0.2222222222222222,
              "#7201a8"
             ],
             [
              0.3333333333333333,
              "#9c179e"
             ],
             [
              0.4444444444444444,
              "#bd3786"
             ],
             [
              0.5555555555555556,
              "#d8576b"
             ],
             [
              0.6666666666666666,
              "#ed7953"
             ],
             [
              0.7777777777777778,
              "#fb9f3a"
             ],
             [
              0.8888888888888888,
              "#fdca26"
             ],
             [
              1,
              "#f0f921"
             ]
            ],
            "type": "surface"
           }
          ],
          "table": [
           {
            "cells": {
             "fill": {
              "color": "#EBF0F8"
             },
             "line": {
              "color": "white"
             }
            },
            "header": {
             "fill": {
              "color": "#C8D4E3"
             },
             "line": {
              "color": "white"
             }
            },
            "type": "table"
           }
          ]
         },
         "layout": {
          "annotationdefaults": {
           "arrowcolor": "#2a3f5f",
           "arrowhead": 0,
           "arrowwidth": 1
          },
          "autotypenumbers": "strict",
          "coloraxis": {
           "colorbar": {
            "outlinewidth": 0,
            "ticks": ""
           }
          },
          "colorscale": {
           "diverging": [
            [
             0,
             "#8e0152"
            ],
            [
             0.1,
             "#c51b7d"
            ],
            [
             0.2,
             "#de77ae"
            ],
            [
             0.3,
             "#f1b6da"
            ],
            [
             0.4,
             "#fde0ef"
            ],
            [
             0.5,
             "#f7f7f7"
            ],
            [
             0.6,
             "#e6f5d0"
            ],
            [
             0.7,
             "#b8e186"
            ],
            [
             0.8,
             "#7fbc41"
            ],
            [
             0.9,
             "#4d9221"
            ],
            [
             1,
             "#276419"
            ]
           ],
           "sequential": [
            [
             0,
             "#0d0887"
            ],
            [
             0.1111111111111111,
             "#46039f"
            ],
            [
             0.2222222222222222,
             "#7201a8"
            ],
            [
             0.3333333333333333,
             "#9c179e"
            ],
            [
             0.4444444444444444,
             "#bd3786"
            ],
            [
             0.5555555555555556,
             "#d8576b"
            ],
            [
             0.6666666666666666,
             "#ed7953"
            ],
            [
             0.7777777777777778,
             "#fb9f3a"
            ],
            [
             0.8888888888888888,
             "#fdca26"
            ],
            [
             1,
             "#f0f921"
            ]
           ],
           "sequentialminus": [
            [
             0,
             "#0d0887"
            ],
            [
             0.1111111111111111,
             "#46039f"
            ],
            [
             0.2222222222222222,
             "#7201a8"
            ],
            [
             0.3333333333333333,
             "#9c179e"
            ],
            [
             0.4444444444444444,
             "#bd3786"
            ],
            [
             0.5555555555555556,
             "#d8576b"
            ],
            [
             0.6666666666666666,
             "#ed7953"
            ],
            [
             0.7777777777777778,
             "#fb9f3a"
            ],
            [
             0.8888888888888888,
             "#fdca26"
            ],
            [
             1,
             "#f0f921"
            ]
           ]
          },
          "colorway": [
           "#636efa",
           "#EF553B",
           "#00cc96",
           "#ab63fa",
           "#FFA15A",
           "#19d3f3",
           "#FF6692",
           "#B6E880",
           "#FF97FF",
           "#FECB52"
          ],
          "font": {
           "color": "#2a3f5f"
          },
          "geo": {
           "bgcolor": "white",
           "lakecolor": "white",
           "landcolor": "#E5ECF6",
           "showlakes": true,
           "showland": true,
           "subunitcolor": "white"
          },
          "hoverlabel": {
           "align": "left"
          },
          "hovermode": "closest",
          "mapbox": {
           "style": "light"
          },
          "paper_bgcolor": "white",
          "plot_bgcolor": "#E5ECF6",
          "polar": {
           "angularaxis": {
            "gridcolor": "white",
            "linecolor": "white",
            "ticks": ""
           },
           "bgcolor": "#E5ECF6",
           "radialaxis": {
            "gridcolor": "white",
            "linecolor": "white",
            "ticks": ""
           }
          },
          "scene": {
           "xaxis": {
            "backgroundcolor": "#E5ECF6",
            "gridcolor": "white",
            "gridwidth": 2,
            "linecolor": "white",
            "showbackground": true,
            "ticks": "",
            "zerolinecolor": "white"
           },
           "yaxis": {
            "backgroundcolor": "#E5ECF6",
            "gridcolor": "white",
            "gridwidth": 2,
            "linecolor": "white",
            "showbackground": true,
            "ticks": "",
            "zerolinecolor": "white"
           },
           "zaxis": {
            "backgroundcolor": "#E5ECF6",
            "gridcolor": "white",
            "gridwidth": 2,
            "linecolor": "white",
            "showbackground": true,
            "ticks": "",
            "zerolinecolor": "white"
           }
          },
          "shapedefaults": {
           "line": {
            "color": "#2a3f5f"
           }
          },
          "ternary": {
           "aaxis": {
            "gridcolor": "white",
            "linecolor": "white",
            "ticks": ""
           },
           "baxis": {
            "gridcolor": "white",
            "linecolor": "white",
            "ticks": ""
           },
           "bgcolor": "#E5ECF6",
           "caxis": {
            "gridcolor": "white",
            "linecolor": "white",
            "ticks": ""
           }
          },
          "title": {
           "x": 0.05
          },
          "xaxis": {
           "automargin": true,
           "gridcolor": "white",
           "linecolor": "white",
           "ticks": "",
           "title": {
            "standoff": 15
           },
           "zerolinecolor": "white",
           "zerolinewidth": 2
          },
          "yaxis": {
           "automargin": true,
           "gridcolor": "white",
           "linecolor": "white",
           "ticks": "",
           "title": {
            "standoff": 15
           },
           "zerolinecolor": "white",
           "zerolinewidth": 2
          }
         }
        },
        "title": {
         "font": {
          "family": "Courier New, monospace",
          "size": 24
         },
         "text": "Parameter exponents of top ten individuals",
         "x": 0.5,
         "y": 0.9
        },
        "width": 640,
        "xaxis": {
         "gridcolor": "white",
         "gridwidth": 2,
         "showgrid": true,
         "tickfont": {
          "family": "Courier New, monospace",
          "size": 22
         },
         "title": {
          "font": {
           "family": "Courier New, monospace",
           "size": 22
          },
          "text": "Seven Parameter Exponents"
         }
        },
        "yaxis": {
         "gridcolor": "white",
         "gridwidth": 2,
         "showgrid": true,
         "tickfont": {
          "family": "Courier New, monospace",
          "size": 22
         },
         "title": {
          "font": {
           "family": "Courier New, monospace",
           "size": 22
          },
          "text": "Parameter Exponent Value"
         }
        }
       }
      }
     },
     "metadata": {},
     "output_type": "display_data"
    }
   ],
   "source": [
    "fig = go.Figure()\n",
    "\n",
    "# Adding subplots for each parameter\n",
    "params = [c1_exps, c2_exps, c3_exps, c4_exps, k31_exps, k41_exps, k51_exps]\n",
    "param_names = [\"c1_exp\", \"c2_exp\", \"c3_exp\", \"c4_exp\", \"k31_exp\", \"k41_exp\", \"k51_exp\"]\n",
    "\n",
    "for param, name in zip(params, param_names):\n",
    "    fig.add_trace(go.Box(\n",
    "        y=param,\n",
    "        name=name\n",
    "    ))\n",
    "\n",
    "    truth_value = truth[param_names.index(name)]  # Assuming the order matches\n",
    "    fig.add_trace(go.Scatter(\n",
    "        x=[name],\n",
    "        y=[truth_value],\n",
    "        mode='markers',\n",
    "        marker=dict(size=10, color='red'),\n",
    "        name=f'{name} Input'\n",
    "    ))\n",
    "\n",
    "fig.update_xaxes(showgrid=True, gridwidth=2, gridcolor='white')\n",
    "fig.update_yaxes(showgrid=True, gridwidth=2, gridcolor='white')\n",
    "\n",
    "fig.update_layout(\n",
    "        title=f\"Parameter exponents of top ten individuals\",\n",
    "        title_font=dict(size=24, family=\"Courier New, monospace\"),\n",
    "        title_x=0.5,  # center\n",
    "        title_y=0.9,\n",
    "        width=640, height=560,\n",
    "        yaxis_title=\"Parameter Exponent Value\",\n",
    "        xaxis_title=\"Seven Parameter Exponents\",\n",
    "        xaxis=dict(\n",
    "            title_font=dict(size=22, family=\"Courier New, monospace\"),\n",
    "            tickfont=dict(size=22, family=\"Courier New, monospace\")\n",
    "        ),\n",
    "        yaxis=dict(\n",
    "            title_font=dict(size=22, family=\"Courier New, monospace\"),\n",
    "            tickfont=dict(size=22, family=\"Courier New, monospace\")\n",
    "        )\n",
    "    )\n",
    "\n",
    "\n",
    "fig.show()"
   ]
  }
 ],
 "metadata": {
  "kernelspec": {
   "display_name": "base",
   "language": "python",
   "name": "python3"
  },
  "language_info": {
   "codemirror_mode": {
    "name": "ipython",
    "version": 3
   },
   "file_extension": ".py",
   "mimetype": "text/x-python",
   "name": "python",
   "nbconvert_exporter": "python",
   "pygments_lexer": "ipython3",
   "version": "3.11.3"
  },
  "orig_nbformat": 4
 },
 "nbformat": 4,
 "nbformat_minor": 2
}
