{
 "cells": [
  {
   "cell_type": "code",
   "execution_count": 1,
   "metadata": {},
   "outputs": [
    {
     "name": "stderr",
     "output_type": "stream",
     "text": [
      "C:\\Users\\Yuxuan Zheng\\AppData\\Local\\Temp\\ipykernel_28184\\1834911006.py:2: DeprecationWarning: Importing display from IPython.core.display is deprecated since IPython 7.14, please import from IPython display\n",
      "  from IPython.core.display import display, HTML\n"
     ]
    }
   ],
   "source": [
    "import plotly.graph_objects as go\n",
    "from IPython.core.display import display, HTML\n",
    "import pandas as pd\n",
    "import sys\n",
    "sys.path.append('..')"
   ]
  },
  {
   "cell_type": "code",
   "execution_count": 2,
   "metadata": {},
   "outputs": [],
   "source": [
    "conc = 15"
   ]
  },
  {
   "cell_type": "code",
   "execution_count": 3,
   "metadata": {},
   "outputs": [],
   "source": [
    "import numpy as np\n",
    "from scipy.integrate import odeint\n",
    "from tqdm import tqdm\n",
    "import time\n",
    "import random\n",
    "\n",
    "# Constants\n",
    "a21 = 1\n",
    "a31 = 0.27\n",
    "a32 = 0.73\n",
    "\n",
    "a41 = 0.18\n",
    "a42 = 0.24\n",
    "a43 = 0.58\n",
    "\n",
    "a51 = 0.24\n",
    "a52 = 0.23\n",
    "a53 = 0.2\n",
    "a54 = 0.33\n",
    "\n",
    "W2 = 63000\n",
    "W3 = 20000\n",
    "W4 = 15000\n",
    "W5 = 33000\n",
    "Ws2 = 8000\n",
    "\n",
    "# P980 = 3*10**4  # our PD\n",
    "\n",
    "def system(state, t, x, P980, c1, c2, c3, c4, k31, k41, k51):\n",
    "\n",
    "    ns2, n1, n2, n3, n4, n5 = state\n",
    "\n",
    "    #ns2\n",
    "    ms2 = 1.23*P980*(37*(100-x)-ns2) - Ws2*ns2 - (c1*n1+c2*n2+c3*n3+c4*n4)*ns2  # ns1 = total_Yb - ns2\n",
    "\n",
    "    # n1\n",
    "    m1 = -c1*n1*ns2 + a21*W2*n2 + a31*W3*n3 + a41*W4*n4 + a51*W5*n5 - k41*n1*n4 - k31*n1*n3 - k51*n5*n1\n",
    "\n",
    "    # n2\n",
    "    m2 = c1*n1*ns2 - c2*n2*ns2 - a21*W2*n2 + a32*W3*n3 + a42*W4*n4 + a52*W5*n5 + k41*n1*n4 + 2*k31*n1*n3\n",
    "\n",
    "    # n3\n",
    "    m3 = c2*n2*ns2 - c3*n3*ns2 - (a31+a32)*W3*n3 + a43*W4*n4 + a53*W5*n5 + 2*k51*n1*n5 + k41*n1*n4 - k31*n1*n3\n",
    "\n",
    "    # n4\n",
    "    m4 = c3*n3*ns2 - c4*n4*ns2 - (a43+a42+a41)*W4*n4 + a54*W5*n5 - k41*n1*n4\n",
    "\n",
    "    # n5\n",
    "    m5 = c4*n4*ns2 - (a54+a53+a52+a51)*W5*n5 - k51*n1*n5\n",
    "\n",
    "\n",
    "    return [ms2, m1, m2, m3, m4, m5]"
   ]
  },
  {
   "cell_type": "code",
   "execution_count": 4,
   "metadata": {},
   "outputs": [
    {
     "name": "stderr",
     "output_type": "stream",
     "text": [
      "'ls' is not recognized as an internal or external command,\n",
      "operable program or batch file.\n"
     ]
    }
   ],
   "source": [
    "!ls"
   ]
  },
  {
   "cell_type": "code",
   "execution_count": 5,
   "metadata": {},
   "outputs": [],
   "source": [
    "syn = pd.read_csv(f'./../conc_{conc}.csv')"
   ]
  },
  {
   "cell_type": "code",
   "execution_count": 6,
   "metadata": {},
   "outputs": [],
   "source": [
    "from scipy.integrate import odeint\n",
    "from tqdm import tqdm\n",
    "\n",
    "def compute_values_for_x(x, P980, c1, c2, c3, c4, k31, k41, k51):\n",
    "\n",
    "    # Compute initial condition\n",
    "    y = 37 * x\n",
    "    state0 = [0, y, 0, 0, 0, 0]\n",
    "\n",
    "    # ODEs\n",
    "    t = np.arange(0.0, 0.001, 0.000001)\n",
    "\n",
    "    state = odeint(system, state0, t, args=(x, P980, c1, c2, c3, c4, k31, k41, k51))\n",
    "\n",
    "    # Compute NIR and blue_total\n",
    "    NIR = a31 * W3 * state[:, 3][-1]\n",
    "    blue_1 = a41 * W4 * state[:, 4][-1]\n",
    "    blue_2 = a52 * W5 * state[:, 5][-1]\n",
    "    blue_total = blue_1 + blue_2\n",
    "\n",
    "    return NIR, blue_total\n",
    "\n",
    "\n",
    "# x_values = [4, 6, 8, 10, 12, 15, 50]  # Range of C2 values from 2% to 40%\n"
   ]
  },
  {
   "cell_type": "code",
   "execution_count": 7,
   "metadata": {},
   "outputs": [],
   "source": [
    "p10_blue = [2.8*10**3, 4.4*10**3, 5*10**3, 6*10**3, 7.5*10**3, 9.1*10**3, 1.1*10**4, 1.4*10**4, 1.7*10**4, 2*10**4, 2.3*10**4, 2.7*10**4, 3*10**4]\n",
    "p10_nir = [1.2*10**3, 1.8*10**3, 2.8*10**3, 4.4*10**3, 5*10**3, 6*10**3, 7.5*10**3, 9.1*10**3, 1.1*10**4, 1.4*10**4, 1.7*10**4, 2*10**4, 2.3*10**4, 2.7*10**4, 3*10**4]\n",
    "p12_nir = [1.2*10**3, 1.8*10**3, 2.8*10**3, 4.4*10**3, 5*10**3, 6*10**3, 7.5*10**3, 9.1*10**3, 1.1*10**4, 1.4*10**4, 1.7*10**4, 2*10**4, 2.3*10**4, 2.7*10**4, 3*10**4]\n",
    "p12_blue = [4.4*10**3, 5*10**3, 6*10**3, 7.5*10**3, 9.1*10**3, 1.1*10**4, 1.4*10**4, 1.7*10**4, 2*10**4, 2.3*10**4, 2.7*10**4, 3*10**4]\n",
    "p15_nir = [1.2*10**3, 1.8*10**3, 2.8*10**3, 4.4*10**3, 5*10**3, 6*10**3, 7.5*10**3, 9.1*10**3, 1.1*10**4, 1.4*10**4, 1.7*10**4, 2*10**4, 2.3*10**4, 2.7*10**4, 3*10**4]\n",
    "p15_blue = [4.4*10**3, 5*10**3, 6*10**3, 7.5*10**3, 9.1*10**3, 1.1*10**4, 1.4*10**4, 1.7*10**4, 2*10**4, 2.3*10**4, 2.7*10**4, 3*10**4]\n",
    "\n",
    "power = {10: (p10_nir, p10_blue), 12: (p12_nir, p12_blue), 15: (p15_nir, p15_blue)}"
   ]
  },
  {
   "cell_type": "code",
   "execution_count": 8,
   "metadata": {},
   "outputs": [],
   "source": [
    "NIR_values = {x: [] for x in power[conc][0]}\n",
    "blue_total_values = {x: [] for x in power[conc][1]}\n",
    "\n",
    "count = 0\n",
    "for index, row in syn.iterrows():\n",
    "    c1, c2, c3, c4, k31, k41, k51 = row['c1'], row['c2'], row['c3'],row['c4'],row['k31'],row['k41'],row['k51']\n",
    "    c1, c2, c3, c4, k31, k41, k51 = 10**c1, 10**c2, 10**c3, 10**c4, 10**k31, 10**k41, 10**k51\n",
    "    for index, x in enumerate(power[conc][0]):\n",
    "        NIR, _ = compute_values_for_x(conc, x, c1, c2, c3, c4, k31, k41, k51)\n",
    "        NIR_values[x].append(NIR)\n",
    "    for index, x in enumerate(power[conc][1]):\n",
    "        _, blue = compute_values_for_x(conc, x, c1, c2, c3, c4, k31, k41, k51)\n",
    "        blue_total_values[x].append(blue)\n",
    "    # print(NIR_values[4])\n",
    "    # print(blue_total_values[4])\n",
    "    # count += 1\n",
    "    # if count >=100:\n",
    "    #     break\n"
   ]
  },
  {
   "cell_type": "code",
   "execution_count": 9,
   "metadata": {},
   "outputs": [],
   "source": [
    "nir_mean_values = [np.mean(NIR_values[x]) for x in power[conc][0]]\n",
    "nir_std_values = [np.std(NIR_values[x]) for x in power[conc][0]]\n",
    "\n",
    "blue_mean_values = [np.mean(blue_total_values[x]) for x in power[conc][1]]\n",
    "blue_std_values = [np.std(blue_total_values[x]) for x in power[conc][1]]"
   ]
  },
  {
   "cell_type": "code",
   "execution_count": 10,
   "metadata": {},
   "outputs": [
    {
     "data": {
      "text/plain": [
       "([13.428661285018013,\n",
       "  31.935476918376608,\n",
       "  85.0412291862235,\n",
       "  246.02348954201778,\n",
       "  336.96490404268553,\n",
       "  532.794857193903,\n",
       "  936.2774452342273,\n",
       "  1489.1986588152802,\n",
       "  2222.1334336778405,\n",
       "  3332.769854710633,\n",
       "  4270.126070601206,\n",
       "  5033.755485367579,\n",
       "  5656.73671711475,\n",
       "  6322.227682897369,\n",
       "  6728.047087550413],\n",
       " [1.3121585574811183,\n",
       "  3.023332882118396,\n",
       "  7.528047830115904,\n",
       "  18.45579631337012,\n",
       "  23.13808093636781,\n",
       "  30.290763132402702,\n",
       "  36.575216448968256,\n",
       "  41.093103179542,\n",
       "  61.320752436157605,\n",
       "  109.94346597882539,\n",
       "  152.18567785386506,\n",
       "  185.89747983592233,\n",
       "  213.5637330015447,\n",
       "  243.9610241482269,\n",
       "  263.15947506024827])"
      ]
     },
     "execution_count": 10,
     "metadata": {},
     "output_type": "execute_result"
    }
   ],
   "source": [
    "nir_mean_values, nir_std_values"
   ]
  },
  {
   "cell_type": "code",
   "execution_count": 11,
   "metadata": {},
   "outputs": [
    {
     "data": {
      "text/plain": [
       "([0.905840972759863,\n",
       "  1.6204059658983199,\n",
       "  3.874048542170815,\n",
       "  11.776304989035625,\n",
       "  30.28472835759852,\n",
       "  69.6075353453279,\n",
       "  163.8364265078762,\n",
       "  278.02974659652386,\n",
       "  395.84181130367165,\n",
       "  509.1322512084349,\n",
       "  647.8078433858976,\n",
       "  741.5777529915665],\n",
       " [0.18172396841601657,\n",
       "  0.2785085183066924,\n",
       "  0.5182578345537009,\n",
       "  1.148807100108977,\n",
       "  2.460070193389379,\n",
       "  5.384842958381275,\n",
       "  12.489917345009095,\n",
       "  20.633764856796653,\n",
       "  28.875322609022074,\n",
       "  37.13250750991251,\n",
       "  48.16286123666934,\n",
       "  56.35816836326168])"
      ]
     },
     "execution_count": 11,
     "metadata": {},
     "output_type": "execute_result"
    }
   ],
   "source": [
    "blue_mean_values, blue_std_values"
   ]
  },
  {
   "cell_type": "code",
   "execution_count": 12,
   "metadata": {},
   "outputs": [
    {
     "data": {
      "text/plain": [
       "[13.428661285018013,\n",
       " 31.935476918376608,\n",
       " 85.0412291862235,\n",
       " 246.02348954201778,\n",
       " 336.96490404268553,\n",
       " 532.794857193903,\n",
       " 936.2774452342273,\n",
       " 1489.1986588152802,\n",
       " 2222.1334336778405,\n",
       " 3332.769854710633,\n",
       " 4270.126070601206,\n",
       " 5033.755485367579,\n",
       " 5656.73671711475,\n",
       " 6322.227682897369,\n",
       " 6728.047087550413,\n",
       " 1.3121585574811183,\n",
       " 3.023332882118396,\n",
       " 7.528047830115904,\n",
       " 18.45579631337012,\n",
       " 23.13808093636781,\n",
       " 30.290763132402702,\n",
       " 36.575216448968256,\n",
       " 41.093103179542,\n",
       " 61.320752436157605,\n",
       " 109.94346597882539,\n",
       " 152.18567785386506,\n",
       " 185.89747983592233,\n",
       " 213.5637330015447,\n",
       " 243.9610241482269,\n",
       " 263.15947506024827,\n",
       " 6728.047087550413,\n",
       " 6322.227682897369,\n",
       " 5656.73671711475,\n",
       " 5033.755485367579,\n",
       " 4270.126070601206,\n",
       " 3332.769854710633,\n",
       " 2222.1334336778405,\n",
       " 1489.1986588152802,\n",
       " 936.2774452342273,\n",
       " 532.794857193903,\n",
       " 336.96490404268553,\n",
       " 246.02348954201778,\n",
       " 85.0412291862235,\n",
       " 31.935476918376608,\n",
       " 13.428661285018013]"
      ]
     },
     "execution_count": 12,
     "metadata": {},
     "output_type": "execute_result"
    }
   ],
   "source": [
    "nir_mean_values + nir_std_values + nir_mean_values[::-1]"
   ]
  },
  {
   "cell_type": "code",
   "execution_count": 13,
   "metadata": {},
   "outputs": [
    {
     "data": {
      "application/vnd.plotly.v1+json": {
       "config": {
        "plotlyServerURL": "https://plot.ly"
       },
       "data": [
        {
         "mode": "lines+markers",
         "name": "Mean_NIR_Simulation",
         "type": "scatter",
         "x": [
          1200,
          1800,
          2800,
          4400,
          5000,
          6000,
          7500,
          9100,
          11000,
          14000,
          17000,
          20000,
          23000,
          27000,
          30000
         ],
         "y": [
          13.428661285018013,
          31.935476918376608,
          85.0412291862235,
          246.02348954201778,
          336.96490404268553,
          532.794857193903,
          936.2774452342273,
          1489.1986588152802,
          2222.1334336778405,
          3332.769854710633,
          4270.126070601206,
          5033.755485367579,
          5656.73671711475,
          6322.227682897369,
          6728.047087550413
         ]
        },
        {
         "mode": "lines+markers",
         "name": "Mean_blue_Simulation",
         "type": "scatter",
         "x": [
          4400,
          5000,
          6000,
          7500,
          9100,
          11000,
          14000,
          17000,
          20000,
          23000,
          27000,
          30000
         ],
         "y": [
          0.905840972759863,
          1.6204059658983199,
          3.874048542170815,
          11.776304989035625,
          30.28472835759852,
          69.6075353453279,
          163.8364265078762,
          278.02974659652386,
          395.84181130367165,
          509.1322512084349,
          647.8078433858976,
          741.5777529915665
         ]
        },
        {
         "fill": "toself",
         "fillcolor": "rgba(170, 68, 153, 0.2)",
         "line": {
          "color": "rgba(255,255,255,0)"
         },
         "name": "NIR_simulation",
         "type": "scatter",
         "x": [
          1200,
          1800,
          2800,
          4400,
          5000,
          6000,
          7500,
          9100,
          11000,
          14000,
          17000,
          20000,
          23000,
          27000,
          30000,
          30000,
          27000,
          23000,
          20000,
          17000,
          14000,
          11000,
          9100,
          7500,
          6000,
          5000,
          4400,
          2800,
          1800,
          1200
         ],
         "y": [
          14.740819842499132,
          34.958809800495004,
          92.56927701633941,
          264.4792858553879,
          360.10298497905336,
          563.0856203263057,
          972.8526616831956,
          1530.291761994822,
          2283.4541861139983,
          3442.713320689458,
          4422.311748455071,
          5219.6529652035015,
          5870.300450116294,
          6566.188707045596,
          6991.206562610661,
          6464.887612490165,
          6078.266658749142,
          5443.1729841132055,
          4847.858005531657,
          4117.940392747341,
          3222.8263887318076,
          2160.8126812416826,
          1448.1055556357383,
          899.7022287852591,
          502.50409406150027,
          313.8268231063177,
          227.56769322864767,
          77.5131813561076,
          28.912144036258212,
          12.116502727536894
         ]
        },
        {
         "fill": "toself",
         "fillcolor": "rgba(170, 68, 153, 0.2)",
         "line": {
          "color": "rgba(255,255,255,0)"
         },
         "name": "Blue_simulation",
         "type": "scatter",
         "x": [
          4400,
          5000,
          6000,
          7500,
          9100,
          11000,
          14000,
          17000,
          20000,
          23000,
          27000,
          30000,
          30000,
          27000,
          23000,
          20000,
          17000,
          14000,
          11000,
          9100,
          7500,
          6000,
          5000,
          4400
         ],
         "y": [
          1.0875649411758794,
          1.8989144842050123,
          4.392306376724516,
          12.925112089144601,
          32.7447985509879,
          74.99237830370917,
          176.32634385288532,
          298.6635114533205,
          424.7171339126937,
          546.2647587183475,
          695.9707046225669,
          797.9359213548282,
          685.2195846283048,
          599.6449821492283,
          471.9997436985224,
          366.96648869464957,
          257.39598173972723,
          151.3465091628671,
          64.22269238694663,
          27.82465816420914,
          10.627497888926648,
          3.355790707617114,
          1.3418974475916274,
          0.7241170043438464
         ]
        },
        {
         "marker": {
          "color": "rgb(170, 68, 153)",
          "size": 10
         },
         "mode": "markers",
         "name": "NIR_exp",
         "type": "scatter",
         "x": [
          1200,
          1800,
          2800,
          4400,
          5000,
          6000,
          7500,
          9100,
          11000,
          14000,
          17000,
          20000,
          23000,
          27000,
          30000
         ],
         "y": [
          31.381923505700044,
          72.31581864203648,
          180.97258425227864,
          461.83237203783204,
          599.0349643863137,
          860.131413530694,
          1307.107798604259,
          1818.8954304330582,
          2422.9928075971275,
          3291.078839884209,
          4021.875628580824,
          4625.467630797784,
          5124.757247987143,
          5665.002163329066,
          5997.782971800893
         ]
        },
        {
         "marker": {
          "color": "#0099C6",
          "size": 10
         },
         "mode": "markers",
         "name": "Blue_exp",
         "type": "scatter",
         "x": [
          4400,
          5000,
          6000,
          7500,
          9100,
          11000,
          14000,
          17000,
          20000,
          23000,
          27000,
          30000
         ],
         "y": [
          5.325704981188362,
          9.182231747888329,
          19.573145432453263,
          46.75481059633773,
          92.40471498363003,
          166.02582476717035,
          308.85016044836607,
          462.8657635965991,
          613.5058799892671,
          754.3079922402186,
          923.386985150068,
          1036.2977296572244
         ]
        }
       ],
       "layout": {
        "height": 600,
        "legend": {
         "font": {
          "family": "Arial, sans-serif",
          "size": 20
         }
        },
        "margin": {
         "b": 20,
         "l": 20,
         "r": 20,
         "t": 70
        },
        "showlegend": true,
        "template": {
         "data": {
          "bar": [
           {
            "error_x": {
             "color": "#2a3f5f"
            },
            "error_y": {
             "color": "#2a3f5f"
            },
            "marker": {
             "line": {
              "color": "#E5ECF6",
              "width": 0.5
             },
             "pattern": {
              "fillmode": "overlay",
              "size": 10,
              "solidity": 0.2
             }
            },
            "type": "bar"
           }
          ],
          "barpolar": [
           {
            "marker": {
             "line": {
              "color": "#E5ECF6",
              "width": 0.5
             },
             "pattern": {
              "fillmode": "overlay",
              "size": 10,
              "solidity": 0.2
             }
            },
            "type": "barpolar"
           }
          ],
          "carpet": [
           {
            "aaxis": {
             "endlinecolor": "#2a3f5f",
             "gridcolor": "white",
             "linecolor": "white",
             "minorgridcolor": "white",
             "startlinecolor": "#2a3f5f"
            },
            "baxis": {
             "endlinecolor": "#2a3f5f",
             "gridcolor": "white",
             "linecolor": "white",
             "minorgridcolor": "white",
             "startlinecolor": "#2a3f5f"
            },
            "type": "carpet"
           }
          ],
          "choropleth": [
           {
            "colorbar": {
             "outlinewidth": 0,
             "ticks": ""
            },
            "type": "choropleth"
           }
          ],
          "contour": [
           {
            "colorbar": {
             "outlinewidth": 0,
             "ticks": ""
            },
            "colorscale": [
             [
              0,
              "#0d0887"
             ],
             [
              0.1111111111111111,
              "#46039f"
             ],
             [
              0.2222222222222222,
              "#7201a8"
             ],
             [
              0.3333333333333333,
              "#9c179e"
             ],
             [
              0.4444444444444444,
              "#bd3786"
             ],
             [
              0.5555555555555556,
              "#d8576b"
             ],
             [
              0.6666666666666666,
              "#ed7953"
             ],
             [
              0.7777777777777778,
              "#fb9f3a"
             ],
             [
              0.8888888888888888,
              "#fdca26"
             ],
             [
              1,
              "#f0f921"
             ]
            ],
            "type": "contour"
           }
          ],
          "contourcarpet": [
           {
            "colorbar": {
             "outlinewidth": 0,
             "ticks": ""
            },
            "type": "contourcarpet"
           }
          ],
          "heatmap": [
           {
            "colorbar": {
             "outlinewidth": 0,
             "ticks": ""
            },
            "colorscale": [
             [
              0,
              "#0d0887"
             ],
             [
              0.1111111111111111,
              "#46039f"
             ],
             [
              0.2222222222222222,
              "#7201a8"
             ],
             [
              0.3333333333333333,
              "#9c179e"
             ],
             [
              0.4444444444444444,
              "#bd3786"
             ],
             [
              0.5555555555555556,
              "#d8576b"
             ],
             [
              0.6666666666666666,
              "#ed7953"
             ],
             [
              0.7777777777777778,
              "#fb9f3a"
             ],
             [
              0.8888888888888888,
              "#fdca26"
             ],
             [
              1,
              "#f0f921"
             ]
            ],
            "type": "heatmap"
           }
          ],
          "heatmapgl": [
           {
            "colorbar": {
             "outlinewidth": 0,
             "ticks": ""
            },
            "colorscale": [
             [
              0,
              "#0d0887"
             ],
             [
              0.1111111111111111,
              "#46039f"
             ],
             [
              0.2222222222222222,
              "#7201a8"
             ],
             [
              0.3333333333333333,
              "#9c179e"
             ],
             [
              0.4444444444444444,
              "#bd3786"
             ],
             [
              0.5555555555555556,
              "#d8576b"
             ],
             [
              0.6666666666666666,
              "#ed7953"
             ],
             [
              0.7777777777777778,
              "#fb9f3a"
             ],
             [
              0.8888888888888888,
              "#fdca26"
             ],
             [
              1,
              "#f0f921"
             ]
            ],
            "type": "heatmapgl"
           }
          ],
          "histogram": [
           {
            "marker": {
             "pattern": {
              "fillmode": "overlay",
              "size": 10,
              "solidity": 0.2
             }
            },
            "type": "histogram"
           }
          ],
          "histogram2d": [
           {
            "colorbar": {
             "outlinewidth": 0,
             "ticks": ""
            },
            "colorscale": [
             [
              0,
              "#0d0887"
             ],
             [
              0.1111111111111111,
              "#46039f"
             ],
             [
              0.2222222222222222,
              "#7201a8"
             ],
             [
              0.3333333333333333,
              "#9c179e"
             ],
             [
              0.4444444444444444,
              "#bd3786"
             ],
             [
              0.5555555555555556,
              "#d8576b"
             ],
             [
              0.6666666666666666,
              "#ed7953"
             ],
             [
              0.7777777777777778,
              "#fb9f3a"
             ],
             [
              0.8888888888888888,
              "#fdca26"
             ],
             [
              1,
              "#f0f921"
             ]
            ],
            "type": "histogram2d"
           }
          ],
          "histogram2dcontour": [
           {
            "colorbar": {
             "outlinewidth": 0,
             "ticks": ""
            },
            "colorscale": [
             [
              0,
              "#0d0887"
             ],
             [
              0.1111111111111111,
              "#46039f"
             ],
             [
              0.2222222222222222,
              "#7201a8"
             ],
             [
              0.3333333333333333,
              "#9c179e"
             ],
             [
              0.4444444444444444,
              "#bd3786"
             ],
             [
              0.5555555555555556,
              "#d8576b"
             ],
             [
              0.6666666666666666,
              "#ed7953"
             ],
             [
              0.7777777777777778,
              "#fb9f3a"
             ],
             [
              0.8888888888888888,
              "#fdca26"
             ],
             [
              1,
              "#f0f921"
             ]
            ],
            "type": "histogram2dcontour"
           }
          ],
          "mesh3d": [
           {
            "colorbar": {
             "outlinewidth": 0,
             "ticks": ""
            },
            "type": "mesh3d"
           }
          ],
          "parcoords": [
           {
            "line": {
             "colorbar": {
              "outlinewidth": 0,
              "ticks": ""
             }
            },
            "type": "parcoords"
           }
          ],
          "pie": [
           {
            "automargin": true,
            "type": "pie"
           }
          ],
          "scatter": [
           {
            "fillpattern": {
             "fillmode": "overlay",
             "size": 10,
             "solidity": 0.2
            },
            "type": "scatter"
           }
          ],
          "scatter3d": [
           {
            "line": {
             "colorbar": {
              "outlinewidth": 0,
              "ticks": ""
             }
            },
            "marker": {
             "colorbar": {
              "outlinewidth": 0,
              "ticks": ""
             }
            },
            "type": "scatter3d"
           }
          ],
          "scattercarpet": [
           {
            "marker": {
             "colorbar": {
              "outlinewidth": 0,
              "ticks": ""
             }
            },
            "type": "scattercarpet"
           }
          ],
          "scattergeo": [
           {
            "marker": {
             "colorbar": {
              "outlinewidth": 0,
              "ticks": ""
             }
            },
            "type": "scattergeo"
           }
          ],
          "scattergl": [
           {
            "marker": {
             "colorbar": {
              "outlinewidth": 0,
              "ticks": ""
             }
            },
            "type": "scattergl"
           }
          ],
          "scattermapbox": [
           {
            "marker": {
             "colorbar": {
              "outlinewidth": 0,
              "ticks": ""
             }
            },
            "type": "scattermapbox"
           }
          ],
          "scatterpolar": [
           {
            "marker": {
             "colorbar": {
              "outlinewidth": 0,
              "ticks": ""
             }
            },
            "type": "scatterpolar"
           }
          ],
          "scatterpolargl": [
           {
            "marker": {
             "colorbar": {
              "outlinewidth": 0,
              "ticks": ""
             }
            },
            "type": "scatterpolargl"
           }
          ],
          "scatterternary": [
           {
            "marker": {
             "colorbar": {
              "outlinewidth": 0,
              "ticks": ""
             }
            },
            "type": "scatterternary"
           }
          ],
          "surface": [
           {
            "colorbar": {
             "outlinewidth": 0,
             "ticks": ""
            },
            "colorscale": [
             [
              0,
              "#0d0887"
             ],
             [
              0.1111111111111111,
              "#46039f"
             ],
             [
              0.2222222222222222,
              "#7201a8"
             ],
             [
              0.3333333333333333,
              "#9c179e"
             ],
             [
              0.4444444444444444,
              "#bd3786"
             ],
             [
              0.5555555555555556,
              "#d8576b"
             ],
             [
              0.6666666666666666,
              "#ed7953"
             ],
             [
              0.7777777777777778,
              "#fb9f3a"
             ],
             [
              0.8888888888888888,
              "#fdca26"
             ],
             [
              1,
              "#f0f921"
             ]
            ],
            "type": "surface"
           }
          ],
          "table": [
           {
            "cells": {
             "fill": {
              "color": "#EBF0F8"
             },
             "line": {
              "color": "white"
             }
            },
            "header": {
             "fill": {
              "color": "#C8D4E3"
             },
             "line": {
              "color": "white"
             }
            },
            "type": "table"
           }
          ]
         },
         "layout": {
          "annotationdefaults": {
           "arrowcolor": "#2a3f5f",
           "arrowhead": 0,
           "arrowwidth": 1
          },
          "autotypenumbers": "strict",
          "coloraxis": {
           "colorbar": {
            "outlinewidth": 0,
            "ticks": ""
           }
          },
          "colorscale": {
           "diverging": [
            [
             0,
             "#8e0152"
            ],
            [
             0.1,
             "#c51b7d"
            ],
            [
             0.2,
             "#de77ae"
            ],
            [
             0.3,
             "#f1b6da"
            ],
            [
             0.4,
             "#fde0ef"
            ],
            [
             0.5,
             "#f7f7f7"
            ],
            [
             0.6,
             "#e6f5d0"
            ],
            [
             0.7,
             "#b8e186"
            ],
            [
             0.8,
             "#7fbc41"
            ],
            [
             0.9,
             "#4d9221"
            ],
            [
             1,
             "#276419"
            ]
           ],
           "sequential": [
            [
             0,
             "#0d0887"
            ],
            [
             0.1111111111111111,
             "#46039f"
            ],
            [
             0.2222222222222222,
             "#7201a8"
            ],
            [
             0.3333333333333333,
             "#9c179e"
            ],
            [
             0.4444444444444444,
             "#bd3786"
            ],
            [
             0.5555555555555556,
             "#d8576b"
            ],
            [
             0.6666666666666666,
             "#ed7953"
            ],
            [
             0.7777777777777778,
             "#fb9f3a"
            ],
            [
             0.8888888888888888,
             "#fdca26"
            ],
            [
             1,
             "#f0f921"
            ]
           ],
           "sequentialminus": [
            [
             0,
             "#0d0887"
            ],
            [
             0.1111111111111111,
             "#46039f"
            ],
            [
             0.2222222222222222,
             "#7201a8"
            ],
            [
             0.3333333333333333,
             "#9c179e"
            ],
            [
             0.4444444444444444,
             "#bd3786"
            ],
            [
             0.5555555555555556,
             "#d8576b"
            ],
            [
             0.6666666666666666,
             "#ed7953"
            ],
            [
             0.7777777777777778,
             "#fb9f3a"
            ],
            [
             0.8888888888888888,
             "#fdca26"
            ],
            [
             1,
             "#f0f921"
            ]
           ]
          },
          "colorway": [
           "#636efa",
           "#EF553B",
           "#00cc96",
           "#ab63fa",
           "#FFA15A",
           "#19d3f3",
           "#FF6692",
           "#B6E880",
           "#FF97FF",
           "#FECB52"
          ],
          "font": {
           "color": "#2a3f5f"
          },
          "geo": {
           "bgcolor": "white",
           "lakecolor": "white",
           "landcolor": "#E5ECF6",
           "showlakes": true,
           "showland": true,
           "subunitcolor": "white"
          },
          "hoverlabel": {
           "align": "left"
          },
          "hovermode": "closest",
          "mapbox": {
           "style": "light"
          },
          "paper_bgcolor": "white",
          "plot_bgcolor": "#E5ECF6",
          "polar": {
           "angularaxis": {
            "gridcolor": "white",
            "linecolor": "white",
            "ticks": ""
           },
           "bgcolor": "#E5ECF6",
           "radialaxis": {
            "gridcolor": "white",
            "linecolor": "white",
            "ticks": ""
           }
          },
          "scene": {
           "xaxis": {
            "backgroundcolor": "#E5ECF6",
            "gridcolor": "white",
            "gridwidth": 2,
            "linecolor": "white",
            "showbackground": true,
            "ticks": "",
            "zerolinecolor": "white"
           },
           "yaxis": {
            "backgroundcolor": "#E5ECF6",
            "gridcolor": "white",
            "gridwidth": 2,
            "linecolor": "white",
            "showbackground": true,
            "ticks": "",
            "zerolinecolor": "white"
           },
           "zaxis": {
            "backgroundcolor": "#E5ECF6",
            "gridcolor": "white",
            "gridwidth": 2,
            "linecolor": "white",
            "showbackground": true,
            "ticks": "",
            "zerolinecolor": "white"
           }
          },
          "shapedefaults": {
           "line": {
            "color": "#2a3f5f"
           }
          },
          "ternary": {
           "aaxis": {
            "gridcolor": "white",
            "linecolor": "white",
            "ticks": ""
           },
           "baxis": {
            "gridcolor": "white",
            "linecolor": "white",
            "ticks": ""
           },
           "bgcolor": "#E5ECF6",
           "caxis": {
            "gridcolor": "white",
            "linecolor": "white",
            "ticks": ""
           }
          },
          "title": {
           "x": 0.05
          },
          "xaxis": {
           "automargin": true,
           "gridcolor": "white",
           "linecolor": "white",
           "ticks": "",
           "title": {
            "standoff": 15
           },
           "zerolinecolor": "white",
           "zerolinewidth": 2
          },
          "yaxis": {
           "automargin": true,
           "gridcolor": "white",
           "linecolor": "white",
           "ticks": "",
           "title": {
            "standoff": 15
           },
           "zerolinecolor": "white",
           "zerolinewidth": 2
          }
         }
        },
        "title": {
         "font": {
          "color": "royalblue",
          "family": "Arial, sans-serif",
          "size": 24
         },
         "text": "NaYbF4: (1-x)% Yb, x% Tm",
         "x": 0.42,
         "y": 0.95
        },
        "width": 800,
        "xaxis": {
         "dtick": 2000,
         "gridcolor": "white",
         "gridwidth": 2,
         "showgrid": true,
         "tickfont": {
          "size": 14
         },
         "title": {
          "text": "Power Density (W/cm^2)"
         }
        },
        "yaxis": {
         "gridcolor": "white",
         "gridwidth": 2,
         "showgrid": true,
         "tickfont": {
          "size": 14
         },
         "title": {
          "text": "Intensity(kpps)"
         }
        }
       }
      }
     },
     "metadata": {},
     "output_type": "display_data"
    }
   ],
   "source": [
    "import json\n",
    "fig = go.Figure()\n",
    "\n",
    "# Add the main trace (mean curve)\n",
    "fig.add_trace(go.Scatter(x=power[conc][0], y=nir_mean_values, mode='lines+markers', name='Mean_NIR_Simulation'))\n",
    "fig.add_trace(go.Scatter(x=power[conc][1], y=blue_mean_values, mode='lines+markers', name='Mean_blue_Simulation'))\n",
    "\n",
    "# Add the uncertainty shade trace\n",
    "fig.add_trace(go.Scatter(\n",
    "    x=power[conc][0] + power[conc][0][::-1],\n",
    "    y=[i+j for i, j in zip(nir_mean_values,nir_std_values)] + [i-j for i, j in zip(nir_mean_values,nir_std_values)][::-1],\n",
    "    fill='toself',\n",
    "    fillcolor='rgba(170, 68, 153, 0.2)',\n",
    "    line=dict(color='rgba(255,255,255,0)'),\n",
    "    name='NIR_simulation'\n",
    "))\n",
    "\n",
    "fig.add_trace(go.Scatter(\n",
    "    x=power[conc][1] + power[conc][1][::-1],\n",
    "    y=[i+j for i, j in zip(blue_mean_values,blue_std_values)] + [i-j for i, j in zip(blue_mean_values,blue_std_values)][::-1],\n",
    "    fill='toself',\n",
    "    fillcolor='rgba(170, 68, 153, 0.2)',\n",
    "    line=dict(color='rgba(255,255,255,0)'),\n",
    "    name='Blue_simulation'\n",
    "))\n",
    "\n",
    "# exp_blue_total = [4.5*10**3, 5.7*10**3, 5.5*10**3, 3.5*10**3, 2*10**3, 1.2*10**3, 0.6*10**3]\n",
    "# exp_NIR = [5*10**3, 8.5*10**3, 6.6*10**3, 7.5*10**3, 6*10**3, 5.5*10**3, 0.6*10**3]\n",
    "# exp_sum = [i+j for i, j in zip(exp_blue_total, exp_NIR)]\n",
    "\n",
    "\n",
    "# exp_sum = [i+j for i, j in zip(exp_blue_total, exp_NIR)]\n",
    "\n",
    "# print(int(min(min(blue_mean_values)) / 1e3),\n",
    "#                             int(max(max(blue_mean_values)) / 1e3) + 1)\n",
    "\n",
    "# y_ticks = [i for i in range(int(min(blue_mean_values) / 1e3),\n",
    "#                             int(max(blue_mean_values) / 1e3) + 1)]\n",
    "\n",
    "# y_ticks = [i for i in range(int(min(min(exp_sum), min(blue_total_values)) / 1e3),\n",
    "#                             int(max(max(exp_sum), max(blue_total_values)) / 1e3) + 1)]\n",
    "\n",
    "# fig.update_yaxes(tickvals=[tick * 1e3 for tick in y_ticks],\n",
    "#                  ticktext=[f\"{tick} × 10^3\" for tick in y_ticks])\n",
    "\n",
    "\n",
    "fig.update_xaxes(title_font=dict(size=18, color='black'),tickfont=dict(size=14),showgrid=True, gridwidth=2, gridcolor='white', dtick=2000)\n",
    "fig.update_yaxes(title_font=dict(size=18, color='black'),tickfont=dict(size=14),showgrid=True, gridwidth=2, gridcolor='white')\n",
    "\n",
    "# ... Your existing layout and formatting ...\n",
    "\n",
    "fig.update_layout(\n",
    "    title_text='NaYbF4: (1-x)% Yb, x% Tm',  # Main Title\n",
    "    title_font=dict(size=24, family=\"Arial, sans-serif\", color='royalblue'),\n",
    "    width=800, height=600,\n",
    "    xaxis_title='Power Density (W/cm^2)',\n",
    "    yaxis_title='Intensity(kpps)',\n",
    "    title_x=0.42,  # Center the main title\n",
    "    title_y=0.95,  # Adjust the vertical position of the main title\n",
    "    showlegend=True, margin=dict(l=20, r=20, b=20, t=70),\n",
    "    legend=dict(\n",
    "        font=dict(\n",
    "            size=20,\n",
    "            family=\"Arial, sans-serif\"\n",
    "        )\n",
    "    )\n",
    ")\n",
    "\n",
    "with open(f'./../synthetic_data/syn_{conc}.json', 'r') as f:\n",
    "    loaded_json_data = f.read()\n",
    "loaded_data = json.loads(loaded_json_data)\n",
    "exp_blue_total = loaded_data.get('blue', [])\n",
    "exp_NIR = loaded_data.get('NIR', [])\n",
    "fig.add_trace(go.Scatter(x= power[conc][0], y= exp_NIR, mode='markers', name='NIR_exp', marker=dict(color='rgb(170, 68, 153)', size=10)))\n",
    "fig.add_trace(go.Scatter(x= power[conc][1], y= exp_blue_total, mode='markers', name='Blue_exp', marker=dict(color='#0099C6', size=10)))\n",
    "\n",
    "# Show the plot\n",
    "fig.show()\n",
    "# print('hihi')"
   ]
  },
  {
   "cell_type": "code",
   "execution_count": 14,
   "metadata": {},
   "outputs": [],
   "source": [
    "truth = loaded_data.get('param', [])"
   ]
  },
  {
   "cell_type": "code",
   "execution_count": 15,
   "metadata": {},
   "outputs": [],
   "source": [
    "c1_exps = syn['c1']\n",
    "c2_exps = syn['c2']\n",
    "c3_exps = syn['c3']\n",
    "c4_exps = syn['c4']\n",
    "k31_exps = syn['k31']\n",
    "k41_exps = syn['k41']\n",
    "k51_exps = syn['k51']"
   ]
  },
  {
   "cell_type": "code",
   "execution_count": 16,
   "metadata": {},
   "outputs": [
    {
     "data": {
      "application/vnd.plotly.v1+json": {
       "config": {
        "plotlyServerURL": "https://plot.ly"
       },
       "data": [
        {
         "name": "c1_exp",
         "type": "box",
         "y": [
          2.566970033223403,
          2.566970033223403,
          2.566970033223403,
          2.566970033223403,
          2.566970033223403,
          2.566970033223403,
          2.566970033223403,
          2.566970033223403,
          2.576893958376057,
          2.5671571517818967,
          2.64744424038246,
          2.64744424038246,
          2.6474443275772632,
          2.6474443275772632,
          2.6474443275772632,
          2.6474443275772632,
          2.647444151073927,
          2.647444151073927,
          2.647444151073927,
          2.647444318458205,
          2.546719576371989,
          2.546719576371989,
          2.546716179141298,
          2.5467090734813413,
          2.5467090734813413,
          2.5467175485511007,
          2.5467175485511007,
          2.546706922354692,
          2.546706922354692,
          2.546707395997428,
          2.560213383494128,
          2.560213383494128,
          2.560213383494128,
          2.5637681156037706,
          2.5637681156037706,
          2.5690345524765945,
          2.5690345524765945,
          2.5690345524765945,
          2.5690345524765945,
          2.5690345524765945,
          2.393347461295578,
          2.393347451679294,
          2.393347319041117,
          2.393347319041117,
          2.393347319041117,
          2.393347319041117,
          2.393347319041117,
          2.393347420578189,
          2.3933471671329407,
          2.3933471671329407,
          2.57068774486061,
          2.57068774486061,
          2.57068774486061,
          2.57068774486061,
          2.570687698844845,
          2.570687698844845,
          2.570687677494821,
          2.570687504992846,
          2.570687182379406,
          2.570687182379406,
          2.4900537406897407,
          2.4900537406897407,
          2.4900537406897407,
          2.4900537406897407,
          2.490059851218573,
          2.490059851218573,
          2.490059851218573,
          2.490059851218573,
          2.4900617127005686,
          2.4900617127005686,
          2.593911841392376,
          2.593911841392376,
          2.593911841392376,
          2.593911841392376,
          2.593911841392376,
          2.593911841392376,
          2.593911841392376,
          2.5900766526124817,
          2.5900766526124817,
          2.589901424215429,
          2.5819296877132283,
          2.5819296877132283,
          2.581929679986441,
          2.581929679986441,
          2.581929679986441,
          2.5819298261882206,
          2.5819298261882206,
          2.5819298261882206,
          2.5819298261882206,
          2.5819298261882206,
          2.467829670091011,
          2.467829670091011,
          2.4684208291519374,
          2.4684208291519374,
          2.4684208291519374,
          2.4684208291519374,
          2.4678685600076875,
          2.4684393041586183,
          2.4684393041586183,
          2.4684393041586183
         ]
        },
        {
         "marker": {
          "color": "red",
          "size": 10
         },
         "mode": "markers",
         "name": "c1_exp Input",
         "type": "scatter",
         "x": [
          "c1_exp"
         ],
         "y": [
          2.1020291697247773
         ]
        },
        {
         "name": "c2_exp",
         "type": "box",
         "y": [
          -1.545484972273957,
          -1.545484972273957,
          -1.545484972273957,
          -1.545484972273957,
          -1.545484972273957,
          -1.545484972273957,
          -1.545484972273957,
          -1.545484972273957,
          -1.545272891922682,
          -1.5454273813427573,
          -1.5566283286812268,
          -1.5566283286812268,
          -1.5566283566785923,
          -1.5566283566785923,
          -1.5566283566785923,
          -1.5566283566785923,
          -1.556628357209784,
          -1.556628357209784,
          -1.556628357209784,
          -1.5566283615217391,
          -1.5579681877931804,
          -1.5579681877931804,
          -1.557968303237872,
          -1.557968236318143,
          -1.557968236318143,
          -1.5579681748107983,
          -1.5579681748107983,
          -1.557968377005198,
          -1.557968377005198,
          -1.5579683866086451,
          -1.5605621846573587,
          -1.5605621846573587,
          -1.5605621846573587,
          -1.560558904219763,
          -1.560558904219763,
          -1.5605671139597337,
          -1.5605671139597337,
          -1.5605671139597337,
          -1.5605671139597337,
          -1.5605671139597337,
          -1.623215457736758,
          -1.6232153612746063,
          -1.6232153925154864,
          -1.6232153925154864,
          -1.6232153925154864,
          -1.6232153925154864,
          -1.6232153925154864,
          -1.6232153697946037,
          -1.6232153903974038,
          -1.6232153903974038,
          -1.551604608847485,
          -1.551604608847485,
          -1.551604608847485,
          -1.551604608847485,
          -1.5516044730281728,
          -1.5516044730281728,
          -1.5516039005468922,
          -1.5516045236218194,
          -1.5516045105726195,
          -1.5516045105726195,
          -1.5657071243449652,
          -1.5657071243449652,
          -1.5657071243449652,
          -1.5657071243449652,
          -1.5657072731036998,
          -1.5657072731036998,
          -1.5657072731036998,
          -1.5657072731036998,
          -1.565707679529318,
          -1.565707679529318,
          -1.5246450267333924,
          -1.5246450267333924,
          -1.5246450267333924,
          -1.5246450267333924,
          -1.5246450267333924,
          -1.5246450267333924,
          -1.5246450267333924,
          -1.5246450260262991,
          -1.5246450260262991,
          -1.524645014895299,
          -1.5625540325519178,
          -1.5625540325519178,
          -1.562554033092884,
          -1.562554033092884,
          -1.562554033092884,
          -1.5625540152386788,
          -1.5625540152386788,
          -1.5625540152386788,
          -1.5625540152386788,
          -1.5625540152386788,
          -1.5828612089664733,
          -1.5828612089664733,
          -1.5828611681798566,
          -1.5828611681798566,
          -1.5828611681798566,
          -1.5828611681798566,
          -1.5828610781765438,
          -1.58286116830908,
          -1.58286116830908,
          -1.58286116830908
         ]
        },
        {
         "marker": {
          "color": "red",
          "size": 10
         },
         "mode": "markers",
         "name": "c2_exp Input",
         "type": "scatter",
         "x": [
          "c2_exp"
         ],
         "y": [
          -1.5520505539736358
         ]
        },
        {
         "name": "c3_exp",
         "type": "box",
         "y": [
          -0.1063975626944114,
          -0.1063975626944114,
          -0.1063975626944114,
          -0.1063975626944114,
          -0.1063975626944114,
          -0.1063975626944114,
          -0.1063975626944114,
          -0.1063975626944114,
          -0.1053185553317174,
          -0.1062968124126304,
          0.213340381940471,
          0.213340381940471,
          0.2134272383683935,
          0.2134272383683935,
          0.2134272383683935,
          0.2134272383683935,
          0.2134730525655892,
          0.2134730525655892,
          0.2134730525655892,
          0.2134265457611061,
          0.0819974544327111,
          0.0819974544327111,
          0.0819983423347971,
          0.0819975039330353,
          0.0819975039330353,
          0.0819974906545645,
          0.0819974906545645,
          0.0819995637631965,
          0.0819995637631965,
          0.0819994116398528,
          0.0028469567448232,
          0.0028469567448232,
          0.0028469567448232,
          0.0028323232170321,
          0.0028323232170321,
          0.0028863782568387,
          0.0028863782568387,
          0.0028863782568387,
          0.0028863782568387,
          0.0028863782568387,
          0.4525234728240499,
          0.4525109932999998,
          0.4525111969380287,
          0.4525111969380287,
          0.4525111969380287,
          0.4525111969380287,
          0.4525111969380287,
          0.452505841607474,
          0.4525050077720594,
          0.4525050077720594,
          -0.022858584759694,
          -0.022858584759694,
          -0.022858584759694,
          -0.022858584759694,
          -0.0228588712815646,
          -0.0228588712815646,
          -0.0228588573443625,
          -0.0228588741692195,
          -0.0228589377904754,
          -0.0228589377904754,
          0.0406743101155855,
          0.0406743101155855,
          0.0406743101155855,
          0.0406743101155855,
          0.0406742810672438,
          0.0406742810672438,
          0.0406742810672438,
          0.0406742810672438,
          0.0406743201686657,
          0.0406743201686657,
          0.1028756290501535,
          0.1028756290501535,
          0.1028756290501535,
          0.1028756290501535,
          0.1028756290501535,
          0.1028756290501535,
          0.1028756290501535,
          0.1028756277348699,
          0.1028756277348699,
          0.1028756150682689,
          0.089089816378097,
          0.089089816378097,
          0.0890823271579152,
          0.0890823271579152,
          0.0890823271579152,
          0.0890953111899241,
          0.0890953111899241,
          0.0890953111899241,
          0.0890953111899241,
          0.0890953111899241,
          0.1220228777370624,
          0.1220228777370624,
          0.1218417224514053,
          0.1218417224514053,
          0.1218417224514053,
          0.1218417224514053,
          0.1214451896110581,
          0.1220804890101562,
          0.1220804890101562,
          0.1220804890101562
         ]
        },
        {
         "marker": {
          "color": "red",
          "size": 10
         },
         "mode": "markers",
         "name": "c3_exp Input",
         "type": "scatter",
         "x": [
          "c3_exp"
         ],
         "y": [
          0.17454089093484454
         ]
        },
        {
         "name": "c4_exp",
         "type": "box",
         "y": [
          2.414037176627404,
          2.414037176627404,
          2.414037176627404,
          2.414037176627404,
          2.414037176627404,
          2.414037176627404,
          2.414037176627404,
          2.414037176627404,
          2.629473047109195,
          2.48737818218426,
          0.8047468536486999,
          0.8047468536486999,
          0.8130785087311987,
          0.8130785087311987,
          0.8130785087311987,
          0.8130785087311987,
          0.8109692234985824,
          0.8109692234985824,
          0.8109692234985824,
          0.8118326513110564,
          1.3359799384958646,
          1.3359799384958646,
          1.3354849085031248,
          1.3359876086923508,
          1.3359876086923508,
          1.3345465603091282,
          1.3345465603091282,
          1.3377756851249971,
          1.3377756851249971,
          1.3380577716823192,
          4.091309048424447,
          4.091309048424447,
          4.091309048424447,
          4.145572321071711,
          4.145572321071711,
          4.154963652289259,
          4.154963652289259,
          4.154963652289259,
          4.154963652289259,
          4.154963652289259,
          2.925045956953084,
          2.9250336189037918,
          2.9250111602129425,
          2.9250111602129425,
          2.9250111602129425,
          2.9250111602129425,
          2.9250111602129425,
          2.9249396873783398,
          2.9250302964390174,
          2.9250302964390174,
          2.821578974951502,
          2.821578974951502,
          2.821578974951502,
          2.821578974951502,
          2.8352724234149504,
          2.8352724234149504,
          2.83513257507916,
          2.84754149617352,
          2.841192253897208,
          2.841192253897208,
          1.580846677255513,
          1.580846677255513,
          1.580846677255513,
          1.580846677255513,
          1.5808455920891131,
          1.5808455920891131,
          1.5808455920891131,
          1.5808455920891131,
          1.5808433107007616,
          1.5808433107007616,
          1.1239086895256925,
          1.1239086895256925,
          1.1239086895256925,
          1.1239086895256925,
          1.1239086895256925,
          1.1239086895256925,
          1.1239086895256925,
          1.1251927604603902,
          1.1251927604603902,
          1.1249354388646964,
          1.659680622314465,
          1.659680622314465,
          1.659714868710821,
          1.659714868710821,
          1.659714868710821,
          1.658160846130238,
          1.658160846130238,
          1.658160846130238,
          1.658160846130238,
          1.658160846130238,
          1.345420776433199,
          1.345420776433199,
          1.3377591197625895,
          1.3377591197625895,
          1.3377591197625895,
          1.3377591197625895,
          1.3447572002465442,
          1.328246615442391,
          1.328246615442391,
          1.328246615442391
         ]
        },
        {
         "marker": {
          "color": "red",
          "size": 10
         },
         "mode": "markers",
         "name": "c4_exp Input",
         "type": "scatter",
         "x": [
          "c4_exp"
         ],
         "y": [
          2.7790240674847073
         ]
        },
        {
         "name": "k31_exp",
         "type": "box",
         "y": [
          -3.595581392911761,
          -3.595581392911761,
          -3.595581392911761,
          -3.595581392911761,
          -3.595581392911761,
          -3.595581392911761,
          -3.595581392911761,
          -3.595581392911761,
          -1.9617791873454289,
          -3.1697746535341005,
          -3.48021893154711,
          -3.48021893154711,
          -4.053979311241585,
          -4.053979311241585,
          -4.053979311241585,
          -4.053979311241585,
          -3.9792974623956954,
          -3.9792974623956954,
          -3.9792974623956954,
          -4.060455182036563,
          -2.002867846490834,
          -2.002867846490834,
          -2.0052174612088325,
          -1.706648744690395,
          -1.706648744690395,
          -2.075194145783303,
          -2.075194145783303,
          -2.058513486984199,
          -2.058513486984199,
          -1.870239133930151,
          -4.816702628356342,
          -4.816702628356342,
          -4.816702628356342,
          -4.94764875980381,
          -4.94764875980381,
          -3.8455103435585896,
          -3.8455103435585896,
          -3.8455103435585896,
          -3.8455103435585896,
          -3.8455103435585896,
          -9.099272083419343,
          -9.053241309540928,
          -9.016411873215723,
          -9.016411873215723,
          -9.016411873215723,
          -9.016411873215723,
          -9.016411873215723,
          -8.199219154938897,
          -9.058882087518622,
          -9.058882087518622,
          -6.174714116384258,
          -6.174714116384258,
          -6.174714116384258,
          -6.174714116384258,
          -6.560317502025823,
          -6.560317502025823,
          -4.306119415357971,
          -4.767808076307963,
          -6.579724903194521,
          -6.579724903194521,
          -3.4661498835867843,
          -3.4661498835867843,
          -3.4661498835867843,
          -3.4661498835867843,
          -2.459460482749531,
          -2.459460482749531,
          -2.459460482749531,
          -2.459460482749531,
          -3.454006958378548,
          -3.454006958378548,
          -4.101567372572236,
          -4.101567372572236,
          -4.101567372572236,
          -4.101567372572236,
          -4.101567372572236,
          -4.101567372572236,
          -4.101567372572236,
          -2.996783872963168,
          -2.996783872963168,
          -2.999775011323848,
          -5.06690757832566,
          -5.06690757832566,
          -5.104211542711518,
          -5.104211542711518,
          -5.104211542711518,
          -5.0684237796605744,
          -5.0684237796605744,
          -5.0684237796605744,
          -5.0684237796605744,
          -5.0684237796605744,
          -4.027991991533311,
          -4.027991991533311,
          -4.021571801211682,
          -4.021571801211682,
          -4.021571801211682,
          -4.021571801211682,
          -4.471749188139994,
          -4.021885083831758,
          -4.021885083831758,
          -4.021885083831758
         ]
        },
        {
         "marker": {
          "color": "red",
          "size": 10
         },
         "mode": "markers",
         "name": "k31_exp Input",
         "type": "scatter",
         "x": [
          "k31_exp"
         ],
         "y": [
          -3.6039012238749386
         ]
        },
        {
         "name": "k41_exp",
         "type": "box",
         "y": [
          -3.3764101019250137,
          -3.3764101019250137,
          -3.3764101019250137,
          -3.3764101019250137,
          -3.3764101019250137,
          -3.3764101019250137,
          -3.3764101019250137,
          -3.3764101019250137,
          -6.201351037594005,
          -3.562075209814752,
          1.5805140132217297,
          1.5805140132217297,
          1.580534251827569,
          1.580534251827569,
          1.580534251827569,
          1.580534251827569,
          1.5805359085048012,
          1.5805359085048012,
          1.5805359085048012,
          1.5805382921617008,
          1.5743294434514994,
          1.5743294434514994,
          1.5874344651972505,
          1.5667391537757485,
          1.5667391537757485,
          1.5734676164062076,
          1.5734676164062076,
          1.552342527749522,
          1.552342527749522,
          1.552309278683023,
          3.631243083297121,
          3.631243083297121,
          3.631243083297121,
          3.6392878917355658,
          3.6392878917355658,
          3.604406997726768,
          3.604406997726768,
          3.604406997726768,
          3.604406997726768,
          3.604406997726768,
          1.687262893213001,
          1.6870021157223871,
          1.6870166754229934,
          1.6870166754229934,
          1.6870166754229934,
          1.6870166754229934,
          1.6870166754229934,
          1.6872298197076592,
          1.6873101110284694,
          1.6873101110284694,
          1.712733647187881,
          1.712733647187881,
          1.712733647187881,
          1.712733647187881,
          1.6913552849905664,
          1.6913552849905664,
          1.6917592713995178,
          1.6889878813466723,
          1.7000496765145352,
          1.7000496765145352,
          1.7771574648627482,
          1.7771574648627482,
          1.7771574648627482,
          1.7771574648627482,
          1.7585994590526466,
          1.7585994590526466,
          1.7585994590526466,
          1.7585994590526466,
          1.738201393776602,
          1.738201393776602,
          1.2467533681735492,
          1.2467533681735492,
          1.2467533681735492,
          1.2467533681735492,
          1.2467533681735492,
          1.2467533681735492,
          1.2467533681735492,
          1.2455795059747543,
          1.2455795059747543,
          1.2459672943641396,
          1.5434765814980929,
          1.5434765814980929,
          1.542729957602442,
          1.542729957602442,
          1.542729957602442,
          1.5409423890460223,
          1.5409423890460223,
          1.5409423890460223,
          1.5409423890460223,
          1.5409423890460223,
          1.8242845365983624,
          1.8242845365983624,
          1.8241736876232215,
          1.8241736876232215,
          1.8241736876232215,
          1.8241736876232215,
          1.8242579858184167,
          1.8235063521577413,
          1.8235063521577413,
          1.8235063521577413
         ]
        },
        {
         "marker": {
          "color": "red",
          "size": 10
         },
         "mode": "markers",
         "name": "k41_exp Input",
         "type": "scatter",
         "x": [
          "k41_exp"
         ],
         "y": [
          2.705152690070094
         ]
        },
        {
         "name": "k51_exp",
         "type": "box",
         "y": [
          0.0607898580025351,
          0.0607898580025351,
          0.0607898580025351,
          0.0607898580025351,
          0.0607898580025351,
          0.0607898580025351,
          0.0607898580025351,
          0.0607898580025351,
          -3.1878227055986352,
          -0.5041607308780338,
          1.1182619465809296,
          1.1182619465809296,
          -0.3209734180508559,
          -0.3209734180508559,
          -0.3209734180508559,
          -0.3209734180508559,
          -0.3228432910409808,
          -0.3228432910409808,
          -0.3228432910409808,
          -0.4587944699242594,
          -1.5303617430575556,
          -1.5303617430575556,
          -1.0330504580107278,
          -1.3761817879487797,
          -1.3761817879487797,
          -1.4976330081827127,
          -1.4976330081827127,
          -1.7111122309770128,
          -1.7111122309770128,
          -1.0824073223584172,
          1.76674215508542,
          1.76674215508542,
          1.76674215508542,
          1.7607668562329035,
          1.7607668562329035,
          1.7590319617169314,
          1.7590319617169314,
          1.7590319617169314,
          1.7590319617169314,
          1.7590319617169314,
          2.8778048002672927,
          2.8778099979946994,
          2.877804073191421,
          2.877804073191421,
          2.877804073191421,
          2.877804073191421,
          2.877804073191421,
          2.8778101629454493,
          2.877808405822983,
          2.877808405822983,
          1.70979515052014,
          1.70979515052014,
          1.70979515052014,
          1.70979515052014,
          1.7900017076964865,
          1.7900017076964865,
          1.7904612738138908,
          1.7915259903027,
          1.7927428819899969,
          1.7927428819899969,
          -0.4988342636579711,
          -0.4988342636579711,
          -0.4988342636579711,
          -0.4988342636579711,
          -0.4821326072025422,
          -0.4821326072025422,
          -0.4821326072025422,
          -0.4821326072025422,
          -0.6543881136625855,
          -0.6543881136625855,
          1.2112286734458737,
          1.2112286734458737,
          1.2112286734458737,
          1.2112286734458737,
          1.2112286734458737,
          1.2112286734458737,
          1.2112286734458737,
          1.2143745869794371,
          1.2143745869794371,
          1.2107396230718752,
          1.7580671778052093,
          1.7580671778052093,
          1.7587096916927036,
          1.7587096916927036,
          1.7587096916927036,
          1.756473137854885,
          1.756473137854885,
          1.756473137854885,
          1.756473137854885,
          1.756473137854885,
          -4.17580570017735,
          -4.17580570017735,
          -4.220229608615617,
          -4.220229608615617,
          -4.220229608615617,
          -4.220229608615617,
          -4.3061283377626856,
          -4.218838474241876,
          -4.218838474241876,
          -4.218838474241876
         ]
        },
        {
         "marker": {
          "color": "red",
          "size": 10
         },
         "mode": "markers",
         "name": "k51_exp Input",
         "type": "scatter",
         "x": [
          "k51_exp"
         ],
         "y": [
          -2.5482077679848203
         ]
        }
       ],
       "layout": {
        "height": 560,
        "template": {
         "data": {
          "bar": [
           {
            "error_x": {
             "color": "#2a3f5f"
            },
            "error_y": {
             "color": "#2a3f5f"
            },
            "marker": {
             "line": {
              "color": "#E5ECF6",
              "width": 0.5
             },
             "pattern": {
              "fillmode": "overlay",
              "size": 10,
              "solidity": 0.2
             }
            },
            "type": "bar"
           }
          ],
          "barpolar": [
           {
            "marker": {
             "line": {
              "color": "#E5ECF6",
              "width": 0.5
             },
             "pattern": {
              "fillmode": "overlay",
              "size": 10,
              "solidity": 0.2
             }
            },
            "type": "barpolar"
           }
          ],
          "carpet": [
           {
            "aaxis": {
             "endlinecolor": "#2a3f5f",
             "gridcolor": "white",
             "linecolor": "white",
             "minorgridcolor": "white",
             "startlinecolor": "#2a3f5f"
            },
            "baxis": {
             "endlinecolor": "#2a3f5f",
             "gridcolor": "white",
             "linecolor": "white",
             "minorgridcolor": "white",
             "startlinecolor": "#2a3f5f"
            },
            "type": "carpet"
           }
          ],
          "choropleth": [
           {
            "colorbar": {
             "outlinewidth": 0,
             "ticks": ""
            },
            "type": "choropleth"
           }
          ],
          "contour": [
           {
            "colorbar": {
             "outlinewidth": 0,
             "ticks": ""
            },
            "colorscale": [
             [
              0,
              "#0d0887"
             ],
             [
              0.1111111111111111,
              "#46039f"
             ],
             [
              0.2222222222222222,
              "#7201a8"
             ],
             [
              0.3333333333333333,
              "#9c179e"
             ],
             [
              0.4444444444444444,
              "#bd3786"
             ],
             [
              0.5555555555555556,
              "#d8576b"
             ],
             [
              0.6666666666666666,
              "#ed7953"
             ],
             [
              0.7777777777777778,
              "#fb9f3a"
             ],
             [
              0.8888888888888888,
              "#fdca26"
             ],
             [
              1,
              "#f0f921"
             ]
            ],
            "type": "contour"
           }
          ],
          "contourcarpet": [
           {
            "colorbar": {
             "outlinewidth": 0,
             "ticks": ""
            },
            "type": "contourcarpet"
           }
          ],
          "heatmap": [
           {
            "colorbar": {
             "outlinewidth": 0,
             "ticks": ""
            },
            "colorscale": [
             [
              0,
              "#0d0887"
             ],
             [
              0.1111111111111111,
              "#46039f"
             ],
             [
              0.2222222222222222,
              "#7201a8"
             ],
             [
              0.3333333333333333,
              "#9c179e"
             ],
             [
              0.4444444444444444,
              "#bd3786"
             ],
             [
              0.5555555555555556,
              "#d8576b"
             ],
             [
              0.6666666666666666,
              "#ed7953"
             ],
             [
              0.7777777777777778,
              "#fb9f3a"
             ],
             [
              0.8888888888888888,
              "#fdca26"
             ],
             [
              1,
              "#f0f921"
             ]
            ],
            "type": "heatmap"
           }
          ],
          "heatmapgl": [
           {
            "colorbar": {
             "outlinewidth": 0,
             "ticks": ""
            },
            "colorscale": [
             [
              0,
              "#0d0887"
             ],
             [
              0.1111111111111111,
              "#46039f"
             ],
             [
              0.2222222222222222,
              "#7201a8"
             ],
             [
              0.3333333333333333,
              "#9c179e"
             ],
             [
              0.4444444444444444,
              "#bd3786"
             ],
             [
              0.5555555555555556,
              "#d8576b"
             ],
             [
              0.6666666666666666,
              "#ed7953"
             ],
             [
              0.7777777777777778,
              "#fb9f3a"
             ],
             [
              0.8888888888888888,
              "#fdca26"
             ],
             [
              1,
              "#f0f921"
             ]
            ],
            "type": "heatmapgl"
           }
          ],
          "histogram": [
           {
            "marker": {
             "pattern": {
              "fillmode": "overlay",
              "size": 10,
              "solidity": 0.2
             }
            },
            "type": "histogram"
           }
          ],
          "histogram2d": [
           {
            "colorbar": {
             "outlinewidth": 0,
             "ticks": ""
            },
            "colorscale": [
             [
              0,
              "#0d0887"
             ],
             [
              0.1111111111111111,
              "#46039f"
             ],
             [
              0.2222222222222222,
              "#7201a8"
             ],
             [
              0.3333333333333333,
              "#9c179e"
             ],
             [
              0.4444444444444444,
              "#bd3786"
             ],
             [
              0.5555555555555556,
              "#d8576b"
             ],
             [
              0.6666666666666666,
              "#ed7953"
             ],
             [
              0.7777777777777778,
              "#fb9f3a"
             ],
             [
              0.8888888888888888,
              "#fdca26"
             ],
             [
              1,
              "#f0f921"
             ]
            ],
            "type": "histogram2d"
           }
          ],
          "histogram2dcontour": [
           {
            "colorbar": {
             "outlinewidth": 0,
             "ticks": ""
            },
            "colorscale": [
             [
              0,
              "#0d0887"
             ],
             [
              0.1111111111111111,
              "#46039f"
             ],
             [
              0.2222222222222222,
              "#7201a8"
             ],
             [
              0.3333333333333333,
              "#9c179e"
             ],
             [
              0.4444444444444444,
              "#bd3786"
             ],
             [
              0.5555555555555556,
              "#d8576b"
             ],
             [
              0.6666666666666666,
              "#ed7953"
             ],
             [
              0.7777777777777778,
              "#fb9f3a"
             ],
             [
              0.8888888888888888,
              "#fdca26"
             ],
             [
              1,
              "#f0f921"
             ]
            ],
            "type": "histogram2dcontour"
           }
          ],
          "mesh3d": [
           {
            "colorbar": {
             "outlinewidth": 0,
             "ticks": ""
            },
            "type": "mesh3d"
           }
          ],
          "parcoords": [
           {
            "line": {
             "colorbar": {
              "outlinewidth": 0,
              "ticks": ""
             }
            },
            "type": "parcoords"
           }
          ],
          "pie": [
           {
            "automargin": true,
            "type": "pie"
           }
          ],
          "scatter": [
           {
            "fillpattern": {
             "fillmode": "overlay",
             "size": 10,
             "solidity": 0.2
            },
            "type": "scatter"
           }
          ],
          "scatter3d": [
           {
            "line": {
             "colorbar": {
              "outlinewidth": 0,
              "ticks": ""
             }
            },
            "marker": {
             "colorbar": {
              "outlinewidth": 0,
              "ticks": ""
             }
            },
            "type": "scatter3d"
           }
          ],
          "scattercarpet": [
           {
            "marker": {
             "colorbar": {
              "outlinewidth": 0,
              "ticks": ""
             }
            },
            "type": "scattercarpet"
           }
          ],
          "scattergeo": [
           {
            "marker": {
             "colorbar": {
              "outlinewidth": 0,
              "ticks": ""
             }
            },
            "type": "scattergeo"
           }
          ],
          "scattergl": [
           {
            "marker": {
             "colorbar": {
              "outlinewidth": 0,
              "ticks": ""
             }
            },
            "type": "scattergl"
           }
          ],
          "scattermapbox": [
           {
            "marker": {
             "colorbar": {
              "outlinewidth": 0,
              "ticks": ""
             }
            },
            "type": "scattermapbox"
           }
          ],
          "scatterpolar": [
           {
            "marker": {
             "colorbar": {
              "outlinewidth": 0,
              "ticks": ""
             }
            },
            "type": "scatterpolar"
           }
          ],
          "scatterpolargl": [
           {
            "marker": {
             "colorbar": {
              "outlinewidth": 0,
              "ticks": ""
             }
            },
            "type": "scatterpolargl"
           }
          ],
          "scatterternary": [
           {
            "marker": {
             "colorbar": {
              "outlinewidth": 0,
              "ticks": ""
             }
            },
            "type": "scatterternary"
           }
          ],
          "surface": [
           {
            "colorbar": {
             "outlinewidth": 0,
             "ticks": ""
            },
            "colorscale": [
             [
              0,
              "#0d0887"
             ],
             [
              0.1111111111111111,
              "#46039f"
             ],
             [
              0.2222222222222222,
              "#7201a8"
             ],
             [
              0.3333333333333333,
              "#9c179e"
             ],
             [
              0.4444444444444444,
              "#bd3786"
             ],
             [
              0.5555555555555556,
              "#d8576b"
             ],
             [
              0.6666666666666666,
              "#ed7953"
             ],
             [
              0.7777777777777778,
              "#fb9f3a"
             ],
             [
              0.8888888888888888,
              "#fdca26"
             ],
             [
              1,
              "#f0f921"
             ]
            ],
            "type": "surface"
           }
          ],
          "table": [
           {
            "cells": {
             "fill": {
              "color": "#EBF0F8"
             },
             "line": {
              "color": "white"
             }
            },
            "header": {
             "fill": {
              "color": "#C8D4E3"
             },
             "line": {
              "color": "white"
             }
            },
            "type": "table"
           }
          ]
         },
         "layout": {
          "annotationdefaults": {
           "arrowcolor": "#2a3f5f",
           "arrowhead": 0,
           "arrowwidth": 1
          },
          "autotypenumbers": "strict",
          "coloraxis": {
           "colorbar": {
            "outlinewidth": 0,
            "ticks": ""
           }
          },
          "colorscale": {
           "diverging": [
            [
             0,
             "#8e0152"
            ],
            [
             0.1,
             "#c51b7d"
            ],
            [
             0.2,
             "#de77ae"
            ],
            [
             0.3,
             "#f1b6da"
            ],
            [
             0.4,
             "#fde0ef"
            ],
            [
             0.5,
             "#f7f7f7"
            ],
            [
             0.6,
             "#e6f5d0"
            ],
            [
             0.7,
             "#b8e186"
            ],
            [
             0.8,
             "#7fbc41"
            ],
            [
             0.9,
             "#4d9221"
            ],
            [
             1,
             "#276419"
            ]
           ],
           "sequential": [
            [
             0,
             "#0d0887"
            ],
            [
             0.1111111111111111,
             "#46039f"
            ],
            [
             0.2222222222222222,
             "#7201a8"
            ],
            [
             0.3333333333333333,
             "#9c179e"
            ],
            [
             0.4444444444444444,
             "#bd3786"
            ],
            [
             0.5555555555555556,
             "#d8576b"
            ],
            [
             0.6666666666666666,
             "#ed7953"
            ],
            [
             0.7777777777777778,
             "#fb9f3a"
            ],
            [
             0.8888888888888888,
             "#fdca26"
            ],
            [
             1,
             "#f0f921"
            ]
           ],
           "sequentialminus": [
            [
             0,
             "#0d0887"
            ],
            [
             0.1111111111111111,
             "#46039f"
            ],
            [
             0.2222222222222222,
             "#7201a8"
            ],
            [
             0.3333333333333333,
             "#9c179e"
            ],
            [
             0.4444444444444444,
             "#bd3786"
            ],
            [
             0.5555555555555556,
             "#d8576b"
            ],
            [
             0.6666666666666666,
             "#ed7953"
            ],
            [
             0.7777777777777778,
             "#fb9f3a"
            ],
            [
             0.8888888888888888,
             "#fdca26"
            ],
            [
             1,
             "#f0f921"
            ]
           ]
          },
          "colorway": [
           "#636efa",
           "#EF553B",
           "#00cc96",
           "#ab63fa",
           "#FFA15A",
           "#19d3f3",
           "#FF6692",
           "#B6E880",
           "#FF97FF",
           "#FECB52"
          ],
          "font": {
           "color": "#2a3f5f"
          },
          "geo": {
           "bgcolor": "white",
           "lakecolor": "white",
           "landcolor": "#E5ECF6",
           "showlakes": true,
           "showland": true,
           "subunitcolor": "white"
          },
          "hoverlabel": {
           "align": "left"
          },
          "hovermode": "closest",
          "mapbox": {
           "style": "light"
          },
          "paper_bgcolor": "white",
          "plot_bgcolor": "#E5ECF6",
          "polar": {
           "angularaxis": {
            "gridcolor": "white",
            "linecolor": "white",
            "ticks": ""
           },
           "bgcolor": "#E5ECF6",
           "radialaxis": {
            "gridcolor": "white",
            "linecolor": "white",
            "ticks": ""
           }
          },
          "scene": {
           "xaxis": {
            "backgroundcolor": "#E5ECF6",
            "gridcolor": "white",
            "gridwidth": 2,
            "linecolor": "white",
            "showbackground": true,
            "ticks": "",
            "zerolinecolor": "white"
           },
           "yaxis": {
            "backgroundcolor": "#E5ECF6",
            "gridcolor": "white",
            "gridwidth": 2,
            "linecolor": "white",
            "showbackground": true,
            "ticks": "",
            "zerolinecolor": "white"
           },
           "zaxis": {
            "backgroundcolor": "#E5ECF6",
            "gridcolor": "white",
            "gridwidth": 2,
            "linecolor": "white",
            "showbackground": true,
            "ticks": "",
            "zerolinecolor": "white"
           }
          },
          "shapedefaults": {
           "line": {
            "color": "#2a3f5f"
           }
          },
          "ternary": {
           "aaxis": {
            "gridcolor": "white",
            "linecolor": "white",
            "ticks": ""
           },
           "baxis": {
            "gridcolor": "white",
            "linecolor": "white",
            "ticks": ""
           },
           "bgcolor": "#E5ECF6",
           "caxis": {
            "gridcolor": "white",
            "linecolor": "white",
            "ticks": ""
           }
          },
          "title": {
           "x": 0.05
          },
          "xaxis": {
           "automargin": true,
           "gridcolor": "white",
           "linecolor": "white",
           "ticks": "",
           "title": {
            "standoff": 15
           },
           "zerolinecolor": "white",
           "zerolinewidth": 2
          },
          "yaxis": {
           "automargin": true,
           "gridcolor": "white",
           "linecolor": "white",
           "ticks": "",
           "title": {
            "standoff": 15
           },
           "zerolinecolor": "white",
           "zerolinewidth": 2
          }
         }
        },
        "title": {
         "font": {
          "family": "Courier New, monospace",
          "size": 24
         },
         "text": "Parameter exponents of top ten individuals",
         "x": 0.5,
         "y": 0.9
        },
        "width": 640,
        "xaxis": {
         "gridcolor": "white",
         "gridwidth": 2,
         "showgrid": true,
         "tickfont": {
          "family": "Courier New, monospace",
          "size": 22
         },
         "title": {
          "font": {
           "family": "Courier New, monospace",
           "size": 22
          },
          "text": "Seven Parameter Exponents"
         }
        },
        "yaxis": {
         "gridcolor": "white",
         "gridwidth": 2,
         "showgrid": true,
         "tickfont": {
          "family": "Courier New, monospace",
          "size": 22
         },
         "title": {
          "font": {
           "family": "Courier New, monospace",
           "size": 22
          },
          "text": "Parameter Exponent Value"
         }
        }
       }
      }
     },
     "metadata": {},
     "output_type": "display_data"
    }
   ],
   "source": [
    "fig = go.Figure()\n",
    "\n",
    "# Adding subplots for each parameter\n",
    "params = [c1_exps, c2_exps, c3_exps, c4_exps, k31_exps, k41_exps, k51_exps]\n",
    "param_names = [\"c1_exp\", \"c2_exp\", \"c3_exp\", \"c4_exp\", \"k31_exp\", \"k41_exp\", \"k51_exp\"]\n",
    "\n",
    "for param, name in zip(params, param_names):\n",
    "    fig.add_trace(go.Box(\n",
    "        y=param,\n",
    "        name=name\n",
    "    ))\n",
    "\n",
    "    truth_value = truth[param_names.index(name)]  # Assuming the order matches\n",
    "    fig.add_trace(go.Scatter(\n",
    "        x=[name],\n",
    "        y=[truth_value],\n",
    "        mode='markers',\n",
    "        marker=dict(size=10, color='red'),\n",
    "        name=f'{name} Input'\n",
    "    ))\n",
    "\n",
    "fig.update_xaxes(showgrid=True, gridwidth=2, gridcolor='white')\n",
    "fig.update_yaxes(showgrid=True, gridwidth=2, gridcolor='white')\n",
    "\n",
    "fig.update_layout(\n",
    "        title=f\"Parameter exponents of top ten individuals\",\n",
    "        title_font=dict(size=24, family=\"Courier New, monospace\"),\n",
    "        title_x=0.5,  # center\n",
    "        title_y=0.9,\n",
    "        width=640, height=560,\n",
    "        yaxis_title=\"Parameter Exponent Value\",\n",
    "        xaxis_title=\"Seven Parameter Exponents\",\n",
    "        xaxis=dict(\n",
    "            title_font=dict(size=22, family=\"Courier New, monospace\"),\n",
    "            tickfont=dict(size=22, family=\"Courier New, monospace\")\n",
    "        ),\n",
    "        yaxis=dict(\n",
    "            title_font=dict(size=22, family=\"Courier New, monospace\"),\n",
    "            tickfont=dict(size=22, family=\"Courier New, monospace\")\n",
    "        )\n",
    "    )\n",
    "\n",
    "\n",
    "fig.show()"
   ]
  }
 ],
 "metadata": {
  "kernelspec": {
   "display_name": "base",
   "language": "python",
   "name": "python3"
  },
  "language_info": {
   "codemirror_mode": {
    "name": "ipython",
    "version": 3
   },
   "file_extension": ".py",
   "mimetype": "text/x-python",
   "name": "python",
   "nbconvert_exporter": "python",
   "pygments_lexer": "ipython3",
   "version": "3.11.3"
  },
  "orig_nbformat": 4
 },
 "nbformat": 4,
 "nbformat_minor": 2
}
