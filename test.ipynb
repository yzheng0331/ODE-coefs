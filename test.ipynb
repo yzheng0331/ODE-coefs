{
 "cells": [
  {
   "cell_type": "code",
   "execution_count": 2,
   "metadata": {},
   "outputs": [],
   "source": [
    "import numpy as np\n",
    "import json\n",
    "from tqdm import tqdm\n",
    "from scipy.optimize import minimize\n",
    "import sys\n",
    "sys.path.append('./src') \n",
    "from util_183 import system, compute_blue_for_x, compute_NIR_for_x\n",
    "from separate_fitting import power\n",
    "from scipy.integrate import odeint\n",
    "import matplotlib.pyplot as plt"
   ]
  },
  {
   "cell_type": "code",
   "execution_count": 62,
   "metadata": {},
   "outputs": [],
   "source": [
    "def cost_function(params, x, P980s):\n",
    "    c1, c2, c3, c4, k31, k41, k51 = params\n",
    "    c1, c2, c3, c4, k31, k41, k51 = 10**c1, 10**c2, 10**c3, 10**c4, 10**k31, 10**k41, 10**k51\n",
    "\n",
    "    P980_NIR, P980_blue = P980s\n",
    "    cost = 0\n",
    "    with open(f'./synthetic_data/syn_{x}.json', 'r') as f:\n",
    "        loaded_json_data = f.read()\n",
    "    loaded_data = json.loads(loaded_json_data)\n",
    "    experimental_data_NIR = loaded_data.get('NIR', [])\n",
    "    experimental_data_blue = loaded_data.get('blue', [])\n",
    "    costn = []\n",
    "    costb = []\n",
    "    for P980, exp_nir in zip(P980_NIR, experimental_data_NIR):\n",
    "        nir = compute_NIR_for_x(x, P980, c1, c2, c3, c4, k31, k41, k51)\n",
    "        cost_NIR = (nir - exp_nir)**2\n",
    "        costn.append(cost_NIR)\n",
    "        cost += cost_NIR\n",
    "    for P980, exp_blue in zip(P980_blue, experimental_data_blue):\n",
    "        blue = compute_blue_for_x(x, P980, c1, c2, c3, c4, k31, k41, k51)\n",
    "        cost_blue = (blue - exp_blue)**2\n",
    "        costb.append(cost_blue)\n",
    "        cost += cost_blue    \n",
    "    # print(sum(costn), costn)\n",
    "    # print(sum(costb), costb)\n",
    "    return cost / 10000"
   ]
  },
  {
   "cell_type": "code",
   "execution_count": 68,
   "metadata": {},
   "outputs": [
    {
     "name": "stdout",
     "output_type": "stream",
     "text": [
      "2.3387639928566075e-12\n",
      "11.194127520029543\n",
      "24.182655957749127\n",
      "24.912018729589484\n",
      "6.226040110375823\n"
     ]
    }
   ],
   "source": [
    "x=15\n",
    "P980s = power[15]\n",
    "params0 = [2.1020291697247773, -1.5520505539736358, 0.17454089093484454, 2.7790240674847073, -3.6039012238749386, 2.705152690070094, -2.5482077679848203]\n",
    "params1 = [ 1.97951986e+00, -1.53919187e+00,  1.23000901e-01,  2.01915062e+00,\n",
    " -5.48239173e-04,  1.98865892e+00, -4.89515911e-04]\n",
    "param = [i for i in params1]\n",
    "print(cost_function(params0, x, P980s))\n",
    "print(cost_function(param, x, P980s))\n",
    "\n",
    "param[0] = params0[0]\n",
    "print(cost_function(param, x, P980s))\n",
    "param[0] = params1[0]\n",
    "\n",
    "param[1] = params0[1]\n",
    "print(cost_function(param, x, P980s))\n",
    "param[1] = params1[1]\n",
    "\n",
    "param[2] = params0[2]\n",
    "print(cost_function(param, x, P980s))\n",
    "param[2] = params1[2]"
   ]
  },
  {
   "cell_type": "code",
   "execution_count": null,
   "metadata": {},
   "outputs": [],
   "source": [
    "513984.0277846334 \n",
    "40161.7194353648  \n",
    "55.41457472199981\n",
    "\n",
    "334749.5605044806 \n",
    "47676.70402461573 \n",
    "38.24262645290964\n",
    "\n",
    "201758.37834653156 \n",
    "55761.72636297837 \n",
    "25.752010470950992\n",
    "\n"
   ]
  },
  {
   "cell_type": "code",
   "execution_count": 29,
   "metadata": {},
   "outputs": [
    {
     "name": "stdout",
     "output_type": "stream",
     "text": [
      "60020.544778108866 [61.828796604752675, 288.1639427728096, 1398.2348832074388, 5465.870365651836, 7362.190078439655, 10143.322705856712, 12065.360027725925, 10974.505857511484, 7710.045257705841, 3176.7363748664907, 944.8936015351239, 161.697931223951, 0.43241476004618473, 84.29148522471992, 182.97105502208316]\n",
      "33578.65981020928 [3.2677156537783163, 6.812115993536801, 15.872505254551184, 26.34762419139505, 14.164243359925491, 3.92794144846928, 317.95101988420095, 1400.6856398164753, 3294.523782540183, 5812.36109232639, 9756.876809249434, 12925.869320490945]\n"
     ]
    },
    {
     "data": {
      "text/plain": [
       "9.359920458831816"
      ]
     },
     "execution_count": 29,
     "metadata": {},
     "output_type": "execute_result"
    }
   ],
   "source": [
    "x=15\n",
    "P980s = power[15]\n",
    "params0 = [2.1020291697247773, -1.5520505539736358, 0.17454089093484454, 2.7790240674847073, -3.6039012238749386, 2.705152690070094, -2.5482077679848203]\n",
    "params1 = [ 1.97951986e+00, -1.53919187e+00,  1.23000901e-01,  2.01915062e+00,\n",
    " -5.48239173e-04,  1.98865892e+00, -4.89515911e-04]\n",
    "params1[3] = params0[3]\n",
    "params1[4] = params0[4]\n",
    "params1[5] = params0[5]\n",
    "params1[6] = params0[6]\n",
    "cost_function(params1, x, P980s)"
   ]
  }
 ],
 "metadata": {
  "kernelspec": {
   "display_name": "Python 3",
   "language": "python",
   "name": "python3"
  },
  "language_info": {
   "codemirror_mode": {
    "name": "ipython",
    "version": 3
   },
   "file_extension": ".py",
   "mimetype": "text/x-python",
   "name": "python",
   "nbconvert_exporter": "python",
   "pygments_lexer": "ipython3",
   "version": "3.11.3"
  }
 },
 "nbformat": 4,
 "nbformat_minor": 2
}
