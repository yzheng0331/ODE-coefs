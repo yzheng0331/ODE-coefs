{
 "cells": [
  {
   "cell_type": "code",
   "execution_count": 16,
   "metadata": {},
   "outputs": [
    {
     "name": "stderr",
     "output_type": "stream",
     "text": [
      "C:\\Users\\Yuxuan Zheng\\AppData\\Local\\Temp\\ipykernel_9132\\241899341.py:2: DeprecationWarning:\n",
      "\n",
      "Importing display from IPython.core.display is deprecated since IPython 7.14, please import from IPython display\n",
      "\n"
     ]
    }
   ],
   "source": [
    "import plotly.graph_objects as go\n",
    "from IPython.core.display import display, HTML\n",
    "import pandas as pd"
   ]
  },
  {
   "cell_type": "code",
   "execution_count": 17,
   "metadata": {},
   "outputs": [],
   "source": [
    "conc = 12"
   ]
  },
  {
   "cell_type": "code",
   "execution_count": 18,
   "metadata": {},
   "outputs": [],
   "source": [
    "import numpy as np\n",
    "from scipy.integrate import odeint\n",
    "from tqdm import tqdm\n",
    "import time\n",
    "import random\n",
    "\n",
    "# Constants\n",
    "a21 = 1\n",
    "a31 = 0.27\n",
    "a32 = 0.73\n",
    "\n",
    "a41 = 0.18\n",
    "a42 = 0.24\n",
    "a43 = 0.58\n",
    "\n",
    "a51 = 0.24\n",
    "a52 = 0.23\n",
    "a53 = 0.2\n",
    "a54 = 0.33\n",
    "\n",
    "W2 = 63000\n",
    "W3 = 20000\n",
    "W4 = 15000\n",
    "W5 = 33000\n",
    "Ws2 = 8000\n",
    "\n",
    "# P980 = 3*10**4  # our PD\n",
    "\n",
    "def system(state, t, x, P980, c1, c2, c3, c4, k31, k41, k51):\n",
    "\n",
    "    ns2, n1, n2, n3, n4, n5 = state\n",
    "\n",
    "    #ns2\n",
    "    ms2 = 1.23*P980*(37*(100-x)-ns2) - Ws2*ns2 - (c1*n1+c2*n2+c3*n3+c4*n4)*ns2  # ns1 = total_Yb - ns2\n",
    "\n",
    "    # n1\n",
    "    m1 = -c1*n1*ns2 + a21*W2*n2 + a31*W3*n3 + a41*W4*n4 + a51*W5*n5 - k41*n1*n4 - k31*n1*n3 - k51*n5*n1\n",
    "\n",
    "    # n2\n",
    "    m2 = c1*n1*ns2 - c2*n2*ns2 - a21*W2*n2 + a32*W3*n3 + a42*W4*n4 + a52*W5*n5 + k41*n1*n4 + 2*k31*n1*n3\n",
    "\n",
    "    # n3\n",
    "    m3 = c2*n2*ns2 - c3*n3*ns2 - (a31+a32)*W3*n3 + a43*W4*n4 + a53*W5*n5 + 2*k51*n1*n5 + k41*n1*n4 - k31*n1*n3\n",
    "\n",
    "    # n4\n",
    "    m4 = c3*n3*ns2 - c4*n4*ns2 - (a43+a42+a41)*W4*n4 + a54*W5*n5 - k41*n1*n4\n",
    "\n",
    "    # n5\n",
    "    m5 = c4*n4*ns2 - (a54+a53+a52+a51)*W5*n5 - k51*n1*n5\n",
    "\n",
    "\n",
    "    return [ms2, m1, m2, m3, m4, m5]"
   ]
  },
  {
   "cell_type": "code",
   "execution_count": 19,
   "metadata": {},
   "outputs": [],
   "source": [
    "syn = pd.read_csv(f'conc_{conc}.csv')"
   ]
  },
  {
   "cell_type": "code",
   "execution_count": 20,
   "metadata": {},
   "outputs": [],
   "source": [
    "from scipy.integrate import odeint\n",
    "from tqdm import tqdm\n",
    "\n",
    "def compute_values_for_x(x, P980, c1, c2, c3, c4, k31, k41, k51):\n",
    "\n",
    "    # Compute initial condition\n",
    "    y = 37 * x\n",
    "    state0 = [0, y, 0, 0, 0, 0]\n",
    "\n",
    "    # ODEs\n",
    "    t = np.arange(0.0, 0.001, 0.000001)\n",
    "\n",
    "    state = odeint(system, state0, t, args=(x, P980, c1, c2, c3, c4, k31, k41, k51))\n",
    "\n",
    "    # Compute NIR and blue_total\n",
    "    NIR = a31 * W3 * state[:, 3][-1]\n",
    "    blue_1 = a41 * W4 * state[:, 4][-1]\n",
    "    blue_2 = a52 * W5 * state[:, 5][-1]\n",
    "    blue_total = blue_1 + blue_2\n",
    "\n",
    "    return NIR, blue_total\n",
    "\n",
    "\n",
    "# x_values = [4, 6, 8, 10, 12, 15, 50]  # Range of C2 values from 2% to 40%\n"
   ]
  },
  {
   "cell_type": "code",
   "execution_count": 21,
   "metadata": {},
   "outputs": [],
   "source": [
    "p10_blue = [2.8*10**3, 4.4*10**3, 5*10**3, 6*10**3, 7.5*10**3, 9.1*10**3, 1.1*10**4, 1.4*10**4, 1.7*10**4, 2*10**4, 2.3*10**4, 2.7*10**4, 3*10**4]\n",
    "p10_nir = [1.2*10**3, 1.8*10**3, 2.8*10**3, 4.4*10**3, 5*10**3, 6*10**3, 7.5*10**3, 9.1*10**3, 1.1*10**4, 1.4*10**4, 1.7*10**4, 2*10**4, 2.3*10**4, 2.7*10**4, 3*10**4]\n",
    "p12_nir = [1.2*10**3, 1.8*10**3, 2.8*10**3, 4.4*10**3, 5*10**3, 6*10**3, 7.5*10**3, 9.1*10**3, 1.1*10**4, 1.4*10**4, 1.7*10**4, 2*10**4, 2.3*10**4, 2.7*10**4, 3*10**4]\n",
    "p12_blue = [4.4*10**3, 5*10**3, 6*10**3, 7.5*10**3, 9.1*10**3, 1.1*10**4, 1.4*10**4, 1.7*10**4, 2*10**4, 2.3*10**4, 2.7*10**4, 3*10**4]\n",
    "p15_nir = [1.2*10**3, 1.8*10**3, 2.8*10**3, 4.4*10**3, 5*10**3, 6*10**3, 7.5*10**3, 9.1*10**3, 1.1*10**4, 1.4*10**4, 1.7*10**4, 2*10**4, 2.3*10**4, 2.7*10**4, 3*10**4]\n",
    "p15_blue = [4.4*10**3, 5*10**3, 6*10**3, 7.5*10**3, 9.1*10**3, 1.1*10**4, 1.4*10**4, 1.7*10**4, 2*10**4, 2.3*10**4, 2.7*10**4, 3*10**4]\n",
    "\n",
    "power = {10: (p10_nir, p10_blue), 12: (p12_nir, p12_blue), 15: (p15_nir, p15_blue)}"
   ]
  },
  {
   "cell_type": "code",
   "execution_count": 22,
   "metadata": {},
   "outputs": [],
   "source": [
    "NIR_values = {x: [] for x in power[conc][0]}\n",
    "blue_total_values = {x: [] for x in power[conc][1]}\n",
    "\n",
    "count = 0\n",
    "for index, row in syn.iterrows():\n",
    "    c1, c2, c3, c4, k31, k41, k51 = row['c1'], row['c2'], row['c3'],row['c4'],row['k31'],row['k41'],row['k51']\n",
    "    c1, c2, c3, c4, k31, k41, k51 = 10**c1, 10**c2, 10**c3, 10**c4, 10**k31, 10**k41, 10**k51\n",
    "    for index, x in enumerate(power[conc][0]):\n",
    "        NIR, _ = compute_values_for_x(conc, x, c1, c2, c3, c4, k31, k41, k51)\n",
    "        NIR_values[x].append(NIR)\n",
    "    for index, x in enumerate(power[conc][1]):\n",
    "        _, blue = compute_values_for_x(conc, x, c1, c2, c3, c4, k31, k41, k51)\n",
    "        blue_total_values[x].append(blue)\n",
    "    # print(NIR_values[4])\n",
    "    # print(blue_total_values[4])\n",
    "    # count += 1\n",
    "    # if count >=100:\n",
    "    #     break\n"
   ]
  },
  {
   "cell_type": "code",
   "execution_count": 23,
   "metadata": {},
   "outputs": [],
   "source": [
    "nir_mean_values = [np.mean(NIR_values[x]) for x in power[conc][0]]\n",
    "nir_std_values = [np.std(NIR_values[x]) for x in power[conc][0]]\n",
    "\n",
    "blue_mean_values = [np.mean(blue_total_values[x]) for x in power[conc][1]]\n",
    "blue_std_values = [np.std(blue_total_values[x]) for x in power[conc][1]]"
   ]
  },
  {
   "cell_type": "code",
   "execution_count": 24,
   "metadata": {},
   "outputs": [
    {
     "data": {
      "text/plain": [
       "([21.999424006297303,\n",
       "  52.67889581252566,\n",
       "  141.36527984070403,\n",
       "  405.78111588102,\n",
       "  548.5120710392509,\n",
       "  835.5442512441937,\n",
       "  1346.415725390071,\n",
       "  1923.8840568591331,\n",
       "  2570.7801781547746,\n",
       "  3432.9941923811903,\n",
       "  4110.757107395738,\n",
       "  4646.70358569736,\n",
       "  5077.976369816444,\n",
       "  5535.43327698052,\n",
       "  5813.597853618158],\n",
       " [2.448473399566872,\n",
       "  5.725822298143263,\n",
       "  14.603582102836326,\n",
       "  37.527064044049695,\n",
       "  48.4500171223644,\n",
       "  68.80438607641071,\n",
       "  102.92826564259641,\n",
       "  139.90512803975716,\n",
       "  177.92277486575404,\n",
       "  221.17249214780637,\n",
       "  251.48098444917082,\n",
       "  277.6224766303525,\n",
       "  304.1542428518975,\n",
       "  342.27893291705954,\n",
       "  372.5687773648516])"
      ]
     },
     "execution_count": 24,
     "metadata": {},
     "output_type": "execute_result"
    }
   ],
   "source": [
    "nir_mean_values, nir_std_values"
   ]
  },
  {
   "cell_type": "code",
   "execution_count": 25,
   "metadata": {},
   "outputs": [
    {
     "data": {
      "text/plain": [
       "([7.037609503271139,\n",
       "  12.187523733601278,\n",
       "  26.752985590922755,\n",
       "  67.06671364064097,\n",
       "  135.9335647679737,\n",
       "  244.1205750498128,\n",
       "  442.35326507675825,\n",
       "  643.7860469785587,\n",
       "  832.6112431980391,\n",
       "  1003.933722343478,\n",
       "  1204.7848677204051,\n",
       "  1336.5929222626721],\n",
       " [0.7288930241169218,\n",
       "  1.1116142522100956,\n",
       "  1.9610780381296833,\n",
       "  3.4945108419008877,\n",
       "  4.874179065771853,\n",
       "  6.13956005342937,\n",
       "  11.457026418141558,\n",
       "  21.525446111456006,\n",
       "  33.19420944223494,\n",
       "  44.75395587978623,\n",
       "  58.885868086727314,\n",
       "  68.28831721599398])"
      ]
     },
     "execution_count": 25,
     "metadata": {},
     "output_type": "execute_result"
    }
   ],
   "source": [
    "blue_mean_values, blue_std_values"
   ]
  },
  {
   "cell_type": "code",
   "execution_count": 26,
   "metadata": {},
   "outputs": [
    {
     "data": {
      "text/plain": [
       "[21.999424006297303,\n",
       " 52.67889581252566,\n",
       " 141.36527984070403,\n",
       " 405.78111588102,\n",
       " 548.5120710392509,\n",
       " 835.5442512441937,\n",
       " 1346.415725390071,\n",
       " 1923.8840568591331,\n",
       " 2570.7801781547746,\n",
       " 3432.9941923811903,\n",
       " 4110.757107395738,\n",
       " 4646.70358569736,\n",
       " 5077.976369816444,\n",
       " 5535.43327698052,\n",
       " 5813.597853618158,\n",
       " 2.448473399566872,\n",
       " 5.725822298143263,\n",
       " 14.603582102836326,\n",
       " 37.527064044049695,\n",
       " 48.4500171223644,\n",
       " 68.80438607641071,\n",
       " 102.92826564259641,\n",
       " 139.90512803975716,\n",
       " 177.92277486575404,\n",
       " 221.17249214780637,\n",
       " 251.48098444917082,\n",
       " 277.6224766303525,\n",
       " 304.1542428518975,\n",
       " 342.27893291705954,\n",
       " 372.5687773648516,\n",
       " 5813.597853618158,\n",
       " 5535.43327698052,\n",
       " 5077.976369816444,\n",
       " 4646.70358569736,\n",
       " 4110.757107395738,\n",
       " 3432.9941923811903,\n",
       " 2570.7801781547746,\n",
       " 1923.8840568591331,\n",
       " 1346.415725390071,\n",
       " 835.5442512441937,\n",
       " 548.5120710392509,\n",
       " 405.78111588102,\n",
       " 141.36527984070403,\n",
       " 52.67889581252566,\n",
       " 21.999424006297303]"
      ]
     },
     "execution_count": 26,
     "metadata": {},
     "output_type": "execute_result"
    }
   ],
   "source": [
    "nir_mean_values + nir_std_values + nir_mean_values[::-1]"
   ]
  },
  {
   "cell_type": "code",
   "execution_count": 27,
   "metadata": {},
   "outputs": [
    {
     "data": {
      "application/vnd.plotly.v1+json": {
       "config": {
        "plotlyServerURL": "https://plot.ly"
       },
       "data": [
        {
         "mode": "lines+markers",
         "name": "Mean_NIR_Simulation",
         "type": "scatter",
         "x": [
          1200,
          1800,
          2800,
          4400,
          5000,
          6000,
          7500,
          9100,
          11000,
          14000,
          17000,
          20000,
          23000,
          27000,
          30000
         ],
         "y": [
          21.999424006297303,
          52.67889581252566,
          141.36527984070403,
          405.78111588102,
          548.5120710392509,
          835.5442512441937,
          1346.415725390071,
          1923.8840568591331,
          2570.7801781547746,
          3432.9941923811903,
          4110.757107395738,
          4646.70358569736,
          5077.976369816444,
          5535.43327698052,
          5813.597853618158
         ]
        },
        {
         "mode": "lines+markers",
         "name": "Mean_blue_Simulation",
         "type": "scatter",
         "x": [
          4400,
          5000,
          6000,
          7500,
          9100,
          11000,
          14000,
          17000,
          20000,
          23000,
          27000,
          30000
         ],
         "y": [
          7.037609503271139,
          12.187523733601278,
          26.752985590922755,
          67.06671364064097,
          135.9335647679737,
          244.1205750498128,
          442.35326507675825,
          643.7860469785587,
          832.6112431980391,
          1003.933722343478,
          1204.7848677204051,
          1336.5929222626721
         ]
        },
        {
         "fill": "toself",
         "fillcolor": "rgba(170, 68, 153, 0.2)",
         "line": {
          "color": "rgba(255,255,255,0)"
         },
         "name": "NIR_simulation",
         "type": "scatter",
         "x": [
          1200,
          1800,
          2800,
          4400,
          5000,
          6000,
          7500,
          9100,
          11000,
          14000,
          17000,
          20000,
          23000,
          27000,
          30000,
          30000,
          27000,
          23000,
          20000,
          17000,
          14000,
          11000,
          9100,
          7500,
          6000,
          5000,
          4400,
          2800,
          1800,
          1200
         ],
         "y": [
          24.447897405864175,
          58.404718110668924,
          155.96886194354036,
          443.3081799250697,
          596.9620881616154,
          904.3486373206044,
          1449.3439910326674,
          2063.78918489889,
          2748.7029530205286,
          3654.1666845289965,
          4362.238091844909,
          4924.326062327712,
          5382.130612668342,
          5877.712209897579,
          6186.16663098301,
          5441.029076253307,
          5193.1543440634605,
          4773.822126964546,
          4369.081109067008,
          3859.276122946567,
          3211.821700233384,
          2392.8574032890206,
          1783.978928819376,
          1243.4874597474745,
          766.7398651677829,
          500.06205391688655,
          368.25405183697035,
          126.7616977378677,
          46.953073514382396,
          19.55095060673043
         ]
        },
        {
         "fill": "toself",
         "fillcolor": "rgba(170, 68, 153, 0.2)",
         "line": {
          "color": "rgba(255,255,255,0)"
         },
         "name": "NIR_simulation",
         "type": "scatter",
         "x": [
          4400,
          5000,
          6000,
          7500,
          9100,
          11000,
          14000,
          17000,
          20000,
          23000,
          27000,
          30000,
          30000,
          27000,
          23000,
          20000,
          17000,
          14000,
          11000,
          9100,
          7500,
          6000,
          5000,
          4400
         ],
         "y": [
          7.766502527388061,
          13.299137985811374,
          28.71406362905244,
          70.56122448254186,
          140.80774383374555,
          250.26013510324216,
          453.8102914948998,
          665.3114930900147,
          865.8054526402741,
          1048.6876782232644,
          1263.6707358071324,
          1404.8812394786662,
          1268.304605046678,
          1145.898999633678,
          959.1797664636919,
          799.4170337558041,
          622.2606008671028,
          430.8962386586167,
          237.98101499638344,
          131.05938570220187,
          63.57220279874008,
          24.79190755279307,
          11.075909481391182,
          6.308716479154217
         ]
        },
        {
         "marker": {
          "color": "rgb(170, 68, 153)",
          "size": 10
         },
         "mode": "markers",
         "name": "NIR_exp",
         "type": "scatter",
         "x": [
          1200,
          1800,
          2800,
          4400,
          5000,
          6000,
          7500,
          9100,
          11000,
          14000,
          17000,
          20000,
          23000,
          27000,
          30000
         ],
         "y": [
          33.22567785616295,
          77.95059324802473,
          200.69080572745472,
          530.0059397776423,
          692.490287630225,
          998.7169473649466,
          1503.9589245650754,
          2046.578697392226,
          2641.4498087220168,
          3428.551189395056,
          4045.750608476273,
          4532.44010966467,
          4922.544013025742,
          5334.132525304717,
          5582.973414738005
         ]
        },
        {
         "marker": {
          "color": "#0099C6",
          "size": 10
         },
         "mode": "markers",
         "name": "Blue_exp",
         "type": "scatter",
         "x": [
          4400,
          5000,
          6000,
          7500,
          9100,
          11000,
          14000,
          17000,
          20000,
          23000,
          27000,
          30000
         ],
         "y": [
          13.39161387485596,
          22.053794685983462,
          44.32160661292917,
          98.72764740662825,
          182.9556857658817,
          307.7747158892406,
          528.3940277220916,
          748.2895781356752,
          952.3876137509807,
          1136.3799573705937,
          1350.9227301075553,
          1491.1121622400203
         ]
        }
       ],
       "layout": {
        "height": 600,
        "legend": {
         "font": {
          "family": "Arial, sans-serif",
          "size": 20
         }
        },
        "margin": {
         "b": 20,
         "l": 20,
         "r": 20,
         "t": 70
        },
        "showlegend": true,
        "template": {
         "data": {
          "bar": [
           {
            "error_x": {
             "color": "#2a3f5f"
            },
            "error_y": {
             "color": "#2a3f5f"
            },
            "marker": {
             "line": {
              "color": "#E5ECF6",
              "width": 0.5
             },
             "pattern": {
              "fillmode": "overlay",
              "size": 10,
              "solidity": 0.2
             }
            },
            "type": "bar"
           }
          ],
          "barpolar": [
           {
            "marker": {
             "line": {
              "color": "#E5ECF6",
              "width": 0.5
             },
             "pattern": {
              "fillmode": "overlay",
              "size": 10,
              "solidity": 0.2
             }
            },
            "type": "barpolar"
           }
          ],
          "carpet": [
           {
            "aaxis": {
             "endlinecolor": "#2a3f5f",
             "gridcolor": "white",
             "linecolor": "white",
             "minorgridcolor": "white",
             "startlinecolor": "#2a3f5f"
            },
            "baxis": {
             "endlinecolor": "#2a3f5f",
             "gridcolor": "white",
             "linecolor": "white",
             "minorgridcolor": "white",
             "startlinecolor": "#2a3f5f"
            },
            "type": "carpet"
           }
          ],
          "choropleth": [
           {
            "colorbar": {
             "outlinewidth": 0,
             "ticks": ""
            },
            "type": "choropleth"
           }
          ],
          "contour": [
           {
            "colorbar": {
             "outlinewidth": 0,
             "ticks": ""
            },
            "colorscale": [
             [
              0,
              "#0d0887"
             ],
             [
              0.1111111111111111,
              "#46039f"
             ],
             [
              0.2222222222222222,
              "#7201a8"
             ],
             [
              0.3333333333333333,
              "#9c179e"
             ],
             [
              0.4444444444444444,
              "#bd3786"
             ],
             [
              0.5555555555555556,
              "#d8576b"
             ],
             [
              0.6666666666666666,
              "#ed7953"
             ],
             [
              0.7777777777777778,
              "#fb9f3a"
             ],
             [
              0.8888888888888888,
              "#fdca26"
             ],
             [
              1,
              "#f0f921"
             ]
            ],
            "type": "contour"
           }
          ],
          "contourcarpet": [
           {
            "colorbar": {
             "outlinewidth": 0,
             "ticks": ""
            },
            "type": "contourcarpet"
           }
          ],
          "heatmap": [
           {
            "colorbar": {
             "outlinewidth": 0,
             "ticks": ""
            },
            "colorscale": [
             [
              0,
              "#0d0887"
             ],
             [
              0.1111111111111111,
              "#46039f"
             ],
             [
              0.2222222222222222,
              "#7201a8"
             ],
             [
              0.3333333333333333,
              "#9c179e"
             ],
             [
              0.4444444444444444,
              "#bd3786"
             ],
             [
              0.5555555555555556,
              "#d8576b"
             ],
             [
              0.6666666666666666,
              "#ed7953"
             ],
             [
              0.7777777777777778,
              "#fb9f3a"
             ],
             [
              0.8888888888888888,
              "#fdca26"
             ],
             [
              1,
              "#f0f921"
             ]
            ],
            "type": "heatmap"
           }
          ],
          "heatmapgl": [
           {
            "colorbar": {
             "outlinewidth": 0,
             "ticks": ""
            },
            "colorscale": [
             [
              0,
              "#0d0887"
             ],
             [
              0.1111111111111111,
              "#46039f"
             ],
             [
              0.2222222222222222,
              "#7201a8"
             ],
             [
              0.3333333333333333,
              "#9c179e"
             ],
             [
              0.4444444444444444,
              "#bd3786"
             ],
             [
              0.5555555555555556,
              "#d8576b"
             ],
             [
              0.6666666666666666,
              "#ed7953"
             ],
             [
              0.7777777777777778,
              "#fb9f3a"
             ],
             [
              0.8888888888888888,
              "#fdca26"
             ],
             [
              1,
              "#f0f921"
             ]
            ],
            "type": "heatmapgl"
           }
          ],
          "histogram": [
           {
            "marker": {
             "pattern": {
              "fillmode": "overlay",
              "size": 10,
              "solidity": 0.2
             }
            },
            "type": "histogram"
           }
          ],
          "histogram2d": [
           {
            "colorbar": {
             "outlinewidth": 0,
             "ticks": ""
            },
            "colorscale": [
             [
              0,
              "#0d0887"
             ],
             [
              0.1111111111111111,
              "#46039f"
             ],
             [
              0.2222222222222222,
              "#7201a8"
             ],
             [
              0.3333333333333333,
              "#9c179e"
             ],
             [
              0.4444444444444444,
              "#bd3786"
             ],
             [
              0.5555555555555556,
              "#d8576b"
             ],
             [
              0.6666666666666666,
              "#ed7953"
             ],
             [
              0.7777777777777778,
              "#fb9f3a"
             ],
             [
              0.8888888888888888,
              "#fdca26"
             ],
             [
              1,
              "#f0f921"
             ]
            ],
            "type": "histogram2d"
           }
          ],
          "histogram2dcontour": [
           {
            "colorbar": {
             "outlinewidth": 0,
             "ticks": ""
            },
            "colorscale": [
             [
              0,
              "#0d0887"
             ],
             [
              0.1111111111111111,
              "#46039f"
             ],
             [
              0.2222222222222222,
              "#7201a8"
             ],
             [
              0.3333333333333333,
              "#9c179e"
             ],
             [
              0.4444444444444444,
              "#bd3786"
             ],
             [
              0.5555555555555556,
              "#d8576b"
             ],
             [
              0.6666666666666666,
              "#ed7953"
             ],
             [
              0.7777777777777778,
              "#fb9f3a"
             ],
             [
              0.8888888888888888,
              "#fdca26"
             ],
             [
              1,
              "#f0f921"
             ]
            ],
            "type": "histogram2dcontour"
           }
          ],
          "mesh3d": [
           {
            "colorbar": {
             "outlinewidth": 0,
             "ticks": ""
            },
            "type": "mesh3d"
           }
          ],
          "parcoords": [
           {
            "line": {
             "colorbar": {
              "outlinewidth": 0,
              "ticks": ""
             }
            },
            "type": "parcoords"
           }
          ],
          "pie": [
           {
            "automargin": true,
            "type": "pie"
           }
          ],
          "scatter": [
           {
            "fillpattern": {
             "fillmode": "overlay",
             "size": 10,
             "solidity": 0.2
            },
            "type": "scatter"
           }
          ],
          "scatter3d": [
           {
            "line": {
             "colorbar": {
              "outlinewidth": 0,
              "ticks": ""
             }
            },
            "marker": {
             "colorbar": {
              "outlinewidth": 0,
              "ticks": ""
             }
            },
            "type": "scatter3d"
           }
          ],
          "scattercarpet": [
           {
            "marker": {
             "colorbar": {
              "outlinewidth": 0,
              "ticks": ""
             }
            },
            "type": "scattercarpet"
           }
          ],
          "scattergeo": [
           {
            "marker": {
             "colorbar": {
              "outlinewidth": 0,
              "ticks": ""
             }
            },
            "type": "scattergeo"
           }
          ],
          "scattergl": [
           {
            "marker": {
             "colorbar": {
              "outlinewidth": 0,
              "ticks": ""
             }
            },
            "type": "scattergl"
           }
          ],
          "scattermapbox": [
           {
            "marker": {
             "colorbar": {
              "outlinewidth": 0,
              "ticks": ""
             }
            },
            "type": "scattermapbox"
           }
          ],
          "scatterpolar": [
           {
            "marker": {
             "colorbar": {
              "outlinewidth": 0,
              "ticks": ""
             }
            },
            "type": "scatterpolar"
           }
          ],
          "scatterpolargl": [
           {
            "marker": {
             "colorbar": {
              "outlinewidth": 0,
              "ticks": ""
             }
            },
            "type": "scatterpolargl"
           }
          ],
          "scatterternary": [
           {
            "marker": {
             "colorbar": {
              "outlinewidth": 0,
              "ticks": ""
             }
            },
            "type": "scatterternary"
           }
          ],
          "surface": [
           {
            "colorbar": {
             "outlinewidth": 0,
             "ticks": ""
            },
            "colorscale": [
             [
              0,
              "#0d0887"
             ],
             [
              0.1111111111111111,
              "#46039f"
             ],
             [
              0.2222222222222222,
              "#7201a8"
             ],
             [
              0.3333333333333333,
              "#9c179e"
             ],
             [
              0.4444444444444444,
              "#bd3786"
             ],
             [
              0.5555555555555556,
              "#d8576b"
             ],
             [
              0.6666666666666666,
              "#ed7953"
             ],
             [
              0.7777777777777778,
              "#fb9f3a"
             ],
             [
              0.8888888888888888,
              "#fdca26"
             ],
             [
              1,
              "#f0f921"
             ]
            ],
            "type": "surface"
           }
          ],
          "table": [
           {
            "cells": {
             "fill": {
              "color": "#EBF0F8"
             },
             "line": {
              "color": "white"
             }
            },
            "header": {
             "fill": {
              "color": "#C8D4E3"
             },
             "line": {
              "color": "white"
             }
            },
            "type": "table"
           }
          ]
         },
         "layout": {
          "annotationdefaults": {
           "arrowcolor": "#2a3f5f",
           "arrowhead": 0,
           "arrowwidth": 1
          },
          "autotypenumbers": "strict",
          "coloraxis": {
           "colorbar": {
            "outlinewidth": 0,
            "ticks": ""
           }
          },
          "colorscale": {
           "diverging": [
            [
             0,
             "#8e0152"
            ],
            [
             0.1,
             "#c51b7d"
            ],
            [
             0.2,
             "#de77ae"
            ],
            [
             0.3,
             "#f1b6da"
            ],
            [
             0.4,
             "#fde0ef"
            ],
            [
             0.5,
             "#f7f7f7"
            ],
            [
             0.6,
             "#e6f5d0"
            ],
            [
             0.7,
             "#b8e186"
            ],
            [
             0.8,
             "#7fbc41"
            ],
            [
             0.9,
             "#4d9221"
            ],
            [
             1,
             "#276419"
            ]
           ],
           "sequential": [
            [
             0,
             "#0d0887"
            ],
            [
             0.1111111111111111,
             "#46039f"
            ],
            [
             0.2222222222222222,
             "#7201a8"
            ],
            [
             0.3333333333333333,
             "#9c179e"
            ],
            [
             0.4444444444444444,
             "#bd3786"
            ],
            [
             0.5555555555555556,
             "#d8576b"
            ],
            [
             0.6666666666666666,
             "#ed7953"
            ],
            [
             0.7777777777777778,
             "#fb9f3a"
            ],
            [
             0.8888888888888888,
             "#fdca26"
            ],
            [
             1,
             "#f0f921"
            ]
           ],
           "sequentialminus": [
            [
             0,
             "#0d0887"
            ],
            [
             0.1111111111111111,
             "#46039f"
            ],
            [
             0.2222222222222222,
             "#7201a8"
            ],
            [
             0.3333333333333333,
             "#9c179e"
            ],
            [
             0.4444444444444444,
             "#bd3786"
            ],
            [
             0.5555555555555556,
             "#d8576b"
            ],
            [
             0.6666666666666666,
             "#ed7953"
            ],
            [
             0.7777777777777778,
             "#fb9f3a"
            ],
            [
             0.8888888888888888,
             "#fdca26"
            ],
            [
             1,
             "#f0f921"
            ]
           ]
          },
          "colorway": [
           "#636efa",
           "#EF553B",
           "#00cc96",
           "#ab63fa",
           "#FFA15A",
           "#19d3f3",
           "#FF6692",
           "#B6E880",
           "#FF97FF",
           "#FECB52"
          ],
          "font": {
           "color": "#2a3f5f"
          },
          "geo": {
           "bgcolor": "white",
           "lakecolor": "white",
           "landcolor": "#E5ECF6",
           "showlakes": true,
           "showland": true,
           "subunitcolor": "white"
          },
          "hoverlabel": {
           "align": "left"
          },
          "hovermode": "closest",
          "mapbox": {
           "style": "light"
          },
          "paper_bgcolor": "white",
          "plot_bgcolor": "#E5ECF6",
          "polar": {
           "angularaxis": {
            "gridcolor": "white",
            "linecolor": "white",
            "ticks": ""
           },
           "bgcolor": "#E5ECF6",
           "radialaxis": {
            "gridcolor": "white",
            "linecolor": "white",
            "ticks": ""
           }
          },
          "scene": {
           "xaxis": {
            "backgroundcolor": "#E5ECF6",
            "gridcolor": "white",
            "gridwidth": 2,
            "linecolor": "white",
            "showbackground": true,
            "ticks": "",
            "zerolinecolor": "white"
           },
           "yaxis": {
            "backgroundcolor": "#E5ECF6",
            "gridcolor": "white",
            "gridwidth": 2,
            "linecolor": "white",
            "showbackground": true,
            "ticks": "",
            "zerolinecolor": "white"
           },
           "zaxis": {
            "backgroundcolor": "#E5ECF6",
            "gridcolor": "white",
            "gridwidth": 2,
            "linecolor": "white",
            "showbackground": true,
            "ticks": "",
            "zerolinecolor": "white"
           }
          },
          "shapedefaults": {
           "line": {
            "color": "#2a3f5f"
           }
          },
          "ternary": {
           "aaxis": {
            "gridcolor": "white",
            "linecolor": "white",
            "ticks": ""
           },
           "baxis": {
            "gridcolor": "white",
            "linecolor": "white",
            "ticks": ""
           },
           "bgcolor": "#E5ECF6",
           "caxis": {
            "gridcolor": "white",
            "linecolor": "white",
            "ticks": ""
           }
          },
          "title": {
           "x": 0.05
          },
          "xaxis": {
           "automargin": true,
           "gridcolor": "white",
           "linecolor": "white",
           "ticks": "",
           "title": {
            "standoff": 15
           },
           "zerolinecolor": "white",
           "zerolinewidth": 2
          },
          "yaxis": {
           "automargin": true,
           "gridcolor": "white",
           "linecolor": "white",
           "ticks": "",
           "title": {
            "standoff": 15
           },
           "zerolinecolor": "white",
           "zerolinewidth": 2
          }
         }
        },
        "title": {
         "font": {
          "color": "royalblue",
          "family": "Arial, sans-serif",
          "size": 24
         },
         "text": "NaYbF4: (1-x)% Yb, x% Tm",
         "x": 0.42,
         "y": 0.95
        },
        "width": 800,
        "xaxis": {
         "dtick": 2000,
         "gridcolor": "white",
         "gridwidth": 2,
         "showgrid": true,
         "tickfont": {
          "size": 14
         },
         "title": {
          "text": "Power Density (W/cm^2)"
         }
        },
        "yaxis": {
         "gridcolor": "white",
         "gridwidth": 2,
         "showgrid": true,
         "tickfont": {
          "size": 14
         },
         "title": {
          "text": "Intensity(kpps)"
         }
        }
       }
      }
     },
     "metadata": {},
     "output_type": "display_data"
    }
   ],
   "source": [
    "import json\n",
    "fig = go.Figure()\n",
    "\n",
    "# Add the main trace (mean curve)\n",
    "fig.add_trace(go.Scatter(x=power[conc][0], y=nir_mean_values, mode='lines+markers', name='Mean_NIR_Simulation'))\n",
    "fig.add_trace(go.Scatter(x=power[conc][1], y=blue_mean_values, mode='lines+markers', name='Mean_blue_Simulation'))\n",
    "\n",
    "# Add the uncertainty shade trace\n",
    "fig.add_trace(go.Scatter(\n",
    "    x=power[conc][0] + power[conc][0][::-1],\n",
    "    y=[i+j for i, j in zip(nir_mean_values,nir_std_values)] + [i-j for i, j in zip(nir_mean_values,nir_std_values)][::-1],\n",
    "    fill='toself',\n",
    "    fillcolor='rgba(170, 68, 153, 0.2)',\n",
    "    line=dict(color='rgba(255,255,255,0)'),\n",
    "    name='NIR_simulation'\n",
    "))\n",
    "\n",
    "fig.add_trace(go.Scatter(\n",
    "    x=power[conc][1] + power[conc][1][::-1],\n",
    "    y=[i+j for i, j in zip(blue_mean_values,blue_std_values)] + [i-j for i, j in zip(blue_mean_values,blue_std_values)][::-1],\n",
    "    fill='toself',\n",
    "    fillcolor='rgba(170, 68, 153, 0.2)',\n",
    "    line=dict(color='rgba(255,255,255,0)'),\n",
    "    name='NIR_simulation'\n",
    "))\n",
    "\n",
    "# exp_blue_total = [4.5*10**3, 5.7*10**3, 5.5*10**3, 3.5*10**3, 2*10**3, 1.2*10**3, 0.6*10**3]\n",
    "# exp_NIR = [5*10**3, 8.5*10**3, 6.6*10**3, 7.5*10**3, 6*10**3, 5.5*10**3, 0.6*10**3]\n",
    "# exp_sum = [i+j for i, j in zip(exp_blue_total, exp_NIR)]\n",
    "\n",
    "\n",
    "# exp_sum = [i+j for i, j in zip(exp_blue_total, exp_NIR)]\n",
    "\n",
    "# print(int(min(min(blue_mean_values)) / 1e3),\n",
    "#                             int(max(max(blue_mean_values)) / 1e3) + 1)\n",
    "\n",
    "# y_ticks = [i for i in range(int(min(blue_mean_values) / 1e3),\n",
    "#                             int(max(blue_mean_values) / 1e3) + 1)]\n",
    "\n",
    "# y_ticks = [i for i in range(int(min(min(exp_sum), min(blue_total_values)) / 1e3),\n",
    "#                             int(max(max(exp_sum), max(blue_total_values)) / 1e3) + 1)]\n",
    "\n",
    "# fig.update_yaxes(tickvals=[tick * 1e3 for tick in y_ticks],\n",
    "#                  ticktext=[f\"{tick} × 10^3\" for tick in y_ticks])\n",
    "\n",
    "\n",
    "fig.update_xaxes(title_font=dict(size=18, color='black'),tickfont=dict(size=14),showgrid=True, gridwidth=2, gridcolor='white', dtick=2000)\n",
    "fig.update_yaxes(title_font=dict(size=18, color='black'),tickfont=dict(size=14),showgrid=True, gridwidth=2, gridcolor='white')\n",
    "\n",
    "# ... Your existing layout and formatting ...\n",
    "\n",
    "fig.update_layout(\n",
    "    title_text='NaYbF4: (1-x)% Yb, x% Tm',  # Main Title\n",
    "    title_font=dict(size=24, family=\"Arial, sans-serif\", color='royalblue'),\n",
    "    width=800, height=600,\n",
    "    xaxis_title='Power Density (W/cm^2)',\n",
    "    yaxis_title='Intensity(kpps)',\n",
    "    title_x=0.42,  # Center the main title\n",
    "    title_y=0.95,  # Adjust the vertical position of the main title\n",
    "    showlegend=True, margin=dict(l=20, r=20, b=20, t=70),\n",
    "    legend=dict(\n",
    "        font=dict(\n",
    "            size=20,\n",
    "            family=\"Arial, sans-serif\"\n",
    "        )\n",
    "    )\n",
    ")\n",
    "\n",
    "with open(f'./synthetic_data/syn_{conc}.json', 'r') as f:\n",
    "    loaded_json_data = f.read()\n",
    "loaded_data = json.loads(loaded_json_data)\n",
    "exp_blue_total = loaded_data.get('blue', [])\n",
    "exp_NIR = loaded_data.get('NIR', [])\n",
    "fig.add_trace(go.Scatter(x= power[conc][0], y= exp_NIR, mode='markers', name='NIR_exp', marker=dict(color='rgb(170, 68, 153)', size=10)))\n",
    "fig.add_trace(go.Scatter(x= power[conc][1], y= exp_blue_total, mode='markers', name='Blue_exp', marker=dict(color='#0099C6', size=10)))\n",
    "\n",
    "# Show the plot\n",
    "fig.show()\n",
    "# print('hihi')"
   ]
  },
  {
   "cell_type": "code",
   "execution_count": 28,
   "metadata": {},
   "outputs": [],
   "source": [
    "truth = loaded_data.get('param', [])"
   ]
  },
  {
   "cell_type": "code",
   "execution_count": 29,
   "metadata": {},
   "outputs": [],
   "source": [
    "c1_exps = syn['c1']\n",
    "c2_exps = syn['c2']\n",
    "c3_exps = syn['c3']\n",
    "c4_exps = syn['c4']\n",
    "k31_exps = syn['k31']\n",
    "k41_exps = syn['k41']\n",
    "k51_exps = syn['k51']"
   ]
  },
  {
   "cell_type": "code",
   "execution_count": 30,
   "metadata": {},
   "outputs": [
    {
     "data": {
      "application/vnd.plotly.v1+json": {
       "config": {
        "plotlyServerURL": "https://plot.ly"
       },
       "data": [
        {
         "name": "c1_exp",
         "type": "box",
         "y": [
          2.4226982090613847,
          2.4226982090613847,
          2.4226982090613847,
          2.4226982640120527,
          2.422698269047216,
          2.422698269047216,
          2.422698269047216,
          2.422698269047216,
          2.422698269047216,
          2.422698255183572,
          2.469357579019244,
          2.469379946411536,
          2.469379946411536,
          2.469379946411536,
          2.469379946411536,
          2.469385865154753,
          2.469385865154753,
          2.469385865154753,
          2.469377274260062,
          2.469377274260062,
          2.3475518589186466,
          2.3475518589186466,
          2.3475518589186466,
          2.3475518589186466,
          2.3475518589186466,
          2.3475518589186466,
          2.3475518589186466,
          2.3475518589186466,
          2.3475518589186466,
          2.3475518589186466,
          2.4377637812168897,
          2.4377637812168897,
          2.4377637812168897,
          2.4377637816673428,
          2.437763780838687,
          2.437763780838687,
          2.437763780838687,
          2.437763780838687,
          2.437763781159153,
          2.437763781159153,
          2.401754293533448,
          2.401754293533448,
          2.401754293533448,
          2.401754293533448,
          2.401451548171387,
          2.401451548171387,
          2.401451548171387,
          2.401614201910043,
          2.401614201910043,
          2.401614201910043,
          2.499045671645661,
          2.499045671645661,
          2.499045671645661,
          2.499045671645661,
          2.499045671645661,
          2.498895983625962,
          2.498895983625962,
          2.499343456531388,
          2.499343456531388,
          2.4991673969777453,
          2.521077040786874,
          2.521077040786874,
          2.521077040786874,
          2.521077040786874,
          2.521077040786874,
          2.521077040786874,
          2.521077040786874,
          2.5210774982555018,
          2.5210774982555018,
          2.5210774982555018,
          2.4142990851080457,
          2.414199203561823,
          2.414199203561823,
          2.414392800538666,
          2.414436740292163,
          2.414436740292163,
          2.414436740292163,
          2.4142546225274986,
          2.4142546225274986,
          2.4142546225274986,
          2.5172520546057675,
          2.5172520546057675,
          2.517257650339464,
          2.517257650339464,
          2.517257650339464,
          2.5172056110529217,
          2.5172056110529217,
          2.5172056110529217,
          2.5172975598953022,
          2.5172975598953022,
          2.443262895937536,
          2.443262895937536,
          2.443262895937536,
          2.443262895937536,
          2.443262895937536,
          2.443108677974,
          2.443108677974,
          2.443108677974,
          2.4422647909850643,
          2.4422647909850643
         ]
        },
        {
         "marker": {
          "color": "red",
          "size": 10
         },
         "mode": "markers",
         "name": "Input Parameters",
         "type": "scatter",
         "x": [
          "c1_exp"
         ],
         "y": [
          2.2476613699587853
         ]
        },
        {
         "name": "c2_exp",
         "type": "box",
         "y": [
          -1.5473642312958045,
          -1.5473642312958045,
          -1.5473642312958045,
          -1.5473642320604286,
          -1.5473642325465675,
          -1.5473642325465675,
          -1.5473642325465675,
          -1.5473642325465675,
          -1.5473642325465675,
          -1.5473642313259706,
          -1.5208340632245794,
          -1.5208340681547996,
          -1.5208340681547996,
          -1.5208340681547996,
          -1.5208340681547996,
          -1.5208340706563976,
          -1.5208340706563976,
          -1.5208340706563976,
          -1.5208340720671896,
          -1.5208340720671896,
          -1.5752980852042802,
          -1.5752980852042802,
          -1.5752980852042802,
          -1.5752980852042802,
          -1.5752980852042802,
          -1.5752980852042802,
          -1.5752980852042802,
          -1.5752980852042802,
          -1.5752980852042802,
          -1.5752980852042802,
          -1.5302025793849174,
          -1.5302025793849174,
          -1.5302025793849174,
          -1.5302025795336742,
          -1.530202582601812,
          -1.530202582601812,
          -1.530202582601812,
          -1.530202582601812,
          -1.530202579817465,
          -1.530202579817465,
          -1.5700634854341269,
          -1.5700634854341269,
          -1.5700634854341269,
          -1.5700634854341269,
          -1.5700635106057663,
          -1.5700635106057663,
          -1.5700635106057663,
          -1.5700634963487563,
          -1.5700634963487563,
          -1.5700634963487563,
          -1.6316628887564997,
          -1.6316628887564997,
          -1.6316628887564997,
          -1.6316628887564997,
          -1.6316628887564997,
          -1.6314422196868985,
          -1.6314422196868985,
          -1.6315148999086662,
          -1.6315148999086662,
          -1.6347075103728503,
          -1.531970892748396,
          -1.531970892748396,
          -1.531970892748396,
          -1.531970892748396,
          -1.531970892748396,
          -1.531970892748396,
          -1.531970892748396,
          -1.5319708875620477,
          -1.5319708875620477,
          -1.5319708875620477,
          -1.554520302011372,
          -1.5545179982106698,
          -1.5545179982106698,
          -1.5545179621144165,
          -1.5545188617669767,
          -1.5545188617669767,
          -1.5545188617669767,
          -1.5545184207646685,
          -1.5545184207646685,
          -1.5545184207646685,
          -1.529647158334841,
          -1.529647158334841,
          -1.5296089060762736,
          -1.5296089060762736,
          -1.5296089060762736,
          -1.529322059850572,
          -1.529322059850572,
          -1.529322059850572,
          -1.529317548838654,
          -1.529317548838654,
          -1.6035476951183265,
          -1.6035476951183265,
          -1.6035476951183265,
          -1.6035476951183265,
          -1.6035476951183265,
          -1.6035476974087302,
          -1.6035476974087302,
          -1.6035476974087302,
          -1.6035476964313902,
          -1.6035476964313902
         ]
        },
        {
         "marker": {
          "color": "red",
          "size": 10
         },
         "mode": "markers",
         "name": "Input Parameters",
         "type": "scatter",
         "x": [
          "c2_exp"
         ],
         "y": [
          -1.5335185237890552
         ]
        },
        {
         "name": "c3_exp",
         "type": "box",
         "y": [
          0.3241027873398581,
          0.3241027873398581,
          0.3241027873398581,
          0.3241293033732797,
          0.3241304188020361,
          0.3241304188020361,
          0.3241304188020361,
          0.3241304188020361,
          0.3241304188020361,
          0.3241231010154424,
          0.2725302166403183,
          0.2724795939279745,
          0.2724795939279745,
          0.2724795939279745,
          0.2724795939279745,
          0.2725037898063795,
          0.2725037898063795,
          0.2725037898063795,
          0.272477284654179,
          0.272477284654179,
          0.4479527535146033,
          0.4479527535146033,
          0.4479527535146033,
          0.4479527535146033,
          0.4479527535146033,
          0.4479527535146033,
          0.4479527535146033,
          0.4479527535146033,
          0.4479527535146033,
          0.4479527535146033,
          0.3001666147737151,
          0.3001666147737151,
          0.3001666147737151,
          0.3001671811379151,
          0.3001663693933182,
          0.3001663693933182,
          0.3001663693933182,
          0.3001663693933182,
          0.3001664714955975,
          0.3001664714955975,
          0.465992364122401,
          0.465992364122401,
          0.465992364122401,
          0.465992364122401,
          0.465990814436429,
          0.465990814436429,
          0.465990814436429,
          0.4659907543766947,
          0.4659907543766947,
          0.4659907543766947,
          0.7117228900669645,
          0.7117228900669645,
          0.7117228900669645,
          0.7117228900669645,
          0.7117228900669645,
          0.7137861523528807,
          0.7137861523528807,
          0.7091127952268346,
          0.7091127952268346,
          0.7135962787139802,
          0.4288181715660523,
          0.4288181715660523,
          0.4288181715660523,
          0.4288181715660523,
          0.4288181715660523,
          0.4288181715660523,
          0.4288181715660523,
          0.4288182064494302,
          0.4288182064494302,
          0.4288182064494302,
          0.5168578173797274,
          0.5168581777783311,
          0.5168581777783311,
          0.5168589628820555,
          0.5168586057011865,
          0.5168586057011865,
          0.5168586057011865,
          0.5168569126575564,
          0.5168569126575564,
          0.5168569126575564,
          0.5241864458147559,
          0.5241864458147559,
          0.5241865437383795,
          0.5241865437383795,
          0.5241865437383795,
          0.5241864537661529,
          0.5241864537661529,
          0.5241864537661529,
          0.5241864482873111,
          0.5241864482873111,
          0.538221214092511,
          0.538221214092511,
          0.538221214092511,
          0.538221214092511,
          0.538221214092511,
          0.5382212052084141,
          0.5382212052084141,
          0.5382212052084141,
          0.5382211799998109,
          0.5382211799998109
         ]
        },
        {
         "marker": {
          "color": "red",
          "size": 10
         },
         "mode": "markers",
         "name": "Input Parameters",
         "type": "scatter",
         "x": [
          "c3_exp"
         ],
         "y": [
          0.37214497901439947
         ]
        },
        {
         "name": "c4_exp",
         "type": "box",
         "y": [
          2.0870602924728474,
          2.0870602924728474,
          2.0870602924728474,
          2.0791602755816294,
          2.0774192030366443,
          2.0774192030366443,
          2.0774192030366443,
          2.0774192030366443,
          2.0774192030366443,
          2.079621771300411,
          1.534756679270962,
          1.5344254070823702,
          1.5344254070823702,
          1.5344254070823702,
          1.5344254070823702,
          1.5346335933764883,
          1.5346335933764883,
          1.5346335933764883,
          1.5345387734551206,
          1.5345387734551206,
          5.909695358505933,
          5.909695358505933,
          5.909695358505933,
          5.909695358505933,
          5.909695358505933,
          5.909695358505933,
          5.909695358505933,
          5.909695358505933,
          5.909695358505933,
          5.909695358505933,
          1.5016050177895588,
          1.5016050177895588,
          1.5016050177895588,
          1.501584140921839,
          1.501293768130317,
          1.501293768130317,
          1.501293768130317,
          1.501293768130317,
          1.5015782360476797,
          1.5015782360476797,
          1.0585916277582754,
          1.0585916277582754,
          1.0585916277582754,
          1.0585916277582754,
          0.9738233942064743,
          0.9738233942064743,
          0.9738233942064743,
          0.9494843996780878,
          0.9494843996780878,
          0.9494843996780878,
          0.7969180909251103,
          0.7969180909251103,
          0.7969180909251103,
          0.7969180909251103,
          0.7969180909251103,
          0.7971464344958532,
          0.7971464344958532,
          0.8049521615796857,
          0.8049521615796857,
          0.7973675191879657,
          0.8359705148849994,
          0.8359705148849994,
          0.8359705148849994,
          0.8359705148849994,
          0.8359705148849994,
          0.8359705148849994,
          0.8359705148849994,
          0.8347161770937404,
          0.8347161770937404,
          0.8347161770937404,
          0.6475044029338639,
          0.6466456385218196,
          0.6466456385218196,
          0.6466393339409283,
          0.64676010597674,
          0.64676010597674,
          0.64676010597674,
          0.6468182853692988,
          0.6468182853692988,
          0.6468182853692988,
          -0.0715913946581535,
          -0.0715913946581535,
          -0.0709721274321367,
          -0.0709721274321367,
          -0.0709721274321367,
          -0.1060355839739955,
          -0.1060355839739955,
          -0.1060355839739955,
          -0.1248536091646065,
          -0.1248536091646065,
          0.2829299987829963,
          0.2829299987829963,
          0.2829299987829963,
          0.2829299987829963,
          0.2829299987829963,
          0.2803622786064431,
          0.2803622786064431,
          0.2803622786064431,
          0.2776883358859852,
          0.2776883358859852
         ]
        },
        {
         "marker": {
          "color": "red",
          "size": 10
         },
         "mode": "markers",
         "name": "Input Parameters",
         "type": "scatter",
         "x": [
          "c4_exp"
         ],
         "y": [
          1.3738754904537522
         ]
        },
        {
         "name": "k31_exp",
         "type": "box",
         "y": [
          -7.085193113482736,
          -7.085193113482736,
          -7.085193113482736,
          -7.257172082832094,
          -7.2433676295426785,
          -7.2433676295426785,
          -7.2433676295426785,
          -7.2433676295426785,
          -7.2433676295426785,
          -6.899318261688492,
          -4.778020381648073,
          -3.748643706526869,
          -3.748643706526869,
          -3.748643706526869,
          -3.748643706526869,
          -4.600517863325814,
          -4.600517863325814,
          -4.600517863325814,
          -3.721536458572841,
          -3.721536458572841,
          -0.856226191526538,
          -0.856226191526538,
          -0.856226191526538,
          -0.856226191526538,
          -0.856226191526538,
          -0.856226191526538,
          -0.856226191526538,
          -0.856226191526538,
          -0.856226191526538,
          -0.856226191526538,
          -5.075636276153098,
          -5.075636276153098,
          -5.075636276153098,
          -5.5470434848961885,
          -5.040405129576392,
          -5.040405129576392,
          -5.040405129576392,
          -5.040405129576392,
          -5.046511053227887,
          -5.046511053227887,
          -3.5426213016803354,
          -3.5426213016803354,
          -3.5426213016803354,
          -3.5426213016803354,
          -3.904614944720069,
          -3.904614944720069,
          -3.904614944720069,
          -3.639849409145338,
          -3.639849409145338,
          -3.639849409145338,
          -2.4955457866985244,
          -2.4955457866985244,
          -2.4955457866985244,
          -2.4955457866985244,
          -2.4955457866985244,
          -1.9604614223008885,
          -1.9604614223008885,
          -2.099688970755361,
          -2.099688970755361,
          -2.3361251907755816,
          -3.373114567677378,
          -3.373114567677378,
          -3.373114567677378,
          -3.373114567677378,
          -3.373114567677378,
          -3.373114567677378,
          -3.373114567677378,
          -3.212581675358993,
          -3.212581675358993,
          -3.212581675358993,
          -4.028459999584957,
          -3.982133994706533,
          -3.982133994706533,
          -4.032909191486514,
          -4.0431159898258,
          -4.0431159898258,
          -4.0431159898258,
          -3.925374750912475,
          -3.925374750912475,
          -3.925374750912475,
          -6.114935005706078,
          -6.114935005706078,
          -6.817420997296972,
          -6.817420997296972,
          -6.817420997296972,
          -6.69589603286674,
          -6.69589603286674,
          -6.69589603286674,
          -7.185749030363255,
          -7.185749030363255,
          -4.059492743992295,
          -4.059492743992295,
          -4.059492743992295,
          -4.059492743992295,
          -4.059492743992295,
          -3.9976178664325457,
          -3.9976178664325457,
          -3.9976178664325457,
          -3.829122076382371,
          -3.829122076382371
         ]
        },
        {
         "marker": {
          "color": "red",
          "size": 10
         },
         "mode": "markers",
         "name": "Input Parameters",
         "type": "scatter",
         "x": [
          "k31_exp"
         ],
         "y": [
          -8.951898730459568
         ]
        },
        {
         "name": "k41_exp",
         "type": "box",
         "y": [
          -4.1682526340547215,
          -4.1682526340547215,
          -4.1682526340547215,
          -4.169258683455942,
          -4.175496288747299,
          -4.175496288747299,
          -4.175496288747299,
          -4.175496288747299,
          -4.175496288747299,
          -4.179363993984492,
          1.143551328653092,
          1.1434377820869404,
          1.1434377820869404,
          1.1434377820869404,
          1.1434377820869404,
          1.1417835130352525,
          1.1417835130352525,
          1.1417835130352525,
          1.143226140962085,
          1.143226140962085,
          -0.2616084298346532,
          -0.2616084298346532,
          -0.2616084298346532,
          -0.2616084298346532,
          -0.2616084298346532,
          -0.2616084298346532,
          -0.2616084298346532,
          -0.2616084298346532,
          -0.2616084298346532,
          -0.2616084298346532,
          1.5266676669199362,
          1.5266676669199362,
          1.5266676669199362,
          1.526667864887134,
          1.5266693466077683,
          1.5266693466077683,
          1.5266693466077683,
          1.5266693466077683,
          1.5266751757240462,
          1.5266751757240462,
          1.5673141691611925,
          1.5673141691611925,
          1.5673141691611925,
          1.5673141691611925,
          1.5672743472916082,
          1.5672743472916082,
          1.5672743472916082,
          1.567091457207365,
          1.567091457207365,
          1.567091457207365,
          1.2819098647294218,
          1.2819098647294218,
          1.2819098647294218,
          1.2819098647294218,
          1.2819098647294218,
          1.2703198496987331,
          1.2703198496987331,
          1.2725185659182547,
          1.2725185659182547,
          1.2784661224843803,
          -9.683294495147983,
          -9.683294495147983,
          -9.683294495147983,
          -9.683294495147983,
          -9.683294495147983,
          -9.683294495147983,
          -9.683294495147983,
          -9.693493845468474,
          -9.693493845468474,
          -9.693493845468474,
          1.6813370849506126,
          1.681223597200797,
          1.681223597200797,
          1.68140143156361,
          1.6811863475992068,
          1.6811863475992068,
          1.6811863475992068,
          1.6812343594287185,
          1.6812343594287185,
          1.6812343594287185,
          1.5913743492070285,
          1.5913743492070285,
          1.5741273632330317,
          1.5741273632330317,
          1.5741273632330317,
          1.589107424346765,
          1.589107424346765,
          1.589107424346765,
          1.561075131044324,
          1.561075131044324,
          1.4327105899347343,
          1.4327105899347343,
          1.4327105899347343,
          1.4327105899347343,
          1.4327105899347343,
          1.4278984679592113,
          1.4278984679592113,
          1.4278984679592113,
          1.4247924983399067,
          1.4247924983399067
         ]
        },
        {
         "marker": {
          "color": "red",
          "size": 10
         },
         "mode": "markers",
         "name": "Input Parameters",
         "type": "scatter",
         "x": [
          "k41_exp"
         ],
         "y": [
          1.3048106923399783
         ]
        },
        {
         "name": "k51_exp",
         "type": "box",
         "y": [
          2.046369438118447,
          2.046369438118447,
          2.046369438118447,
          2.046371609449466,
          2.046375890743509,
          2.046375890743509,
          2.046375890743509,
          2.046375890743509,
          2.046375890743509,
          2.046314194637893,
          -0.6744435588780222,
          -0.7424538342374795,
          -0.7424538342374795,
          -0.7424538342374795,
          -0.7424538342374795,
          -0.6032666480741807,
          -0.6032666480741807,
          -0.6032666480741807,
          -0.6889331309017711,
          -0.6889331309017711,
          2.3889484986702128,
          2.3889484986702128,
          2.3889484986702128,
          2.3889484986702128,
          2.3889484986702128,
          2.3889484986702128,
          2.3889484986702128,
          2.3889484986702128,
          2.3889484986702128,
          2.3889484986702128,
          0.3294983241049063,
          0.3294983241049063,
          0.3294983241049063,
          0.32191048939656,
          0.3203148345843299,
          0.3203148345843299,
          0.3203148345843299,
          0.3203148345843299,
          0.2932181299545694,
          0.2932181299545694,
          1.9906725342558635,
          1.9906725342558635,
          1.9906725342558635,
          1.9906725342558635,
          1.981071175319603,
          1.981071175319603,
          1.981071175319603,
          2.009751734315818,
          2.009751734315818,
          2.009751734315818,
          6.819055377415253,
          6.819055377415253,
          6.819055377415253,
          6.819055377415253,
          6.819055377415253,
          6.949977610791438,
          6.949977610791438,
          9.246750915095268,
          9.246750915095268,
          7.0581133681409325,
          2.23750966965672,
          2.23750966965672,
          2.23750966965672,
          2.23750966965672,
          2.23750966965672,
          2.23750966965672,
          2.23750966965672,
          2.247345953613602,
          2.247345953613602,
          2.247345953613602,
          2.1812293312409974,
          2.185280381494312,
          2.185280381494312,
          2.1832296741447146,
          2.1822296766198037,
          2.1822296766198037,
          2.1822296766198037,
          2.180905874193158,
          2.180905874193158,
          2.180905874193158,
          1.60741840682472,
          1.60741840682472,
          2.0684002528172085,
          2.0684002528172085,
          2.0684002528172085,
          2.034631157527853,
          2.034631157527853,
          2.034631157527853,
          2.0279597878993485,
          2.0279597878993485,
          -8.925625687322633,
          -8.925625687322633,
          -8.925625687322633,
          -8.925625687322633,
          -8.925625687322633,
          -8.973406444830339,
          -8.973406444830339,
          -8.973406444830339,
          -9.28903130581045,
          -9.28903130581045
         ]
        },
        {
         "marker": {
          "color": "red",
          "size": 10
         },
         "mode": "markers",
         "name": "Input Parameters",
         "type": "scatter",
         "x": [
          "k51_exp"
         ],
         "y": [
          -1.084474034127443
         ]
        }
       ],
       "layout": {
        "height": 560,
        "template": {
         "data": {
          "bar": [
           {
            "error_x": {
             "color": "#2a3f5f"
            },
            "error_y": {
             "color": "#2a3f5f"
            },
            "marker": {
             "line": {
              "color": "#E5ECF6",
              "width": 0.5
             },
             "pattern": {
              "fillmode": "overlay",
              "size": 10,
              "solidity": 0.2
             }
            },
            "type": "bar"
           }
          ],
          "barpolar": [
           {
            "marker": {
             "line": {
              "color": "#E5ECF6",
              "width": 0.5
             },
             "pattern": {
              "fillmode": "overlay",
              "size": 10,
              "solidity": 0.2
             }
            },
            "type": "barpolar"
           }
          ],
          "carpet": [
           {
            "aaxis": {
             "endlinecolor": "#2a3f5f",
             "gridcolor": "white",
             "linecolor": "white",
             "minorgridcolor": "white",
             "startlinecolor": "#2a3f5f"
            },
            "baxis": {
             "endlinecolor": "#2a3f5f",
             "gridcolor": "white",
             "linecolor": "white",
             "minorgridcolor": "white",
             "startlinecolor": "#2a3f5f"
            },
            "type": "carpet"
           }
          ],
          "choropleth": [
           {
            "colorbar": {
             "outlinewidth": 0,
             "ticks": ""
            },
            "type": "choropleth"
           }
          ],
          "contour": [
           {
            "colorbar": {
             "outlinewidth": 0,
             "ticks": ""
            },
            "colorscale": [
             [
              0,
              "#0d0887"
             ],
             [
              0.1111111111111111,
              "#46039f"
             ],
             [
              0.2222222222222222,
              "#7201a8"
             ],
             [
              0.3333333333333333,
              "#9c179e"
             ],
             [
              0.4444444444444444,
              "#bd3786"
             ],
             [
              0.5555555555555556,
              "#d8576b"
             ],
             [
              0.6666666666666666,
              "#ed7953"
             ],
             [
              0.7777777777777778,
              "#fb9f3a"
             ],
             [
              0.8888888888888888,
              "#fdca26"
             ],
             [
              1,
              "#f0f921"
             ]
            ],
            "type": "contour"
           }
          ],
          "contourcarpet": [
           {
            "colorbar": {
             "outlinewidth": 0,
             "ticks": ""
            },
            "type": "contourcarpet"
           }
          ],
          "heatmap": [
           {
            "colorbar": {
             "outlinewidth": 0,
             "ticks": ""
            },
            "colorscale": [
             [
              0,
              "#0d0887"
             ],
             [
              0.1111111111111111,
              "#46039f"
             ],
             [
              0.2222222222222222,
              "#7201a8"
             ],
             [
              0.3333333333333333,
              "#9c179e"
             ],
             [
              0.4444444444444444,
              "#bd3786"
             ],
             [
              0.5555555555555556,
              "#d8576b"
             ],
             [
              0.6666666666666666,
              "#ed7953"
             ],
             [
              0.7777777777777778,
              "#fb9f3a"
             ],
             [
              0.8888888888888888,
              "#fdca26"
             ],
             [
              1,
              "#f0f921"
             ]
            ],
            "type": "heatmap"
           }
          ],
          "heatmapgl": [
           {
            "colorbar": {
             "outlinewidth": 0,
             "ticks": ""
            },
            "colorscale": [
             [
              0,
              "#0d0887"
             ],
             [
              0.1111111111111111,
              "#46039f"
             ],
             [
              0.2222222222222222,
              "#7201a8"
             ],
             [
              0.3333333333333333,
              "#9c179e"
             ],
             [
              0.4444444444444444,
              "#bd3786"
             ],
             [
              0.5555555555555556,
              "#d8576b"
             ],
             [
              0.6666666666666666,
              "#ed7953"
             ],
             [
              0.7777777777777778,
              "#fb9f3a"
             ],
             [
              0.8888888888888888,
              "#fdca26"
             ],
             [
              1,
              "#f0f921"
             ]
            ],
            "type": "heatmapgl"
           }
          ],
          "histogram": [
           {
            "marker": {
             "pattern": {
              "fillmode": "overlay",
              "size": 10,
              "solidity": 0.2
             }
            },
            "type": "histogram"
           }
          ],
          "histogram2d": [
           {
            "colorbar": {
             "outlinewidth": 0,
             "ticks": ""
            },
            "colorscale": [
             [
              0,
              "#0d0887"
             ],
             [
              0.1111111111111111,
              "#46039f"
             ],
             [
              0.2222222222222222,
              "#7201a8"
             ],
             [
              0.3333333333333333,
              "#9c179e"
             ],
             [
              0.4444444444444444,
              "#bd3786"
             ],
             [
              0.5555555555555556,
              "#d8576b"
             ],
             [
              0.6666666666666666,
              "#ed7953"
             ],
             [
              0.7777777777777778,
              "#fb9f3a"
             ],
             [
              0.8888888888888888,
              "#fdca26"
             ],
             [
              1,
              "#f0f921"
             ]
            ],
            "type": "histogram2d"
           }
          ],
          "histogram2dcontour": [
           {
            "colorbar": {
             "outlinewidth": 0,
             "ticks": ""
            },
            "colorscale": [
             [
              0,
              "#0d0887"
             ],
             [
              0.1111111111111111,
              "#46039f"
             ],
             [
              0.2222222222222222,
              "#7201a8"
             ],
             [
              0.3333333333333333,
              "#9c179e"
             ],
             [
              0.4444444444444444,
              "#bd3786"
             ],
             [
              0.5555555555555556,
              "#d8576b"
             ],
             [
              0.6666666666666666,
              "#ed7953"
             ],
             [
              0.7777777777777778,
              "#fb9f3a"
             ],
             [
              0.8888888888888888,
              "#fdca26"
             ],
             [
              1,
              "#f0f921"
             ]
            ],
            "type": "histogram2dcontour"
           }
          ],
          "mesh3d": [
           {
            "colorbar": {
             "outlinewidth": 0,
             "ticks": ""
            },
            "type": "mesh3d"
           }
          ],
          "parcoords": [
           {
            "line": {
             "colorbar": {
              "outlinewidth": 0,
              "ticks": ""
             }
            },
            "type": "parcoords"
           }
          ],
          "pie": [
           {
            "automargin": true,
            "type": "pie"
           }
          ],
          "scatter": [
           {
            "fillpattern": {
             "fillmode": "overlay",
             "size": 10,
             "solidity": 0.2
            },
            "type": "scatter"
           }
          ],
          "scatter3d": [
           {
            "line": {
             "colorbar": {
              "outlinewidth": 0,
              "ticks": ""
             }
            },
            "marker": {
             "colorbar": {
              "outlinewidth": 0,
              "ticks": ""
             }
            },
            "type": "scatter3d"
           }
          ],
          "scattercarpet": [
           {
            "marker": {
             "colorbar": {
              "outlinewidth": 0,
              "ticks": ""
             }
            },
            "type": "scattercarpet"
           }
          ],
          "scattergeo": [
           {
            "marker": {
             "colorbar": {
              "outlinewidth": 0,
              "ticks": ""
             }
            },
            "type": "scattergeo"
           }
          ],
          "scattergl": [
           {
            "marker": {
             "colorbar": {
              "outlinewidth": 0,
              "ticks": ""
             }
            },
            "type": "scattergl"
           }
          ],
          "scattermapbox": [
           {
            "marker": {
             "colorbar": {
              "outlinewidth": 0,
              "ticks": ""
             }
            },
            "type": "scattermapbox"
           }
          ],
          "scatterpolar": [
           {
            "marker": {
             "colorbar": {
              "outlinewidth": 0,
              "ticks": ""
             }
            },
            "type": "scatterpolar"
           }
          ],
          "scatterpolargl": [
           {
            "marker": {
             "colorbar": {
              "outlinewidth": 0,
              "ticks": ""
             }
            },
            "type": "scatterpolargl"
           }
          ],
          "scatterternary": [
           {
            "marker": {
             "colorbar": {
              "outlinewidth": 0,
              "ticks": ""
             }
            },
            "type": "scatterternary"
           }
          ],
          "surface": [
           {
            "colorbar": {
             "outlinewidth": 0,
             "ticks": ""
            },
            "colorscale": [
             [
              0,
              "#0d0887"
             ],
             [
              0.1111111111111111,
              "#46039f"
             ],
             [
              0.2222222222222222,
              "#7201a8"
             ],
             [
              0.3333333333333333,
              "#9c179e"
             ],
             [
              0.4444444444444444,
              "#bd3786"
             ],
             [
              0.5555555555555556,
              "#d8576b"
             ],
             [
              0.6666666666666666,
              "#ed7953"
             ],
             [
              0.7777777777777778,
              "#fb9f3a"
             ],
             [
              0.8888888888888888,
              "#fdca26"
             ],
             [
              1,
              "#f0f921"
             ]
            ],
            "type": "surface"
           }
          ],
          "table": [
           {
            "cells": {
             "fill": {
              "color": "#EBF0F8"
             },
             "line": {
              "color": "white"
             }
            },
            "header": {
             "fill": {
              "color": "#C8D4E3"
             },
             "line": {
              "color": "white"
             }
            },
            "type": "table"
           }
          ]
         },
         "layout": {
          "annotationdefaults": {
           "arrowcolor": "#2a3f5f",
           "arrowhead": 0,
           "arrowwidth": 1
          },
          "autotypenumbers": "strict",
          "coloraxis": {
           "colorbar": {
            "outlinewidth": 0,
            "ticks": ""
           }
          },
          "colorscale": {
           "diverging": [
            [
             0,
             "#8e0152"
            ],
            [
             0.1,
             "#c51b7d"
            ],
            [
             0.2,
             "#de77ae"
            ],
            [
             0.3,
             "#f1b6da"
            ],
            [
             0.4,
             "#fde0ef"
            ],
            [
             0.5,
             "#f7f7f7"
            ],
            [
             0.6,
             "#e6f5d0"
            ],
            [
             0.7,
             "#b8e186"
            ],
            [
             0.8,
             "#7fbc41"
            ],
            [
             0.9,
             "#4d9221"
            ],
            [
             1,
             "#276419"
            ]
           ],
           "sequential": [
            [
             0,
             "#0d0887"
            ],
            [
             0.1111111111111111,
             "#46039f"
            ],
            [
             0.2222222222222222,
             "#7201a8"
            ],
            [
             0.3333333333333333,
             "#9c179e"
            ],
            [
             0.4444444444444444,
             "#bd3786"
            ],
            [
             0.5555555555555556,
             "#d8576b"
            ],
            [
             0.6666666666666666,
             "#ed7953"
            ],
            [
             0.7777777777777778,
             "#fb9f3a"
            ],
            [
             0.8888888888888888,
             "#fdca26"
            ],
            [
             1,
             "#f0f921"
            ]
           ],
           "sequentialminus": [
            [
             0,
             "#0d0887"
            ],
            [
             0.1111111111111111,
             "#46039f"
            ],
            [
             0.2222222222222222,
             "#7201a8"
            ],
            [
             0.3333333333333333,
             "#9c179e"
            ],
            [
             0.4444444444444444,
             "#bd3786"
            ],
            [
             0.5555555555555556,
             "#d8576b"
            ],
            [
             0.6666666666666666,
             "#ed7953"
            ],
            [
             0.7777777777777778,
             "#fb9f3a"
            ],
            [
             0.8888888888888888,
             "#fdca26"
            ],
            [
             1,
             "#f0f921"
            ]
           ]
          },
          "colorway": [
           "#636efa",
           "#EF553B",
           "#00cc96",
           "#ab63fa",
           "#FFA15A",
           "#19d3f3",
           "#FF6692",
           "#B6E880",
           "#FF97FF",
           "#FECB52"
          ],
          "font": {
           "color": "#2a3f5f"
          },
          "geo": {
           "bgcolor": "white",
           "lakecolor": "white",
           "landcolor": "#E5ECF6",
           "showlakes": true,
           "showland": true,
           "subunitcolor": "white"
          },
          "hoverlabel": {
           "align": "left"
          },
          "hovermode": "closest",
          "mapbox": {
           "style": "light"
          },
          "paper_bgcolor": "white",
          "plot_bgcolor": "#E5ECF6",
          "polar": {
           "angularaxis": {
            "gridcolor": "white",
            "linecolor": "white",
            "ticks": ""
           },
           "bgcolor": "#E5ECF6",
           "radialaxis": {
            "gridcolor": "white",
            "linecolor": "white",
            "ticks": ""
           }
          },
          "scene": {
           "xaxis": {
            "backgroundcolor": "#E5ECF6",
            "gridcolor": "white",
            "gridwidth": 2,
            "linecolor": "white",
            "showbackground": true,
            "ticks": "",
            "zerolinecolor": "white"
           },
           "yaxis": {
            "backgroundcolor": "#E5ECF6",
            "gridcolor": "white",
            "gridwidth": 2,
            "linecolor": "white",
            "showbackground": true,
            "ticks": "",
            "zerolinecolor": "white"
           },
           "zaxis": {
            "backgroundcolor": "#E5ECF6",
            "gridcolor": "white",
            "gridwidth": 2,
            "linecolor": "white",
            "showbackground": true,
            "ticks": "",
            "zerolinecolor": "white"
           }
          },
          "shapedefaults": {
           "line": {
            "color": "#2a3f5f"
           }
          },
          "ternary": {
           "aaxis": {
            "gridcolor": "white",
            "linecolor": "white",
            "ticks": ""
           },
           "baxis": {
            "gridcolor": "white",
            "linecolor": "white",
            "ticks": ""
           },
           "bgcolor": "#E5ECF6",
           "caxis": {
            "gridcolor": "white",
            "linecolor": "white",
            "ticks": ""
           }
          },
          "title": {
           "x": 0.05
          },
          "xaxis": {
           "automargin": true,
           "gridcolor": "white",
           "linecolor": "white",
           "ticks": "",
           "title": {
            "standoff": 15
           },
           "zerolinecolor": "white",
           "zerolinewidth": 2
          },
          "yaxis": {
           "automargin": true,
           "gridcolor": "white",
           "linecolor": "white",
           "ticks": "",
           "title": {
            "standoff": 15
           },
           "zerolinecolor": "white",
           "zerolinewidth": 2
          }
         }
        },
        "title": {
         "font": {
          "family": "Courier New, monospace",
          "size": 24
         },
         "text": "Parameter exponents of top ten individuals",
         "x": 0.5,
         "y": 0.9
        },
        "width": 640,
        "xaxis": {
         "gridcolor": "white",
         "gridwidth": 2,
         "showgrid": true,
         "tickfont": {
          "family": "Courier New, monospace",
          "size": 22
         },
         "title": {
          "font": {
           "family": "Courier New, monospace",
           "size": 22
          },
          "text": "Seven Parameter Exponents"
         }
        },
        "yaxis": {
         "gridcolor": "white",
         "gridwidth": 2,
         "showgrid": true,
         "tickfont": {
          "family": "Courier New, monospace",
          "size": 22
         },
         "title": {
          "font": {
           "family": "Courier New, monospace",
           "size": 22
          },
          "text": "Parameter Exponent Value"
         }
        }
       }
      }
     },
     "metadata": {},
     "output_type": "display_data"
    }
   ],
   "source": [
    "fig = go.Figure()\n",
    "\n",
    "# Adding subplots for each parameter\n",
    "params = [c1_exps, c2_exps, c3_exps, c4_exps, k31_exps, k41_exps, k51_exps]\n",
    "param_names = [\"c1_exp\", \"c2_exp\", \"c3_exp\", \"c4_exp\", \"k31_exp\", \"k41_exp\", \"k51_exp\"]\n",
    "\n",
    "for param, name in zip(params, param_names):\n",
    "    fig.add_trace(go.Box(\n",
    "        y=param,\n",
    "        name=name\n",
    "    ))\n",
    "\n",
    "    truth_value = truth[param_names.index(name)]  # Assuming the order matches\n",
    "    fig.add_trace(go.Scatter(\n",
    "        x=[name],\n",
    "        y=[truth_value],\n",
    "        mode='markers',\n",
    "        marker=dict(size=10, color='red'),\n",
    "        name='Input Parameters'\n",
    "    ))\n",
    "\n",
    "fig.update_xaxes(showgrid=True, gridwidth=2, gridcolor='white')\n",
    "fig.update_yaxes(showgrid=True, gridwidth=2, gridcolor='white')\n",
    "\n",
    "fig.update_layout(\n",
    "        title=f\"Parameter exponents of top ten individuals\",\n",
    "        title_font=dict(size=24, family=\"Courier New, monospace\"),\n",
    "        title_x=0.5,  # center\n",
    "        title_y=0.9,\n",
    "        width=640, height=560,\n",
    "        yaxis_title=\"Parameter Exponent Value\",\n",
    "        xaxis_title=\"Seven Parameter Exponents\",\n",
    "        xaxis=dict(\n",
    "            title_font=dict(size=22, family=\"Courier New, monospace\"),\n",
    "            tickfont=dict(size=22, family=\"Courier New, monospace\")\n",
    "        ),\n",
    "        yaxis=dict(\n",
    "            title_font=dict(size=22, family=\"Courier New, monospace\"),\n",
    "            tickfont=dict(size=22, family=\"Courier New, monospace\")\n",
    "        )\n",
    "    )\n",
    "\n",
    "\n",
    "fig.show()"
   ]
  }
 ],
 "metadata": {
  "kernelspec": {
   "display_name": "base",
   "language": "python",
   "name": "python3"
  },
  "language_info": {
   "codemirror_mode": {
    "name": "ipython",
    "version": 3
   },
   "file_extension": ".py",
   "mimetype": "text/x-python",
   "name": "python",
   "nbconvert_exporter": "python",
   "pygments_lexer": "ipython3",
   "version": "3.11.3"
  },
  "orig_nbformat": 4
 },
 "nbformat": 4,
 "nbformat_minor": 2
}
