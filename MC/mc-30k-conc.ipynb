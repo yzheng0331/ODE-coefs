{
 "cells": [
  {
   "cell_type": "code",
   "execution_count": 1,
   "metadata": {},
   "outputs": [],
   "source": [
    "from point import Point\n",
    "from lattice import Lattice\n",
    "from simulator import Simulator\n",
    "from utils import *\n",
    "import numpy as np\n",
    "import matplotlib.pyplot as plt\n",
    "import json"
   ]
  },
  {
   "cell_type": "code",
   "execution_count": 2,
   "metadata": {},
   "outputs": [],
   "source": [
    "def conc_simulate(tag, file_path):\n",
    "\n",
    "    tm_cons = [0.2, 0.3, 0.4, 0.5]\n",
    "    powers = [3*10**4]\n",
    "\n",
    "    all_results = {}\n",
    "\n",
    "    for conc in tm_cons:\n",
    "        nirs = []\n",
    "        blues = []\n",
    "        for p in powers:\n",
    "            tag['laser'] = 5.76*(p/100)\n",
    "            lattice = Lattice(1-conc, conc, 8, 1)\n",
    "            simulator = Simulator(lattice, tag = tag)\n",
    "            t1 = 10000\n",
    "            t2 = 20000\n",
    "            nir, blue = simulator.simulate(t1, t2)\n",
    "            nir = nir*10**6\n",
    "            blue = blue*10**6\n",
    "            nirs.append(nir)\n",
    "            blues.append(blue)\n",
    "        all_results[conc] = nirs, blues\n",
    "        print(f\"Concentration{conc} is done\")\n",
    "\n",
    "    with open(file_path, 'w') as json_file:\n",
    "        json.dump(all_results, json_file, indent = 4)"
   ]
  },
  {
   "cell_type": "code",
   "execution_count": 3,
   "metadata": {},
   "outputs": [
    {
     "name": "stderr",
     "output_type": "stream",
     "text": [
      "100%|██████████| 3401/3401 [00:04<00:00, 720.74it/s]\n",
      "100%|██████████| 3401/3401 [00:04<00:00, 755.09it/s]\n",
      "100%|██████████| 3401/3401 [00:04<00:00, 748.56it/s]\n",
      "100%|██████████| 10000/10000 [03:01<00:00, 55.14it/s]\n",
      "100%|██████████| 10000/10000 [03:02<00:00, 54.83it/s]\n"
     ]
    },
    {
     "name": "stdout",
     "output_type": "stream",
     "text": [
      "Concentration0.2 is done\n"
     ]
    },
    {
     "name": "stderr",
     "output_type": "stream",
     "text": [
      "100%|██████████| 3401/3401 [00:04<00:00, 735.26it/s]\n",
      "100%|██████████| 3401/3401 [00:04<00:00, 744.61it/s]\n",
      "100%|██████████| 3401/3401 [00:04<00:00, 741.39it/s]\n",
      "100%|██████████| 10000/10000 [03:02<00:00, 54.91it/s]\n",
      "100%|██████████| 10000/10000 [03:03<00:00, 54.46it/s]\n"
     ]
    },
    {
     "name": "stdout",
     "output_type": "stream",
     "text": [
      "Concentration0.3 is done\n"
     ]
    },
    {
     "name": "stderr",
     "output_type": "stream",
     "text": [
      "100%|██████████| 3401/3401 [00:04<00:00, 740.54it/s]\n",
      "100%|██████████| 3401/3401 [00:04<00:00, 741.14it/s]\n",
      "100%|██████████| 3401/3401 [00:04<00:00, 724.42it/s]\n",
      "100%|██████████| 10000/10000 [03:09<00:00, 52.81it/s]\n",
      "100%|██████████| 10000/10000 [03:14<00:00, 51.52it/s]\n"
     ]
    },
    {
     "name": "stdout",
     "output_type": "stream",
     "text": [
      "Concentration0.4 is done\n"
     ]
    },
    {
     "name": "stderr",
     "output_type": "stream",
     "text": [
      "100%|██████████| 3402/3402 [00:04<00:00, 727.56it/s]\n",
      "100%|██████████| 3402/3402 [00:04<00:00, 735.11it/s]\n",
      "100%|██████████| 3402/3402 [00:04<00:00, 721.04it/s]\n",
      "100%|██████████| 10000/10000 [03:22<00:00, 49.49it/s]\n",
      "100%|██████████| 10000/10000 [03:29<00:00, 47.71it/s]\n"
     ]
    },
    {
     "name": "stdout",
     "output_type": "stream",
     "text": [
      "Concentration0.5 is done\n"
     ]
    }
   ],
   "source": [
    "tag_default={'c0':9.836061666666665e-40, # Yb-Yb resonant energy transfer\n",
    "             'c1':8.823270689202585e-42,'c2':2.824326729780273e-42,'c3':2.510909737310349e-41,'c4':2.5507997193509964e-42,\n",
    "             'k31':2.0458454593341336e-41,'k41':7.299896312979955e-42,'k51':1.2897342736133983e-41,\n",
    "        'Ws':1000,\n",
    "        'W10':125.48935641249709,\n",
    "        'W21':3.318715560788497 + 149977.8404029679,'W20':176.99746253145912 + 50.01921044404302,\n",
    "        'W32':34.206376660350635 + 7.407650126658919,'W31':66.54090079350377,'W30':778.6223334161804,\n",
    "        'W43':1000.49241968088766640 + 1768677.8208097615,'W42':146.53082969740504,'W41':258.72754779151234 + 58.98152867828142,'W40':1725.685918453449,\n",
    "        'W54':0.013601242611778256 + 0.017876416530239997 + 156605871.04362732,'W53':5.142484506889417 + 230669.86963087242,'W52':192.81631278900016,'W51':362.10251583753916,'W50':548.8209590762159,\n",
    "        'W65':12.27244074045102,'W64':10045.2434631327987160,'W63':23.045067137896037,'W62':494.8335554945873,'W61':790.6119449426245,'W60':612.1894036274351,\n",
    "        'W76':95.08404006966971,'W75':686.9558866118873,'W74':488.5169554820362,'W73':2125.9773631820567,'W72':94.77917251652532,'W71':2862.4113298030165,'W70':7073.7489463917145,\n",
    "        'MPR21':0,'MPR43':0,\n",
    "        'laser': 0}\n",
    "\n",
    "conc_simulate(tag_default, \"try2.json\")"
   ]
  }
 ],
 "metadata": {
  "kernelspec": {
   "display_name": "base",
   "language": "python",
   "name": "python3"
  },
  "language_info": {
   "codemirror_mode": {
    "name": "ipython",
    "version": 3
   },
   "file_extension": ".py",
   "mimetype": "text/x-python",
   "name": "python",
   "nbconvert_exporter": "python",
   "pygments_lexer": "ipython3",
   "version": "3.10.9"
  },
  "orig_nbformat": 4
 },
 "nbformat": 4,
 "nbformat_minor": 2
}
