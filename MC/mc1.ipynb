{
 "cells": [
  {
   "cell_type": "code",
   "execution_count": 1,
   "metadata": {},
   "outputs": [
    {
     "name": "stdout",
     "output_type": "stream",
     "text": [
      "0 1\n",
      "([(0, 0, -1), (0, 0, 0), (0, 0, 1)], [], 0)\n"
     ]
    }
   ],
   "source": [
    "from lattice import *"
   ]
  },
  {
   "cell_type": "code",
   "execution_count": 2,
   "metadata": {},
   "outputs": [],
   "source": [
    "%matplotlib inline"
   ]
  },
  {
   "cell_type": "code",
   "execution_count": 3,
   "metadata": {},
   "outputs": [],
   "source": [
    "import numpy as np\n",
    "import matplotlib.pyplot as plt\n",
    "\n",
    "# once we input the configurations, then we can get the total information of the system\n",
    "\n",
    "def plot_distributions(points):\n",
    "\n",
    "    # Create a list of all types and values for easier plotting\n",
    "    all_types = [point[0] for point in points]\n",
    "    all_values_A = [point[2] for point in points if point[0] == 'Yb']\n",
    "    all_values_B = [point[2] for point in points if point[0] == 'Tm']\n",
    "\n",
    "    plt.figure(figsize=(15, 5))\n",
    "\n",
    "    # Plotting distribution of A, B, C using bar plot\n",
    "\n",
    "    # 1 row, 3 columns, 1st plot\n",
    "\n",
    "    plt.subplot(1, 3, 1)\n",
    "    labels, counts = np.unique(all_types, return_counts=True)\n",
    "    counts_tmp = dict(zip(labels, counts))\n",
    "    counts_tmp['Y'] = counts_tmp.setdefault('Y', 0)\n",
    "\n",
    "    bars = plt.bar(['Yb', 'Tm', 'Y'], [counts_tmp['Yb'], counts_tmp['Tm'], counts_tmp['Y']], color=['blue', 'pink', 'green'], width=0.4)\n",
    "    plt.ylabel('Count',fontsize=18)\n",
    "    plt.title('Distribution of three types',fontsize=18)\n",
    "    plt.xticks(['Yb', 'Tm', 'Y'], ['Sensitizers', 'Emitters', 'Others'],fontsize=16)\n",
    "    for bar in bars:\n",
    "        yval = bar.get_height()\n",
    "        plt.text(bar.get_x() + bar.get_width()/2, yval + 5, yval, ha='center', va='bottom')\n",
    "\n",
    "    # Plotting value distribution for type A using histogram\n",
    "\n",
    "    # 1 row, 3 columns, 2nd plot\n",
    "    plt.subplot(1, 3, 2)\n",
    "    counts, bins, patches = plt.hist(all_values_A, bins=[0, 1, 2], align='left', rwidth=0.4, color='blue')\n",
    "    plt.ylabel('Count',fontsize=18)\n",
    "    plt.title('Value distribution for sensitizers',fontsize=18)\n",
    "    plt.xticks([0, 1], ['0(Ground state)', '1(Excited state)'],fontsize=16)\n",
    "    for count, bin, patch in zip(counts, bins, patches):\n",
    "        plt.text(bin + 0.01, count + 1, int(count), ha='center', va='bottom')\n",
    "\n",
    "    # Plotting value distribution for type B using histogram\n",
    "\n",
    "\n",
    "    # 1 row, 3 columns, 3rd plot\n",
    "    plt.subplot(1, 3, 3)\n",
    "    counts, bins, patches = plt.hist(all_values_B, bins=[2, 3, 4, 5, 6, 7], align='left', rwidth=0.4, color='pink')\n",
    "\n",
    "    plt.ylabel('Count',fontsize=18)\n",
    "    plt.title('Value distribution for emitters',fontsize=18)\n",
    "    plt.xticks([2, 3, 4, 5, 6], ['G', '1st', '2nd', '3rd', '4th'],fontsize=16)\n",
    "    for count, bin, patch in zip(counts, bins, patches):\n",
    "        plt.text(bin + 0.01, count + 1, int(count), ha='center', va='bottom')\n",
    "\n",
    "    plt.tight_layout()\n",
    "    plt.show()\n",
    "\n",
    "# Example usage:\n",
    "# Assuming points list is defined already\n",
    "# plot_distributions(points)\n"
   ]
  },
  {
   "cell_type": "code",
   "execution_count": 8,
   "metadata": {},
   "outputs": [
    {
     "name": "stdout",
     "output_type": "stream",
     "text": [
      "2 4\n"
     ]
    }
   ],
   "source": [
    "na_points, y_points, n_points = new_lattice(0.5, 0.5, 3)"
   ]
  },
  {
   "cell_type": "code",
   "execution_count": 5,
   "metadata": {},
   "outputs": [
    {
     "data": {
      "text/plain": [
       "[['Tm', (-3.5, -0.5, -2.5), 2],\n",
       " ['Tm', (-3.5, -0.5, -1.5), 2],\n",
       " ['Yb', (-3.5, -0.5, -0.5), 0],\n",
       " ['Yb', (-3.5, -0.5, 0.5), 0],\n",
       " ['Tm', (-3.5, -0.5, 1.5), 2],\n",
       " ['Yb', (-3.5, -0.5, 2.5), 0],\n",
       " ['Yb', (-3.5, 0.5, -3.5), 0],\n",
       " ['Tm', (-3.5, 0.5, -2.5), 2],\n",
       " ['Tm', (-3.5, 0.5, -1.5), 2],\n",
       " ['Tm', (-3.5, 0.5, -0.5), 2],\n",
       " ['Tm', (-3.5, 0.5, 0.5), 2],\n",
       " ['Tm', (-3.5, 0.5, 1.5), 2],\n",
       " ['Yb', (-3.5, 0.5, 2.5), 0],\n",
       " ['Tm', (-3.5, 0.5, 3.5), 2],\n",
       " ['Yb', (-3.5, 1.5, -4.5), 0],\n",
       " ['Yb', (-3.5, 1.5, -3.5), 0],\n",
       " ['Tm', (-3.5, 1.5, -2.5), 2],\n",
       " ['Yb', (-3.5, 1.5, -1.5), 1],\n",
       " ['Yb', (-3.5, 1.5, -0.5), 1],\n",
       " ['Yb', (-3.5, 1.5, 0.5), 0],\n",
       " ['Tm', (-3.5, 1.5, 1.5), 2],\n",
       " ['Yb', (-3.5, 1.5, 2.5), 1],\n",
       " ['Tm', (-3.5, 1.5, 3.5), 2],\n",
       " ['Tm', (-3.5, 1.5, 4.5), 2],\n",
       " ['Tm', (-3.5, 2.5, -4.5), 2],\n",
       " ['Yb', (-3.5, 2.5, -3.5), 0],\n",
       " ['Tm', (-3.5, 2.5, -2.5), 2],\n",
       " ['Yb', (-3.5, 2.5, -1.5), 0],\n",
       " ['Tm', (-3.5, 2.5, -0.5), 2],\n",
       " ['Yb', (-3.5, 2.5, 0.5), 0],\n",
       " ['Yb', (-3.5, 2.5, 1.5), 0],\n",
       " ['Yb', (-3.5, 2.5, 2.5), 0],\n",
       " ['Yb', (-3.5, 2.5, 3.5), 0],\n",
       " ['Yb', (-3.5, 2.5, 4.5), 1],\n",
       " ['Yb', (-3.5, 3.5, -3.5), 0],\n",
       " ['Yb', (-3.5, 3.5, -2.5), 1],\n",
       " ['Yb', (-3.5, 3.5, -1.5), 0],\n",
       " ['Yb', (-3.5, 3.5, -0.5), 1],\n",
       " ['Yb', (-3.5, 3.5, 0.5), 0],\n",
       " ['Tm', (-3.5, 3.5, 1.5), 2],\n",
       " ['Yb', (-3.5, 3.5, 2.5), 0],\n",
       " ['Tm', (-3.5, 3.5, 3.5), 2],\n",
       " ['Yb', (-3.5, 4.5, -1.5), 1],\n",
       " ['Yb', (-3.5, 4.5, -0.5), 0],\n",
       " ['Yb', (-3.5, 4.5, 0.5), 0],\n",
       " ['Tm', (-3.5, 4.5, 1.5), 2],\n",
       " ['Yb', (-2.5, -1.5, -3.5), 1],\n",
       " ['Tm', (-2.5, -1.5, -2.5), 2],\n",
       " ['Tm', (-2.5, -1.5, -1.5), 2],\n",
       " ['Yb', (-2.5, -1.5, -0.5), 0],\n",
       " ['Tm', (-2.5, -1.5, 0.5), 2],\n",
       " ['Yb', (-2.5, -1.5, 1.5), 1],\n",
       " ['Tm', (-2.5, -1.5, 2.5), 2],\n",
       " ['Yb', (-2.5, -1.5, 3.5), 0],\n",
       " ['Tm', (-2.5, -0.5, -4.5), 2],\n",
       " ['Yb', (-2.5, -0.5, -3.5), 0],\n",
       " ['Tm', (-2.5, -0.5, -2.5), 2],\n",
       " ['Tm', (-2.5, -0.5, -1.5), 2],\n",
       " ['Yb', (-2.5, -0.5, -0.5), 0],\n",
       " ['Tm', (-2.5, -0.5, 0.5), 2],\n",
       " ['Yb', (-2.5, -0.5, 1.5), 0],\n",
       " ['Tm', (-2.5, -0.5, 2.5), 2],\n",
       " ['Yb', (-2.5, -0.5, 3.5), 0],\n",
       " ['Tm', (-2.5, -0.5, 4.5), 2],\n",
       " ['Tm', (-2.5, 0.5, -5.5), 2],\n",
       " ['Yb', (-2.5, 0.5, -4.5), 0],\n",
       " ['Yb', (-2.5, 0.5, -3.5), 0],\n",
       " ['Tm', (-2.5, 0.5, -2.5), 2],\n",
       " ['Yb', (-2.5, 0.5, -1.5), 0],\n",
       " ['Tm', (-2.5, 0.5, -0.5), 2],\n",
       " ['Yb', (-2.5, 0.5, 0.5), 1],\n",
       " ['Yb', (-2.5, 0.5, 1.5), 0],\n",
       " ['Yb', (-2.5, 0.5, 2.5), 0],\n",
       " ['Tm', (-2.5, 0.5, 3.5), 2],\n",
       " ['Yb', (-2.5, 0.5, 4.5), 1],\n",
       " ['Yb', (-2.5, 0.5, 5.5), 0],\n",
       " ['Tm', (-2.5, 1.5, -5.5), 2],\n",
       " ['Yb', (-2.5, 1.5, -4.5), 0],\n",
       " ['Yb', (-2.5, 1.5, -3.5), 0],\n",
       " ['Tm', (-2.5, 1.5, -2.5), 2],\n",
       " ['Yb', (-2.5, 1.5, -1.5), 0],\n",
       " ['Yb', (-2.5, 1.5, -0.5), 1],\n",
       " ['Yb', (-2.5, 1.5, 0.5), 0],\n",
       " ['Tm', (-2.5, 1.5, 1.5), 2],\n",
       " ['Yb', (-2.5, 1.5, 2.5), 0],\n",
       " ['Tm', (-2.5, 1.5, 3.5), 2],\n",
       " ['Yb', (-2.5, 1.5, 4.5), 0],\n",
       " ['Tm', (-2.5, 1.5, 5.5), 2],\n",
       " ['Yb', (-2.5, 2.5, -5.5), 0],\n",
       " ['Yb', (-2.5, 2.5, -4.5), 0],\n",
       " ['Yb', (-2.5, 2.5, -3.5), 0],\n",
       " ['Tm', (-2.5, 2.5, -2.5), 2],\n",
       " ['Yb', (-2.5, 2.5, -1.5), 0],\n",
       " ['Yb', (-2.5, 2.5, -0.5), 0],\n",
       " ['Yb', (-2.5, 2.5, 0.5), 1],\n",
       " ['Tm', (-2.5, 2.5, 1.5), 2],\n",
       " ['Yb', (-2.5, 2.5, 2.5), 0],\n",
       " ['Yb', (-2.5, 2.5, 3.5), 0],\n",
       " ['Tm', (-2.5, 2.5, 4.5), 2],\n",
       " ['Tm', (-2.5, 2.5, 5.5), 2],\n",
       " ['Yb', (-2.5, 3.5, -4.5), 0],\n",
       " ['Tm', (-2.5, 3.5, -3.5), 2],\n",
       " ['Tm', (-2.5, 3.5, -2.5), 2],\n",
       " ['Yb', (-2.5, 3.5, -1.5), 1],\n",
       " ['Tm', (-2.5, 3.5, -0.5), 2],\n",
       " ['Yb', (-2.5, 3.5, 0.5), 0],\n",
       " ['Tm', (-2.5, 3.5, 1.5), 2],\n",
       " ['Yb', (-2.5, 3.5, 2.5), 1],\n",
       " ['Yb', (-2.5, 3.5, 3.5), 0],\n",
       " ['Tm', (-2.5, 3.5, 4.5), 2],\n",
       " ['Tm', (-2.5, 4.5, -2.5), 2],\n",
       " ['Yb', (-2.5, 4.5, -1.5), 0],\n",
       " ['Tm', (-2.5, 4.5, -0.5), 2],\n",
       " ['Tm', (-2.5, 4.5, 0.5), 2],\n",
       " ['Tm', (-2.5, 4.5, 1.5), 2],\n",
       " ['Tm', (-2.5, 4.5, 2.5), 2],\n",
       " ['Yb', (-1.5, -2.5, -3.5), 0],\n",
       " ['Tm', (-1.5, -2.5, -2.5), 2],\n",
       " ['Tm', (-1.5, -2.5, -1.5), 2],\n",
       " ['Yb', (-1.5, -2.5, -0.5), 0],\n",
       " ['Yb', (-1.5, -2.5, 0.5), 0],\n",
       " ['Tm', (-1.5, -2.5, 1.5), 2],\n",
       " ['Yb', (-1.5, -2.5, 2.5), 0],\n",
       " ['Yb', (-1.5, -2.5, 3.5), 0],\n",
       " ['Tm', (-1.5, -1.5, -5.5), 2],\n",
       " ['Yb', (-1.5, -1.5, -4.5), 0],\n",
       " ['Tm', (-1.5, -1.5, -3.5), 2],\n",
       " ['Yb', (-1.5, -1.5, -2.5), 0],\n",
       " ['Yb', (-1.5, -1.5, -1.5), 0],\n",
       " ['Yb', (-1.5, -1.5, -0.5), 0],\n",
       " ['Tm', (-1.5, -1.5, 0.5), 2],\n",
       " ['Tm', (-1.5, -1.5, 1.5), 2],\n",
       " ['Tm', (-1.5, -1.5, 2.5), 2],\n",
       " ['Tm', (-1.5, -1.5, 3.5), 2],\n",
       " ['Yb', (-1.5, -1.5, 4.5), 0],\n",
       " ['Yb', (-1.5, -1.5, 5.5), 0],\n",
       " ['Tm', (-1.5, -0.5, -5.5), 2],\n",
       " ['Yb', (-1.5, -0.5, -4.5), 0],\n",
       " ['Yb', (-1.5, -0.5, -3.5), 0],\n",
       " ['Yb', (-1.5, -0.5, -2.5), 0],\n",
       " ['Yb', (-1.5, -0.5, -1.5), 1],\n",
       " ['Tm', (-1.5, -0.5, -0.5), 2],\n",
       " ['Yb', (-1.5, -0.5, 0.5), 0],\n",
       " ['Yb', (-1.5, -0.5, 1.5), 0],\n",
       " ['Tm', (-1.5, -0.5, 2.5), 2],\n",
       " ['Tm', (-1.5, -0.5, 3.5), 2],\n",
       " ['Tm', (-1.5, -0.5, 4.5), 2],\n",
       " ['Yb', (-1.5, -0.5, 5.5), 1],\n",
       " ['Tm', (-1.5, 0.5, -6.5), 2],\n",
       " ['Yb', (-1.5, 0.5, -5.5), 0],\n",
       " ['Yb', (-1.5, 0.5, -4.5), 0],\n",
       " ['Tm', (-1.5, 0.5, -3.5), 2],\n",
       " ['Yb', (-1.5, 0.5, -2.5), 0],\n",
       " ['Yb', (-1.5, 0.5, -1.5), 0],\n",
       " ['Yb', (-1.5, 0.5, -0.5), 0],\n",
       " ['Yb', (-1.5, 0.5, 0.5), 0],\n",
       " ['Tm', (-1.5, 0.5, 1.5), 2],\n",
       " ['Yb', (-1.5, 0.5, 2.5), 0],\n",
       " ['Yb', (-1.5, 0.5, 3.5), 0],\n",
       " ['Yb', (-1.5, 0.5, 4.5), 0],\n",
       " ['Yb', (-1.5, 0.5, 5.5), 0],\n",
       " ['Tm', (-1.5, 0.5, 6.5), 2],\n",
       " ['Yb', (-1.5, 1.5, -6.5), 1],\n",
       " ['Tm', (-1.5, 1.5, -5.5), 2],\n",
       " ['Yb', (-1.5, 1.5, -4.5), 0],\n",
       " ['Yb', (-1.5, 1.5, -3.5), 0],\n",
       " ['Yb', (-1.5, 1.5, -2.5), 1],\n",
       " ['Tm', (-1.5, 1.5, -1.5), 2],\n",
       " ['Yb', (-1.5, 1.5, -0.5), 0],\n",
       " ['Tm', (-1.5, 1.5, 0.5), 2],\n",
       " ['Tm', (-1.5, 1.5, 1.5), 2],\n",
       " ['Yb', (-1.5, 1.5, 2.5), 0],\n",
       " ['Yb', (-1.5, 1.5, 3.5), 0],\n",
       " ['Yb', (-1.5, 1.5, 4.5), 0],\n",
       " ['Yb', (-1.5, 1.5, 5.5), 0],\n",
       " ['Tm', (-1.5, 1.5, 6.5), 2],\n",
       " ['Tm', (-1.5, 2.5, -5.5), 2],\n",
       " ['Yb', (-1.5, 2.5, -4.5), 1],\n",
       " ['Tm', (-1.5, 2.5, -3.5), 2],\n",
       " ['Tm', (-1.5, 2.5, -2.5), 2],\n",
       " ['Yb', (-1.5, 2.5, -1.5), 0],\n",
       " ['Yb', (-1.5, 2.5, -0.5), 0],\n",
       " ['Yb', (-1.5, 2.5, 0.5), 0],\n",
       " ['Tm', (-1.5, 2.5, 1.5), 2],\n",
       " ['Tm', (-1.5, 2.5, 2.5), 2],\n",
       " ['Yb', (-1.5, 2.5, 3.5), 0],\n",
       " ['Yb', (-1.5, 2.5, 4.5), 0],\n",
       " ['Yb', (-1.5, 2.5, 5.5), 0],\n",
       " ['Tm', (-1.5, 3.5, -4.5), 2],\n",
       " ['Tm', (-1.5, 3.5, -3.5), 2],\n",
       " ['Tm', (-1.5, 3.5, -2.5), 2],\n",
       " ['Tm', (-1.5, 3.5, -1.5), 2],\n",
       " ['Yb', (-1.5, 3.5, -0.5), 0],\n",
       " ['Yb', (-1.5, 3.5, 0.5), 0],\n",
       " ['Tm', (-1.5, 3.5, 1.5), 2],\n",
       " ['Yb', (-1.5, 3.5, 2.5), 0],\n",
       " ['Tm', (-1.5, 3.5, 3.5), 2],\n",
       " ['Yb', (-1.5, 3.5, 4.5), 0],\n",
       " ['Yb', (-1.5, 4.5, -1.5), 0],\n",
       " ['Tm', (-1.5, 4.5, -0.5), 2],\n",
       " ['Tm', (-1.5, 4.5, 0.5), 2],\n",
       " ['Tm', (-1.5, 4.5, 1.5), 2],\n",
       " ['Tm', (-0.5, -3.5, -2.5), 2],\n",
       " ['Yb', (-0.5, -3.5, -1.5), 0],\n",
       " ['Tm', (-0.5, -3.5, -0.5), 2],\n",
       " ['Yb', (-0.5, -3.5, 0.5), 0],\n",
       " ['Tm', (-0.5, -3.5, 1.5), 2],\n",
       " ['Tm', (-0.5, -3.5, 2.5), 2],\n",
       " ['Tm', (-0.5, -2.5, -4.5), 2],\n",
       " ['Tm', (-0.5, -2.5, -3.5), 2],\n",
       " ['Yb', (-0.5, -2.5, -2.5), 0],\n",
       " ['Yb', (-0.5, -2.5, -1.5), 0],\n",
       " ['Tm', (-0.5, -2.5, -0.5), 2],\n",
       " ['Tm', (-0.5, -2.5, 0.5), 2],\n",
       " ['Tm', (-0.5, -2.5, 1.5), 2],\n",
       " ['Yb', (-0.5, -2.5, 2.5), 0],\n",
       " ['Tm', (-0.5, -2.5, 3.5), 2],\n",
       " ['Yb', (-0.5, -2.5, 4.5), 0],\n",
       " ['Yb', (-0.5, -1.5, -5.5), 0],\n",
       " ['Tm', (-0.5, -1.5, -4.5), 2],\n",
       " ['Tm', (-0.5, -1.5, -3.5), 2],\n",
       " ['Tm', (-0.5, -1.5, -2.5), 2],\n",
       " ['Tm', (-0.5, -1.5, -1.5), 2],\n",
       " ['Yb', (-0.5, -1.5, -0.5), 0],\n",
       " ['Tm', (-0.5, -1.5, 0.5), 2],\n",
       " ['Yb', (-0.5, -1.5, 1.5), 0],\n",
       " ['Tm', (-0.5, -1.5, 2.5), 2],\n",
       " ['Yb', (-0.5, -1.5, 3.5), 1],\n",
       " ['Yb', (-0.5, -1.5, 4.5), 0],\n",
       " ['Yb', (-0.5, -1.5, 5.5), 0],\n",
       " ['Yb', (-0.5, -0.5, -6.5), 1],\n",
       " ['Yb', (-0.5, -0.5, -5.5), 0],\n",
       " ['Yb', (-0.5, -0.5, -4.5), 0],\n",
       " ['Yb', (-0.5, -0.5, -3.5), 0],\n",
       " ['Yb', (-0.5, -0.5, -2.5), 0],\n",
       " ['Yb', (-0.5, -0.5, -1.5), 1],\n",
       " ['Tm', (-0.5, -0.5, -0.5), 2],\n",
       " ['Tm', (-0.5, -0.5, 0.5), 2],\n",
       " ['Tm', (-0.5, -0.5, 1.5), 2],\n",
       " ['Tm', (-0.5, -0.5, 2.5), 2],\n",
       " ['Tm', (-0.5, -0.5, 3.5), 2],\n",
       " ['Yb', (-0.5, -0.5, 4.5), 0],\n",
       " ['Tm', (-0.5, -0.5, 5.5), 2],\n",
       " ['Tm', (-0.5, -0.5, 6.5), 2],\n",
       " ['Yb', (-0.5, 0.5, -6.5), 0],\n",
       " ['Yb', (-0.5, 0.5, -5.5), 1],\n",
       " ['Tm', (-0.5, 0.5, -4.5), 2],\n",
       " ['Tm', (-0.5, 0.5, -3.5), 2],\n",
       " ['Tm', (-0.5, 0.5, -2.5), 2],\n",
       " ['Tm', (-0.5, 0.5, -1.5), 2],\n",
       " ['Tm', (-0.5, 0.5, -0.5), 2],\n",
       " ['Tm', (-0.5, 0.5, 0.5), 2],\n",
       " ['Yb', (-0.5, 0.5, 1.5), 1],\n",
       " ['Yb', (-0.5, 0.5, 2.5), 0],\n",
       " ['Tm', (-0.5, 0.5, 3.5), 2],\n",
       " ['Tm', (-0.5, 0.5, 4.5), 2],\n",
       " ['Tm', (-0.5, 0.5, 5.5), 2],\n",
       " ['Yb', (-0.5, 0.5, 6.5), 0],\n",
       " ['Tm', (-0.5, 1.5, -6.5), 2],\n",
       " ['Tm', (-0.5, 1.5, -5.5), 2],\n",
       " ['Yb', (-0.5, 1.5, -4.5), 0],\n",
       " ['Yb', (-0.5, 1.5, -3.5), 0],\n",
       " ['Tm', (-0.5, 1.5, -2.5), 2],\n",
       " ['Yb', (-0.5, 1.5, -1.5), 0],\n",
       " ['Tm', (-0.5, 1.5, -0.5), 2],\n",
       " ['Yb', (-0.5, 1.5, 0.5), 0],\n",
       " ['Tm', (-0.5, 1.5, 1.5), 2],\n",
       " ['Tm', (-0.5, 1.5, 2.5), 2],\n",
       " ['Tm', (-0.5, 1.5, 3.5), 2],\n",
       " ['Yb', (-0.5, 1.5, 4.5), 0],\n",
       " ['Yb', (-0.5, 1.5, 5.5), 1],\n",
       " ['Tm', (-0.5, 1.5, 6.5), 2],\n",
       " ['Tm', (-0.5, 2.5, -5.5), 2],\n",
       " ['Tm', (-0.5, 2.5, -4.5), 2],\n",
       " ['Yb', (-0.5, 2.5, -3.5), 0],\n",
       " ['Tm', (-0.5, 2.5, -2.5), 2],\n",
       " ['Yb', (-0.5, 2.5, -1.5), 0],\n",
       " ['Tm', (-0.5, 2.5, -0.5), 2],\n",
       " ['Tm', (-0.5, 2.5, 0.5), 2],\n",
       " ['Tm', (-0.5, 2.5, 1.5), 2],\n",
       " ['Yb', (-0.5, 2.5, 2.5), 0],\n",
       " ['Tm', (-0.5, 2.5, 3.5), 2],\n",
       " ['Yb', (-0.5, 2.5, 4.5), 0],\n",
       " ['Yb', (-0.5, 2.5, 5.5), 0],\n",
       " ['Yb', (-0.5, 3.5, -3.5), 0],\n",
       " ['Tm', (-0.5, 3.5, -2.5), 2],\n",
       " ['Yb', (-0.5, 3.5, -1.5), 1],\n",
       " ['Tm', (-0.5, 3.5, -0.5), 2],\n",
       " ['Tm', (-0.5, 3.5, 0.5), 2],\n",
       " ['Tm', (-0.5, 3.5, 1.5), 2],\n",
       " ['Tm', (-0.5, 3.5, 2.5), 2],\n",
       " ['Tm', (-0.5, 3.5, 3.5), 2],\n",
       " ['Tm', (0.5, -3.5, -3.5), 2],\n",
       " ['Tm', (0.5, -3.5, -2.5), 2],\n",
       " ['Tm', (0.5, -3.5, -1.5), 2],\n",
       " ['Tm', (0.5, -3.5, -0.5), 2],\n",
       " ['Tm', (0.5, -3.5, 0.5), 2],\n",
       " ['Yb', (0.5, -3.5, 1.5), 0],\n",
       " ['Tm', (0.5, -3.5, 2.5), 2],\n",
       " ['Yb', (0.5, -3.5, 3.5), 0],\n",
       " ['Tm', (0.5, -2.5, -5.5), 2],\n",
       " ['Yb', (0.5, -2.5, -4.5), 0],\n",
       " ['Tm', (0.5, -2.5, -3.5), 2],\n",
       " ['Tm', (0.5, -2.5, -2.5), 2],\n",
       " ['Tm', (0.5, -2.5, -1.5), 2],\n",
       " ['Tm', (0.5, -2.5, -0.5), 2],\n",
       " ['Yb', (0.5, -2.5, 0.5), 0],\n",
       " ['Yb', (0.5, -2.5, 1.5), 0],\n",
       " ['Tm', (0.5, -2.5, 2.5), 2],\n",
       " ['Tm', (0.5, -2.5, 3.5), 2],\n",
       " ['Yb', (0.5, -2.5, 4.5), 0],\n",
       " ['Yb', (0.5, -2.5, 5.5), 0],\n",
       " ['Tm', (0.5, -1.5, -6.5), 2],\n",
       " ['Tm', (0.5, -1.5, -5.5), 2],\n",
       " ['Tm', (0.5, -1.5, -4.5), 2],\n",
       " ['Yb', (0.5, -1.5, -3.5), 0],\n",
       " ['Tm', (0.5, -1.5, -2.5), 2],\n",
       " ['Yb', (0.5, -1.5, -1.5), 0],\n",
       " ['Yb', (0.5, -1.5, -0.5), 0],\n",
       " ['Yb', (0.5, -1.5, 0.5), 0],\n",
       " ['Tm', (0.5, -1.5, 1.5), 2],\n",
       " ['Tm', (0.5, -1.5, 2.5), 2],\n",
       " ['Tm', (0.5, -1.5, 3.5), 2],\n",
       " ['Tm', (0.5, -1.5, 4.5), 2],\n",
       " ['Tm', (0.5, -1.5, 5.5), 2],\n",
       " ['Yb', (0.5, -1.5, 6.5), 0],\n",
       " ['Tm', (0.5, -0.5, -6.5), 2],\n",
       " ['Tm', (0.5, -0.5, -5.5), 2],\n",
       " ['Yb', (0.5, -0.5, -4.5), 0],\n",
       " ['Yb', (0.5, -0.5, -3.5), 0],\n",
       " ['Yb', (0.5, -0.5, -2.5), 0],\n",
       " ['Tm', (0.5, -0.5, -1.5), 2],\n",
       " ['Tm', (0.5, -0.5, -0.5), 2],\n",
       " ['Yb', (0.5, -0.5, 0.5), 0],\n",
       " ['Yb', (0.5, -0.5, 1.5), 0],\n",
       " ['Tm', (0.5, -0.5, 2.5), 2],\n",
       " ['Yb', (0.5, -0.5, 3.5), 0],\n",
       " ['Yb', (0.5, -0.5, 4.5), 0],\n",
       " ['Yb', (0.5, -0.5, 5.5), 0],\n",
       " ['Yb', (0.5, -0.5, 6.5), 0],\n",
       " ['Yb', (0.5, 0.5, -6.5), 1],\n",
       " ['Yb', (0.5, 0.5, -5.5), 0],\n",
       " ['Yb', (0.5, 0.5, -4.5), 0],\n",
       " ['Tm', (0.5, 0.5, -3.5), 2],\n",
       " ['Tm', (0.5, 0.5, -2.5), 2],\n",
       " ['Yb', (0.5, 0.5, -1.5), 0],\n",
       " ['Tm', (0.5, 0.5, -0.5), 2],\n",
       " ['Tm', (0.5, 0.5, 0.5), 2],\n",
       " ['Yb', (0.5, 0.5, 1.5), 0],\n",
       " ['Tm', (0.5, 0.5, 2.5), 2],\n",
       " ['Yb', (0.5, 0.5, 3.5), 0],\n",
       " ['Tm', (0.5, 0.5, 4.5), 2],\n",
       " ['Tm', (0.5, 0.5, 5.5), 2],\n",
       " ['Tm', (0.5, 0.5, 6.5), 2],\n",
       " ['Tm', (0.5, 1.5, -5.5), 2],\n",
       " ['Yb', (0.5, 1.5, -4.5), 1],\n",
       " ['Tm', (0.5, 1.5, -3.5), 2],\n",
       " ['Yb', (0.5, 1.5, -2.5), 0],\n",
       " ['Yb', (0.5, 1.5, -1.5), 0],\n",
       " ['Yb', (0.5, 1.5, -0.5), 0],\n",
       " ['Tm', (0.5, 1.5, 0.5), 2],\n",
       " ['Tm', (0.5, 1.5, 1.5), 2],\n",
       " ['Tm', (0.5, 1.5, 2.5), 2],\n",
       " ['Yb', (0.5, 1.5, 3.5), 0],\n",
       " ['Tm', (0.5, 1.5, 4.5), 2],\n",
       " ['Yb', (0.5, 1.5, 5.5), 1],\n",
       " ['Tm', (0.5, 2.5, -4.5), 2],\n",
       " ['Tm', (0.5, 2.5, -3.5), 2],\n",
       " ['Tm', (0.5, 2.5, -2.5), 2],\n",
       " ['Yb', (0.5, 2.5, -1.5), 0],\n",
       " ['Yb', (0.5, 2.5, -0.5), 0],\n",
       " ['Yb', (0.5, 2.5, 0.5), 0],\n",
       " ['Tm', (0.5, 2.5, 1.5), 2],\n",
       " ['Tm', (0.5, 2.5, 2.5), 2],\n",
       " ['Yb', (0.5, 2.5, 3.5), 0],\n",
       " ['Yb', (0.5, 2.5, 4.5), 0],\n",
       " ['Tm', (0.5, 3.5, -2.5), 2],\n",
       " ['Yb', (0.5, 3.5, -1.5), 0],\n",
       " ['Tm', (0.5, 3.5, -0.5), 2],\n",
       " ['Yb', (0.5, 3.5, 0.5), 0],\n",
       " ['Tm', (0.5, 3.5, 1.5), 2],\n",
       " ['Tm', (0.5, 3.5, 2.5), 2],\n",
       " ['Yb', (1.5, -3.5, -4.5), 0],\n",
       " ['Tm', (1.5, -3.5, -3.5), 2],\n",
       " ['Yb', (1.5, -3.5, -2.5), 0],\n",
       " ['Tm', (1.5, -3.5, -1.5), 2],\n",
       " ['Yb', (1.5, -3.5, -0.5), 0],\n",
       " ['Yb', (1.5, -3.5, 0.5), 0],\n",
       " ['Tm', (1.5, -3.5, 1.5), 2],\n",
       " ['Yb', (1.5, -3.5, 2.5), 0],\n",
       " ['Yb', (1.5, -3.5, 3.5), 0],\n",
       " ['Yb', (1.5, -3.5, 4.5), 0],\n",
       " ['Tm', (1.5, -2.5, -5.5), 2],\n",
       " ['Yb', (1.5, -2.5, -4.5), 0],\n",
       " ['Yb', (1.5, -2.5, -3.5), 0],\n",
       " ['Tm', (1.5, -2.5, -2.5), 2],\n",
       " ['Tm', (1.5, -2.5, -1.5), 2],\n",
       " ['Tm', (1.5, -2.5, -0.5), 2],\n",
       " ['Yb', (1.5, -2.5, 0.5), 0],\n",
       " ['Yb', (1.5, -2.5, 1.5), 0],\n",
       " ['Tm', (1.5, -2.5, 2.5), 2],\n",
       " ['Yb', (1.5, -2.5, 3.5), 0],\n",
       " ['Yb', (1.5, -2.5, 4.5), 0],\n",
       " ['Tm', (1.5, -2.5, 5.5), 2],\n",
       " ['Yb', (1.5, -1.5, -6.5), 0],\n",
       " ['Yb', (1.5, -1.5, -5.5), 0],\n",
       " ['Yb', (1.5, -1.5, -4.5), 0],\n",
       " ['Tm', (1.5, -1.5, -3.5), 2],\n",
       " ['Tm', (1.5, -1.5, -2.5), 2],\n",
       " ['Yb', (1.5, -1.5, -1.5), 0],\n",
       " ['Tm', (1.5, -1.5, -0.5), 2],\n",
       " ['Yb', (1.5, -1.5, 0.5), 0],\n",
       " ['Tm', (1.5, -1.5, 1.5), 2],\n",
       " ['Yb', (1.5, -1.5, 2.5), 1],\n",
       " ['Yb', (1.5, -1.5, 3.5), 1],\n",
       " ['Yb', (1.5, -1.5, 4.5), 0],\n",
       " ['Yb', (1.5, -1.5, 5.5), 0],\n",
       " ['Yb', (1.5, -1.5, 6.5), 0],\n",
       " ['Yb', (1.5, -0.5, -6.5), 0],\n",
       " ['Tm', (1.5, -0.5, -5.5), 2],\n",
       " ['Tm', (1.5, -0.5, -4.5), 2],\n",
       " ['Yb', (1.5, -0.5, -3.5), 0],\n",
       " ['Tm', (1.5, -0.5, -2.5), 2],\n",
       " ['Yb', (1.5, -0.5, -1.5), 0],\n",
       " ['Yb', (1.5, -0.5, -0.5), 0],\n",
       " ['Yb', (1.5, -0.5, 0.5), 0],\n",
       " ['Tm', (1.5, -0.5, 1.5), 2],\n",
       " ['Yb', (1.5, -0.5, 2.5), 0],\n",
       " ['Tm', (1.5, -0.5, 3.5), 2],\n",
       " ['Yb', (1.5, -0.5, 4.5), 0],\n",
       " ['Yb', (1.5, -0.5, 5.5), 0],\n",
       " ['Yb', (1.5, -0.5, 6.5), 0],\n",
       " ['Tm', (1.5, 0.5, -5.5), 2],\n",
       " ['Yb', (1.5, 0.5, -4.5), 0],\n",
       " ['Yb', (1.5, 0.5, -3.5), 0],\n",
       " ['Yb', (1.5, 0.5, -2.5), 0],\n",
       " ['Tm', (1.5, 0.5, -1.5), 2],\n",
       " ['Yb', (1.5, 0.5, -0.5), 0],\n",
       " ['Yb', (1.5, 0.5, 0.5), 0],\n",
       " ['Tm', (1.5, 0.5, 1.5), 2],\n",
       " ['Tm', (1.5, 0.5, 2.5), 2],\n",
       " ['Yb', (1.5, 0.5, 3.5), 0],\n",
       " ['Tm', (1.5, 0.5, 4.5), 2],\n",
       " ['Tm', (1.5, 0.5, 5.5), 2],\n",
       " ['Tm', (1.5, 1.5, -5.5), 2],\n",
       " ['Yb', (1.5, 1.5, -4.5), 1],\n",
       " ['Yb', (1.5, 1.5, -3.5), 0],\n",
       " ['Yb', (1.5, 1.5, -2.5), 0],\n",
       " ['Yb', (1.5, 1.5, -1.5), 0],\n",
       " ['Yb', (1.5, 1.5, -0.5), 0],\n",
       " ['Tm', (1.5, 1.5, 0.5), 2],\n",
       " ['Yb', (1.5, 1.5, 1.5), 0],\n",
       " ['Tm', (1.5, 1.5, 2.5), 2],\n",
       " ['Tm', (1.5, 1.5, 3.5), 2],\n",
       " ['Yb', (1.5, 1.5, 4.5), 1],\n",
       " ['Tm', (1.5, 1.5, 5.5), 2],\n",
       " ['Tm', (1.5, 2.5, -3.5), 2],\n",
       " ['Tm', (1.5, 2.5, -2.5), 2],\n",
       " ['Tm', (1.5, 2.5, -1.5), 2],\n",
       " ['Yb', (1.5, 2.5, -0.5), 1],\n",
       " ['Yb', (1.5, 2.5, 0.5), 0],\n",
       " ['Yb', (1.5, 2.5, 1.5), 0],\n",
       " ['Tm', (1.5, 2.5, 2.5), 2],\n",
       " ['Yb', (1.5, 2.5, 3.5), 0],\n",
       " ['Yb', (2.5, -3.5, -4.5), 1],\n",
       " ['Yb', (2.5, -3.5, -3.5), 0],\n",
       " ['Tm', (2.5, -3.5, -2.5), 2],\n",
       " ['Tm', (2.5, -3.5, -1.5), 2],\n",
       " ['Yb', (2.5, -3.5, -0.5), 0],\n",
       " ['Tm', (2.5, -3.5, 0.5), 2],\n",
       " ['Yb', (2.5, -3.5, 1.5), 0],\n",
       " ['Tm', (2.5, -3.5, 2.5), 2],\n",
       " ['Yb', (2.5, -3.5, 3.5), 1],\n",
       " ['Yb', (2.5, -3.5, 4.5), 0],\n",
       " ['Yb', (2.5, -2.5, -5.5), 0],\n",
       " ['Tm', (2.5, -2.5, -4.5), 2],\n",
       " ['Yb', (2.5, -2.5, -3.5), 0],\n",
       " ['Yb', (2.5, -2.5, -2.5), 0],\n",
       " ['Yb', (2.5, -2.5, -1.5), 0],\n",
       " ['Tm', (2.5, -2.5, -0.5), 2],\n",
       " ['Yb', (2.5, -2.5, 0.5), 0],\n",
       " ['Yb', (2.5, -2.5, 1.5), 0],\n",
       " ['Yb', (2.5, -2.5, 2.5), 0],\n",
       " ['Yb', (2.5, -2.5, 3.5), 0],\n",
       " ['Yb', (2.5, -2.5, 4.5), 0],\n",
       " ['Tm', (2.5, -2.5, 5.5), 2],\n",
       " ['Tm', (2.5, -1.5, -5.5), 2],\n",
       " ['Tm', (2.5, -1.5, -4.5), 2],\n",
       " ['Yb', (2.5, -1.5, -3.5), 0],\n",
       " ['Tm', (2.5, -1.5, -2.5), 2],\n",
       " ['Tm', (2.5, -1.5, -1.5), 2],\n",
       " ['Yb', (2.5, -1.5, -0.5), 1],\n",
       " ['Tm', (2.5, -1.5, 0.5), 2],\n",
       " ['Yb', (2.5, -1.5, 1.5), 0],\n",
       " ['Yb', (2.5, -1.5, 2.5), 0],\n",
       " ['Tm', (2.5, -1.5, 3.5), 2],\n",
       " ['Yb', (2.5, -1.5, 4.5), 0],\n",
       " ['Tm', (2.5, -1.5, 5.5), 2],\n",
       " ['Yb', (2.5, -0.5, -5.5), 0],\n",
       " ['Tm', (2.5, -0.5, -4.5), 2],\n",
       " ['Tm', (2.5, -0.5, -3.5), 2],\n",
       " ['Tm', (2.5, -0.5, -2.5), 2],\n",
       " ['Tm', (2.5, -0.5, -1.5), 2],\n",
       " ['Tm', (2.5, -0.5, -0.5), 2],\n",
       " ['Yb', (2.5, -0.5, 0.5), 0],\n",
       " ['Yb', (2.5, -0.5, 1.5), 0],\n",
       " ['Yb', (2.5, -0.5, 2.5), 0],\n",
       " ['Tm', (2.5, -0.5, 3.5), 2],\n",
       " ['Tm', (2.5, -0.5, 4.5), 2],\n",
       " ['Tm', (2.5, -0.5, 5.5), 2],\n",
       " ['Tm', (2.5, 0.5, -4.5), 2],\n",
       " ['Tm', (2.5, 0.5, -3.5), 2],\n",
       " ['Yb', (2.5, 0.5, -2.5), 0],\n",
       " ['Yb', (2.5, 0.5, -1.5), 0],\n",
       " ['Tm', (2.5, 0.5, -0.5), 2],\n",
       " ['Tm', (2.5, 0.5, 0.5), 2],\n",
       " ['Tm', (2.5, 0.5, 1.5), 2],\n",
       " ['Tm', (2.5, 0.5, 2.5), 2],\n",
       " ['Yb', (2.5, 0.5, 3.5), 0],\n",
       " ['Yb', (2.5, 0.5, 4.5), 0],\n",
       " ['Tm', (2.5, 1.5, -3.5), 2],\n",
       " ['Tm', (2.5, 1.5, -2.5), 2],\n",
       " ['Yb', (2.5, 1.5, -1.5), 0],\n",
       " ['Yb', (2.5, 1.5, -0.5), 0],\n",
       " ['Tm', (2.5, 1.5, 0.5), 2],\n",
       " ['Tm', (2.5, 1.5, 1.5), 2],\n",
       " ['Tm', (2.5, 1.5, 2.5), 2],\n",
       " ['Tm', (2.5, 1.5, 3.5), 2],\n",
       " ['Tm', (3.5, -3.5, -3.5), 2],\n",
       " ['Tm', (3.5, -3.5, -2.5), 2],\n",
       " ['Tm', (3.5, -3.5, -1.5), 2],\n",
       " ['Yb', (3.5, -3.5, -0.5), 0],\n",
       " ['Tm', (3.5, -3.5, 0.5), 2],\n",
       " ['Tm', (3.5, -3.5, 1.5), 2],\n",
       " ['Tm', (3.5, -3.5, 2.5), 2],\n",
       " ['Tm', (3.5, -3.5, 3.5), 2],\n",
       " ['Yb', (3.5, -2.5, -4.5), 0],\n",
       " ['Tm', (3.5, -2.5, -3.5), 2],\n",
       " ['Yb', (3.5, -2.5, -2.5), 0],\n",
       " ['Tm', (3.5, -2.5, -1.5), 2],\n",
       " ['Tm', (3.5, -2.5, -0.5), 2],\n",
       " ['Yb', (3.5, -2.5, 0.5), 1],\n",
       " ['Yb', (3.5, -2.5, 1.5), 0],\n",
       " ['Yb', (3.5, -2.5, 2.5), 0],\n",
       " ['Tm', (3.5, -2.5, 3.5), 2],\n",
       " ['Yb', (3.5, -2.5, 4.5), 0],\n",
       " ['Yb', (3.5, -1.5, -4.5), 0],\n",
       " ['Yb', (3.5, -1.5, -3.5), 0],\n",
       " ['Tm', (3.5, -1.5, -2.5), 2],\n",
       " ['Tm', (3.5, -1.5, -1.5), 2],\n",
       " ['Tm', (3.5, -1.5, -0.5), 2],\n",
       " ['Tm', (3.5, -1.5, 0.5), 2],\n",
       " ['Tm', (3.5, -1.5, 1.5), 2],\n",
       " ['Tm', (3.5, -1.5, 2.5), 2],\n",
       " ['Yb', (3.5, -1.5, 3.5), 0],\n",
       " ['Tm', (3.5, -1.5, 4.5), 2],\n",
       " ['Tm', (3.5, -0.5, -3.5), 2],\n",
       " ['Tm', (3.5, -0.5, -2.5), 2],\n",
       " ['Yb', (3.5, -0.5, -1.5), 0],\n",
       " ['Yb', (3.5, -0.5, -0.5), 0],\n",
       " ['Yb', (3.5, -0.5, 0.5), 0],\n",
       " ['Yb', (3.5, -0.5, 1.5), 0],\n",
       " ['Tm', (3.5, -0.5, 2.5), 2],\n",
       " ['Tm', (3.5, -0.5, 3.5), 2],\n",
       " ['Yb', (3.5, 0.5, -2.5), 0],\n",
       " ['Yb', (3.5, 0.5, -1.5), 1],\n",
       " ['Tm', (3.5, 0.5, -0.5), 2],\n",
       " ['Tm', (3.5, 0.5, 0.5), 2],\n",
       " ['Yb', (3.5, 0.5, 1.5), 0],\n",
       " ['Tm', (3.5, 0.5, 2.5), 2],\n",
       " ['Tm', (4.5, -3.5, -1.5), 2],\n",
       " ['Tm', (4.5, -3.5, -0.5), 2],\n",
       " ['Tm', (4.5, -3.5, 0.5), 2],\n",
       " ['Yb', (4.5, -3.5, 1.5), 0],\n",
       " ['Yb', (4.5, -2.5, -2.5), 0],\n",
       " ['Tm', (4.5, -2.5, -1.5), 2],\n",
       " ['Yb', (4.5, -2.5, -0.5), 0],\n",
       " ['Yb', (4.5, -2.5, 0.5), 0],\n",
       " ['Tm', (4.5, -2.5, 1.5), 2],\n",
       " ['Yb', (4.5, -2.5, 2.5), 1],\n",
       " ['Tm', (4.5, -1.5, -1.5), 2],\n",
       " ['Tm', (4.5, -1.5, -0.5), 2],\n",
       " ['Tm', (4.5, -1.5, 0.5), 2],\n",
       " ['Yb', (4.5, -1.5, 1.5), 0]]"
      ]
     },
     "execution_count": 5,
     "metadata": {},
     "output_type": "execute_result"
    }
   ],
   "source": [
    "y_points"
   ]
  },
  {
   "cell_type": "code",
   "execution_count": 9,
   "metadata": {},
   "outputs": [
    {
     "data": {
      "image/png": "[encoded data removed]",
      "text/plain": [
       "<Figure size 1500x500 with 3 Axes>"
      ]
     },
     "metadata": {},
     "output_type": "display_data"
    }
   ],
   "source": [
    "plot_distributions(y_points)"
   ]
  },
  {
   "cell_type": "code",
   "execution_count": 10,
   "metadata": {},
   "outputs": [
    {
     "data": {
      "application/vnd.plotly.v1+json": {
       "config": {
        "plotlyServerURL": "https://plot.ly"
       },
       "data": [
        {
         "marker": {
          "color": "blue",
          "opacity": 0.8,
          "size": 6
         },
         "mode": "markers+text",
         "text": [
          "0",
          "1",
          "1",
          "0",
          "0",
          "0",
          "0",
          "0",
          "0",
          "0",
          "0",
          "0",
          "1",
          "0",
          "0",
          "0",
          "0",
          "1",
          "0",
          "0",
          "0",
          "0",
          "0",
          "0",
          "0",
          "0",
          "0",
          "0",
          "0",
          "0",
          "0",
          "0",
          "0",
          "0",
          "0",
          "0",
          "0",
          "0",
          "0",
          "1",
          "0",
          "0",
          "0",
          "1",
          "0",
          "0",
          "0",
          "0",
          "0",
          "0",
          "0",
          "0",
          "0",
          "0",
          "0",
          "0",
          "0",
          "0"
         ],
         "textposition": "top center",
         "type": "scatter3d",
         "x": [
          -1.043,
          -1.043,
          -1.043,
          -1.043,
          -1.043,
          -0.7449999999999999,
          -0.7449999999999999,
          -0.7449999999999999,
          -0.7449999999999999,
          -0.7449999999999999,
          -0.44699999999999995,
          -0.44699999999999995,
          -0.44699999999999995,
          -0.44699999999999995,
          -0.1489999999999999,
          -0.1489999999999999,
          -0.7449999999999999,
          -0.7449999999999999,
          -0.7449999999999999,
          -0.7449999999999999,
          -0.44699999999999995,
          -0.44699999999999995,
          -0.44699999999999995,
          -0.44699999999999995,
          -0.149,
          -0.149,
          -0.149,
          0.14899999999999997,
          0.14899999999999997,
          0.14899999999999997,
          0.447,
          -0.14899999999999997,
          -0.14899999999999997,
          -0.14899999999999997,
          -0.14899999999999997,
          0.149,
          0.149,
          0.149,
          0.149,
          0.149,
          0.149,
          0.44699999999999995,
          0.44699999999999995,
          0.7449999999999999,
          0.7449999999999999,
          0.44699999999999995,
          0.7449999999999999,
          0.7449999999999999,
          0.7449999999999999,
          1.043,
          1.043,
          1.043,
          1.0430000000000001,
          1.0430000000000001,
          1.0430000000000001,
          1.341,
          1.341,
          1.341
         ],
         "y": [
          -0.2580755703277627,
          -0.2580755703277627,
          -0.2580755703277627,
          -0.2580755703277627,
          -0.2580755703277627,
          0.2580755703277627,
          0.2580755703277627,
          0.2580755703277627,
          0.2580755703277627,
          0.2580755703277627,
          0.7742267109832881,
          0.7742267109832881,
          0.7742267109832881,
          0.7742267109832881,
          1.2903778516388134,
          1.2903778516388134,
          -0.7742267109832881,
          -0.7742267109832881,
          -0.7742267109832881,
          -0.7742267109832881,
          -0.2580755703277627,
          -0.2580755703277627,
          -0.2580755703277627,
          -0.2580755703277627,
          0.2580755703277627,
          0.2580755703277627,
          0.2580755703277627,
          0.7742267109832881,
          0.7742267109832881,
          0.7742267109832881,
          1.2903778516388134,
          -0.7742267109832881,
          -0.7742267109832881,
          -0.7742267109832881,
          -0.7742267109832881,
          -0.2580755703277627,
          -0.2580755703277627,
          -0.2580755703277627,
          -0.2580755703277627,
          -0.2580755703277627,
          -0.2580755703277627,
          0.2580755703277627,
          0.2580755703277627,
          0.7742267109832881,
          0.7742267109832881,
          -0.7742267109832881,
          -0.2580755703277627,
          -0.2580755703277627,
          -0.2580755703277627,
          0.2580755703277627,
          0.2580755703277627,
          0.2580755703277627,
          -0.7742267109832881,
          -0.7742267109832881,
          -0.7742267109832881,
          -0.2580755703277627,
          -0.2580755703277627,
          -0.2580755703277627
         ],
         "z": [
          -0.8825,
          -0.5295,
          -0.1765,
          0.1765,
          0.5295,
          -0.8825,
          -0.5295,
          -0.1765,
          0.1765,
          1.2355,
          -0.5295,
          -0.1765,
          0.5295,
          0.8825,
          -0.1765,
          0.5295,
          -0.8825,
          -0.1765,
          0.1765,
          0.5295,
          -1.2355,
          -0.8825,
          -0.5295,
          1.2355,
          0.5295,
          0.8825,
          1.2355,
          -0.1765,
          0.1765,
          0.8825,
          -0.5295,
          -0.8825,
          -0.5295,
          0.8825,
          1.2355,
          -1.2355,
          -0.8825,
          -0.5295,
          -0.1765,
          0.1765,
          0.5295,
          -1.2355,
          -0.8825,
          0.1765,
          0.8825,
          -0.5295,
          -0.8825,
          -0.5295,
          -0.1765,
          -0.8825,
          0.1765,
          0.5295,
          -0.5295,
          0.1765,
          0.5295,
          -0.5295,
          -0.1765,
          0.5295
         ]
        },
        {
         "marker": {
          "color": "pink",
          "opacity": 0.8,
          "size": 6
         },
         "mode": "markers+text",
         "text": [
          "2",
          "2",
          "2",
          "2",
          "2",
          "2",
          "2",
          "2",
          "2",
          "2",
          "2",
          "2",
          "2",
          "2",
          "2",
          "2",
          "2",
          "2",
          "2",
          "2",
          "2",
          "2",
          "2",
          "2",
          "2",
          "2",
          "2",
          "2",
          "2",
          "2",
          "2",
          "2",
          "2",
          "2",
          "2",
          "2",
          "2",
          "2",
          "2",
          "2",
          "2",
          "2",
          "2",
          "2",
          "2",
          "2",
          "2",
          "2",
          "2",
          "2",
          "2",
          "2",
          "2",
          "2",
          "2",
          "2",
          "2",
          "2"
         ],
         "textposition": "top center",
         "type": "scatter3d",
         "x": [
          -1.043,
          -0.7449999999999999,
          -0.7449999999999999,
          -0.7449999999999999,
          -0.44699999999999995,
          -0.44699999999999995,
          -0.1489999999999999,
          -0.1489999999999999,
          -0.7449999999999999,
          -0.7449999999999999,
          -0.44699999999999995,
          -0.44699999999999995,
          -0.44699999999999995,
          -0.44699999999999995,
          -0.149,
          -0.149,
          -0.149,
          -0.149,
          -0.149,
          0.14899999999999997,
          0.14899999999999997,
          0.14899999999999997,
          0.14899999999999997,
          0.14899999999999997,
          0.447,
          0.447,
          0.447,
          -0.14899999999999997,
          -0.14899999999999997,
          -0.14899999999999997,
          -0.14899999999999997,
          0.149,
          0.149,
          0.44699999999999995,
          0.44699999999999995,
          0.44699999999999995,
          0.44699999999999995,
          0.44699999999999995,
          0.44699999999999995,
          0.7449999999999999,
          0.7449999999999999,
          0.7449999999999999,
          0.7449999999999999,
          0.44699999999999995,
          0.44699999999999995,
          0.44699999999999995,
          0.44699999999999995,
          0.44699999999999995,
          0.7449999999999999,
          0.7449999999999999,
          0.7449999999999999,
          0.7449999999999999,
          0.7449999999999999,
          1.043,
          1.043,
          1.043,
          1.0430000000000001,
          1.341
         ],
         "y": [
          -0.2580755703277627,
          0.2580755703277627,
          0.2580755703277627,
          0.2580755703277627,
          0.7742267109832881,
          0.7742267109832881,
          1.2903778516388134,
          1.2903778516388134,
          -0.7742267109832881,
          -0.7742267109832881,
          -0.2580755703277627,
          -0.2580755703277627,
          -0.2580755703277627,
          -0.2580755703277627,
          0.2580755703277627,
          0.2580755703277627,
          0.2580755703277627,
          0.2580755703277627,
          0.2580755703277627,
          0.7742267109832881,
          0.7742267109832881,
          0.7742267109832881,
          0.7742267109832881,
          0.7742267109832881,
          1.2903778516388134,
          1.2903778516388134,
          1.2903778516388134,
          -0.7742267109832881,
          -0.7742267109832881,
          -0.7742267109832881,
          -0.7742267109832881,
          -0.2580755703277627,
          -0.2580755703277627,
          0.2580755703277627,
          0.2580755703277627,
          0.2580755703277627,
          0.2580755703277627,
          0.2580755703277627,
          0.2580755703277627,
          0.7742267109832881,
          0.7742267109832881,
          0.7742267109832881,
          0.7742267109832881,
          -0.7742267109832881,
          -0.7742267109832881,
          -0.7742267109832881,
          -0.7742267109832881,
          -0.7742267109832881,
          -0.2580755703277627,
          -0.2580755703277627,
          -0.2580755703277627,
          -0.2580755703277627,
          -0.2580755703277627,
          0.2580755703277627,
          0.2580755703277627,
          0.2580755703277627,
          -0.7742267109832881,
          -0.2580755703277627
         ],
         "z": [
          0.8825,
          -1.2355,
          0.5295,
          0.8825,
          -0.8825,
          0.1765,
          -0.5295,
          0.1765,
          -0.5295,
          0.8825,
          -0.1765,
          0.1765,
          0.5295,
          0.8825,
          -1.2355,
          -0.8825,
          -0.5295,
          -0.1765,
          0.1765,
          -1.2355,
          -0.8825,
          -0.5295,
          0.5295,
          1.2355,
          -0.1765,
          0.1765,
          0.5295,
          -1.2355,
          -0.1765,
          0.1765,
          0.5295,
          0.8825,
          1.2355,
          -0.5295,
          -0.1765,
          0.1765,
          0.5295,
          0.8825,
          1.2355,
          -0.8825,
          -0.5295,
          -0.1765,
          0.5295,
          -0.8825,
          -0.1765,
          0.1765,
          0.5295,
          0.8825,
          -1.2355,
          0.1765,
          0.5295,
          0.8825,
          1.2355,
          -0.5295,
          -0.1765,
          0.8825,
          -0.1765,
          0.1765
         ]
        }
       ],
       "layout": {
        "margin": {
         "b": 0,
         "l": 0,
         "r": 0,
         "t": 0
        },
        "template": {
         "data": {
          "bar": [
           {
            "error_x": {
             "color": "#2a3f5f"
            },
            "error_y": {
             "color": "#2a3f5f"
            },
            "marker": {
             "line": {
              "color": "#E5ECF6",
              "width": 0.5
             },
             "pattern": {
              "fillmode": "overlay",
              "size": 10,
              "solidity": 0.2
             }
            },
            "type": "bar"
           }
          ],
          "barpolar": [
           {
            "marker": {
             "line": {
              "color": "#E5ECF6",
              "width": 0.5
             },
             "pattern": {
              "fillmode": "overlay",
              "size": 10,
              "solidity": 0.2
             }
            },
            "type": "barpolar"
           }
          ],
          "carpet": [
           {
            "aaxis": {
             "endlinecolor": "#2a3f5f",
             "gridcolor": "white",
             "linecolor": "white",
             "minorgridcolor": "white",
             "startlinecolor": "#2a3f5f"
            },
            "baxis": {
             "endlinecolor": "#2a3f5f",
             "gridcolor": "white",
             "linecolor": "white",
             "minorgridcolor": "white",
             "startlinecolor": "#2a3f5f"
            },
            "type": "carpet"
           }
          ],
          "choropleth": [
           {
            "colorbar": {
             "outlinewidth": 0,
             "ticks": ""
            },
            "type": "choropleth"
           }
          ],
          "contour": [
           {
            "colorbar": {
             "outlinewidth": 0,
             "ticks": ""
            },
            "colorscale": [
             [
              0,
              "#0d0887"
             ],
             [
              0.1111111111111111,
              "#46039f"
             ],
             [
              0.2222222222222222,
              "#7201a8"
             ],
             [
              0.3333333333333333,
              "#9c179e"
             ],
             [
              0.4444444444444444,
              "#bd3786"
             ],
             [
              0.5555555555555556,
              "#d8576b"
             ],
             [
              0.6666666666666666,
              "#ed7953"
             ],
             [
              0.7777777777777778,
              "#fb9f3a"
             ],
             [
              0.8888888888888888,
              "#fdca26"
             ],
             [
              1,
              "#f0f921"
             ]
            ],
            "type": "contour"
           }
          ],
          "contourcarpet": [
           {
            "colorbar": {
             "outlinewidth": 0,
             "ticks": ""
            },
            "type": "contourcarpet"
           }
          ],
          "heatmap": [
           {
            "colorbar": {
             "outlinewidth": 0,
             "ticks": ""
            },
            "colorscale": [
             [
              0,
              "#0d0887"
             ],
             [
              0.1111111111111111,
              "#46039f"
             ],
             [
              0.2222222222222222,
              "#7201a8"
             ],
             [
              0.3333333333333333,
              "#9c179e"
             ],
             [
              0.4444444444444444,
              "#bd3786"
             ],
             [
              0.5555555555555556,
              "#d8576b"
             ],
             [
              0.6666666666666666,
              "#ed7953"
             ],
             [
              0.7777777777777778,
              "#fb9f3a"
             ],
             [
              0.8888888888888888,
              "#fdca26"
             ],
             [
              1,
              "#f0f921"
             ]
            ],
            "type": "heatmap"
           }
          ],
          "heatmapgl": [
           {
            "colorbar": {
             "outlinewidth": 0,
             "ticks": ""
            },
            "colorscale": [
             [
              0,
              "#0d0887"
             ],
             [
              0.1111111111111111,
              "#46039f"
             ],
             [
              0.2222222222222222,
              "#7201a8"
             ],
             [
              0.3333333333333333,
              "#9c179e"
             ],
             [
              0.4444444444444444,
              "#bd3786"
             ],
             [
              0.5555555555555556,
              "#d8576b"
             ],
             [
              0.6666666666666666,
              "#ed7953"
             ],
             [
              0.7777777777777778,
              "#fb9f3a"
             ],
             [
              0.8888888888888888,
              "#fdca26"
             ],
             [
              1,
              "#f0f921"
             ]
            ],
            "type": "heatmapgl"
           }
          ],
          "histogram": [
           {
            "marker": {
             "pattern": {
              "fillmode": "overlay",
              "size": 10,
              "solidity": 0.2
             }
            },
            "type": "histogram"
           }
          ],
          "histogram2d": [
           {
            "colorbar": {
             "outlinewidth": 0,
             "ticks": ""
            },
            "colorscale": [
             [
              0,
              "#0d0887"
             ],
             [
              0.1111111111111111,
              "#46039f"
             ],
             [
              0.2222222222222222,
              "#7201a8"
             ],
             [
              0.3333333333333333,
              "#9c179e"
             ],
             [
              0.4444444444444444,
              "#bd3786"
             ],
             [
              0.5555555555555556,
              "#d8576b"
             ],
             [
              0.6666666666666666,
              "#ed7953"
             ],
             [
              0.7777777777777778,
              "#fb9f3a"
             ],
             [
              0.8888888888888888,
              "#fdca26"
             ],
             [
              1,
              "#f0f921"
             ]
            ],
            "type": "histogram2d"
           }
          ],
          "histogram2dcontour": [
           {
            "colorbar": {
             "outlinewidth": 0,
             "ticks": ""
            },
            "colorscale": [
             [
              0,
              "#0d0887"
             ],
             [
              0.1111111111111111,
              "#46039f"
             ],
             [
              0.2222222222222222,
              "#7201a8"
             ],
             [
              0.3333333333333333,
              "#9c179e"
             ],
             [
              0.4444444444444444,
              "#bd3786"
             ],
             [
              0.5555555555555556,
              "#d8576b"
             ],
             [
              0.6666666666666666,
              "#ed7953"
             ],
             [
              0.7777777777777778,
              "#fb9f3a"
             ],
             [
              0.8888888888888888,
              "#fdca26"
             ],
             [
              1,
              "#f0f921"
             ]
            ],
            "type": "histogram2dcontour"
           }
          ],
          "mesh3d": [
           {
            "colorbar": {
             "outlinewidth": 0,
             "ticks": ""
            },
            "type": "mesh3d"
           }
          ],
          "parcoords": [
           {
            "line": {
             "colorbar": {
              "outlinewidth": 0,
              "ticks": ""
             }
            },
            "type": "parcoords"
           }
          ],
          "pie": [
           {
            "automargin": true,
            "type": "pie"
           }
          ],
          "scatter": [
           {
            "fillpattern": {
             "fillmode": "overlay",
             "size": 10,
             "solidity": 0.2
            },
            "type": "scatter"
           }
          ],
          "scatter3d": [
           {
            "line": {
             "colorbar": {
              "outlinewidth": 0,
              "ticks": ""
             }
            },
            "marker": {
             "colorbar": {
              "outlinewidth": 0,
              "ticks": ""
             }
            },
            "type": "scatter3d"
           }
          ],
          "scattercarpet": [
           {
            "marker": {
             "colorbar": {
              "outlinewidth": 0,
              "ticks": ""
             }
            },
            "type": "scattercarpet"
           }
          ],
          "scattergeo": [
           {
            "marker": {
             "colorbar": {
              "outlinewidth": 0,
              "ticks": ""
             }
            },
            "type": "scattergeo"
           }
          ],
          "scattergl": [
           {
            "marker": {
             "colorbar": {
              "outlinewidth": 0,
              "ticks": ""
             }
            },
            "type": "scattergl"
           }
          ],
          "scattermapbox": [
           {
            "marker": {
             "colorbar": {
              "outlinewidth": 0,
              "ticks": ""
             }
            },
            "type": "scattermapbox"
           }
          ],
          "scatterpolar": [
           {
            "marker": {
             "colorbar": {
              "outlinewidth": 0,
              "ticks": ""
             }
            },
            "type": "scatterpolar"
           }
          ],
          "scatterpolargl": [
           {
            "marker": {
             "colorbar": {
              "outlinewidth": 0,
              "ticks": ""
             }
            },
            "type": "scatterpolargl"
           }
          ],
          "scatterternary": [
           {
            "marker": {
             "colorbar": {
              "outlinewidth": 0,
              "ticks": ""
             }
            },
            "type": "scatterternary"
           }
          ],
          "surface": [
           {
            "colorbar": {
             "outlinewidth": 0,
             "ticks": ""
            },
            "colorscale": [
             [
              0,
              "#0d0887"
             ],
             [
              0.1111111111111111,
              "#46039f"
             ],
             [
              0.2222222222222222,
              "#7201a8"
             ],
             [
              0.3333333333333333,
              "#9c179e"
             ],
             [
              0.4444444444444444,
              "#bd3786"
             ],
             [
              0.5555555555555556,
              "#d8576b"
             ],
             [
              0.6666666666666666,
              "#ed7953"
             ],
             [
              0.7777777777777778,
              "#fb9f3a"
             ],
             [
              0.8888888888888888,
              "#fdca26"
             ],
             [
              1,
              "#f0f921"
             ]
            ],
            "type": "surface"
           }
          ],
          "table": [
           {
            "cells": {
             "fill": {
              "color": "#EBF0F8"
             },
             "line": {
              "color": "white"
             }
            },
            "header": {
             "fill": {
              "color": "#C8D4E3"
             },
             "line": {
              "color": "white"
             }
            },
            "type": "table"
           }
          ]
         },
         "layout": {
          "annotationdefaults": {
           "arrowcolor": "#2a3f5f",
           "arrowhead": 0,
           "arrowwidth": 1
          },
          "autotypenumbers": "strict",
          "coloraxis": {
           "colorbar": {
            "outlinewidth": 0,
            "ticks": ""
           }
          },
          "colorscale": {
           "diverging": [
            [
             0,
             "#8e0152"
            ],
            [
             0.1,
             "#c51b7d"
            ],
            [
             0.2,
             "#de77ae"
            ],
            [
             0.3,
             "#f1b6da"
            ],
            [
             0.4,
             "#fde0ef"
            ],
            [
             0.5,
             "#f7f7f7"
            ],
            [
             0.6,
             "#e6f5d0"
            ],
            [
             0.7,
             "#b8e186"
            ],
            [
             0.8,
             "#7fbc41"
            ],
            [
             0.9,
             "#4d9221"
            ],
            [
             1,
             "#276419"
            ]
           ],
           "sequential": [
            [
             0,
             "#0d0887"
            ],
            [
             0.1111111111111111,
             "#46039f"
            ],
            [
             0.2222222222222222,
             "#7201a8"
            ],
            [
             0.3333333333333333,
             "#9c179e"
            ],
            [
             0.4444444444444444,
             "#bd3786"
            ],
            [
             0.5555555555555556,
             "#d8576b"
            ],
            [
             0.6666666666666666,
             "#ed7953"
            ],
            [
             0.7777777777777778,
             "#fb9f3a"
            ],
            [
             0.8888888888888888,
             "#fdca26"
            ],
            [
             1,
             "#f0f921"
            ]
           ],
           "sequentialminus": [
            [
             0,
             "#0d0887"
            ],
            [
             0.1111111111111111,
             "#46039f"
            ],
            [
             0.2222222222222222,
             "#7201a8"
            ],
            [
             0.3333333333333333,
             "#9c179e"
            ],
            [
             0.4444444444444444,
             "#bd3786"
            ],
            [
             0.5555555555555556,
             "#d8576b"
            ],
            [
             0.6666666666666666,
             "#ed7953"
            ],
            [
             0.7777777777777778,
             "#fb9f3a"
            ],
            [
             0.8888888888888888,
             "#fdca26"
            ],
            [
             1,
             "#f0f921"
            ]
           ]
          },
          "colorway": [
           "#636efa",
           "#EF553B",
           "#00cc96",
           "#ab63fa",
           "#FFA15A",
           "#19d3f3",
           "#FF6692",
           "#B6E880",
           "#FF97FF",
           "#FECB52"
          ],
          "font": {
           "color": "#2a3f5f"
          },
          "geo": {
           "bgcolor": "white",
           "lakecolor": "white",
           "landcolor": "#E5ECF6",
           "showlakes": true,
           "showland": true,
           "subunitcolor": "white"
          },
          "hoverlabel": {
           "align": "left"
          },
          "hovermode": "closest",
          "mapbox": {
           "style": "light"
          },
          "paper_bgcolor": "white",
          "plot_bgcolor": "#E5ECF6",
          "polar": {
           "angularaxis": {
            "gridcolor": "white",
            "linecolor": "white",
            "ticks": ""
           },
           "bgcolor": "#E5ECF6",
           "radialaxis": {
            "gridcolor": "white",
            "linecolor": "white",
            "ticks": ""
           }
          },
          "scene": {
           "xaxis": {
            "backgroundcolor": "#E5ECF6",
            "gridcolor": "white",
            "gridwidth": 2,
            "linecolor": "white",
            "showbackground": true,
            "ticks": "",
            "zerolinecolor": "white"
           },
           "yaxis": {
            "backgroundcolor": "#E5ECF6",
            "gridcolor": "white",
            "gridwidth": 2,
            "linecolor": "white",
            "showbackground": true,
            "ticks": "",
            "zerolinecolor": "white"
           },
           "zaxis": {
            "backgroundcolor": "#E5ECF6",
            "gridcolor": "white",
            "gridwidth": 2,
            "linecolor": "white",
            "showbackground": true,
            "ticks": "",
            "zerolinecolor": "white"
           }
          },
          "shapedefaults": {
           "line": {
            "color": "#2a3f5f"
           }
          },
          "ternary": {
           "aaxis": {
            "gridcolor": "white",
            "linecolor": "white",
            "ticks": ""
           },
           "baxis": {
            "gridcolor": "white",
            "linecolor": "white",
            "ticks": ""
           },
           "bgcolor": "#E5ECF6",
           "caxis": {
            "gridcolor": "white",
            "linecolor": "white",
            "ticks": ""
           }
          },
          "title": {
           "x": 0.05
          },
          "xaxis": {
           "automargin": true,
           "gridcolor": "white",
           "linecolor": "white",
           "ticks": "",
           "title": {
            "standoff": 15
           },
           "zerolinecolor": "white",
           "zerolinewidth": 2
          },
          "yaxis": {
           "automargin": true,
           "gridcolor": "white",
           "linecolor": "white",
           "ticks": "",
           "title": {
            "standoff": 15
           },
           "zerolinecolor": "white",
           "zerolinewidth": 2
          }
         }
        }
       }
      }
     },
     "metadata": {},
     "output_type": "display_data"
    }
   ],
   "source": [
    "import plotly.graph_objects as go\n",
    "\n",
    "points = y_points\n",
    "\n",
    "def plot_3d_points_with_plotly(points):\n",
    "    # Separate points based on their type (A or B)\n",
    "    points_A = [point for point in points if point[0] == 'Yb']\n",
    "    points_B = [point for point in points if point[0] == 'Tm']\n",
    "\n",
    "    # Extract coordinates and values for points of type A\n",
    "\n",
    "    x_A = [point[1][0] for point in points_A]\n",
    "    y_A = [point[1][1] for point in points_A]\n",
    "    z_A = [point[1][2] for point in points_A]\n",
    "\n",
    "    values_A = [point[2] for point in points_A]\n",
    "\n",
    "    # Extract coordinates and values for points of type B\n",
    "    x_B = [point[1][0] for point in points_B]\n",
    "    y_B = [point[1][1] for point in points_B]\n",
    "    z_B = [point[1][2] for point in points_B]\n",
    "    values_B = [point[2] for point in points_B]\n",
    "\n",
    "    # Create 3D scatter plots\n",
    "    trace_A = go.Scatter3d(x=x_A, y=y_A, z=z_A, mode='markers+text',\n",
    "                           marker=dict(size=6, color='blue', opacity=0.8),\n",
    "                           text=values_A, textposition='top center')\n",
    "\n",
    "    trace_B = go.Scatter3d(x=x_B, y=y_B, z=z_B, mode='markers+text',\n",
    "                           marker=dict(size=6, color='pink', opacity=0.8),\n",
    "                           text=values_B, textposition='top center')\n",
    "\n",
    "    # Combine plots and set layout\n",
    "    data = [trace_A, trace_B]\n",
    "    layout = go.Layout(margin=dict(l=0, r=0, b=0, t=0))\n",
    "    fig = go.Figure(data=data, layout=layout)\n",
    "\n",
    "    # Display the figure\n",
    "    fig.show()\n",
    "points = [(point[0], to_euclidean(point[1]), point[2]) for point in points]\n",
    "plot_3d_points_with_plotly(points)\n"
   ]
  }
 ],
 "metadata": {
  "kernelspec": {
   "display_name": "Python 3",
   "language": "python",
   "name": "python3"
  },
  "language_info": {
   "codemirror_mode": {
    "name": "ipython",
    "version": 3
   },
   "file_extension": ".py",
   "mimetype": "text/x-python",
   "name": "python",
   "nbconvert_exporter": "python",
   "pygments_lexer": "ipython3",
   "version": "3.11.3"
  }
 },
 "nbformat": 4,
 "nbformat_minor": 2
}
