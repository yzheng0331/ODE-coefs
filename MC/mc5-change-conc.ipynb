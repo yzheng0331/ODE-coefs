{
 "cells": [
  {
   "cell_type": "code",
   "execution_count": 1,
   "metadata": {},
   "outputs": [],
   "source": [
    "from point import Point\n",
    "from lattice import Lattice\n",
    "from simulator import Simulator\n",
    "from utils import *\n",
    "import numpy as np\n",
    "import matplotlib.pyplot as plt"
   ]
  },
  {
   "cell_type": "code",
   "execution_count": 2,
   "metadata": {},
   "outputs": [
    {
     "name": "stderr",
     "output_type": "stream",
     "text": [
      "100%|██████████| 3401/3401 [00:07<00:00, 464.63it/s]\n",
      "100%|██████████| 3401/3401 [00:07<00:00, 470.63it/s]\n",
      "100%|██████████| 3401/3401 [00:07<00:00, 459.98it/s]\n",
      "100%|██████████| 5000/5000 [02:50<00:00, 29.33it/s]\n",
      "100%|██████████| 5000/5000 [06:47<00:00, 12.27it/s]\n"
     ]
    },
    {
     "name": "stdout",
     "output_type": "stream",
     "text": [
      "0.04 62200.0 6800.0\n"
     ]
    },
    {
     "name": "stderr",
     "output_type": "stream",
     "text": [
      "100%|██████████| 3401/3401 [00:21<00:00, 156.46it/s]\n",
      "100%|██████████| 3401/3401 [00:21<00:00, 156.24it/s]\n",
      "100%|██████████| 3401/3401 [00:22<00:00, 151.37it/s]\n",
      "100%|██████████| 5000/5000 [07:01<00:00, 11.87it/s]  \n",
      "100%|██████████| 5000/5000 [06:43<00:00, 12.39it/s]\n"
     ]
    },
    {
     "name": "stdout",
     "output_type": "stream",
     "text": [
      "0.06 91200.0 10400.0\n"
     ]
    },
    {
     "name": "stderr",
     "output_type": "stream",
     "text": [
      "100%|██████████| 3401/3401 [00:07<00:00, 457.58it/s]\n",
      "100%|██████████| 3401/3401 [00:07<00:00, 466.98it/s]\n",
      "100%|██████████| 3401/3401 [00:07<00:00, 452.81it/s]\n",
      "100%|██████████| 5000/5000 [02:04<00:00, 40.08it/s]\n",
      "100%|██████████| 5000/5000 [02:14<00:00, 37.31it/s]\n"
     ]
    },
    {
     "name": "stdout",
     "output_type": "stream",
     "text": [
      "0.08 111800.0 12000.0\n"
     ]
    },
    {
     "name": "stderr",
     "output_type": "stream",
     "text": [
      "100%|██████████| 3401/3401 [00:07<00:00, 453.43it/s]\n",
      "100%|██████████| 3401/3401 [00:07<00:00, 447.61it/s]\n",
      "100%|██████████| 3401/3401 [00:07<00:00, 432.56it/s]\n",
      "100%|██████████| 5000/5000 [02:08<00:00, 38.87it/s]\n",
      "100%|██████████| 5000/5000 [02:21<00:00, 35.41it/s]\n"
     ]
    },
    {
     "name": "stdout",
     "output_type": "stream",
     "text": [
      "0.1 135000.0 12200.0\n"
     ]
    },
    {
     "name": "stderr",
     "output_type": "stream",
     "text": [
      "100%|██████████| 3401/3401 [00:08<00:00, 405.74it/s]\n",
      "100%|██████████| 3401/3401 [00:08<00:00, 416.10it/s]\n",
      "100%|██████████| 3401/3401 [12:46<00:00,  4.44it/s] \n",
      "100%|██████████| 5000/5000 [03:57<00:00, 21.02it/s]\n",
      "100%|██████████| 5000/5000 [05:57<00:00, 13.97it/s]\n"
     ]
    },
    {
     "name": "stdout",
     "output_type": "stream",
     "text": [
      "0.12 150800.0 14000.0\n"
     ]
    },
    {
     "name": "stderr",
     "output_type": "stream",
     "text": [
      "100%|██████████| 3401/3401 [00:23<00:00, 145.17it/s]\n",
      "100%|██████████| 3401/3401 [00:23<00:00, 142.87it/s]\n",
      "100%|██████████| 3401/3401 [00:24<00:00, 140.40it/s]\n",
      "100%|██████████| 5000/5000 [04:58<00:00, 16.75it/s]\n",
      "100%|██████████| 5000/5000 [05:59<00:00, 13.90it/s]\n"
     ]
    },
    {
     "name": "stdout",
     "output_type": "stream",
     "text": [
      "0.15 177000.0 14000.0\n"
     ]
    },
    {
     "name": "stderr",
     "output_type": "stream",
     "text": [
      "100%|██████████| 3401/3401 [00:23<00:00, 147.10it/s]\n",
      "100%|██████████| 3401/3401 [00:22<00:00, 152.10it/s]\n",
      "100%|██████████| 3401/3401 [00:17<00:00, 196.29it/s]\n",
      "100%|██████████| 5000/5000 [05:01<00:00, 16.60it/s]\n",
      "100%|██████████| 5000/5000 [05:44<00:00, 14.51it/s]"
     ]
    },
    {
     "name": "stdout",
     "output_type": "stream",
     "text": [
      "0.2 202600.0 13600.0\n"
     ]
    },
    {
     "name": "stderr",
     "output_type": "stream",
     "text": [
      "\n"
     ]
    }
   ],
   "source": [
    "tag_default={'c0':9.836061666666665e-40, # Yb-Yb resonant energy transfer\n",
    "             'c1':8.823270689202585e-42,'c2':2.824326729780273e-42,'c3':2.510909737310349e-42,'c4':2.5507997193509964e-43,\n",
    "             'k31':2.0458454593341336e-41,'k41':7.299896312979955e-41,'k51':1.2897342736133983e-40,\n",
    "        'Ws':1000,\n",
    "        'W10':125.48935641249709,\n",
    "        'W21':3.318715560788497 + 149977.8404029679,'W20':176.99746253145912 + 50.01921044404302,\n",
    "        'W32':34.206376660350635 + 7.407650126658919,'W31':66.54090079350377,'W30':778.6223334161804,\n",
    "        'W43':1000.49241968088766640 + 1768677.8208097615,'W42':146.53082969740504,'W41':258.72754779151234 + 58.98152867828142,'W40':1725.685918453449,\n",
    "        'W54':0.013601242611778256 + 0.017876416530239997 + 156605871.04362732,'W53':5.142484506889417 + 230669.86963087242,'W52':192.81631278900016,'W51':362.10251583753916,'W50':548.8209590762159,\n",
    "        'W65':12.27244074045102,'W64':10045.2434631327987160,'W63':23.045067137896037,'W62':494.8335554945873,'W61':790.6119449426245,'W60':612.1894036274351,\n",
    "        'W76':95.08404006966971,'W75':686.9558866118873,'W74':488.5169554820362,'W73':2125.9773631820567,'W72':94.77917251652532,'W71':2862.4113298030165,'W70':7073.7489463917145,\n",
    "        'MPR21':0,'MPR43':0,\n",
    "        'laser': 0}\n",
    "tm_cons = [0.04, 0.06, 0.08, 0.10, 0.12, 0.15, 0.20]\n",
    "p = 10**4\n",
    "nirs = []\n",
    "blues = []\n",
    "tag_default['laser'] = 5.76*(p/100)\n",
    "\n",
    "for conc in tm_cons:\n",
    "    lattice = Lattice(1-conc, conc, 8, 1)\n",
    "    simulator = Simulator(lattice, tag = tag_default)\n",
    "    t1 = 5000\n",
    "    t2 = 10000\n",
    "    nir, blue = simulator.simulate(t1, t2)\n",
    "    nir = nir*10**6\n",
    "    blue = blue*10**6\n",
    "    nirs.append(nir)\n",
    "    blues.append(blue)\n",
    "    print(conc, nir, blue)"
   ]
  },
  {
   "cell_type": "code",
   "execution_count": 10,
   "metadata": {},
   "outputs": [
    {
     "name": "stderr",
     "output_type": "stream",
     "text": [
      "100%|██████████| 3402/3402 [00:07<00:00, 458.73it/s]\n",
      "100%|██████████| 3402/3402 [00:07<00:00, 452.21it/s]\n",
      "100%|██████████| 3402/3402 [00:19<00:00, 172.34it/s]\n",
      "100%|██████████| 5000/5000 [04:29<00:00, 18.53it/s]\n",
      "100%|██████████| 5000/5000 [05:39<00:00, 14.71it/s]"
     ]
    },
    {
     "name": "stdout",
     "output_type": "stream",
     "text": [
      "0.5 212200.0 4600.0\n"
     ]
    },
    {
     "name": "stderr",
     "output_type": "stream",
     "text": [
      "\n"
     ]
    }
   ],
   "source": [
    "tag_default={'c0':9.836061666666665e-40, # Yb-Yb resonant energy transfer\n",
    "             'c1':8.823270689202585e-42,'c2':2.824326729780273e-42,'c3':2.510909737310349e-42,'c4':2.5507997193509964e-43,\n",
    "             'k31':2.0458454593341336e-41,'k41':7.299896312979955e-41,'k51':1.2897342736133983e-40,\n",
    "        'Ws':1000,\n",
    "        'W10':125.48935641249709,\n",
    "        'W21':3.318715560788497 + 149977.8404029679,'W20':176.99746253145912 + 50.01921044404302,\n",
    "        'W32':34.206376660350635 + 7.407650126658919,'W31':66.54090079350377,'W30':778.6223334161804,\n",
    "        'W43':1000.49241968088766640 + 1768677.8208097615,'W42':146.53082969740504,'W41':258.72754779151234 + 58.98152867828142,'W40':1725.685918453449,\n",
    "        'W54':0.013601242611778256 + 0.017876416530239997 + 156605871.04362732,'W53':5.142484506889417 + 230669.86963087242,'W52':192.81631278900016,'W51':362.10251583753916,'W50':548.8209590762159,\n",
    "        'W65':12.27244074045102,'W64':10045.2434631327987160,'W63':23.045067137896037,'W62':494.8335554945873,'W61':790.6119449426245,'W60':612.1894036274351,\n",
    "        'W76':95.08404006966971,'W75':686.9558866118873,'W74':488.5169554820362,'W73':2125.9773631820567,'W72':94.77917251652532,'W71':2862.4113298030165,'W70':7073.7489463917145,\n",
    "        'MPR21':0,'MPR43':0,\n",
    "        'laser': 0}\n",
    "tm_cons = [0.50]\n",
    "p = 10**4\n",
    "# nirs = []\n",
    "# blues = []\n",
    "tag_default['laser'] = 5.76*(p/100)\n",
    "\n",
    "for conc in tm_cons:\n",
    "    lattice = Lattice(1-conc, conc, 8, 1)\n",
    "    simulator = Simulator(lattice, tag = tag_default)\n",
    "    t1 = 5000\n",
    "    t2 = 10000\n",
    "    nir, blue = simulator.simulate(t1, t2)\n",
    "    nir = nir*10**6\n",
    "    blue = blue*10**6\n",
    "    nirs.append(nir)\n",
    "    blues.append(blue)\n",
    "    print(conc, nir, blue)"
   ]
  },
  {
   "cell_type": "code",
   "execution_count": 11,
   "metadata": {},
   "outputs": [
    {
     "name": "stderr",
     "output_type": "stream",
     "text": [
      "100%|██████████| 3401/3401 [00:07<00:00, 452.66it/s]\n",
      "100%|██████████| 3401/3401 [00:16<00:00, 202.86it/s]\n",
      "100%|██████████| 3401/3401 [00:24<00:00, 138.32it/s]\n",
      "100%|██████████| 5000/5000 [05:11<00:00, 16.07it/s]\n",
      "100%|██████████| 5000/5000 [05:51<00:00, 14.22it/s]"
     ]
    },
    {
     "name": "stdout",
     "output_type": "stream",
     "text": [
      "0.3 243800.0 8000.0\n"
     ]
    },
    {
     "name": "stderr",
     "output_type": "stream",
     "text": [
      "\n"
     ]
    }
   ],
   "source": [
    "tag_default={'c0':9.836061666666665e-40, # Yb-Yb resonant energy transfer\n",
    "             'c1':8.823270689202585e-42,'c2':2.824326729780273e-42,'c3':2.510909737310349e-42,'c4':2.5507997193509964e-43,\n",
    "             'k31':2.0458454593341336e-41,'k41':7.299896312979955e-41,'k51':1.2897342736133983e-40,\n",
    "        'Ws':1000,\n",
    "        'W10':125.48935641249709,\n",
    "        'W21':3.318715560788497 + 149977.8404029679,'W20':176.99746253145912 + 50.01921044404302,\n",
    "        'W32':34.206376660350635 + 7.407650126658919,'W31':66.54090079350377,'W30':778.6223334161804,\n",
    "        'W43':1000.49241968088766640 + 1768677.8208097615,'W42':146.53082969740504,'W41':258.72754779151234 + 58.98152867828142,'W40':1725.685918453449,\n",
    "        'W54':0.013601242611778256 + 0.017876416530239997 + 156605871.04362732,'W53':5.142484506889417 + 230669.86963087242,'W52':192.81631278900016,'W51':362.10251583753916,'W50':548.8209590762159,\n",
    "        'W65':12.27244074045102,'W64':10045.2434631327987160,'W63':23.045067137896037,'W62':494.8335554945873,'W61':790.6119449426245,'W60':612.1894036274351,\n",
    "        'W76':95.08404006966971,'W75':686.9558866118873,'W74':488.5169554820362,'W73':2125.9773631820567,'W72':94.77917251652532,'W71':2862.4113298030165,'W70':7073.7489463917145,\n",
    "        'MPR21':0,'MPR43':0,\n",
    "        'laser': 0}\n",
    "tm_cons = [0.30]\n",
    "p = 10**4\n",
    "# nirs = []\n",
    "# blues = []\n",
    "tag_default['laser'] = 5.76*(p/100)\n",
    "\n",
    "for conc in tm_cons:\n",
    "    lattice = Lattice(1-conc, conc, 8, 1)\n",
    "    simulator = Simulator(lattice, tag = tag_default)\n",
    "    t1 = 5000\n",
    "    t2 = 10000\n",
    "    nir, blue = simulator.simulate(t1, t2)\n",
    "    nir = nir*10**6\n",
    "    blue = blue*10**6\n",
    "    nirs.append(nir)\n",
    "    blues.append(blue)\n",
    "    print(conc, nir, blue)"
   ]
  },
  {
   "cell_type": "code",
   "execution_count": 14,
   "metadata": {},
   "outputs": [],
   "source": [
    "nirs[-2], nirs[-1] = nirs[-1], nirs[-2]\n",
    "blues[-2], blues[-1] = blues[-1], blues[-2]"
   ]
  },
  {
   "cell_type": "code",
   "execution_count": 29,
   "metadata": {},
   "outputs": [
    {
     "data": {
      "text/plain": [
       "([0.2551271534044299,\n",
       "  0.37407711238720265,\n",
       "  0.4585726004922067,\n",
       "  0.5537325676784249,\n",
       "  0.6185397867104184,\n",
       "  0.7260049220672683,\n",
       "  0.8310090237899918,\n",
       "  1.0,\n",
       "  0.8703855619360131],\n",
       " [0.4857142857142857,\n",
       "  0.7428571428571429,\n",
       "  0.8571428571428571,\n",
       "  0.8714285714285714,\n",
       "  1.0,\n",
       "  1.0,\n",
       "  0.9714285714285714,\n",
       "  0.5714285714285714,\n",
       "  0.32857142857142857])"
      ]
     },
     "execution_count": 29,
     "metadata": {},
     "output_type": "execute_result"
    }
   ],
   "source": [
    "nirs, blues"
   ]
  },
  {
   "cell_type": "code",
   "execution_count": 20,
   "metadata": {},
   "outputs": [
    {
     "data": {
      "image/png": "[encoded data removed]",
      "text/plain": [
       "<Figure size 640x480 with 1 Axes>"
      ]
     },
     "metadata": {},
     "output_type": "display_data"
    }
   ],
   "source": [
    "# plt.scatter(power, nirs, color='darkorange', label='Data points')\n",
    "tm_cons = [0.04, 0.06, 0.08, 0.10, 0.12, 0.15, 0.20, 0.30, 0.50]\n",
    "# Lines connecting the points\n",
    "plt.plot(tm_cons, nirs, color='tomato', linestyle='-', marker='o', markersize=8, label='Lines')\n",
    "\n",
    "# Labels and title\n",
    "plt.xlabel('Tm Concentration')\n",
    "plt.ylabel('Photon per Second')\n",
    "plt.title('NIR Photon per Second with Changing Concentration')\n",
    "\n",
    "# Display legend\n",
    "# plt.legend()\n",
    "plt.yscale('log')\n",
    "# Show the plot\n",
    "plt.grid(True)\n",
    "plt.show()\n"
   ]
  },
  {
   "cell_type": "code",
   "execution_count": 21,
   "metadata": {},
   "outputs": [
    {
     "data": {
      "image/png": "[encoded data removed]",
      "text/plain": [
       "<Figure size 640x480 with 1 Axes>"
      ]
     },
     "metadata": {},
     "output_type": "display_data"
    }
   ],
   "source": [
    "# plt.scatter(power, blues, color='deepskyblue', label='Data points')\n",
    "\n",
    "# Lines connecting the points\n",
    "plt.plot(tm_cons, blues, color='royalblue', linestyle='-', marker='o', markersize=8, label='Lines')\n",
    "\n",
    "# Labels and title\n",
    "plt.xlabel('Tm Concentration')\n",
    "plt.ylabel('Photon per Second')\n",
    "plt.title('Blue Photon per Second with Changing Concentration')\n",
    "\n",
    "# Display legend\n",
    "# plt.legend()\n",
    "plt.yscale('log')\n",
    "# Show the plot\n",
    "plt.grid(True)\n",
    "plt.show()\n"
   ]
  },
  {
   "cell_type": "code",
   "execution_count": 28,
   "metadata": {},
   "outputs": [
    {
     "data": {
      "image/png": "[encoded data removed]",
      "text/plain": [
       "<Figure size 640x480 with 1 Axes>"
      ]
     },
     "metadata": {},
     "output_type": "display_data"
    }
   ],
   "source": [
    "# plt.scatter(power, blues, color='deepskyblue', label='Data points')\n",
    "\n",
    "# Lines connecting the points\n",
    "nirmax = max(nirs)\n",
    "bluemax = max(blues)\n",
    "nirs = [nir/nirmax for nir in nirs]\n",
    "blues = [blue/bluemax for blue in blues]\n",
    "plt.plot(tm_cons, nirs, color='tomato', linestyle='-', marker='o', markersize=8, label='NIR Emission')\n",
    "plt.plot(tm_cons, blues, color='royalblue', linestyle='-', marker='o', markersize=8, label='Blue Emission')\n",
    "\n",
    "# Labels and title\n",
    "plt.xlabel('Tm Concentration (Tm+Yb=100%)')\n",
    "plt.ylabel('Normalized Photons per Second')\n",
    "plt.title('Photons per Second with Changing Concentration')\n",
    "\n",
    "# Display legend\n",
    "plt.legend()\n",
    "# plt.yscale('log')\n",
    "# Show the plot\n",
    "plt.grid(True)\n",
    "plt.show()\n"
   ]
  },
  {
   "cell_type": "code",
   "execution_count": 31,
   "metadata": {},
   "outputs": [
    {
     "name": "stderr",
     "output_type": "stream",
     "text": [
      "100%|██████████| 438/438 [00:00<00:00, 3743.66it/s]\n"
     ]
    },
    {
     "data": {
      "application/vnd.plotly.v1+json": {
       "config": {
        "plotlyServerURL": "https://plot.ly"
       },
       "data": [
        {
         "marker": {
          "color": "blue",
          "opacity": 0.8,
          "size": 6
         },
         "mode": "markers+text",
         "name": "Yb",
         "text": [
          "0",
          "0",
          "0",
          "0",
          "0",
          "0",
          "0",
          "0",
          "0",
          "0",
          "0",
          "0",
          "0",
          "0",
          "1",
          "0",
          "0",
          "0",
          "1",
          "0",
          "0",
          "0",
          "0",
          "0",
          "1",
          "1",
          "0",
          "0",
          "0",
          "0",
          "0",
          "0",
          "0",
          "0",
          "0",
          "1",
          "0",
          "0",
          "0",
          "0",
          "0",
          "0",
          "0",
          "0",
          "0",
          "0",
          "0",
          "0",
          "0",
          "0",
          "1",
          "0",
          "0",
          "0",
          "0",
          "0",
          "0",
          "0",
          "0",
          "0",
          "1",
          "0",
          "0",
          "0",
          "0",
          "0",
          "0",
          "0",
          "0",
          "1",
          "0",
          "0",
          "0",
          "0",
          "0",
          "0",
          "0",
          "0",
          "0",
          "0",
          "0",
          "0",
          "0",
          "0",
          "0",
          "0",
          "0",
          "0",
          "0",
          "0",
          "0",
          "0",
          "0",
          "0",
          "0",
          "0",
          "0",
          "0",
          "0",
          "0",
          "0",
          "0",
          "0",
          "0",
          "0",
          "0",
          "1",
          "0",
          "0",
          "0",
          "0",
          "0",
          "0",
          "0",
          "1",
          "0",
          "0",
          "0",
          "0",
          "0",
          "0",
          "0",
          "0",
          "0",
          "0",
          "0",
          "0",
          "0",
          "0",
          "0",
          "0",
          "1",
          "0",
          "0",
          "0",
          "0",
          "0",
          "1",
          "0",
          "0",
          "0",
          "0",
          "0",
          "0",
          "1",
          "0",
          "1",
          "0",
          "0",
          "0",
          "0",
          "1",
          "0",
          "0",
          "0",
          "0",
          "1",
          "1",
          "0",
          "0",
          "0",
          "0",
          "0",
          "0",
          "0",
          "0",
          "1",
          "0",
          "0",
          "0",
          "0",
          "0",
          "0",
          "0",
          "0",
          "0",
          "0",
          "0",
          "1",
          "0",
          "0",
          "0",
          "0",
          "1",
          "1",
          "1",
          "0",
          "0",
          "0",
          "0",
          "0",
          "0",
          "0",
          "0",
          "1",
          "0",
          "0",
          "1",
          "0",
          "0",
          "0",
          "0",
          "0",
          "0",
          "0",
          "1",
          "0",
          "0",
          "0",
          "0",
          "0",
          "0",
          "0",
          "0",
          "0",
          "0",
          "0",
          "0",
          "1",
          "0",
          "0",
          "0",
          "1",
          "0",
          "0",
          "0",
          "1",
          "0",
          "0",
          "0",
          "0",
          "0",
          "0",
          "0",
          "0",
          "0",
          "0",
          "0",
          "0",
          "0",
          "0",
          "0",
          "0",
          "0",
          "0",
          "0",
          "0",
          "1",
          "0",
          "0",
          "0",
          "0",
          "0",
          "0",
          "0",
          "0",
          "0",
          "1",
          "0",
          "0",
          "0",
          "0",
          "1",
          "0",
          "0",
          "0",
          "0",
          "0",
          "0",
          "1",
          "0",
          "1",
          "0",
          "0",
          "0",
          "0",
          "1",
          "0",
          "0",
          "1",
          "0",
          "0",
          "0",
          "0",
          "0",
          "0",
          "0",
          "0",
          "0",
          "1",
          "0",
          "0",
          "0",
          "0",
          "0",
          "0",
          "0",
          "1",
          "1",
          "1",
          "0",
          "0",
          "0",
          "0",
          "0",
          "0",
          "0",
          "0",
          "0",
          "0",
          "0",
          "0",
          "0",
          "0",
          "1",
          "0",
          "0",
          "0",
          "0",
          "0",
          "0",
          "1",
          "0",
          "0",
          "0",
          "1",
          "0",
          "0",
          "0",
          "1",
          "0",
          "0",
          "0",
          "0",
          "1",
          "0",
          "0",
          "0",
          "0",
          "0",
          "1",
          "0",
          "0",
          "0",
          "0",
          "0",
          "0",
          "0",
          "0",
          "1",
          "0",
          "0",
          "0",
          "1",
          "1",
          "0",
          "1",
          "0",
          "1",
          "0",
          "1",
          "1",
          "0",
          "0",
          "0",
          "0",
          "1",
          "0",
          "0",
          "0",
          "0",
          "0",
          "0"
         ],
         "textposition": "top center",
         "type": "scatter3d",
         "x": [
          -1.788,
          -1.788,
          -1.788,
          -1.49,
          -1.49,
          -1.49,
          -1.49,
          -1.49,
          -1.192,
          -1.192,
          -1.192,
          -1.192,
          -0.8939999999999999,
          -0.8939999999999999,
          -0.8939999999999999,
          -0.8939999999999999,
          -0.8939999999999999,
          -0.596,
          -0.596,
          -1.49,
          -1.49,
          -1.49,
          -1.192,
          -1.192,
          -1.192,
          -0.8939999999999999,
          -0.8939999999999999,
          -0.8939999999999999,
          -0.8939999999999999,
          -0.596,
          -0.596,
          -0.596,
          -0.596,
          -0.596,
          -0.596,
          -0.596,
          -0.29799999999999993,
          -0.29799999999999993,
          -0.29799999999999993,
          -0.29799999999999993,
          -0.29799999999999993,
          0,
          0,
          0,
          -1.192,
          -1.192,
          -0.894,
          -0.894,
          -0.894,
          -0.894,
          -0.894,
          -0.894,
          -0.894,
          -0.5960000000000001,
          -0.5960000000000001,
          -0.5960000000000001,
          -0.5960000000000001,
          -0.5960000000000001,
          -0.5960000000000001,
          -0.5960000000000001,
          -0.29800000000000004,
          -0.29800000000000004,
          -0.29800000000000004,
          -0.29800000000000004,
          -0.29800000000000004,
          -0.29800000000000004,
          -0.29800000000000004,
          -5.551115123125783e-17,
          -5.551115123125783e-17,
          -5.551115123125783e-17,
          -5.551115123125783e-17,
          -5.551115123125783e-17,
          -5.551115123125783e-17,
          -5.551115123125783e-17,
          -5.551115123125783e-17,
          0.298,
          0.298,
          0.298,
          0.298,
          0.5959999999999999,
          0.5959999999999999,
          -0.596,
          -0.596,
          -0.596,
          -0.596,
          -0.596,
          -0.298,
          -0.298,
          -0.298,
          -0.298,
          -0.298,
          -0.298,
          -0.298,
          -2.7755575615628914e-17,
          -2.7755575615628914e-17,
          -2.7755575615628914e-17,
          -2.7755575615628914e-17,
          -2.7755575615628914e-17,
          -2.7755575615628914e-17,
          0.298,
          0.298,
          0.298,
          0.298,
          0.298,
          0.298,
          0.298,
          0.596,
          0.596,
          0.596,
          0.596,
          0.596,
          0.596,
          0.894,
          0.894,
          0.894,
          0.894,
          0,
          0.298,
          0.298,
          0.298,
          0.298,
          0.298,
          0.298,
          0.298,
          0.298,
          0.596,
          0.596,
          0.596,
          0.596,
          0.596,
          0.596,
          0.596,
          0.8939999999999999,
          0.8939999999999999,
          0.8939999999999999,
          0.8939999999999999,
          0.8939999999999999,
          0.8939999999999999,
          0.8939999999999999,
          0.8939999999999999,
          0.8939999999999999,
          1.192,
          1.192,
          1.192,
          1.192,
          1.192,
          1.49,
          1.49,
          1.49,
          0.5960000000000001,
          0.5960000000000001,
          0.5960000000000001,
          0.5960000000000001,
          0.5960000000000001,
          0.5960000000000001,
          0.8940000000000001,
          0.8940000000000001,
          0.8940000000000001,
          0.8940000000000001,
          1.192,
          1.49,
          1.49,
          1.49,
          1.49,
          1.49,
          1.49,
          1.49,
          1.788,
          1.788,
          1.788,
          1.788,
          1.192,
          1.192,
          1.192,
          1.49,
          1.49,
          1.49,
          1.7879999999999998,
          1.7879999999999998,
          -1.7879999999999998,
          -1.7879999999999998,
          -1.7879999999999998,
          -1.49,
          -1.49,
          -1.49,
          -1.192,
          -1.192,
          -1.192,
          -1.49,
          -1.49,
          -1.49,
          -1.49,
          -1.49,
          -1.49,
          -1.49,
          -1.192,
          -1.192,
          -1.192,
          -1.192,
          -1.192,
          -0.8940000000000001,
          -0.8940000000000001,
          -0.8940000000000001,
          -0.8940000000000001,
          -0.5960000000000001,
          -0.5960000000000001,
          -0.5960000000000001,
          -0.5960000000000001,
          -0.5960000000000001,
          -0.5960000000000001,
          -0.5960000000000001,
          -1.49,
          -1.49,
          -1.192,
          -1.192,
          -1.192,
          -1.192,
          -1.192,
          -1.192,
          -0.8939999999999999,
          -0.8939999999999999,
          -0.8939999999999999,
          -0.8939999999999999,
          -0.8939999999999999,
          -0.8939999999999999,
          -0.8939999999999999,
          -0.8939999999999999,
          -0.8939999999999999,
          -0.596,
          -0.596,
          -0.596,
          -0.596,
          -0.596,
          -0.596,
          -0.298,
          -0.298,
          -0.298,
          0,
          0,
          0,
          0,
          0,
          0,
          0,
          -0.894,
          -0.894,
          -0.894,
          -0.894,
          -0.596,
          -0.596,
          -0.596,
          -0.596,
          -0.596,
          -0.596,
          -0.298,
          -0.298,
          -0.298,
          -0.298,
          -0.298,
          -0.298,
          -0.298,
          2.7755575615628914e-17,
          2.7755575615628914e-17,
          2.7755575615628914e-17,
          2.7755575615628914e-17,
          2.7755575615628914e-17,
          2.7755575615628914e-17,
          2.7755575615628914e-17,
          2.7755575615628914e-17,
          0.298,
          0.298,
          0.298,
          0.298,
          0.298,
          0.298,
          0.596,
          0.596,
          0.596,
          0.596,
          0.596,
          0.596,
          0.596,
          -0.5959999999999999,
          -0.5959999999999999,
          -0.5959999999999999,
          -0.298,
          -0.298,
          -0.298,
          -0.298,
          5.551115123125783e-17,
          5.551115123125783e-17,
          5.551115123125783e-17,
          5.551115123125783e-17,
          5.551115123125783e-17,
          5.551115123125783e-17,
          5.551115123125783e-17,
          0.29800000000000004,
          0.29800000000000004,
          0.29800000000000004,
          0.29800000000000004,
          0.29800000000000004,
          0.29800000000000004,
          0.29800000000000004,
          0.5960000000000001,
          0.5960000000000001,
          0.5960000000000001,
          0.5960000000000001,
          0.5960000000000001,
          0.5960000000000001,
          0.5960000000000001,
          0.5960000000000001,
          0.5960000000000001,
          0.894,
          0.894,
          0.894,
          0.894,
          0.894,
          1.192,
          1.192,
          1.192,
          1.192,
          0,
          0,
          0,
          0.29799999999999993,
          0.29799999999999993,
          0.29799999999999993,
          0.29799999999999993,
          0.29799999999999993,
          0.29799999999999993,
          0.29799999999999993,
          0.596,
          0.596,
          0.596,
          0.596,
          0.596,
          0.596,
          0.596,
          0.8939999999999999,
          0.8939999999999999,
          0.8939999999999999,
          0.8939999999999999,
          0.8939999999999999,
          0.8939999999999999,
          0.8939999999999999,
          1.192,
          1.192,
          1.192,
          1.192,
          1.192,
          1.49,
          1.49,
          1.49,
          1.49,
          0.596,
          0.596,
          0.596,
          0.596,
          0.8939999999999999,
          0.8939999999999999,
          0.8939999999999999,
          1.192,
          1.192,
          1.192,
          1.192,
          1.192,
          1.192,
          1.192,
          1.192,
          1.49,
          1.49,
          1.49,
          1.788
         ],
         "y": [
          -0.34410076043701693,
          -0.34410076043701693,
          -0.34410076043701693,
          0.17205038021850844,
          0.17205038021850844,
          0.17205038021850844,
          0.17205038021850844,
          0.17205038021850844,
          0.6882015208740337,
          0.6882015208740337,
          0.6882015208740337,
          0.6882015208740337,
          1.2043526615295592,
          1.2043526615295592,
          1.2043526615295592,
          1.2043526615295592,
          1.2043526615295592,
          1.7205038021850847,
          1.7205038021850847,
          -0.8602519010925423,
          -0.8602519010925423,
          -0.8602519010925423,
          -0.34410076043701693,
          -0.34410076043701693,
          -0.34410076043701693,
          0.17205038021850844,
          0.17205038021850844,
          0.17205038021850844,
          0.17205038021850844,
          0.6882015208740337,
          0.6882015208740337,
          0.6882015208740337,
          0.6882015208740337,
          0.6882015208740337,
          0.6882015208740337,
          0.6882015208740337,
          1.2043526615295592,
          1.2043526615295592,
          1.2043526615295592,
          1.2043526615295592,
          1.2043526615295592,
          1.7205038021850847,
          1.7205038021850847,
          1.7205038021850847,
          -1.3764030417480675,
          -1.3764030417480675,
          -0.8602519010925423,
          -0.8602519010925423,
          -0.8602519010925423,
          -0.8602519010925423,
          -0.8602519010925423,
          -0.8602519010925423,
          -0.8602519010925423,
          -0.34410076043701693,
          -0.34410076043701693,
          -0.34410076043701693,
          -0.34410076043701693,
          -0.34410076043701693,
          -0.34410076043701693,
          -0.34410076043701693,
          0.17205038021850844,
          0.17205038021850844,
          0.17205038021850844,
          0.17205038021850844,
          0.17205038021850844,
          0.17205038021850844,
          0.17205038021850844,
          0.6882015208740337,
          0.6882015208740337,
          0.6882015208740337,
          0.6882015208740337,
          0.6882015208740337,
          0.6882015208740337,
          0.6882015208740337,
          0.6882015208740337,
          1.2043526615295592,
          1.2043526615295592,
          1.2043526615295592,
          1.2043526615295592,
          1.7205038021850847,
          1.7205038021850847,
          -1.3764030417480675,
          -1.3764030417480675,
          -1.3764030417480675,
          -1.3764030417480675,
          -1.3764030417480675,
          -0.8602519010925423,
          -0.8602519010925423,
          -0.8602519010925423,
          -0.8602519010925423,
          -0.8602519010925423,
          -0.8602519010925423,
          -0.8602519010925423,
          -0.34410076043701693,
          -0.34410076043701693,
          -0.34410076043701693,
          -0.34410076043701693,
          -0.34410076043701693,
          -0.34410076043701693,
          0.17205038021850844,
          0.17205038021850844,
          0.17205038021850844,
          0.17205038021850844,
          0.17205038021850844,
          0.17205038021850844,
          0.17205038021850844,
          0.6882015208740337,
          0.6882015208740337,
          0.6882015208740337,
          0.6882015208740337,
          0.6882015208740337,
          0.6882015208740337,
          1.2043526615295592,
          1.2043526615295592,
          1.2043526615295592,
          1.2043526615295592,
          -1.3764030417480675,
          -0.8602519010925423,
          -0.8602519010925423,
          -0.8602519010925423,
          -0.8602519010925423,
          -0.8602519010925423,
          -0.8602519010925423,
          -0.8602519010925423,
          -0.8602519010925423,
          -0.34410076043701693,
          -0.34410076043701693,
          -0.34410076043701693,
          -0.34410076043701693,
          -0.34410076043701693,
          -0.34410076043701693,
          -0.34410076043701693,
          0.17205038021850844,
          0.17205038021850844,
          0.17205038021850844,
          0.17205038021850844,
          0.17205038021850844,
          0.17205038021850844,
          0.17205038021850844,
          0.17205038021850844,
          0.17205038021850844,
          0.6882015208740337,
          0.6882015208740337,
          0.6882015208740337,
          0.6882015208740337,
          0.6882015208740337,
          1.2043526615295592,
          1.2043526615295592,
          1.2043526615295592,
          -1.3764030417480675,
          -1.3764030417480675,
          -1.3764030417480675,
          -1.3764030417480675,
          -1.3764030417480675,
          -1.3764030417480675,
          -0.8602519010925423,
          -0.8602519010925423,
          -0.8602519010925423,
          -0.8602519010925423,
          -0.34410076043701693,
          0.17205038021850844,
          0.17205038021850844,
          0.17205038021850844,
          0.17205038021850844,
          0.17205038021850844,
          0.17205038021850844,
          0.17205038021850844,
          0.6882015208740337,
          0.6882015208740337,
          0.6882015208740337,
          0.6882015208740337,
          -1.3764030417480675,
          -1.3764030417480675,
          -1.3764030417480675,
          -0.8602519010925423,
          -0.8602519010925423,
          -0.8602519010925423,
          -0.34410076043701693,
          -0.34410076043701693,
          0.34410076043701693,
          0.34410076043701693,
          0.34410076043701693,
          0.8602519010925423,
          0.8602519010925423,
          0.8602519010925423,
          1.3764030417480675,
          1.3764030417480675,
          1.3764030417480675,
          -0.17205038021850844,
          -0.17205038021850844,
          -0.17205038021850844,
          -0.17205038021850844,
          -0.17205038021850844,
          -0.17205038021850844,
          -0.17205038021850844,
          0.34410076043701693,
          0.34410076043701693,
          0.34410076043701693,
          0.34410076043701693,
          0.34410076043701693,
          0.8602519010925423,
          0.8602519010925423,
          0.8602519010925423,
          0.8602519010925423,
          1.3764030417480675,
          1.3764030417480675,
          1.3764030417480675,
          1.3764030417480675,
          1.3764030417480675,
          1.3764030417480675,
          1.3764030417480675,
          -1.2043526615295592,
          -1.2043526615295592,
          -0.6882015208740337,
          -0.6882015208740337,
          -0.6882015208740337,
          -0.6882015208740337,
          -0.6882015208740337,
          -0.6882015208740337,
          -0.17205038021850844,
          -0.17205038021850844,
          -0.17205038021850844,
          -0.17205038021850844,
          -0.17205038021850844,
          -0.17205038021850844,
          -0.17205038021850844,
          -0.17205038021850844,
          -0.17205038021850844,
          0.34410076043701693,
          0.34410076043701693,
          0.34410076043701693,
          0.34410076043701693,
          0.34410076043701693,
          0.34410076043701693,
          0.8602519010925423,
          0.8602519010925423,
          0.8602519010925423,
          1.3764030417480675,
          1.3764030417480675,
          1.3764030417480675,
          1.3764030417480675,
          1.3764030417480675,
          1.3764030417480675,
          1.3764030417480675,
          -1.2043526615295592,
          -1.2043526615295592,
          -1.2043526615295592,
          -1.2043526615295592,
          -0.6882015208740337,
          -0.6882015208740337,
          -0.6882015208740337,
          -0.6882015208740337,
          -0.6882015208740337,
          -0.6882015208740337,
          -0.17205038021850844,
          -0.17205038021850844,
          -0.17205038021850844,
          -0.17205038021850844,
          -0.17205038021850844,
          -0.17205038021850844,
          -0.17205038021850844,
          0.34410076043701693,
          0.34410076043701693,
          0.34410076043701693,
          0.34410076043701693,
          0.34410076043701693,
          0.34410076043701693,
          0.34410076043701693,
          0.34410076043701693,
          0.8602519010925423,
          0.8602519010925423,
          0.8602519010925423,
          0.8602519010925423,
          0.8602519010925423,
          0.8602519010925423,
          1.3764030417480675,
          1.3764030417480675,
          1.3764030417480675,
          1.3764030417480675,
          1.3764030417480675,
          1.3764030417480675,
          1.3764030417480675,
          -1.7205038021850847,
          -1.7205038021850847,
          -1.7205038021850847,
          -1.2043526615295592,
          -1.2043526615295592,
          -1.2043526615295592,
          -1.2043526615295592,
          -0.6882015208740337,
          -0.6882015208740337,
          -0.6882015208740337,
          -0.6882015208740337,
          -0.6882015208740337,
          -0.6882015208740337,
          -0.6882015208740337,
          -0.17205038021850844,
          -0.17205038021850844,
          -0.17205038021850844,
          -0.17205038021850844,
          -0.17205038021850844,
          -0.17205038021850844,
          -0.17205038021850844,
          0.34410076043701693,
          0.34410076043701693,
          0.34410076043701693,
          0.34410076043701693,
          0.34410076043701693,
          0.34410076043701693,
          0.34410076043701693,
          0.34410076043701693,
          0.34410076043701693,
          0.8602519010925423,
          0.8602519010925423,
          0.8602519010925423,
          0.8602519010925423,
          0.8602519010925423,
          1.3764030417480675,
          1.3764030417480675,
          1.3764030417480675,
          1.3764030417480675,
          -1.7205038021850847,
          -1.7205038021850847,
          -1.7205038021850847,
          -1.2043526615295592,
          -1.2043526615295592,
          -1.2043526615295592,
          -1.2043526615295592,
          -1.2043526615295592,
          -1.2043526615295592,
          -1.2043526615295592,
          -0.6882015208740337,
          -0.6882015208740337,
          -0.6882015208740337,
          -0.6882015208740337,
          -0.6882015208740337,
          -0.6882015208740337,
          -0.6882015208740337,
          -0.17205038021850844,
          -0.17205038021850844,
          -0.17205038021850844,
          -0.17205038021850844,
          -0.17205038021850844,
          -0.17205038021850844,
          -0.17205038021850844,
          0.34410076043701693,
          0.34410076043701693,
          0.34410076043701693,
          0.34410076043701693,
          0.34410076043701693,
          0.8602519010925423,
          0.8602519010925423,
          0.8602519010925423,
          0.8602519010925423,
          -1.7205038021850847,
          -1.7205038021850847,
          -1.7205038021850847,
          -1.7205038021850847,
          -1.2043526615295592,
          -1.2043526615295592,
          -1.2043526615295592,
          -0.6882015208740337,
          -0.6882015208740337,
          -0.6882015208740337,
          -0.6882015208740337,
          -0.6882015208740337,
          -0.6882015208740337,
          -0.6882015208740337,
          -0.6882015208740337,
          -0.17205038021850844,
          -0.17205038021850844,
          -0.17205038021850844,
          0.34410076043701693
         ],
         "z": [
          -0.5295,
          0.1765,
          0.5295,
          -1.2355,
          -0.8825,
          -0.5295,
          0.1765,
          0.5295,
          -1.2355,
          -0.8825,
          -0.5295,
          0.8825,
          -1.2355,
          -0.1765,
          0.1765,
          0.5295,
          0.8825,
          -0.5295,
          0.5295,
          -0.5295,
          -0.1765,
          0.8825,
          -1.2355,
          0.8825,
          1.2355,
          -1.2355,
          -0.5295,
          -0.1765,
          0.1765,
          -1.5884999999999998,
          -1.2355,
          -0.5295,
          -0.1765,
          0.8825,
          1.2355,
          1.5884999999999998,
          -1.2355,
          -0.5295,
          -0.1765,
          0.1765,
          0.5295,
          -0.5295,
          -0.1765,
          0.5295,
          0.1765,
          0.5295,
          -1.2355,
          -0.8825,
          -0.5295,
          0.1765,
          0.5295,
          0.8825,
          1.2355,
          -1.5884999999999998,
          -0.8825,
          -0.5295,
          -0.1765,
          0.1765,
          0.5295,
          1.2355,
          -0.8825,
          -0.5295,
          0.1765,
          0.5295,
          0.8825,
          1.2355,
          1.9415,
          -1.5884999999999998,
          -0.8825,
          -0.5295,
          -0.1765,
          0.1765,
          0.5295,
          0.8825,
          1.2355,
          -1.2355,
          0.1765,
          0.5295,
          1.2355,
          -0.5295,
          0.5295,
          -0.8825,
          -0.1765,
          0.5295,
          0.8825,
          1.2355,
          -0.5295,
          -0.1765,
          0.1765,
          0.5295,
          0.8825,
          1.2355,
          1.5884999999999998,
          -0.5295,
          -0.1765,
          0.1765,
          0.8825,
          1.2355,
          1.9415,
          -1.5884999999999998,
          -0.5295,
          -0.1765,
          0.5295,
          0.8825,
          1.2355,
          1.5884999999999998,
          -1.2355,
          -0.1765,
          0.1765,
          0.5295,
          0.8825,
          1.2355,
          -1.2355,
          -0.5295,
          -0.1765,
          0.8825,
          0.1765,
          -1.5884999999999998,
          -1.2355,
          -0.1765,
          0.1765,
          0.5295,
          0.8825,
          1.2355,
          1.5884999999999998,
          -1.5884999999999998,
          -1.2355,
          -0.8825,
          -0.5295,
          0.1765,
          0.5295,
          1.2355,
          -1.5884999999999998,
          -1.2355,
          -0.8825,
          -0.1765,
          0.1765,
          0.5295,
          0.8825,
          1.2355,
          1.5884999999999998,
          -1.2355,
          -0.8825,
          -0.5295,
          0.1765,
          0.8825,
          -0.1765,
          0.1765,
          0.5295,
          -1.2355,
          -0.5295,
          -0.1765,
          0.5295,
          0.8825,
          1.2355,
          -0.8825,
          -0.5295,
          -0.1765,
          0.1765,
          -0.1765,
          -1.2355,
          -0.8825,
          -0.5295,
          -0.1765,
          0.5295,
          0.8825,
          1.2355,
          -0.5295,
          -0.1765,
          0.1765,
          0.5295,
          -0.5295,
          -0.1765,
          0.1765,
          -0.5295,
          0.5295,
          0.8825,
          -0.5295,
          -0.1765,
          -0.5295,
          -0.1765,
          0.5295,
          -0.5295,
          -0.1765,
          0.1765,
          -0.5295,
          -0.1765,
          0.1765,
          -1.2355,
          -0.8825,
          -0.5295,
          -0.1765,
          0.1765,
          0.5295,
          1.2355,
          -0.8825,
          -0.5295,
          -0.1765,
          0.5295,
          0.8825,
          -1.2355,
          -0.8825,
          0.5295,
          0.8825,
          -1.2355,
          -0.8825,
          -0.5295,
          -0.1765,
          0.1765,
          0.5295,
          0.8825,
          -0.5295,
          0.5295,
          -1.2355,
          -0.8825,
          -0.1765,
          0.1765,
          0.8825,
          1.2355,
          -1.2355,
          -0.8825,
          -0.5295,
          -0.1765,
          0.1765,
          0.5295,
          0.8825,
          1.2355,
          1.5884999999999998,
          -1.2355,
          -0.8825,
          -0.5295,
          0.8825,
          1.2355,
          1.5884999999999998,
          -1.5884999999999998,
          -0.8825,
          0.8825,
          -1.2355,
          -0.8825,
          -0.1765,
          0.1765,
          0.5295,
          0.8825,
          1.2355,
          -1.2355,
          -0.1765,
          0.5295,
          0.8825,
          -1.2355,
          -0.5295,
          -0.1765,
          0.5295,
          0.8825,
          1.5884999999999998,
          -0.8825,
          -0.1765,
          0.1765,
          0.8825,
          1.2355,
          1.5884999999999998,
          1.9415,
          -1.5884999999999998,
          -1.2355,
          -0.8825,
          -0.5295,
          -0.1765,
          0.5295,
          1.5884999999999998,
          1.9415,
          -1.2355,
          -0.5295,
          0.1765,
          0.5295,
          0.8825,
          1.5884999999999998,
          -1.2355,
          -0.8825,
          -0.5295,
          0.1765,
          0.5295,
          0.8825,
          1.2355,
          -0.1765,
          0.1765,
          0.5295,
          -1.2355,
          -0.5295,
          -0.1765,
          1.2355,
          -1.5884999999999998,
          -1.2355,
          -0.8825,
          -0.5295,
          -0.1765,
          0.5295,
          1.5884999999999998,
          -1.5884999999999998,
          -1.2355,
          -0.1765,
          0.1765,
          0.5295,
          1.2355,
          1.9415,
          -1.5884999999999998,
          -0.8825,
          -0.5295,
          -0.1765,
          0.1765,
          0.5295,
          0.8825,
          1.2355,
          1.5884999999999998,
          -1.2355,
          -0.1765,
          0.1765,
          0.5295,
          0.8825,
          -0.5295,
          -0.1765,
          0.1765,
          0.5295,
          -0.8825,
          0.5295,
          0.8825,
          -1.2355,
          -0.8825,
          -0.5295,
          -0.1765,
          0.1765,
          0.8825,
          1.2355,
          -1.5884999999999998,
          -1.2355,
          -0.5295,
          0.1765,
          0.5295,
          0.8825,
          1.2355,
          -1.5884999999999998,
          -0.8825,
          -0.5295,
          -0.1765,
          0.5295,
          0.8825,
          1.5884999999999998,
          -1.2355,
          -0.8825,
          -0.5295,
          -0.1765,
          0.8825,
          -0.8825,
          -0.5295,
          0.1765,
          0.5295,
          -0.5295,
          -0.1765,
          0.1765,
          0.5295,
          -0.1765,
          0.5295,
          0.8825,
          -1.2355,
          -0.8825,
          -0.5295,
          -0.1765,
          0.1765,
          0.5295,
          0.8825,
          1.2355,
          0.1765,
          0.5295,
          0.8825,
          -0.5295
         ]
        },
        {
         "marker": {
          "color": "pink",
          "opacity": 0.8,
          "size": 6
         },
         "mode": "markers+text",
         "name": "Tm",
         "text": [
          "0",
          "0",
          "0",
          "0",
          "0",
          "0",
          "0",
          "0",
          "0",
          "0",
          "0",
          "0",
          "0",
          "0",
          "0",
          "0",
          "0",
          "0",
          "0",
          "0",
          "0",
          "0",
          "0",
          "0",
          "0",
          "0",
          "0",
          "0",
          "0",
          "0",
          "0",
          "0",
          "0",
          "0",
          "0",
          "0",
          "0",
          "0",
          "0",
          "0",
          "0",
          "0",
          "0",
          "0",
          "0",
          "0",
          "0",
          "0",
          "0",
          "0",
          "0",
          "0",
          "0",
          "0",
          "0",
          "0",
          "0",
          "0",
          "0",
          "0",
          "0",
          "0",
          "0",
          "0",
          "0"
         ],
         "textposition": "top center",
         "type": "scatter3d",
         "x": [
          -1.192,
          -1.49,
          -1.192,
          -0.8939999999999999,
          -0.8939999999999999,
          -0.596,
          0,
          0,
          -1.192,
          -0.29800000000000004,
          -5.551115123125783e-17,
          -5.551115123125783e-17,
          -0.298,
          -0.298,
          -0.298,
          -2.7755575615628914e-17,
          -2.7755575615628914e-17,
          0.298,
          0.298,
          0.298,
          0.894,
          0,
          0,
          0,
          1.192,
          1.192,
          1.192,
          0.5960000000000001,
          0.5960000000000001,
          1.192,
          1.192,
          1.192,
          -1.7879999999999998,
          -1.49,
          -1.788,
          -1.788,
          -1.192,
          -0.8940000000000001,
          -0.8940000000000001,
          -0.596,
          -0.298,
          -0.894,
          -0.894,
          -0.596,
          -0.596,
          -0.596,
          -0.298,
          2.7755575615628914e-17,
          0.298,
          0.298,
          0.298,
          -0.298,
          -0.298,
          5.551115123125783e-17,
          0.29800000000000004,
          0.894,
          0.894,
          0,
          0.8939999999999999,
          1.192,
          1.192,
          0.8939999999999999,
          0.8939999999999999,
          1.49,
          1.788
         ],
         "y": [
          0.6882015208740337,
          -0.8602519010925423,
          -0.34410076043701693,
          0.17205038021850844,
          0.17205038021850844,
          0.6882015208740337,
          1.7205038021850847,
          1.7205038021850847,
          -1.3764030417480675,
          0.17205038021850844,
          0.6882015208740337,
          0.6882015208740337,
          -0.8602519010925423,
          -0.8602519010925423,
          -0.8602519010925423,
          -0.34410076043701693,
          -0.34410076043701693,
          0.17205038021850844,
          0.17205038021850844,
          0.17205038021850844,
          1.2043526615295592,
          -1.3764030417480675,
          -1.3764030417480675,
          -1.3764030417480675,
          0.6882015208740337,
          0.6882015208740337,
          0.6882015208740337,
          -1.3764030417480675,
          -1.3764030417480675,
          -0.34410076043701693,
          -0.34410076043701693,
          -0.34410076043701693,
          0.34410076043701693,
          0.8602519010925423,
          -0.6882015208740337,
          -0.6882015208740337,
          0.34410076043701693,
          0.8602519010925423,
          0.8602519010925423,
          0.34410076043701693,
          0.8602519010925423,
          -1.2043526615295592,
          -1.2043526615295592,
          -0.6882015208740337,
          -0.6882015208740337,
          -0.6882015208740337,
          -0.17205038021850844,
          0.34410076043701693,
          0.8602519010925423,
          0.8602519010925423,
          0.8602519010925423,
          -1.2043526615295592,
          -1.2043526615295592,
          -0.6882015208740337,
          -0.17205038021850844,
          0.8602519010925423,
          0.8602519010925423,
          -1.7205038021850847,
          -0.17205038021850844,
          0.34410076043701693,
          0.34410076043701693,
          -1.2043526615295592,
          -1.2043526615295592,
          -0.17205038021850844,
          0.34410076043701693
         ],
         "z": [
          1.2355,
          -0.8825,
          -0.5295,
          -1.5884999999999998,
          1.2355,
          -0.8825,
          0.1765,
          0.8825,
          -0.1765,
          1.5884999999999998,
          -1.2355,
          1.5884999999999998,
          -1.5884999999999998,
          -1.2355,
          -0.8825,
          -1.5884999999999998,
          0.5295,
          -1.2355,
          -0.8825,
          0.1765,
          1.2355,
          -0.5295,
          -0.1765,
          0.8825,
          -0.1765,
          0.5295,
          1.2355,
          -0.8825,
          0.1765,
          -1.2355,
          0.5295,
          1.2355,
          0.1765,
          -0.8825,
          -0.1765,
          0.5295,
          1.2355,
          -0.5295,
          1.2355,
          0.5295,
          1.2355,
          -0.5295,
          0.1765,
          -0.8825,
          0.1765,
          1.2355,
          -0.5295,
          0.1765,
          -1.5884999999999998,
          -0.8825,
          1.2355,
          0.1765,
          0.8825,
          0.8825,
          1.5884999999999998,
          -0.5295,
          1.2355,
          0.1765,
          1.2355,
          0.1765,
          0.5295,
          -1.2355,
          0.1765,
          1.2355,
          0.1765
         ]
        },
        {
         "marker": {
          "color": "gray",
          "opacity": 0.8,
          "size": 6
         },
         "mode": "markers",
         "name": "Y",
         "textposition": "top center",
         "type": "scatter3d",
         "x": [
          -0.8939999999999999
         ],
         "y": [
          0.17205038021850844
         ],
         "z": [
          0.5295
         ]
        }
       ],
       "layout": {
        "legend": {
         "title": {
          "text": "Legend"
         }
        },
        "margin": {
         "b": 0,
         "l": 0,
         "r": 0,
         "t": 0
        },
        "scene": {
         "camera": {
          "projection": {
           "type": "orthographic"
          }
         }
        },
        "template": {
         "data": {
          "bar": [
           {
            "error_x": {
             "color": "#2a3f5f"
            },
            "error_y": {
             "color": "#2a3f5f"
            },
            "marker": {
             "line": {
              "color": "#E5ECF6",
              "width": 0.5
             },
             "pattern": {
              "fillmode": "overlay",
              "size": 10,
              "solidity": 0.2
             }
            },
            "type": "bar"
           }
          ],
          "barpolar": [
           {
            "marker": {
             "line": {
              "color": "#E5ECF6",
              "width": 0.5
             },
             "pattern": {
              "fillmode": "overlay",
              "size": 10,
              "solidity": 0.2
             }
            },
            "type": "barpolar"
           }
          ],
          "carpet": [
           {
            "aaxis": {
             "endlinecolor": "#2a3f5f",
             "gridcolor": "white",
             "linecolor": "white",
             "minorgridcolor": "white",
             "startlinecolor": "#2a3f5f"
            },
            "baxis": {
             "endlinecolor": "#2a3f5f",
             "gridcolor": "white",
             "linecolor": "white",
             "minorgridcolor": "white",
             "startlinecolor": "#2a3f5f"
            },
            "type": "carpet"
           }
          ],
          "choropleth": [
           {
            "colorbar": {
             "outlinewidth": 0,
             "ticks": ""
            },
            "type": "choropleth"
           }
          ],
          "contour": [
           {
            "colorbar": {
             "outlinewidth": 0,
             "ticks": ""
            },
            "colorscale": [
             [
              0,
              "#0d0887"
             ],
             [
              0.1111111111111111,
              "#46039f"
             ],
             [
              0.2222222222222222,
              "#7201a8"
             ],
             [
              0.3333333333333333,
              "#9c179e"
             ],
             [
              0.4444444444444444,
              "#bd3786"
             ],
             [
              0.5555555555555556,
              "#d8576b"
             ],
             [
              0.6666666666666666,
              "#ed7953"
             ],
             [
              0.7777777777777778,
              "#fb9f3a"
             ],
             [
              0.8888888888888888,
              "#fdca26"
             ],
             [
              1,
              "#f0f921"
             ]
            ],
            "type": "contour"
           }
          ],
          "contourcarpet": [
           {
            "colorbar": {
             "outlinewidth": 0,
             "ticks": ""
            },
            "type": "contourcarpet"
           }
          ],
          "heatmap": [
           {
            "colorbar": {
             "outlinewidth": 0,
             "ticks": ""
            },
            "colorscale": [
             [
              0,
              "#0d0887"
             ],
             [
              0.1111111111111111,
              "#46039f"
             ],
             [
              0.2222222222222222,
              "#7201a8"
             ],
             [
              0.3333333333333333,
              "#9c179e"
             ],
             [
              0.4444444444444444,
              "#bd3786"
             ],
             [
              0.5555555555555556,
              "#d8576b"
             ],
             [
              0.6666666666666666,
              "#ed7953"
             ],
             [
              0.7777777777777778,
              "#fb9f3a"
             ],
             [
              0.8888888888888888,
              "#fdca26"
             ],
             [
              1,
              "#f0f921"
             ]
            ],
            "type": "heatmap"
           }
          ],
          "heatmapgl": [
           {
            "colorbar": {
             "outlinewidth": 0,
             "ticks": ""
            },
            "colorscale": [
             [
              0,
              "#0d0887"
             ],
             [
              0.1111111111111111,
              "#46039f"
             ],
             [
              0.2222222222222222,
              "#7201a8"
             ],
             [
              0.3333333333333333,
              "#9c179e"
             ],
             [
              0.4444444444444444,
              "#bd3786"
             ],
             [
              0.5555555555555556,
              "#d8576b"
             ],
             [
              0.6666666666666666,
              "#ed7953"
             ],
             [
              0.7777777777777778,
              "#fb9f3a"
             ],
             [
              0.8888888888888888,
              "#fdca26"
             ],
             [
              1,
              "#f0f921"
             ]
            ],
            "type": "heatmapgl"
           }
          ],
          "histogram": [
           {
            "marker": {
             "pattern": {
              "fillmode": "overlay",
              "size": 10,
              "solidity": 0.2
             }
            },
            "type": "histogram"
           }
          ],
          "histogram2d": [
           {
            "colorbar": {
             "outlinewidth": 0,
             "ticks": ""
            },
            "colorscale": [
             [
              0,
              "#0d0887"
             ],
             [
              0.1111111111111111,
              "#46039f"
             ],
             [
              0.2222222222222222,
              "#7201a8"
             ],
             [
              0.3333333333333333,
              "#9c179e"
             ],
             [
              0.4444444444444444,
              "#bd3786"
             ],
             [
              0.5555555555555556,
              "#d8576b"
             ],
             [
              0.6666666666666666,
              "#ed7953"
             ],
             [
              0.7777777777777778,
              "#fb9f3a"
             ],
             [
              0.8888888888888888,
              "#fdca26"
             ],
             [
              1,
              "#f0f921"
             ]
            ],
            "type": "histogram2d"
           }
          ],
          "histogram2dcontour": [
           {
            "colorbar": {
             "outlinewidth": 0,
             "ticks": ""
            },
            "colorscale": [
             [
              0,
              "#0d0887"
             ],
             [
              0.1111111111111111,
              "#46039f"
             ],
             [
              0.2222222222222222,
              "#7201a8"
             ],
             [
              0.3333333333333333,
              "#9c179e"
             ],
             [
              0.4444444444444444,
              "#bd3786"
             ],
             [
              0.5555555555555556,
              "#d8576b"
             ],
             [
              0.6666666666666666,
              "#ed7953"
             ],
             [
              0.7777777777777778,
              "#fb9f3a"
             ],
             [
              0.8888888888888888,
              "#fdca26"
             ],
             [
              1,
              "#f0f921"
             ]
            ],
            "type": "histogram2dcontour"
           }
          ],
          "mesh3d": [
           {
            "colorbar": {
             "outlinewidth": 0,
             "ticks": ""
            },
            "type": "mesh3d"
           }
          ],
          "parcoords": [
           {
            "line": {
             "colorbar": {
              "outlinewidth": 0,
              "ticks": ""
             }
            },
            "type": "parcoords"
           }
          ],
          "pie": [
           {
            "automargin": true,
            "type": "pie"
           }
          ],
          "scatter": [
           {
            "fillpattern": {
             "fillmode": "overlay",
             "size": 10,
             "solidity": 0.2
            },
            "type": "scatter"
           }
          ],
          "scatter3d": [
           {
            "line": {
             "colorbar": {
              "outlinewidth": 0,
              "ticks": ""
             }
            },
            "marker": {
             "colorbar": {
              "outlinewidth": 0,
              "ticks": ""
             }
            },
            "type": "scatter3d"
           }
          ],
          "scattercarpet": [
           {
            "marker": {
             "colorbar": {
              "outlinewidth": 0,
              "ticks": ""
             }
            },
            "type": "scattercarpet"
           }
          ],
          "scattergeo": [
           {
            "marker": {
             "colorbar": {
              "outlinewidth": 0,
              "ticks": ""
             }
            },
            "type": "scattergeo"
           }
          ],
          "scattergl": [
           {
            "marker": {
             "colorbar": {
              "outlinewidth": 0,
              "ticks": ""
             }
            },
            "type": "scattergl"
           }
          ],
          "scattermapbox": [
           {
            "marker": {
             "colorbar": {
              "outlinewidth": 0,
              "ticks": ""
             }
            },
            "type": "scattermapbox"
           }
          ],
          "scatterpolar": [
           {
            "marker": {
             "colorbar": {
              "outlinewidth": 0,
              "ticks": ""
             }
            },
            "type": "scatterpolar"
           }
          ],
          "scatterpolargl": [
           {
            "marker": {
             "colorbar": {
              "outlinewidth": 0,
              "ticks": ""
             }
            },
            "type": "scatterpolargl"
           }
          ],
          "scatterternary": [
           {
            "marker": {
             "colorbar": {
              "outlinewidth": 0,
              "ticks": ""
             }
            },
            "type": "scatterternary"
           }
          ],
          "surface": [
           {
            "colorbar": {
             "outlinewidth": 0,
             "ticks": ""
            },
            "colorscale": [
             [
              0,
              "#0d0887"
             ],
             [
              0.1111111111111111,
              "#46039f"
             ],
             [
              0.2222222222222222,
              "#7201a8"
             ],
             [
              0.3333333333333333,
              "#9c179e"
             ],
             [
              0.4444444444444444,
              "#bd3786"
             ],
             [
              0.5555555555555556,
              "#d8576b"
             ],
             [
              0.6666666666666666,
              "#ed7953"
             ],
             [
              0.7777777777777778,
              "#fb9f3a"
             ],
             [
              0.8888888888888888,
              "#fdca26"
             ],
             [
              1,
              "#f0f921"
             ]
            ],
            "type": "surface"
           }
          ],
          "table": [
           {
            "cells": {
             "fill": {
              "color": "#EBF0F8"
             },
             "line": {
              "color": "white"
             }
            },
            "header": {
             "fill": {
              "color": "#C8D4E3"
             },
             "line": {
              "color": "white"
             }
            },
            "type": "table"
           }
          ]
         },
         "layout": {
          "annotationdefaults": {
           "arrowcolor": "#2a3f5f",
           "arrowhead": 0,
           "arrowwidth": 1
          },
          "autotypenumbers": "strict",
          "coloraxis": {
           "colorbar": {
            "outlinewidth": 0,
            "ticks": ""
           }
          },
          "colorscale": {
           "diverging": [
            [
             0,
             "#8e0152"
            ],
            [
             0.1,
             "#c51b7d"
            ],
            [
             0.2,
             "#de77ae"
            ],
            [
             0.3,
             "#f1b6da"
            ],
            [
             0.4,
             "#fde0ef"
            ],
            [
             0.5,
             "#f7f7f7"
            ],
            [
             0.6,
             "#e6f5d0"
            ],
            [
             0.7,
             "#b8e186"
            ],
            [
             0.8,
             "#7fbc41"
            ],
            [
             0.9,
             "#4d9221"
            ],
            [
             1,
             "#276419"
            ]
           ],
           "sequential": [
            [
             0,
             "#0d0887"
            ],
            [
             0.1111111111111111,
             "#46039f"
            ],
            [
             0.2222222222222222,
             "#7201a8"
            ],
            [
             0.3333333333333333,
             "#9c179e"
            ],
            [
             0.4444444444444444,
             "#bd3786"
            ],
            [
             0.5555555555555556,
             "#d8576b"
            ],
            [
             0.6666666666666666,
             "#ed7953"
            ],
            [
             0.7777777777777778,
             "#fb9f3a"
            ],
            [
             0.8888888888888888,
             "#fdca26"
            ],
            [
             1,
             "#f0f921"
            ]
           ],
           "sequentialminus": [
            [
             0,
             "#0d0887"
            ],
            [
             0.1111111111111111,
             "#46039f"
            ],
            [
             0.2222222222222222,
             "#7201a8"
            ],
            [
             0.3333333333333333,
             "#9c179e"
            ],
            [
             0.4444444444444444,
             "#bd3786"
            ],
            [
             0.5555555555555556,
             "#d8576b"
            ],
            [
             0.6666666666666666,
             "#ed7953"
            ],
            [
             0.7777777777777778,
             "#fb9f3a"
            ],
            [
             0.8888888888888888,
             "#fdca26"
            ],
            [
             1,
             "#f0f921"
            ]
           ]
          },
          "colorway": [
           "#636efa",
           "#EF553B",
           "#00cc96",
           "#ab63fa",
           "#FFA15A",
           "#19d3f3",
           "#FF6692",
           "#B6E880",
           "#FF97FF",
           "#FECB52"
          ],
          "font": {
           "color": "#2a3f5f"
          },
          "geo": {
           "bgcolor": "white",
           "lakecolor": "white",
           "landcolor": "#E5ECF6",
           "showlakes": true,
           "showland": true,
           "subunitcolor": "white"
          },
          "hoverlabel": {
           "align": "left"
          },
          "hovermode": "closest",
          "mapbox": {
           "style": "light"
          },
          "paper_bgcolor": "white",
          "plot_bgcolor": "#E5ECF6",
          "polar": {
           "angularaxis": {
            "gridcolor": "white",
            "linecolor": "white",
            "ticks": ""
           },
           "bgcolor": "#E5ECF6",
           "radialaxis": {
            "gridcolor": "white",
            "linecolor": "white",
            "ticks": ""
           }
          },
          "scene": {
           "xaxis": {
            "backgroundcolor": "#E5ECF6",
            "gridcolor": "white",
            "gridwidth": 2,
            "linecolor": "white",
            "showbackground": true,
            "ticks": "",
            "zerolinecolor": "white"
           },
           "yaxis": {
            "backgroundcolor": "#E5ECF6",
            "gridcolor": "white",
            "gridwidth": 2,
            "linecolor": "white",
            "showbackground": true,
            "ticks": "",
            "zerolinecolor": "white"
           },
           "zaxis": {
            "backgroundcolor": "#E5ECF6",
            "gridcolor": "white",
            "gridwidth": 2,
            "linecolor": "white",
            "showbackground": true,
            "ticks": "",
            "zerolinecolor": "white"
           }
          },
          "shapedefaults": {
           "line": {
            "color": "#2a3f5f"
           }
          },
          "ternary": {
           "aaxis": {
            "gridcolor": "white",
            "linecolor": "white",
            "ticks": ""
           },
           "baxis": {
            "gridcolor": "white",
            "linecolor": "white",
            "ticks": ""
           },
           "bgcolor": "#E5ECF6",
           "caxis": {
            "gridcolor": "white",
            "linecolor": "white",
            "ticks": ""
           }
          },
          "title": {
           "x": 0.05
          },
          "xaxis": {
           "automargin": true,
           "gridcolor": "white",
           "linecolor": "white",
           "ticks": "",
           "title": {
            "standoff": 15
           },
           "zerolinecolor": "white",
           "zerolinewidth": 2
          },
          "yaxis": {
           "automargin": true,
           "gridcolor": "white",
           "linecolor": "white",
           "ticks": "",
           "title": {
            "standoff": 15
           },
           "zerolinecolor": "white",
           "zerolinewidth": 2
          }
         }
        }
       }
      }
     },
     "metadata": {},
     "output_type": "display_data"
    }
   ],
   "source": [
    "lattice = Lattice(0.85, 0.15, 4, 0.5)\n",
    "lattice.plot_3d_points_with_plotly()"
   ]
  },
  {
   "cell_type": "code",
   "execution_count": null,
   "metadata": {},
   "outputs": [],
   "source": []
  }
 ],
 "metadata": {
  "kernelspec": {
   "display_name": "Python 3",
   "language": "python",
   "name": "python3"
  },
  "language_info": {
   "codemirror_mode": {
    "name": "ipython",
    "version": 3
   },
   "file_extension": ".py",
   "mimetype": "text/x-python",
   "name": "python",
   "nbconvert_exporter": "python",
   "pygments_lexer": "ipython3",
   "version": "3.11.3"
  }
 },
 "nbformat": 4,
 "nbformat_minor": 2
}
