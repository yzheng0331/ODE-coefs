{
  "cells": [
    {
      "cell_type": "markdown",
      "metadata": {
        "id": "_qPROQR2JXMx"
      },
      "source": [
        "In our case, the $NaYF_4$ crystal structure is hexagonal, so the coordination number is 12. To make it easier to get started, we firstly study the simple cubic crystal structure, and implement the required functions with Python step by step, finally promote to other cases."
      ]
    },
    {
      "cell_type": "markdown",
      "metadata": {
        "id": "OSO7wiWC_0GJ"
      },
      "source": [
        "1. Create 3D uniform grids space with $10\\times 10 \\times 10$ points, then randomly assign these points with A, B, C to indicate sensitizer($Yb^{3+}$), emitter($Tm^{3+}$), and others. Considering sensitizers, emitters have different energy levels, so we also introduce `value` for A(0 and 1 for ground state and excited state, respectively) and B(2,3,4,5,6) for B(ground state, 1st, 2nd, 3rd excited states, etc.) While the value of C is always `None`"
      ]
    },
    {
      "cell_type": "code",
      "execution_count": 4,
      "metadata": {
        "id": "NMGcUkzAI5gf"
      },
      "outputs": [],
      "source": [
        "import numpy as np\n",
        "\n",
        "# Set seed for reproducibility\n",
        "np.random.seed()\n",
        "\n",
        "# Define the number of points and dimensions\n",
        "n_points = 1000  # 10*10*10\n",
        "\n",
        "# Dimensions for the 3D grid\n",
        "# hexagonal\n",
        "n, m, p = 10, 10, 10\n",
        "\n",
        "# Generate grid points with 1 nm spacing\n",
        "# array([0., 1., 2., 3., 4....9])\n",
        "\n",
        "x_coords = np.linspace(0, n-1, n)\n",
        "y_coords = np.linspace(0, m-1, m)\n",
        "z_coords = np.linspace(0, p-1, p)\n",
        "\n",
        "# Create grid\n",
        "X, Y, Z = np.meshgrid(x_coords, y_coords, z_coords, indexing='ij')\n",
        "coords = np.array([X.flatten(), Y.flatten(), Z.flatten()]).T\n",
        "\n",
        "# Assign point types based on the specified distributions\n",
        "types = ['A'] * 200 + ['B'] * 100 + ['C'] * 700\n",
        "np.random.shuffle(types)\n",
        "\n",
        "# Assign values based on the point types\n",
        "values = []\n",
        "for t in types:\n",
        "    if t == 'A':\n",
        "        values.append(np.random.choice([0, 1], p=[0.85, 0.15]))  ### here, because of absorbation rate of Yb, set the rate manually as 0.85 and 0.15\n",
        "\n",
        "    elif t == 'B':\n",
        "        values.append(2)  # All type B points have value 2\n",
        "    else:\n",
        "        values.append(None)  # No associated value for type C\n",
        "\n",
        "\n",
        "\n",
        "\n",
        "\n",
        "# Combine the information into a list of tuples\n",
        "points = [[t, tuple(coord), v] for t, coord, v in zip(types, coords, values)]\n",
        "\n",
        "\n",
        "Ws=7.6*10**3\n",
        "\n",
        "for point in points:\n",
        "  _, _, value = point\n",
        "  if value==1:\n",
        "    point.append({'p0':Ws})\n"
      ]
    },
    {
      "cell_type": "code",
      "execution_count": 5,
      "metadata": {},
      "outputs": [
        {
          "data": {
            "text/plain": [
              "array([[0., 0., 0.],\n",
              "       [0., 0., 1.],\n",
              "       [0., 0., 2.],\n",
              "       ...,\n",
              "       [9., 9., 7.],\n",
              "       [9., 9., 8.],\n",
              "       [9., 9., 9.]])"
            ]
          },
          "execution_count": 5,
          "metadata": {},
          "output_type": "execute_result"
        }
      ],
      "source": [
        "coords"
      ]
    },
    {
      "cell_type": "code",
      "execution_count": 6,
      "metadata": {
        "colab": {
          "base_uri": "https://localhost:8080/"
        },
        "id": "4rV5ZunqQf21",
        "outputId": "e077f100-aa50-4846-e2ed-b712fca661a6"
      },
      "outputs": [
        {
          "name": "stdout",
          "output_type": "stream",
          "text": [
            "['B', (0.0, 0.0, 0.0), 2]\n",
            "['A', (0.0, 0.0, 1.0), 0]\n",
            "['A', (0.0, 0.0, 2.0), 0]\n",
            "['A', (0.0, 0.0, 3.0), 0]\n",
            "['A', (0.0, 0.0, 4.0), 0]\n",
            "['C', (0.0, 0.0, 5.0), None]\n",
            "['C', (0.0, 0.0, 6.0), None]\n",
            "['C', (0.0, 0.0, 7.0), None]\n",
            "['C', (0.0, 0.0, 8.0), None]\n",
            "['B', (0.0, 0.0, 9.0), 2]\n",
            "['B', (0.0, 1.0, 0.0), 2]\n",
            "['C', (0.0, 1.0, 1.0), None]\n",
            "['A', (0.0, 1.0, 2.0), 1, {'p0': 7600.0}]\n",
            "['C', (0.0, 1.0, 3.0), None]\n",
            "['C', (0.0, 1.0, 4.0), None]\n",
            "['C', (0.0, 1.0, 5.0), None]\n",
            "['A', (0.0, 1.0, 6.0), 0]\n",
            "['C', (0.0, 1.0, 7.0), None]\n",
            "['B', (0.0, 1.0, 8.0), 2]\n",
            "['B', (0.0, 1.0, 9.0), 2]\n"
          ]
        }
      ],
      "source": [
        "for point in points[:20]:\n",
        "    print(point)"
      ]
    },
    {
      "cell_type": "markdown",
      "metadata": {
        "id": "o2y-qkvWJU5o"
      },
      "source": [
        "#### the total distributation of the system. Define a function, once we input the configuration, it would print the histogram of numbers, values of points A and B."
      ]
    },
    {
      "cell_type": "code",
      "execution_count": 7,
      "metadata": {
        "id": "2Un0BgFbJRZS"
      },
      "outputs": [],
      "source": [
        "import numpy as np\n",
        "import matplotlib.pyplot as plt\n",
        "\n",
        "# once we input the configurations, then we can get the total information of the system\n",
        "\n",
        "def plot_distributions(points):\n",
        "\n",
        "\n",
        "    # Create a list of all types and values for easier plotting\n",
        "    all_types = [point[0] for point in points]\n",
        "    all_values_A = [point[2] for point in points if point[0] == 'A']\n",
        "    all_values_B = [point[2] for point in points if point[0] == 'B']\n",
        "\n",
        "\n",
        "\n",
        "    plt.figure(figsize=(15, 5))\n",
        "\n",
        "    # Plotting distribution of A, B, C using bar plot\n",
        "\n",
        "    # 1 row, 3 columns, 1st plot\n",
        "\n",
        "    plt.subplot(1, 3, 1)\n",
        "    labels, counts = np.unique(all_types, return_counts=True)\n",
        "\n",
        "\n",
        "    bars = plt.bar(labels, counts, color=['blue', 'pink', 'green'], width=0.4)\n",
        "    plt.ylabel('Count',fontsize=18)\n",
        "    plt.title('Distribution of three types',fontsize=18)\n",
        "    plt.xticks(labels, ['Sensitizers', 'Emitters', 'Others'],fontsize=16)\n",
        "    for bar in bars:\n",
        "        yval = bar.get_height()\n",
        "        plt.text(bar.get_x() + bar.get_width()/2, yval + 5, yval, ha='center', va='bottom')\n",
        "\n",
        "    # Plotting value distribution for type A using histogram\n",
        "\n",
        "    # 1 row, 3 columns, 2nd plot\n",
        "    plt.subplot(1, 3, 2)\n",
        "    counts, bins, patches = plt.hist(all_values_A, bins=[0, 1, 2], align='left', rwidth=0.4, color='blue')\n",
        "    plt.ylabel('Count',fontsize=18)\n",
        "    plt.title('Value distribution for sensitizers',fontsize=18)\n",
        "    plt.xticks([0, 1], ['0(Ground state)', '1(Excited state)'],fontsize=16)\n",
        "    for count, bin, patch in zip(counts, bins, patches):\n",
        "        plt.text(bin + 0.01, count + 1, int(count), ha='center', va='bottom')\n",
        "\n",
        "    # Plotting value distribution for type B using histogram\n",
        "\n",
        "\n",
        "    # 1 row, 3 columns, 3rd plot\n",
        "    plt.subplot(1, 3, 3)\n",
        "    counts, bins, patches = plt.hist(all_values_B, bins=[2, 3, 4, 5, 6, 7], align='left', rwidth=0.4, color='pink')\n",
        "\n",
        "    plt.ylabel('Count',fontsize=18)\n",
        "    plt.title('Value distribution for emitters',fontsize=18)\n",
        "    plt.xticks([2, 3, 4, 5, 6], ['G', '1st', '2nd', '3rd', '4th'],fontsize=16)\n",
        "    for count, bin, patch in zip(counts, bins, patches):\n",
        "        plt.text(bin + 0.01, count + 1, int(count), ha='center', va='bottom')\n",
        "\n",
        "    plt.tight_layout()\n",
        "    plt.show()\n",
        "\n",
        "# Example usage:\n",
        "# Assuming points list is defined already\n",
        "# plot_distributions(points)\n"
      ]
    },
    {
      "cell_type": "code",
      "execution_count": 8,
      "metadata": {
        "colab": {
          "base_uri": "https://localhost:8080/",
          "height": 507
        },
        "id": "nNEhHwEsJ-9h",
        "outputId": "608cd168-c0d9-4ba4-ea58-29b9d661486c"
      },
      "outputs": [
        {
          "data": {
            "image/png": "[encoded data removed]",
            "text/plain": [
              "<Figure size 1500x500 with 3 Axes>"
            ]
          },
          "metadata": {},
          "output_type": "display_data"
        }
      ],
      "source": [
        "plot_distributions(points)"
      ]
    },
    {
      "cell_type": "markdown",
      "metadata": {
        "id": "TkbDIy28Khre"
      },
      "source": [
        "## distributation of 1000 points in 3D space"
      ]
    },
    {
      "cell_type": "code",
      "execution_count": 9,
      "metadata": {
        "colab": {
          "base_uri": "https://localhost:8080/",
          "height": 542
        },
        "id": "k7Brd3D-LGg1",
        "outputId": "92b44f20-1dfc-4240-f24f-a21d3d6e6d10"
      },
      "outputs": [
        {
          "data": {
            "application/vnd.plotly.v1+json": {
              "config": {
                "plotlyServerURL": "https://plot.ly"
              },
              "data": [
                {
                  "marker": {
                    "color": "blue",
                    "opacity": 0.8,
                    "size": 6
                  },
                  "mode": "markers+text",
                  "text": [
                    "0",
                    "0",
                    "0",
                    "0",
                    "1",
                    "0",
                    "0",
                    "0",
                    "0",
                    "0",
                    "0",
                    "0",
                    "0",
                    "0",
                    "1",
                    "1",
                    "0",
                    "0",
                    "1",
                    "1",
                    "0",
                    "0",
                    "0",
                    "1",
                    "0",
                    "0",
                    "0",
                    "0",
                    "1",
                    "1",
                    "0",
                    "0",
                    "1",
                    "0",
                    "1",
                    "0",
                    "1",
                    "1",
                    "0",
                    "0",
                    "0",
                    "0",
                    "1",
                    "0",
                    "0",
                    "0",
                    "0",
                    "0",
                    "0",
                    "0",
                    "0",
                    "0",
                    "0",
                    "0",
                    "0",
                    "0",
                    "0",
                    "0",
                    "0",
                    "0",
                    "0",
                    "0",
                    "0",
                    "0",
                    "0",
                    "0",
                    "1",
                    "0",
                    "0",
                    "0",
                    "0",
                    "0",
                    "0",
                    "0",
                    "0",
                    "0",
                    "0",
                    "0",
                    "0",
                    "0",
                    "0",
                    "0",
                    "1",
                    "0",
                    "0",
                    "0",
                    "0",
                    "0",
                    "0",
                    "1",
                    "0",
                    "0",
                    "0",
                    "0",
                    "1",
                    "0",
                    "0",
                    "0",
                    "0",
                    "0",
                    "0",
                    "0",
                    "0",
                    "1",
                    "0",
                    "0",
                    "0",
                    "1",
                    "0",
                    "0",
                    "0",
                    "0",
                    "0",
                    "0",
                    "0",
                    "0",
                    "0",
                    "0",
                    "0",
                    "0",
                    "0",
                    "1",
                    "0",
                    "0",
                    "0",
                    "0",
                    "0",
                    "0",
                    "0",
                    "0",
                    "1",
                    "1",
                    "0",
                    "0",
                    "0",
                    "0",
                    "0",
                    "0",
                    "0",
                    "1",
                    "0",
                    "0",
                    "0",
                    "1",
                    "0",
                    "0",
                    "0",
                    "0",
                    "1",
                    "0",
                    "0",
                    "0",
                    "0",
                    "0",
                    "0",
                    "0",
                    "1",
                    "0",
                    "0",
                    "0",
                    "0",
                    "0",
                    "0",
                    "0",
                    "0",
                    "0",
                    "0",
                    "1",
                    "0",
                    "0",
                    "0",
                    "0",
                    "0",
                    "0",
                    "0",
                    "0",
                    "0",
                    "0",
                    "0",
                    "0",
                    "0",
                    "0",
                    "0",
                    "0",
                    "0",
                    "0",
                    "0",
                    "0",
                    "0",
                    "0",
                    "0",
                    "0",
                    "0",
                    "0",
                    "1",
                    "0",
                    "1",
                    "0",
                    "0",
                    "1"
                  ],
                  "textposition": "top center",
                  "type": "scatter3d",
                  "x": [
                    0,
                    0,
                    0,
                    0,
                    0,
                    0,
                    0,
                    0,
                    0,
                    0,
                    0,
                    0,
                    0,
                    0,
                    0,
                    0,
                    0,
                    0,
                    0,
                    0,
                    0,
                    0,
                    1,
                    1,
                    1,
                    1,
                    1,
                    1,
                    1,
                    1,
                    1,
                    1,
                    1,
                    1,
                    1,
                    1,
                    1,
                    1,
                    1,
                    1,
                    1,
                    1,
                    1,
                    2,
                    2,
                    2,
                    2,
                    2,
                    2,
                    2,
                    2,
                    2,
                    2,
                    2,
                    2,
                    2,
                    2,
                    2,
                    2,
                    2,
                    2,
                    3,
                    3,
                    3,
                    3,
                    3,
                    3,
                    3,
                    3,
                    3,
                    3,
                    3,
                    3,
                    3,
                    3,
                    3,
                    3,
                    3,
                    3,
                    4,
                    4,
                    4,
                    4,
                    4,
                    4,
                    4,
                    4,
                    4,
                    4,
                    4,
                    4,
                    4,
                    4,
                    4,
                    4,
                    4,
                    4,
                    4,
                    4,
                    4,
                    4,
                    5,
                    5,
                    5,
                    5,
                    5,
                    5,
                    5,
                    5,
                    5,
                    5,
                    5,
                    5,
                    5,
                    5,
                    5,
                    5,
                    5,
                    5,
                    5,
                    5,
                    5,
                    5,
                    5,
                    6,
                    6,
                    6,
                    6,
                    6,
                    6,
                    6,
                    6,
                    6,
                    6,
                    6,
                    6,
                    6,
                    6,
                    6,
                    7,
                    7,
                    7,
                    7,
                    7,
                    7,
                    7,
                    7,
                    7,
                    7,
                    7,
                    7,
                    7,
                    7,
                    7,
                    7,
                    7,
                    7,
                    7,
                    7,
                    7,
                    7,
                    7,
                    7,
                    7,
                    8,
                    8,
                    8,
                    8,
                    8,
                    8,
                    8,
                    8,
                    8,
                    8,
                    8,
                    8,
                    8,
                    8,
                    8,
                    8,
                    9,
                    9,
                    9,
                    9,
                    9,
                    9,
                    9,
                    9,
                    9,
                    9,
                    9,
                    9,
                    9,
                    9,
                    9,
                    9,
                    9,
                    9,
                    9,
                    9
                  ],
                  "y": [
                    0,
                    0,
                    0,
                    0,
                    1,
                    1,
                    2,
                    4,
                    4,
                    4,
                    4,
                    5,
                    6,
                    7,
                    7,
                    7,
                    8,
                    8,
                    9,
                    9,
                    9,
                    9,
                    0,
                    1,
                    1,
                    2,
                    2,
                    3,
                    3,
                    3,
                    4,
                    4,
                    4,
                    4,
                    5,
                    5,
                    5,
                    5,
                    6,
                    6,
                    7,
                    9,
                    9,
                    0,
                    0,
                    0,
                    0,
                    1,
                    1,
                    1,
                    2,
                    2,
                    3,
                    4,
                    5,
                    6,
                    6,
                    6,
                    7,
                    8,
                    8,
                    0,
                    0,
                    0,
                    1,
                    2,
                    2,
                    4,
                    4,
                    4,
                    5,
                    5,
                    6,
                    6,
                    7,
                    8,
                    8,
                    9,
                    9,
                    0,
                    1,
                    1,
                    2,
                    2,
                    2,
                    2,
                    3,
                    3,
                    3,
                    5,
                    5,
                    5,
                    5,
                    5,
                    7,
                    7,
                    7,
                    8,
                    8,
                    8,
                    9,
                    0,
                    2,
                    3,
                    3,
                    3,
                    4,
                    4,
                    5,
                    5,
                    5,
                    5,
                    6,
                    6,
                    6,
                    7,
                    7,
                    7,
                    8,
                    8,
                    8,
                    9,
                    9,
                    9,
                    0,
                    0,
                    0,
                    1,
                    2,
                    3,
                    3,
                    4,
                    4,
                    4,
                    5,
                    7,
                    7,
                    8,
                    9,
                    0,
                    1,
                    1,
                    2,
                    2,
                    2,
                    2,
                    3,
                    3,
                    4,
                    4,
                    4,
                    4,
                    4,
                    5,
                    5,
                    6,
                    6,
                    7,
                    8,
                    9,
                    9,
                    9,
                    9,
                    9,
                    0,
                    1,
                    1,
                    3,
                    3,
                    3,
                    4,
                    5,
                    5,
                    5,
                    6,
                    7,
                    8,
                    8,
                    9,
                    9,
                    0,
                    0,
                    0,
                    1,
                    1,
                    2,
                    2,
                    2,
                    2,
                    2,
                    3,
                    3,
                    5,
                    5,
                    6,
                    8,
                    8,
                    8,
                    9,
                    9
                  ],
                  "z": [
                    1,
                    2,
                    3,
                    4,
                    2,
                    6,
                    8,
                    0,
                    2,
                    4,
                    9,
                    5,
                    0,
                    0,
                    2,
                    9,
                    5,
                    6,
                    3,
                    4,
                    6,
                    8,
                    3,
                    0,
                    6,
                    2,
                    4,
                    4,
                    8,
                    9,
                    0,
                    1,
                    7,
                    9,
                    3,
                    4,
                    5,
                    9,
                    0,
                    9,
                    1,
                    5,
                    8,
                    1,
                    3,
                    6,
                    9,
                    3,
                    6,
                    9,
                    2,
                    4,
                    0,
                    3,
                    1,
                    0,
                    2,
                    6,
                    4,
                    1,
                    5,
                    5,
                    6,
                    9,
                    0,
                    3,
                    8,
                    1,
                    2,
                    4,
                    3,
                    4,
                    2,
                    3,
                    3,
                    4,
                    6,
                    3,
                    7,
                    3,
                    6,
                    7,
                    1,
                    4,
                    6,
                    7,
                    2,
                    7,
                    8,
                    2,
                    3,
                    5,
                    7,
                    8,
                    1,
                    2,
                    8,
                    3,
                    7,
                    9,
                    7,
                    7,
                    2,
                    0,
                    5,
                    7,
                    4,
                    9,
                    0,
                    1,
                    4,
                    8,
                    4,
                    8,
                    9,
                    1,
                    4,
                    7,
                    1,
                    4,
                    5,
                    3,
                    6,
                    8,
                    2,
                    5,
                    6,
                    6,
                    5,
                    6,
                    9,
                    1,
                    3,
                    6,
                    4,
                    3,
                    4,
                    3,
                    5,
                    6,
                    4,
                    6,
                    3,
                    5,
                    6,
                    7,
                    5,
                    8,
                    1,
                    2,
                    4,
                    5,
                    9,
                    1,
                    7,
                    2,
                    7,
                    3,
                    3,
                    2,
                    6,
                    7,
                    8,
                    9,
                    6,
                    8,
                    9,
                    1,
                    8,
                    9,
                    0,
                    0,
                    2,
                    7,
                    9,
                    6,
                    1,
                    9,
                    6,
                    8,
                    0,
                    7,
                    8,
                    1,
                    2,
                    0,
                    4,
                    5,
                    8,
                    9,
                    1,
                    4,
                    4,
                    9,
                    8,
                    2,
                    3,
                    8,
                    2,
                    4
                  ]
                },
                {
                  "marker": {
                    "color": "pink",
                    "opacity": 0.8,
                    "size": 6
                  },
                  "mode": "markers+text",
                  "text": [
                    "2",
                    "2",
                    "2",
                    "2",
                    "2",
                    "2",
                    "2",
                    "2",
                    "2",
                    "2",
                    "2",
                    "2",
                    "2",
                    "2",
                    "2",
                    "2",
                    "2",
                    "2",
                    "2",
                    "2",
                    "2",
                    "2",
                    "2",
                    "2",
                    "2",
                    "2",
                    "2",
                    "2",
                    "2",
                    "2",
                    "2",
                    "2",
                    "2",
                    "2",
                    "2",
                    "2",
                    "2",
                    "2",
                    "2",
                    "2",
                    "2",
                    "2",
                    "2",
                    "2",
                    "2",
                    "2",
                    "2",
                    "2",
                    "2",
                    "2",
                    "2",
                    "2",
                    "2",
                    "2",
                    "2",
                    "2",
                    "2",
                    "2",
                    "2",
                    "2",
                    "2",
                    "2",
                    "2",
                    "2",
                    "2",
                    "2",
                    "2",
                    "2",
                    "2",
                    "2",
                    "2",
                    "2",
                    "2",
                    "2",
                    "2",
                    "2",
                    "2",
                    "2",
                    "2",
                    "2",
                    "2",
                    "2",
                    "2",
                    "2",
                    "2",
                    "2",
                    "2",
                    "2",
                    "2",
                    "2",
                    "2",
                    "2",
                    "2",
                    "2",
                    "2",
                    "2",
                    "2",
                    "2",
                    "2",
                    "2"
                  ],
                  "textposition": "top center",
                  "type": "scatter3d",
                  "x": [
                    0,
                    0,
                    0,
                    0,
                    0,
                    0,
                    0,
                    0,
                    0,
                    0,
                    0,
                    1,
                    1,
                    1,
                    1,
                    1,
                    1,
                    1,
                    1,
                    1,
                    1,
                    1,
                    1,
                    1,
                    1,
                    1,
                    1,
                    2,
                    2,
                    2,
                    2,
                    2,
                    2,
                    2,
                    2,
                    2,
                    2,
                    2,
                    2,
                    2,
                    2,
                    2,
                    3,
                    3,
                    3,
                    3,
                    3,
                    3,
                    3,
                    3,
                    3,
                    3,
                    4,
                    4,
                    4,
                    4,
                    5,
                    5,
                    5,
                    5,
                    5,
                    5,
                    5,
                    5,
                    5,
                    5,
                    5,
                    6,
                    6,
                    6,
                    6,
                    6,
                    6,
                    6,
                    6,
                    7,
                    7,
                    7,
                    7,
                    7,
                    7,
                    7,
                    8,
                    8,
                    8,
                    8,
                    8,
                    8,
                    9,
                    9,
                    9,
                    9,
                    9,
                    9,
                    9,
                    9,
                    9,
                    9,
                    9,
                    9
                  ],
                  "y": [
                    0,
                    0,
                    1,
                    1,
                    1,
                    4,
                    4,
                    5,
                    8,
                    9,
                    9,
                    0,
                    1,
                    1,
                    3,
                    3,
                    4,
                    4,
                    6,
                    6,
                    7,
                    8,
                    8,
                    8,
                    9,
                    9,
                    9,
                    0,
                    1,
                    1,
                    1,
                    2,
                    3,
                    4,
                    4,
                    5,
                    5,
                    6,
                    7,
                    8,
                    8,
                    8,
                    0,
                    0,
                    2,
                    2,
                    2,
                    3,
                    5,
                    6,
                    7,
                    9,
                    3,
                    5,
                    8,
                    9,
                    0,
                    1,
                    3,
                    4,
                    4,
                    4,
                    5,
                    7,
                    8,
                    8,
                    9,
                    1,
                    1,
                    1,
                    2,
                    4,
                    5,
                    8,
                    8,
                    0,
                    1,
                    3,
                    5,
                    5,
                    5,
                    8,
                    1,
                    1,
                    2,
                    2,
                    6,
                    6,
                    0,
                    1,
                    1,
                    4,
                    6,
                    6,
                    7,
                    7,
                    7,
                    7,
                    9,
                    9
                  ],
                  "z": [
                    0,
                    9,
                    0,
                    8,
                    9,
                    1,
                    5,
                    7,
                    3,
                    0,
                    9,
                    4,
                    1,
                    2,
                    5,
                    6,
                    2,
                    6,
                    5,
                    6,
                    5,
                    3,
                    4,
                    6,
                    4,
                    7,
                    9,
                    5,
                    4,
                    7,
                    8,
                    5,
                    7,
                    2,
                    6,
                    7,
                    9,
                    9,
                    8,
                    0,
                    6,
                    8,
                    0,
                    4,
                    1,
                    2,
                    7,
                    1,
                    1,
                    5,
                    2,
                    6,
                    3,
                    1,
                    5,
                    2,
                    3,
                    6,
                    1,
                    0,
                    2,
                    5,
                    6,
                    6,
                    3,
                    9,
                    2,
                    3,
                    4,
                    8,
                    2,
                    5,
                    9,
                    2,
                    5,
                    4,
                    3,
                    9,
                    4,
                    5,
                    9,
                    1,
                    1,
                    5,
                    2,
                    7,
                    2,
                    6,
                    5,
                    4,
                    7,
                    8,
                    0,
                    5,
                    0,
                    2,
                    5,
                    8,
                    1,
                    7
                  ]
                }
              ],
              "layout": {
                "margin": {
                  "b": 0,
                  "l": 0,
                  "r": 0,
                  "t": 0
                },
                "template": {
                  "data": {
                    "bar": [
                      {
                        "error_x": {
                          "color": "#2a3f5f"
                        },
                        "error_y": {
                          "color": "#2a3f5f"
                        },
                        "marker": {
                          "line": {
                            "color": "#E5ECF6",
                            "width": 0.5
                          },
                          "pattern": {
                            "fillmode": "overlay",
                            "size": 10,
                            "solidity": 0.2
                          }
                        },
                        "type": "bar"
                      }
                    ],
                    "barpolar": [
                      {
                        "marker": {
                          "line": {
                            "color": "#E5ECF6",
                            "width": 0.5
                          },
                          "pattern": {
                            "fillmode": "overlay",
                            "size": 10,
                            "solidity": 0.2
                          }
                        },
                        "type": "barpolar"
                      }
                    ],
                    "carpet": [
                      {
                        "aaxis": {
                          "endlinecolor": "#2a3f5f",
                          "gridcolor": "white",
                          "linecolor": "white",
                          "minorgridcolor": "white",
                          "startlinecolor": "#2a3f5f"
                        },
                        "baxis": {
                          "endlinecolor": "#2a3f5f",
                          "gridcolor": "white",
                          "linecolor": "white",
                          "minorgridcolor": "white",
                          "startlinecolor": "#2a3f5f"
                        },
                        "type": "carpet"
                      }
                    ],
                    "choropleth": [
                      {
                        "colorbar": {
                          "outlinewidth": 0,
                          "ticks": ""
                        },
                        "type": "choropleth"
                      }
                    ],
                    "contour": [
                      {
                        "colorbar": {
                          "outlinewidth": 0,
                          "ticks": ""
                        },
                        "colorscale": [
                          [
                            0,
                            "#0d0887"
                          ],
                          [
                            0.1111111111111111,
                            "#46039f"
                          ],
                          [
                            0.2222222222222222,
                            "#7201a8"
                          ],
                          [
                            0.3333333333333333,
                            "#9c179e"
                          ],
                          [
                            0.4444444444444444,
                            "#bd3786"
                          ],
                          [
                            0.5555555555555556,
                            "#d8576b"
                          ],
                          [
                            0.6666666666666666,
                            "#ed7953"
                          ],
                          [
                            0.7777777777777778,
                            "#fb9f3a"
                          ],
                          [
                            0.8888888888888888,
                            "#fdca26"
                          ],
                          [
                            1,
                            "#f0f921"
                          ]
                        ],
                        "type": "contour"
                      }
                    ],
                    "contourcarpet": [
                      {
                        "colorbar": {
                          "outlinewidth": 0,
                          "ticks": ""
                        },
                        "type": "contourcarpet"
                      }
                    ],
                    "heatmap": [
                      {
                        "colorbar": {
                          "outlinewidth": 0,
                          "ticks": ""
                        },
                        "colorscale": [
                          [
                            0,
                            "#0d0887"
                          ],
                          [
                            0.1111111111111111,
                            "#46039f"
                          ],
                          [
                            0.2222222222222222,
                            "#7201a8"
                          ],
                          [
                            0.3333333333333333,
                            "#9c179e"
                          ],
                          [
                            0.4444444444444444,
                            "#bd3786"
                          ],
                          [
                            0.5555555555555556,
                            "#d8576b"
                          ],
                          [
                            0.6666666666666666,
                            "#ed7953"
                          ],
                          [
                            0.7777777777777778,
                            "#fb9f3a"
                          ],
                          [
                            0.8888888888888888,
                            "#fdca26"
                          ],
                          [
                            1,
                            "#f0f921"
                          ]
                        ],
                        "type": "heatmap"
                      }
                    ],
                    "heatmapgl": [
                      {
                        "colorbar": {
                          "outlinewidth": 0,
                          "ticks": ""
                        },
                        "colorscale": [
                          [
                            0,
                            "#0d0887"
                          ],
                          [
                            0.1111111111111111,
                            "#46039f"
                          ],
                          [
                            0.2222222222222222,
                            "#7201a8"
                          ],
                          [
                            0.3333333333333333,
                            "#9c179e"
                          ],
                          [
                            0.4444444444444444,
                            "#bd3786"
                          ],
                          [
                            0.5555555555555556,
                            "#d8576b"
                          ],
                          [
                            0.6666666666666666,
                            "#ed7953"
                          ],
                          [
                            0.7777777777777778,
                            "#fb9f3a"
                          ],
                          [
                            0.8888888888888888,
                            "#fdca26"
                          ],
                          [
                            1,
                            "#f0f921"
                          ]
                        ],
                        "type": "heatmapgl"
                      }
                    ],
                    "histogram": [
                      {
                        "marker": {
                          "pattern": {
                            "fillmode": "overlay",
                            "size": 10,
                            "solidity": 0.2
                          }
                        },
                        "type": "histogram"
                      }
                    ],
                    "histogram2d": [
                      {
                        "colorbar": {
                          "outlinewidth": 0,
                          "ticks": ""
                        },
                        "colorscale": [
                          [
                            0,
                            "#0d0887"
                          ],
                          [
                            0.1111111111111111,
                            "#46039f"
                          ],
                          [
                            0.2222222222222222,
                            "#7201a8"
                          ],
                          [
                            0.3333333333333333,
                            "#9c179e"
                          ],
                          [
                            0.4444444444444444,
                            "#bd3786"
                          ],
                          [
                            0.5555555555555556,
                            "#d8576b"
                          ],
                          [
                            0.6666666666666666,
                            "#ed7953"
                          ],
                          [
                            0.7777777777777778,
                            "#fb9f3a"
                          ],
                          [
                            0.8888888888888888,
                            "#fdca26"
                          ],
                          [
                            1,
                            "#f0f921"
                          ]
                        ],
                        "type": "histogram2d"
                      }
                    ],
                    "histogram2dcontour": [
                      {
                        "colorbar": {
                          "outlinewidth": 0,
                          "ticks": ""
                        },
                        "colorscale": [
                          [
                            0,
                            "#0d0887"
                          ],
                          [
                            0.1111111111111111,
                            "#46039f"
                          ],
                          [
                            0.2222222222222222,
                            "#7201a8"
                          ],
                          [
                            0.3333333333333333,
                            "#9c179e"
                          ],
                          [
                            0.4444444444444444,
                            "#bd3786"
                          ],
                          [
                            0.5555555555555556,
                            "#d8576b"
                          ],
                          [
                            0.6666666666666666,
                            "#ed7953"
                          ],
                          [
                            0.7777777777777778,
                            "#fb9f3a"
                          ],
                          [
                            0.8888888888888888,
                            "#fdca26"
                          ],
                          [
                            1,
                            "#f0f921"
                          ]
                        ],
                        "type": "histogram2dcontour"
                      }
                    ],
                    "mesh3d": [
                      {
                        "colorbar": {
                          "outlinewidth": 0,
                          "ticks": ""
                        },
                        "type": "mesh3d"
                      }
                    ],
                    "parcoords": [
                      {
                        "line": {
                          "colorbar": {
                            "outlinewidth": 0,
                            "ticks": ""
                          }
                        },
                        "type": "parcoords"
                      }
                    ],
                    "pie": [
                      {
                        "automargin": true,
                        "type": "pie"
                      }
                    ],
                    "scatter": [
                      {
                        "fillpattern": {
                          "fillmode": "overlay",
                          "size": 10,
                          "solidity": 0.2
                        },
                        "type": "scatter"
                      }
                    ],
                    "scatter3d": [
                      {
                        "line": {
                          "colorbar": {
                            "outlinewidth": 0,
                            "ticks": ""
                          }
                        },
                        "marker": {
                          "colorbar": {
                            "outlinewidth": 0,
                            "ticks": ""
                          }
                        },
                        "type": "scatter3d"
                      }
                    ],
                    "scattercarpet": [
                      {
                        "marker": {
                          "colorbar": {
                            "outlinewidth": 0,
                            "ticks": ""
                          }
                        },
                        "type": "scattercarpet"
                      }
                    ],
                    "scattergeo": [
                      {
                        "marker": {
                          "colorbar": {
                            "outlinewidth": 0,
                            "ticks": ""
                          }
                        },
                        "type": "scattergeo"
                      }
                    ],
                    "scattergl": [
                      {
                        "marker": {
                          "colorbar": {
                            "outlinewidth": 0,
                            "ticks": ""
                          }
                        },
                        "type": "scattergl"
                      }
                    ],
                    "scattermapbox": [
                      {
                        "marker": {
                          "colorbar": {
                            "outlinewidth": 0,
                            "ticks": ""
                          }
                        },
                        "type": "scattermapbox"
                      }
                    ],
                    "scatterpolar": [
                      {
                        "marker": {
                          "colorbar": {
                            "outlinewidth": 0,
                            "ticks": ""
                          }
                        },
                        "type": "scatterpolar"
                      }
                    ],
                    "scatterpolargl": [
                      {
                        "marker": {
                          "colorbar": {
                            "outlinewidth": 0,
                            "ticks": ""
                          }
                        },
                        "type": "scatterpolargl"
                      }
                    ],
                    "scatterternary": [
                      {
                        "marker": {
                          "colorbar": {
                            "outlinewidth": 0,
                            "ticks": ""
                          }
                        },
                        "type": "scatterternary"
                      }
                    ],
                    "surface": [
                      {
                        "colorbar": {
                          "outlinewidth": 0,
                          "ticks": ""
                        },
                        "colorscale": [
                          [
                            0,
                            "#0d0887"
                          ],
                          [
                            0.1111111111111111,
                            "#46039f"
                          ],
                          [
                            0.2222222222222222,
                            "#7201a8"
                          ],
                          [
                            0.3333333333333333,
                            "#9c179e"
                          ],
                          [
                            0.4444444444444444,
                            "#bd3786"
                          ],
                          [
                            0.5555555555555556,
                            "#d8576b"
                          ],
                          [
                            0.6666666666666666,
                            "#ed7953"
                          ],
                          [
                            0.7777777777777778,
                            "#fb9f3a"
                          ],
                          [
                            0.8888888888888888,
                            "#fdca26"
                          ],
                          [
                            1,
                            "#f0f921"
                          ]
                        ],
                        "type": "surface"
                      }
                    ],
                    "table": [
                      {
                        "cells": {
                          "fill": {
                            "color": "#EBF0F8"
                          },
                          "line": {
                            "color": "white"
                          }
                        },
                        "header": {
                          "fill": {
                            "color": "#C8D4E3"
                          },
                          "line": {
                            "color": "white"
                          }
                        },
                        "type": "table"
                      }
                    ]
                  },
                  "layout": {
                    "annotationdefaults": {
                      "arrowcolor": "#2a3f5f",
                      "arrowhead": 0,
                      "arrowwidth": 1
                    },
                    "autotypenumbers": "strict",
                    "coloraxis": {
                      "colorbar": {
                        "outlinewidth": 0,
                        "ticks": ""
                      }
                    },
                    "colorscale": {
                      "diverging": [
                        [
                          0,
                          "#8e0152"
                        ],
                        [
                          0.1,
                          "#c51b7d"
                        ],
                        [
                          0.2,
                          "#de77ae"
                        ],
                        [
                          0.3,
                          "#f1b6da"
                        ],
                        [
                          0.4,
                          "#fde0ef"
                        ],
                        [
                          0.5,
                          "#f7f7f7"
                        ],
                        [
                          0.6,
                          "#e6f5d0"
                        ],
                        [
                          0.7,
                          "#b8e186"
                        ],
                        [
                          0.8,
                          "#7fbc41"
                        ],
                        [
                          0.9,
                          "#4d9221"
                        ],
                        [
                          1,
                          "#276419"
                        ]
                      ],
                      "sequential": [
                        [
                          0,
                          "#0d0887"
                        ],
                        [
                          0.1111111111111111,
                          "#46039f"
                        ],
                        [
                          0.2222222222222222,
                          "#7201a8"
                        ],
                        [
                          0.3333333333333333,
                          "#9c179e"
                        ],
                        [
                          0.4444444444444444,
                          "#bd3786"
                        ],
                        [
                          0.5555555555555556,
                          "#d8576b"
                        ],
                        [
                          0.6666666666666666,
                          "#ed7953"
                        ],
                        [
                          0.7777777777777778,
                          "#fb9f3a"
                        ],
                        [
                          0.8888888888888888,
                          "#fdca26"
                        ],
                        [
                          1,
                          "#f0f921"
                        ]
                      ],
                      "sequentialminus": [
                        [
                          0,
                          "#0d0887"
                        ],
                        [
                          0.1111111111111111,
                          "#46039f"
                        ],
                        [
                          0.2222222222222222,
                          "#7201a8"
                        ],
                        [
                          0.3333333333333333,
                          "#9c179e"
                        ],
                        [
                          0.4444444444444444,
                          "#bd3786"
                        ],
                        [
                          0.5555555555555556,
                          "#d8576b"
                        ],
                        [
                          0.6666666666666666,
                          "#ed7953"
                        ],
                        [
                          0.7777777777777778,
                          "#fb9f3a"
                        ],
                        [
                          0.8888888888888888,
                          "#fdca26"
                        ],
                        [
                          1,
                          "#f0f921"
                        ]
                      ]
                    },
                    "colorway": [
                      "#636efa",
                      "#EF553B",
                      "#00cc96",
                      "#ab63fa",
                      "#FFA15A",
                      "#19d3f3",
                      "#FF6692",
                      "#B6E880",
                      "#FF97FF",
                      "#FECB52"
                    ],
                    "font": {
                      "color": "#2a3f5f"
                    },
                    "geo": {
                      "bgcolor": "white",
                      "lakecolor": "white",
                      "landcolor": "#E5ECF6",
                      "showlakes": true,
                      "showland": true,
                      "subunitcolor": "white"
                    },
                    "hoverlabel": {
                      "align": "left"
                    },
                    "hovermode": "closest",
                    "mapbox": {
                      "style": "light"
                    },
                    "paper_bgcolor": "white",
                    "plot_bgcolor": "#E5ECF6",
                    "polar": {
                      "angularaxis": {
                        "gridcolor": "white",
                        "linecolor": "white",
                        "ticks": ""
                      },
                      "bgcolor": "#E5ECF6",
                      "radialaxis": {
                        "gridcolor": "white",
                        "linecolor": "white",
                        "ticks": ""
                      }
                    },
                    "scene": {
                      "xaxis": {
                        "backgroundcolor": "#E5ECF6",
                        "gridcolor": "white",
                        "gridwidth": 2,
                        "linecolor": "white",
                        "showbackground": true,
                        "ticks": "",
                        "zerolinecolor": "white"
                      },
                      "yaxis": {
                        "backgroundcolor": "#E5ECF6",
                        "gridcolor": "white",
                        "gridwidth": 2,
                        "linecolor": "white",
                        "showbackground": true,
                        "ticks": "",
                        "zerolinecolor": "white"
                      },
                      "zaxis": {
                        "backgroundcolor": "#E5ECF6",
                        "gridcolor": "white",
                        "gridwidth": 2,
                        "linecolor": "white",
                        "showbackground": true,
                        "ticks": "",
                        "zerolinecolor": "white"
                      }
                    },
                    "shapedefaults": {
                      "line": {
                        "color": "#2a3f5f"
                      }
                    },
                    "ternary": {
                      "aaxis": {
                        "gridcolor": "white",
                        "linecolor": "white",
                        "ticks": ""
                      },
                      "baxis": {
                        "gridcolor": "white",
                        "linecolor": "white",
                        "ticks": ""
                      },
                      "bgcolor": "#E5ECF6",
                      "caxis": {
                        "gridcolor": "white",
                        "linecolor": "white",
                        "ticks": ""
                      }
                    },
                    "title": {
                      "x": 0.05
                    },
                    "xaxis": {
                      "automargin": true,
                      "gridcolor": "white",
                      "linecolor": "white",
                      "ticks": "",
                      "title": {
                        "standoff": 15
                      },
                      "zerolinecolor": "white",
                      "zerolinewidth": 2
                    },
                    "yaxis": {
                      "automargin": true,
                      "gridcolor": "white",
                      "linecolor": "white",
                      "ticks": "",
                      "title": {
                        "standoff": 15
                      },
                      "zerolinecolor": "white",
                      "zerolinewidth": 2
                    }
                  }
                }
              }
            }
          },
          "metadata": {},
          "output_type": "display_data"
        }
      ],
      "source": [
        "import plotly.graph_objects as go\n",
        "\n",
        "def plot_3d_points_with_plotly(points):\n",
        "    # Separate points based on their type (A or B)\n",
        "    points_A = [point for point in points if point[0] == 'A']\n",
        "    points_B = [point for point in points if point[0] == 'B']\n",
        "\n",
        "    # Extract coordinates and values for points of type A\n",
        "\n",
        "    x_A = [point[1][0] for point in points_A]\n",
        "    y_A = [point[1][1] for point in points_A]\n",
        "    z_A = [point[1][2] for point in points_A]\n",
        "\n",
        "    values_A = [point[2] for point in points_A]\n",
        "\n",
        "    # Extract coordinates and values for points of type B\n",
        "    x_B = [point[1][0] for point in points_B]\n",
        "    y_B = [point[1][1] for point in points_B]\n",
        "    z_B = [point[1][2] for point in points_B]\n",
        "    values_B = [point[2] for point in points_B]\n",
        "\n",
        "    # Create 3D scatter plots\n",
        "    trace_A = go.Scatter3d(x=x_A, y=y_A, z=z_A, mode='markers+text',\n",
        "                           marker=dict(size=6, color='blue', opacity=0.8),\n",
        "                           text=values_A, textposition='top center')\n",
        "\n",
        "    trace_B = go.Scatter3d(x=x_B, y=y_B, z=z_B, mode='markers+text',\n",
        "                           marker=dict(size=6, color='pink', opacity=0.8),\n",
        "                           text=values_B, textposition='top center')\n",
        "\n",
        "    # Combine plots and set layout\n",
        "    data = [trace_A, trace_B]\n",
        "    layout = go.Layout(margin=dict(l=0, r=0, b=0, t=0))\n",
        "    fig = go.Figure(data=data, layout=layout)\n",
        "\n",
        "    # Display the figure\n",
        "    fig.show()\n",
        "\n",
        "plot_3d_points_with_plotly(points)\n"
      ]
    },
    {
      "cell_type": "markdown",
      "metadata": {
        "id": "2GqE7x-MLvgV"
      },
      "source": [
        "## Since we already achieved the visualization of the system at the beginning, then for $Yb^{3+}$,find the six nearest neighbors for a given point in a cubic 3D space. For $Tm^{3+}$, we don't care about their neighbors, but determine their possible transition with the location of a random number in that interval\n",
        "\n",
        "(Note: surfaces, edges, corners. If the target point inhabits in one of six surface(x=0 or x=9, or y=0 or y=9, or z=0, or z=0), print the point in the surface. if the target point inhabits in one of eight corners, then also print the point in the corner. if the target point inhabits in one of 12 edges, then also print the point in the edge.)\n",
        "\n"
      ]
    },
    {
      "cell_type": "markdown",
      "metadata": {
        "id": "UwiM2ckqJAyB"
      },
      "source": [
        "### We start from the firstly excited points A(sensitizers $Yb^{3+}$), these excited Yb retrieved from original total list: `points`"
      ]
    },
    {
      "cell_type": "code",
      "execution_count": null,
      "metadata": {
        "id": "qLnQ1h1vI3mw"
      },
      "outputs": [],
      "source": [
        "import random\n",
        "\n",
        "# Step 1: Filter out 'A' points with value 1\n",
        "excited_state_A_i = [[i,point] for i,point in enumerate(points) if point[0] == 'A' and point[2] == 1]\n",
        "\n",
        "excited_state_A = [point for point in points if point[0] == 'A' and point[2] == 1]"
      ]
    },
    {
      "cell_type": "markdown",
      "metadata": {
        "id": "l35m2b7VXOAf"
      },
      "source": []
    },
    {
      "cell_type": "code",
      "execution_count": null,
      "metadata": {
        "colab": {
          "base_uri": "https://localhost:8080/"
        },
        "id": "6caW1swXJHWE",
        "outputId": "98d7fad0-b325-4924-a757-5099eded2234"
      },
      "outputs": [
        {
          "data": {
            "text/plain": [
              "[[36, ['A', (0.0, 3.0, 6.0), 1, {'p0': 7600.0}]],\n",
              " [40, ['A', (0.0, 4.0, 0.0), 1, {'p0': 7600.0}]],\n",
              " [59, ['A', (0.0, 5.0, 9.0), 1, {'p0': 7600.0}]],\n",
              " [92, ['A', (0.0, 9.0, 2.0), 1, {'p0': 7600.0}]],\n",
              " [134, ['A', (1.0, 3.0, 4.0), 1, {'p0': 7600.0}]],\n",
              " [164, ['A', (1.0, 6.0, 4.0), 1, {'p0': 7600.0}]],\n",
              " [188, ['A', (1.0, 8.0, 8.0), 1, {'p0': 7600.0}]],\n",
              " [194, ['A', (1.0, 9.0, 4.0), 1, {'p0': 7600.0}]],\n",
              " [205, ['A', (2.0, 0.0, 5.0), 1, {'p0': 7600.0}]],\n",
              " [229, ['A', (2.0, 2.0, 9.0), 1, {'p0': 7600.0}]],\n",
              " [250, ['A', (2.0, 5.0, 0.0), 1, {'p0': 7600.0}]],\n",
              " [345, ['A', (3.0, 4.0, 5.0), 1, {'p0': 7600.0}]],\n",
              " [348, ['A', (3.0, 4.0, 8.0), 1, {'p0': 7600.0}]],\n",
              " [390, ['A', (3.0, 9.0, 0.0), 1, {'p0': 7600.0}]],\n",
              " [423, ['A', (4.0, 2.0, 3.0), 1, {'p0': 7600.0}]],\n",
              " [452, ['A', (4.0, 5.0, 2.0), 1, {'p0': 7600.0}]],\n",
              " [475, ['A', (4.0, 7.0, 5.0), 1, {'p0': 7600.0}]],\n",
              " [480, ['A', (4.0, 8.0, 0.0), 1, {'p0': 7600.0}]],\n",
              " [509, ['A', (5.0, 0.0, 9.0), 1, {'p0': 7600.0}]],\n",
              " [521, ['A', (5.0, 2.0, 1.0), 1, {'p0': 7600.0}]],\n",
              " [560, ['A', (5.0, 6.0, 0.0), 1, {'p0': 7600.0}]],\n",
              " [593, ['A', (5.0, 9.0, 3.0), 1, {'p0': 7600.0}]],\n",
              " [613, ['A', (6.0, 1.0, 3.0), 1, {'p0': 7600.0}]],\n",
              " [665, ['A', (6.0, 6.0, 5.0), 1, {'p0': 7600.0}]],\n",
              " [699, ['A', (6.0, 9.0, 9.0), 1, {'p0': 7600.0}]],\n",
              " [720, ['A', (7.0, 2.0, 0.0), 1, {'p0': 7600.0}]],\n",
              " [750, ['A', (7.0, 5.0, 0.0), 1, {'p0': 7600.0}]],\n",
              " [753, ['A', (7.0, 5.0, 3.0), 1, {'p0': 7600.0}]],\n",
              " [813, ['A', (8.0, 1.0, 3.0), 1, {'p0': 7600.0}]],\n",
              " [856, ['A', (8.0, 5.0, 6.0), 1, {'p0': 7600.0}]],\n",
              " [872, ['A', (8.0, 7.0, 2.0), 1, {'p0': 7600.0}]],\n",
              " [890, ['A', (8.0, 9.0, 0.0), 1, {'p0': 7600.0}]],\n",
              " [956, ['A', (9.0, 5.0, 6.0), 1, {'p0': 7600.0}]],\n",
              " [967, ['A', (9.0, 6.0, 7.0), 1, {'p0': 7600.0}]]]"
            ]
          },
          "execution_count": 7,
          "metadata": {},
          "output_type": "execute_result"
        }
      ],
      "source": [
        "excited_state_A_i"
      ]
    },
    {
      "cell_type": "markdown",
      "metadata": {
        "id": "MMNK1I_kXZDj"
      },
      "source": [
        "### One import feature is that if we update the excited Yb3+ from type value==1 to type value==0(decay to ground level), then this point in original list `points` will also be updated."
      ]
    },
    {
      "cell_type": "markdown",
      "metadata": {
        "id": "P-c0HzuTXzUH"
      },
      "source": [
        "### check one excited Yb:"
      ]
    },
    {
      "cell_type": "code",
      "execution_count": null,
      "metadata": {
        "colab": {
          "base_uri": "https://localhost:8080/"
        },
        "id": "qKm_3_EHXAmD",
        "outputId": "359c91f1-c20c-4127-cb6c-2a65784c14ad"
      },
      "outputs": [
        {
          "data": {
            "text/plain": [
              "1"
            ]
          },
          "execution_count": 29,
          "metadata": {},
          "output_type": "execute_result"
        }
      ],
      "source": [
        "excited_state_A_i[0][1][2]"
      ]
    },
    {
      "cell_type": "markdown",
      "metadata": {
        "id": "qSsAbFbXXyzy"
      },
      "source": [
        "### update its value from 1 to 0:"
      ]
    },
    {
      "cell_type": "code",
      "execution_count": null,
      "metadata": {
        "id": "JQ6f12aEXH_V"
      },
      "outputs": [],
      "source": [
        "excited_state_A_i[0][1][2]-=1"
      ]
    },
    {
      "cell_type": "code",
      "execution_count": null,
      "metadata": {
        "colab": {
          "base_uri": "https://localhost:8080/"
        },
        "id": "RC8ucyscXKTI",
        "outputId": "34d12f1c-2a1a-4692-a1be-d3f3014410d8"
      },
      "outputs": [
        {
          "data": {
            "text/plain": [
              "0"
            ]
          },
          "execution_count": 31,
          "metadata": {},
          "output_type": "execute_result"
        }
      ],
      "source": [
        "excited_state_A_i[0][1][2]"
      ]
    },
    {
      "cell_type": "markdown",
      "metadata": {
        "id": "wIa67_zEX52Y"
      },
      "source": [
        "### the original one would also be updated:"
      ]
    },
    {
      "cell_type": "code",
      "execution_count": null,
      "metadata": {
        "colab": {
          "base_uri": "https://localhost:8080/"
        },
        "id": "98f-p31XW6oW",
        "outputId": "d5c6c276-6add-45e1-da2a-3fe8fb8ad5b1"
      },
      "outputs": [
        {
          "data": {
            "text/plain": [
              "['A', (0.0, 3.0, 6.0), 0, {'p0': 7600.0}]"
            ]
          },
          "execution_count": 32,
          "metadata": {},
          "output_type": "execute_result"
        }
      ],
      "source": [
        "points[36]"
      ]
    },
    {
      "cell_type": "code",
      "execution_count": null,
      "metadata": {
        "colab": {
          "base_uri": "https://localhost:8080/"
        },
        "id": "QlAR_Y_sJJ5t",
        "outputId": "7ab3b8ce-40da-44b1-c420-942c83fdfd2c"
      },
      "outputs": [
        {
          "data": {
            "text/plain": [
              "[['A', (0.0, 3.0, 6.0), 1, {'p0': 7600.0}],\n",
              " ['A', (0.0, 4.0, 0.0), 1, {'p0': 7600.0}],\n",
              " ['A', (0.0, 5.0, 9.0), 1, {'p0': 7600.0}],\n",
              " ['A', (0.0, 9.0, 2.0), 1, {'p0': 7600.0}],\n",
              " ['A', (1.0, 3.0, 4.0), 1, {'p0': 7600.0}],\n",
              " ['A', (1.0, 6.0, 4.0), 1, {'p0': 7600.0}],\n",
              " ['A', (1.0, 8.0, 8.0), 1, {'p0': 7600.0}],\n",
              " ['A', (1.0, 9.0, 4.0), 1, {'p0': 7600.0}],\n",
              " ['A', (2.0, 0.0, 5.0), 1, {'p0': 7600.0}],\n",
              " ['A', (2.0, 2.0, 9.0), 1, {'p0': 7600.0}],\n",
              " ['A', (2.0, 5.0, 0.0), 1, {'p0': 7600.0}],\n",
              " ['A', (3.0, 4.0, 5.0), 1, {'p0': 7600.0}],\n",
              " ['A', (3.0, 4.0, 8.0), 1, {'p0': 7600.0}],\n",
              " ['A', (3.0, 9.0, 0.0), 1, {'p0': 7600.0}],\n",
              " ['A', (4.0, 2.0, 3.0), 1, {'p0': 7600.0}],\n",
              " ['A', (4.0, 5.0, 2.0), 1, {'p0': 7600.0}],\n",
              " ['A', (4.0, 7.0, 5.0), 1, {'p0': 7600.0}],\n",
              " ['A', (4.0, 8.0, 0.0), 1, {'p0': 7600.0}],\n",
              " ['A', (5.0, 0.0, 9.0), 1, {'p0': 7600.0}],\n",
              " ['A', (5.0, 2.0, 1.0), 1, {'p0': 7600.0}],\n",
              " ['A', (5.0, 6.0, 0.0), 1, {'p0': 7600.0}],\n",
              " ['A', (5.0, 9.0, 3.0), 1, {'p0': 7600.0}],\n",
              " ['A', (6.0, 1.0, 3.0), 1, {'p0': 7600.0}],\n",
              " ['A', (6.0, 6.0, 5.0), 1, {'p0': 7600.0}],\n",
              " ['A', (6.0, 9.0, 9.0), 1, {'p0': 7600.0}],\n",
              " ['A', (7.0, 2.0, 0.0), 1, {'p0': 7600.0}],\n",
              " ['A', (7.0, 5.0, 0.0), 1, {'p0': 7600.0}],\n",
              " ['A', (7.0, 5.0, 3.0), 1, {'p0': 7600.0}],\n",
              " ['A', (8.0, 1.0, 3.0), 1, {'p0': 7600.0}],\n",
              " ['A', (8.0, 5.0, 6.0), 1, {'p0': 7600.0}],\n",
              " ['A', (8.0, 7.0, 2.0), 1, {'p0': 7600.0}],\n",
              " ['A', (8.0, 9.0, 0.0), 1, {'p0': 7600.0}],\n",
              " ['A', (9.0, 5.0, 6.0), 1, {'p0': 7600.0}],\n",
              " ['A', (9.0, 6.0, 7.0), 1, {'p0': 7600.0}]]"
            ]
          },
          "execution_count": 8,
          "metadata": {},
          "output_type": "execute_result"
        }
      ],
      "source": [
        "excited_state_A"
      ]
    },
    {
      "cell_type": "code",
      "execution_count": null,
      "metadata": {
        "colab": {
          "base_uri": "https://localhost:8080/"
        },
        "id": "pMw4ks7CJK0D",
        "outputId": "d09a51b9-8a1b-43e7-d1b5-095080c1c8cf"
      },
      "outputs": [
        {
          "data": {
            "text/plain": [
              "34"
            ]
          },
          "execution_count": 9,
          "metadata": {},
          "output_type": "execute_result"
        }
      ],
      "source": [
        "len(excited_state_A)"
      ]
    },
    {
      "cell_type": "code",
      "execution_count": null,
      "metadata": {
        "id": "bIkbfGCoWK50"
      },
      "outputs": [],
      "source": [
        "qualified_points=excited_state_A"
      ]
    },
    {
      "cell_type": "markdown",
      "metadata": {
        "id": "wU3KbNtfWO8Q"
      },
      "source": []
    },
    {
      "cell_type": "markdown",
      "metadata": {
        "id": "RBJo8yEMU1f0"
      },
      "source": [
        "### Since intrinsic decay and up-conversion are mutual compete process, so we use the normalized probability as corresponding weight. The weights are determined by published data in `Nature, Dayong Jin`"
      ]
    },
    {
      "cell_type": "code",
      "execution_count": null,
      "metadata": {
        "id": "FMU2e0RDU2sX"
      },
      "outputs": [],
      "source": [
        "t=1 # time step, in the unit of 1 microsecond, 1 us=10**6 s\n",
        "\n",
        "# from Nature\n",
        "t1 = 132 # lifetime of Yb excited level, so the intrinsic decay rate Ws=1/t1=7.6*10**3/s(we have to consider the inherent relation)\n",
        "t3 = 156 # 1st Tm, 6.4*10**3/s\n",
        "t4 = 56 # 2nd Tm, 1.8*10**4/s\n",
        "t5 = 71 # 3rd Tm, 1.4*10**4/s\n",
        "t6 = 313 # 4th Tm\n",
        "lifetime_Yb_Tm=[t1, t3, t4, t5, t6]"
      ]
    },
    {
      "cell_type": "markdown",
      "metadata": {
        "id": "O6_DIzAkgmup"
      },
      "source": [
        "## $Yb^{3+}$ .Based on Nature, we firstly don't consider the transition from an excited Yb3+ to ground Yb. So, there are only four choice plus one more choice(spontaneous decay) for an excited Yb to transfer its energy to its neighbors or just decay to ground."
      ]
    },
    {
      "cell_type": "code",
      "execution_count": null,
      "metadata": {
        "colab": {
          "base_uri": "https://localhost:8080/"
        },
        "id": "fehSuyN9U2mX",
        "outputId": "22096c15-bc83-4fb4-d664-2c171ddfe383"
      },
      "outputs": [
        {
          "data": {
            "text/plain": [
              "[0.036875303250849104,\n",
              " 0.3022804463852499,\n",
              " 0.2765647743813683,\n",
              " 0.35904900533721495,\n",
              " 0.025230470645317808]"
            ]
          },
          "execution_count": 11,
          "metadata": {},
          "output_type": "execute_result"
        }
      ],
      "source": [
        "# for 1st, Yb\n",
        "# Ws, c1,c2,c3,c4\n",
        "\n",
        "Ws=7.6*10**3 # here, Ws is not spontaneous rate, but transfer E from 1st Yb to ground Yb\n",
        "c1=6.23*10**4\n",
        "c2=5.7*10**4\n",
        "c3=7.4*10**4\n",
        "c4=5.2*10**3\n",
        "\n",
        "#stay_Yb1=math.exp(-Ws*t)\n",
        "#spon_decay=1-math.exp(-Ws*t)\n",
        "\n",
        "Yb1=[Ws, c1,c2,c3,c4]\n",
        "\n",
        "\n",
        "Yb1_sum=sum(Yb1)\n",
        "normalized_Yb1 = [p/Yb1_sum for p in Yb1]\n",
        "normalized_Yb1"
      ]
    },
    {
      "cell_type": "markdown",
      "metadata": {
        "id": "FL4uKA1fg6ro"
      },
      "source": [
        "### $Tm^{3+}$, ground state. $Yb^{3+}$ need to consider its neighbors, and update the target neighbor. $Tm^{3+}$ don't need to find its neighbors, only state update itself."
      ]
    },
    {
      "cell_type": "code",
      "execution_count": null,
      "metadata": {
        "colab": {
          "base_uri": "https://localhost:8080/"
        },
        "id": "OjQ5s21dU2eo",
        "outputId": "86b25a8c-98cc-41a9-bbef-8d70ef008f26"
      },
      "outputs": [
        {
          "data": {
            "text/plain": [
              "[0.18633540372670807, 0.21739130434782608, 0.5962732919254659]"
            ]
          },
          "execution_count": 12,
          "metadata": {},
          "output_type": "execute_result"
        }
      ],
      "source": [
        "# for ground Tm\n",
        "# k31, k41, k51\n",
        "\n",
        "# choice\n",
        "\n",
        "k31=1.5*10**5\n",
        "k41=1.75*10**5\n",
        "k51=4.8*10**5\n",
        "#....\n",
        "\n",
        "\n",
        "Tm0=[k31, k41, k51]\n",
        "Tm0_sum=sum(Tm0)\n",
        "normalized_Tm0 = [p/Tm0_sum for p in Tm0]\n",
        "normalized_Tm0"
      ]
    },
    {
      "cell_type": "markdown",
      "metadata": {
        "id": "5wkpI7U8hOPl"
      },
      "source": [
        "### $Tm^{3+}$, 1st excited state. Only has two choice: spontaneous decay, or not."
      ]
    },
    {
      "cell_type": "code",
      "execution_count": null,
      "metadata": {
        "colab": {
          "base_uri": "https://localhost:8080/"
        },
        "id": "B2UARymoU2W_",
        "outputId": "2b783144-4afc-4fbe-e29b-4be2affe202c"
      },
      "outputs": [
        {
          "data": {
            "text/plain": [
              "[0.6321205588285577]"
            ]
          },
          "execution_count": 13,
          "metadata": {},
          "output_type": "execute_result"
        }
      ],
      "source": [
        "import math\n",
        "# for 1st Tm\n",
        "# W2, decay or not\n",
        "# p_decay=1-exp(-t/T)\n",
        "\n",
        "normalized_Tm1 = [1 - math.exp(-t)]\n",
        "normalized_Tm1"
      ]
    },
    {
      "cell_type": "markdown",
      "metadata": {
        "id": "YeVMco0Ahi5Q"
      },
      "source": [
        "### $Tm^{3+}$, 2nd state. Spontaneous decay: b32, b31. Non-radiative emission: k31. Stay."
      ]
    },
    {
      "cell_type": "code",
      "execution_count": null,
      "metadata": {
        "colab": {
          "base_uri": "https://localhost:8080/"
        },
        "id": "W5zWKSOQU2Ll",
        "outputId": "32c352d7-57d2-4f9f-decf-ce6cb69dd952"
      },
      "outputs": [
        {
          "data": {
            "text/plain": [
              "[0.02892857142857143, 0.07821428571428571, 0.8928571428571429]"
            ]
          },
          "execution_count": 14,
          "metadata": {},
          "output_type": "execute_result"
        }
      ],
      "source": [
        "# for 2nd Tm\n",
        "# W3, c3, k31\n",
        "\n",
        "\n",
        "W3=1.8*10**4\n",
        "b31=0.27\n",
        "b32=0.73\n",
        "#c3=7.4*10**4\n",
        "k31=1.5*10**5\n",
        "#....\n",
        "\n",
        "\n",
        "Tm2=[W3*b31, W3*b32, k31]\n",
        "Tm2_sum=sum(Tm2)\n",
        "normalized_Tm2 = [p/Tm2_sum for p in Tm2]\n",
        "normalized_Tm2"
      ]
    },
    {
      "cell_type": "markdown",
      "metadata": {
        "id": "J307ya6AzJgG"
      },
      "source": [
        "### $Tm^{3+}$, 3rd state. Spontaneous decay: b43, b42, b41, Non-radiative emission: k41. Stay."
      ]
    },
    {
      "cell_type": "code",
      "execution_count": null,
      "metadata": {
        "colab": {
          "base_uri": "https://localhost:8080/"
        },
        "id": "JMqogF86VlT7",
        "outputId": "93603111-099b-4737-dceb-de302e24318e"
      },
      "outputs": [
        {
          "data": {
            "text/plain": [
              "[0.04296296296296296,\n",
              " 0.017777777777777778,\n",
              " 0.013333333333333334,\n",
              " 0.9259259259259259]"
            ]
          },
          "execution_count": 15,
          "metadata": {},
          "output_type": "execute_result"
        }
      ],
      "source": [
        "# for 3rd Tm\n",
        "# W4, c4, k41\n",
        "\n",
        "\n",
        "W4=1.4*10**4\n",
        "b43=0.58\n",
        "b42=0.24\n",
        "b41=0.18\n",
        "#c4=5.2*10**3\n",
        "k41=1.75*10**5\n",
        "#....\n",
        "\n",
        "\n",
        "Tm3=[W4*b43, W4*b42, W4*b41, k41]\n",
        "Tm3_sum=sum(Tm3)\n",
        "normalized_Tm3 = [p/Tm3_sum for p in Tm3]\n",
        "normalized_Tm3"
      ]
    },
    {
      "cell_type": "markdown",
      "metadata": {
        "id": "gC4RxK4qzT_1"
      },
      "source": [
        "### $Tm^{3+}$, 4th state. Spontaneous decay: b54, b53, b52, b51. Non-radiative emission: k51. Stay."
      ]
    },
    {
      "cell_type": "code",
      "execution_count": null,
      "metadata": {
        "colab": {
          "base_uri": "https://localhost:8080/"
        },
        "id": "nBU4jUZ3VrdZ",
        "outputId": "71cd551e-55b5-45b9-8341-d39956f63311"
      },
      "outputs": [
        {
          "data": {
            "text/plain": [
              "[0.002185430463576159,\n",
              " 0.0013245033112582781,\n",
              " 0.0015231788079470199,\n",
              " 0.0015894039735099338,\n",
              " 0.9933774834437086]"
            ]
          },
          "execution_count": 16,
          "metadata": {},
          "output_type": "execute_result"
        }
      ],
      "source": [
        "# for 4th Tm\n",
        "# W5, k51\n",
        "\n",
        "W5=3.2*10**3\n",
        "b54=0.33\n",
        "b53=0.20\n",
        "b52=0.23\n",
        "b51=0.24\n",
        "k51=4.8*10**5\n",
        "#....\n",
        "\n",
        "Tm4=[W5*b54, W5*b53, W5*b52, W5*b51, k51]\n",
        "Tm4_sum=sum(Tm4)\n",
        "normalized_Tm4 = [p/Tm4_sum for p in Tm4]\n",
        "normalized_Tm4"
      ]
    },
    {
      "cell_type": "markdown",
      "metadata": {
        "id": "Lqs5XIShVxQn"
      },
      "source": [
        "### For this co-dopant system, sensitizer and emitter at different excited level have different choice. We calculate the normalizaed prbability based on Dayong Jin paper: `Nature`.\n",
        "\n",
        "### Although, we don't know the exact parameters, but under the same system and internal and external conditions, we may assume these parameters vary within a small range, and by doing normalization, we can reduce the error. For example:\n",
        "\n",
        "#### notebility"
      ]
    },
    {
      "cell_type": "code",
      "execution_count": null,
      "metadata": {
        "colab": {
          "base_uri": "https://localhost:8080/"
        },
        "id": "A9Q4eWMkV12-",
        "outputId": "36769771-eedc-4021-8a05-cab3f23162a1"
      },
      "outputs": [
        {
          "data": {
            "text/plain": [
              "[[0.036875303250849104,\n",
              "  0.3022804463852499,\n",
              "  0.2765647743813683,\n",
              "  0.35904900533721495,\n",
              "  0.025230470645317808],\n",
              " [0.18633540372670807, 0.21739130434782608, 0.5962732919254659],\n",
              " [0.6321205588285577],\n",
              " [0.02892857142857143, 0.07821428571428571, 0.8928571428571429],\n",
              " [0.04296296296296296,\n",
              "  0.017777777777777778,\n",
              "  0.013333333333333334,\n",
              "  0.9259259259259259],\n",
              " [0.002185430463576159,\n",
              "  0.0013245033112582781,\n",
              "  0.0015231788079470199,\n",
              "  0.0015894039735099338,\n",
              "  0.9933774834437086]]"
            ]
          },
          "execution_count": 17,
          "metadata": {},
          "output_type": "execute_result"
        }
      ],
      "source": [
        "normalized_Yb_Tm=[normalized_Yb1, normalized_Tm0, normalized_Tm1, normalized_Tm2, normalized_Tm3, normalized_Tm4]\n",
        "\n",
        "normalized_Yb_Tm"
      ]
    },
    {
      "cell_type": "code",
      "execution_count": null,
      "metadata": {
        "colab": {
          "base_uri": "https://localhost:8080/"
        },
        "id": "tNSWlj5xV_vY",
        "outputId": "4a9d0922-29cd-42f0-bf7f-c85c235048f1"
      },
      "outputs": [
        {
          "data": {
            "text/plain": [
              "6"
            ]
          },
          "execution_count": 18,
          "metadata": {},
          "output_type": "execute_result"
        }
      ],
      "source": [
        "len(normalized_Yb_Tm) # 1st Yb, ground Tm, 1st Tm, 2nd Tm, 3rd Tm, 4th Tm"
      ]
    },
    {
      "cell_type": "markdown",
      "metadata": {
        "id": "dGQcHVUNP1jt"
      },
      "source": [
        "### 1. $Yb^{3+}$\n",
        "\n",
        "### Because all possible interactions determined by the nearest neighbors, so we have to label the probability according to these neighbors, then these labels can be further used with the random number we are going to generate later.\n",
        "\n",
        "### 2. $Tm^{3+}$\n",
        "\n",
        "### If the input point is B(say, 1st excited), then we don't care about its neighbors, all possible transtions happen inside the point B"
      ]
    },
    {
      "cell_type": "code",
      "execution_count": null,
      "metadata": {
        "id": "jlv7gCiYLhul"
      },
      "outputs": [],
      "source": [
        "### For Yb, set the probability according to neighbor type and its energy level, this function determines which interactions could happen according to the reference point's neighbors' state(type, energy level)\n",
        "### Essentially the probability determined by quantum mechanics.\n",
        "\n",
        "### if target point is A, then in the following function, we call this add_tag function to add tag to its neighbors\n",
        "\n",
        "\n",
        "def add_tags_to_neighbor(neighbor_info):\n",
        "    #type_, _, value = neighbor_info,the input variable: first element is type, third element is value\n",
        "\n",
        "    #tag = {'pc':0,'p0':0.8,'p1':0.,'p2':0.2,'p3':0.2,'p4':0.4,'p5':0.5,'p6':0.6,'p7':0.7}\n",
        "    tag={'pc':0,'p0':normalized_Yb_Tm[0][0],'p1':0,'p2':normalized_Yb_Tm[0][1],'p3':normalized_Yb_Tm[0][2],'p4':normalized_Yb_Tm[0][3],'p5':normalized_Yb_Tm[0][4]} # Nature: up conversion coefficients bigger than W\n",
        "\n",
        "    # if Yb has a neighbor Tm, then this Tm has only one state: ground, 1st, 2nd, 3rd, 4th...Hence, there is only one type of up-conversion process\n",
        "    Ws=7.6*10**3 # here, Ws is not spontaneous rate, but transfer E from 1st Yb to ground Yb\n",
        "    c1=6.23*10**4\n",
        "    c2=5.7*10**4\n",
        "    c3=7.4*10**4\n",
        "    c4=5.2*10**3\n",
        "\n",
        "    if neighbor_info[0] == 'C':\n",
        "        neighbor_info.append({'pc': 0})\n",
        "\n",
        "    elif neighbor_info[0] == 'B':\n",
        "        if neighbor_info[2] == 2: # ground\n",
        "            neighbor_info.append({'p2': c1})\n",
        "        elif neighbor_info[2] == 3: # 1st\n",
        "            neighbor_info.append({'p3': c2})\n",
        "        elif neighbor_info[2] == 4: # 2nd\n",
        "            neighbor_info.append({'p4': c3})\n",
        "        elif neighbor_info[2] == 5: # 3rd\n",
        "            neighbor_info.append({'p5': c4})\n",
        "\n",
        "    elif neighbor_info[0] == 'A':\n",
        "\n",
        "      if value == 1:\n",
        "            neighbor_info.append({'p1': 0})\n",
        "      else:\n",
        "            # !!! this probability is not the same with the spontaneous decay, it comes from the excited Yb3+ transfer its energy to neighbor who is ground Yb3+\n",
        "            # from Nature, we don't care about an excited Yb transfer its energy to an ground Yb\n",
        "            # But in reality, it seems we should consider this situation\n",
        "            neighbor_info.append({'p0': 0})\n",
        "\n",
        "\n",
        "    return neighbor_info # now we get the format as ['A',(x,y,z), 0, {'p0': 0.2}]\n",
        "\n",
        "\n",
        "\n",
        "### The function below designed to detect the reference point and its nearest neighbors with complete information\n",
        "\n",
        "def get_point_info(target_point, points):\n",
        "\n",
        "  # Point A(1st)\n",
        "  if target_point[0]=='A':\n",
        "\n",
        "      x, y, z = target_point[1]\n",
        "      neighbors_info = []\n",
        "\n",
        "      # Check if the point is on the surface\n",
        "      on_surface_x = x == 0 or x == 9\n",
        "      on_surface_y = y == 0 or y == 9\n",
        "      on_surface_z = z == 0 or z == 9\n",
        "\n",
        "      # Check if the point is at one of the corners\n",
        "      is_corner = (x == 0 or x == 9) and (y == 0 or y == 9) and (z == 0 or z == 9)\n",
        "\n",
        "      # Check if the point is on one of the edges\n",
        "      is_edge = sum([on_surface_x, on_surface_y, on_surface_z]) == 2 and not is_corner\n",
        "\n",
        "      # Storing the position of the point based on its location\n",
        "      if is_corner:\n",
        "          neighbors_info.append([\"Point is at a corner\",{'type': target_point[0]},{'coord': target_point[1]},{'value': target_point[2]},target_point[-1]])\n",
        "\n",
        "      elif is_edge:\n",
        "          neighbors_info.append([\"Point is on an edge\",{'type': target_point[0]},{'coord': target_point[1]},{'value': target_point[2]},target_point[-1]])\n",
        "\n",
        "      elif on_surface_x or on_surface_y or on_surface_z:\n",
        "          neighbors_info.append([\"Point is on the surface\",{'type': target_point[0]},{'coord': target_point[1]},{'value': target_point[2]},target_point[-1]])\n",
        "\n",
        "      else:\n",
        "          neighbors_info.append([\"Point is inside the volume\",{'type': target_point[0]},{'coord': target_point[1]},{'value': target_point[2]},target_point[-1]])\n",
        "\n",
        "\n",
        "      # Define the possible shifts in each direction(simple cubic)\n",
        "      shifts = [(1, 0, 0), (-1, 0, 0), (0, 1, 0), (0, -1, 0), (0, 0, 1), (0, 0, -1)]\n",
        "\n",
        "      # Use a dictionary to provide more context for the shifts\n",
        "      directions = {\n",
        "          (1, 0, 0): \"positive x-direction\",\n",
        "          (-1, 0, 0): \"negative x-direction\",\n",
        "          (0, 1, 0): \"positive y-direction\",\n",
        "          (0, -1, 0): \"negative y-direction\",\n",
        "          (0, 0, 1): \"positive z-direction\",\n",
        "          (0, 0, -1): \"negative z-direction\"\n",
        "      }\n",
        "\n",
        "      # check the six directions' neighbors\n",
        "      for shift in shifts:\n",
        "\n",
        "          neighbor_coord = tuple(np.add(target_point[1], shift)) # coordinations add together\n",
        "\n",
        "          # Check boundaries\n",
        "          if 0 <= neighbor_coord[0] <= 9 and 0 <= neighbor_coord[1] <= 9 and 0 <= neighbor_coord[2] <= 9:\n",
        "\n",
        "              point_info = [point for point in points if point[1] == neighbor_coord] # find the coordination among `points`\n",
        "\n",
        "              # if not empty\n",
        "              if point_info:\n",
        "\n",
        "                  #type_, _, value = point_info[0]\n",
        "                  # Adding tags to neighbors\n",
        "                  # create the neighbor's information as a list!!! instead of a tuple\n",
        "\n",
        "                  tagged_neighbor = add_tags_to_neighbor([point_info[0][0], point_info[0][1], point_info[0][2]]) # type, coord, value\n",
        "\n",
        "                  neighbor_details = [\n",
        "                      f\"Neighbor in {directions[shift]}\",\n",
        "                      {'type': point_info[0][0]},\n",
        "                      {'coord': point_info[0][1]},\n",
        "                      {'value': point_info[0][2]},\n",
        "                      tagged_neighbor[-1], # from tagged_neighbor: we get the format as ['A',(x,y,z), 0,{'p0': 0.2} ]\n",
        "                  ]\n",
        "\n",
        "                  neighbors_info.append(neighbor_details)\n",
        "\n",
        "      # Point B(1st, 2nd, 3rd, 4th, 5th)\n",
        "      # if target point is B, then we only add itself to neighbors_info, and don't need to find its neighbors, so we don't perform add_tag function to point B\n",
        "  else:\n",
        "      neighbors_info = []\n",
        "      neighbors_info.append(target_point)\n",
        "\n",
        "\n",
        "  return neighbors_info\n",
        "\n",
        "\n"
      ]
    },
    {
      "cell_type": "markdown",
      "metadata": {
        "id": "Ssr8WIoVNORj"
      },
      "source": [
        "## Choose a point randomly from the 200 points A, whose value is 1(which means it is the excited state), and input this point into the above function, to access the six nearest neighbors of the target point."
      ]
    },
    {
      "cell_type": "code",
      "execution_count": null,
      "metadata": {
        "colab": {
          "base_uri": "https://localhost:8080/"
        },
        "id": "lC1OaFpHFefc",
        "outputId": "1c8062fb-e8de-46a2-f408-5e4833d56aa6"
      },
      "outputs": [
        {
          "data": {
            "text/plain": [
              "[[36, ['A', (0.0, 3.0, 6.0), 1, {'p0': 7600.0}]],\n",
              " [40, ['A', (0.0, 4.0, 0.0), 1, {'p0': 7600.0}]],\n",
              " [59, ['A', (0.0, 5.0, 9.0), 1, {'p0': 7600.0}]],\n",
              " [92, ['A', (0.0, 9.0, 2.0), 1, {'p0': 7600.0}]],\n",
              " [134, ['A', (1.0, 3.0, 4.0), 1, {'p0': 7600.0}]],\n",
              " [164, ['A', (1.0, 6.0, 4.0), 1, {'p0': 7600.0}]],\n",
              " [188, ['A', (1.0, 8.0, 8.0), 1, {'p0': 7600.0}]],\n",
              " [194, ['A', (1.0, 9.0, 4.0), 1, {'p0': 7600.0}]],\n",
              " [205, ['A', (2.0, 0.0, 5.0), 1, {'p0': 7600.0}]],\n",
              " [229, ['A', (2.0, 2.0, 9.0), 1, {'p0': 7600.0}]],\n",
              " [250, ['A', (2.0, 5.0, 0.0), 1, {'p0': 7600.0}]],\n",
              " [345, ['A', (3.0, 4.0, 5.0), 1, {'p0': 7600.0}]],\n",
              " [348, ['A', (3.0, 4.0, 8.0), 1, {'p0': 7600.0}]],\n",
              " [390, ['A', (3.0, 9.0, 0.0), 1, {'p0': 7600.0}]],\n",
              " [423, ['A', (4.0, 2.0, 3.0), 1, {'p0': 7600.0}]],\n",
              " [452, ['A', (4.0, 5.0, 2.0), 1, {'p0': 7600.0}]],\n",
              " [475, ['A', (4.0, 7.0, 5.0), 1, {'p0': 7600.0}]],\n",
              " [480, ['A', (4.0, 8.0, 0.0), 1, {'p0': 7600.0}]],\n",
              " [509, ['A', (5.0, 0.0, 9.0), 1, {'p0': 7600.0}]],\n",
              " [521, ['A', (5.0, 2.0, 1.0), 1, {'p0': 7600.0}]],\n",
              " [560, ['A', (5.0, 6.0, 0.0), 1, {'p0': 7600.0}]],\n",
              " [593, ['A', (5.0, 9.0, 3.0), 1, {'p0': 7600.0}]],\n",
              " [613, ['A', (6.0, 1.0, 3.0), 1, {'p0': 7600.0}]],\n",
              " [665, ['A', (6.0, 6.0, 5.0), 1, {'p0': 7600.0}]],\n",
              " [699, ['A', (6.0, 9.0, 9.0), 1, {'p0': 7600.0}]],\n",
              " [720, ['A', (7.0, 2.0, 0.0), 1, {'p0': 7600.0}]],\n",
              " [750, ['A', (7.0, 5.0, 0.0), 1, {'p0': 7600.0}]],\n",
              " [753, ['A', (7.0, 5.0, 3.0), 1, {'p0': 7600.0}]],\n",
              " [813, ['A', (8.0, 1.0, 3.0), 1, {'p0': 7600.0}]],\n",
              " [856, ['A', (8.0, 5.0, 6.0), 1, {'p0': 7600.0}]],\n",
              " [872, ['A', (8.0, 7.0, 2.0), 1, {'p0': 7600.0}]],\n",
              " [890, ['A', (8.0, 9.0, 0.0), 1, {'p0': 7600.0}]],\n",
              " [956, ['A', (9.0, 5.0, 6.0), 1, {'p0': 7600.0}]],\n",
              " [967, ['A', (9.0, 6.0, 7.0), 1, {'p0': 7600.0}]]]"
            ]
          },
          "execution_count": 19,
          "metadata": {},
          "output_type": "execute_result"
        }
      ],
      "source": [
        "excited_state_A_i"
      ]
    },
    {
      "cell_type": "code",
      "execution_count": null,
      "metadata": {
        "colab": {
          "base_uri": "https://localhost:8080/"
        },
        "id": "0Ke6e2B5Fi70",
        "outputId": "d2b93ed1-e887-4817-d9b8-33caa6df3b6e"
      },
      "outputs": [
        {
          "data": {
            "text/plain": [
              "[['C', (5.0, 6.0, 8.0), None]]"
            ]
          },
          "execution_count": 20,
          "metadata": {},
          "output_type": "execute_result"
        }
      ],
      "source": [
        "get_point_info(points[568], points)"
      ]
    },
    {
      "cell_type": "markdown",
      "metadata": {
        "id": "vIqRzrpoNsMz"
      },
      "source": [
        "## MC process. Now we get to this step to generate a random number between (0,1) and compare it with nearest neighbors' tag, to decide which event to occur."
      ]
    },
    {
      "cell_type": "markdown",
      "metadata": {
        "id": "OOVk8S-Pxxnb"
      },
      "source": [
        "### Compete process: decay and ETU.\n",
        "\n",
        "1. **Decay Process**: It first determines whether the excited $ Yb^{3+} $ decays or not, based on its lifetime and the timestep you've chosen.\n",
        "2. **Energy Transfer Process**: If the ion does not decay in the first step, it will proceed to determine which energy transfer event occurs.\n"
      ]
    },
    {
      "cell_type": "markdown",
      "metadata": {
        "id": "JjO1f-240U7B"
      },
      "source": [
        "To understand and calculate the probability of the $Yb^{3+}$ ion staying in its original excited state during a given timestep, we need to consider its all possible ways to leave this state, as well as the relative probability of these ways.\n",
        "\n",
        "1. There's a chance the excited ion spontaneously decays, represented by $ P_{decay} $.\n",
        "2. There's a chance the excited ion transfers its energy to a neighboring ion through the upconversion process, represented by the sum of probabilities from $c_1$ to $c_4$.\n",
        "3. There's a chance the excited ion stay in its original without any changes.$P_{stay}$\n",
        "\n",
        "To find the probability $ P_{stay} $ that the ion stays excited (i.e., neither decays nor transfers its energy), we can use the total probability:\n",
        "\n",
        "\n",
        "At $t=0, P_{stay} = 1$. When $t → ∞, P_{stay} → 0$\n",
        "\n",
        "Where $ P_{decay} $ is the spontaneous decay probability, and $ P_{upconversion} $ represents the total probability of any energy transfer events happening.\n",
        "\n",
        "In general, the probability of an event happening within a given timestep for a given rate $ r $ is:\n",
        "\n",
        "$$ 1 - e^{-rt} $$\n",
        "\n",
        "The spontaneously decay rate:\n",
        "\n",
        "$$P_{decay} = 1- e^{-t/T} $$\n",
        "\n",
        "At $t=0, P_{decay} = 0$. When $t → ∞, P_{decay} → 1$\n",
        "\n",
        "Then, combining everything, the probability to leave the excited level:\n",
        "\n",
        "$$ P_{leave} = 1 - e^{-t(a_0+a_1+a_2+...+a_5)}=1 - e^{-t} $$\n",
        "\n",
        "\n",
        "where $a_0+a_1+a_2+...+a_5=1$, and $w=\\dfrac{1}{T}$\n",
        "\n",
        "and $a_0=\\dfrac{w}{∑a_i+w}$ and $a_1=\\dfrac{a_1}{∑a_i+w}$\n",
        "\n",
        "when $t=0,  P_{leave}=0 $, when $t → ∞, P_{leave}=1 $\n",
        "\n",
        "Hence, the modified formula of $P_{stay}$ is:\n",
        "\n",
        "$$ P_{stay} = 1 - (P_{leave} ) = e^{-t(a_0+a_1+a_2+...+a_5)}=e^{-t}=e^{-1}=0.368$$(at every step, t=1)\n",
        "\n",
        "\n",
        "The decay probability $ P_{decay} $ represents the chance the ion decays in time $ t $, while the terms in the $P_{up}$ should represent the individual chances of each upconversion process occurring in time $ t $. Ensure that the exponential terms with the tags genuinely represent probabilities over the timestep $ t $ and not simply rates."
      ]
    },
    {
      "cell_type": "markdown",
      "metadata": {
        "id": "oMma9VtRsYgi"
      },
      "source": [
        "![Screenshot 2023-09-13 at 1.58.21 PM.png](data:image/png;base64,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)"
      ]
    },
    {
      "cell_type": "markdown",
      "metadata": {
        "id": "HC7sWI1H7r_6"
      },
      "source": [
        "### Yb3+"
      ]
    },
    {
      "cell_type": "markdown",
      "metadata": {
        "id": "nzKPRvXvP6Wu"
      },
      "source": [
        "### define which event to happen for point B"
      ]
    },
    {
      "cell_type": "code",
      "execution_count": null,
      "metadata": {
        "colab": {
          "base_uri": "https://localhost:8080/"
        },
        "id": "Ke-kjk3cPtaY",
        "outputId": "5439380b-b34b-4f6f-d349-8938e5d86402"
      },
      "outputs": [
        {
          "name": "stdout",
          "output_type": "stream",
          "text": [
            "0.11268758173710369\n",
            "p2\n"
          ]
        }
      ],
      "source": [
        "\n",
        "\n",
        "weight_4 = {'p2':0.24 ,'p3_r': 0.35, 'p3_k': 0.41}\n",
        "\n",
        "def choose_event(weights):\n",
        "    rand_num = random.random()  # This gives a random number between 0 and 1\n",
        "    print(rand_num)\n",
        "\n",
        "    if 0 <= rand_num <= weights['p2']:\n",
        "        return 'p2'\n",
        "    elif weights['p2'] < rand_num <= weights['p2'] + weights['p3_r']:\n",
        "        return 'p3_r'\n",
        "    else:\n",
        "        return 'p3_k'\n",
        "\n",
        "# Test\n",
        "event = choose_event(weight_4)\n",
        "print(event)"
      ]
    },
    {
      "cell_type": "code",
      "execution_count": null,
      "metadata": {
        "colab": {
          "base_uri": "https://localhost:8080/"
        },
        "id": "6Ntvu4LfeGQ4",
        "outputId": "8f9a0ee3-a939-4219-b203-a672de0bd2a3"
      },
      "outputs": [
        {
          "data": {
            "text/plain": [
              "[[0.036875303250849104,\n",
              "  0.3022804463852499,\n",
              "  0.2765647743813683,\n",
              "  0.35904900533721495,\n",
              "  0.025230470645317808],\n",
              " [0.18633540372670807, 0.21739130434782608, 0.5962732919254659],\n",
              " [0.6321205588285577],\n",
              " [0.02892857142857143, 0.07821428571428571, 0.8928571428571429],\n",
              " [0.04296296296296296,\n",
              "  0.017777777777777778,\n",
              "  0.013333333333333334,\n",
              "  0.9259259259259259],\n",
              " [0.002185430463576159,\n",
              "  0.0013245033112582781,\n",
              "  0.0015231788079470199,\n",
              "  0.0015894039735099338,\n",
              "  0.9933774834437086]]"
            ]
          },
          "execution_count": 22,
          "metadata": {},
          "output_type": "execute_result"
        }
      ],
      "source": [
        "normalized_Yb_Tm"
      ]
    },
    {
      "cell_type": "code",
      "execution_count": null,
      "metadata": {
        "id": "swWD0GYxxwzU"
      },
      "outputs": [],
      "source": [
        "import random\n",
        "import math\n",
        "import matplotlib.pyplot as plt\n",
        "\n",
        "def random_and_neighbors2(target_point, points):\n",
        "\n",
        "    # every time we call this main function with inputing these two arguments, points should also be updated\n",
        "    # Get the information using our previously defined function\n",
        "    # we may define many subfunction for: 1st Yb, 1st Tm, 2nd Tm, 3rd Tm, 4th Tm\n",
        "    # Define lifetime T and timestep t\n",
        "\n",
        "    t=1 # time step, in the unit of 1 microsecond\n",
        "\n",
        "    t1 = 100 # lifetime of Yb excited level, so the intrinsic decay rate w=1/t1(we have to consider the inherent relation)\n",
        "    t3 = 90 # 1st Tm\n",
        "    t4 = 80 # 2nd Tm\n",
        "    t5 = 70 # 3rd Tm\n",
        "    t6 = 60 # 4th Tm\n",
        "\n",
        "    lifetime_Yb_Tm=[t1, t3, t4, t5, t6]\n",
        "\n",
        "    # for excited point A or excited point B, we need to find its neighbors or itself.\n",
        "    # subfunction\n",
        "\n",
        "    # info = get_point_info(target_point, points)\n",
        "    # neighbors_info=info[:]\n",
        "\n",
        "\n",
        "    # for each input target point from qualified points, we only consider: 1st Yb, 1st Tm, 2nd Tm, 3rd Tm, 4th Tm\n",
        "\n",
        "    #################################### 1st Yb\n",
        "    if target_point[2]==1:\n",
        "\n",
        "      normalized_p=normalized_Yb_Tm[0]\n",
        "      # interaction with neighbors\n",
        "      #weight_1 = {'pc':0,'p0':normalized_p[0],'p1':0,'p2':normalized_p[1],'p3':normalized_p[2],'p4':normalized_p[3],'p5':normalized_p[4]} # Nature: up conversion coefficients bigger than W\n",
        "\n",
        "      rand_num = random.random()\n",
        "\n",
        "      ### no decay\n",
        "      if rand_num < math.exp(-1):\n",
        "        print(f'{target_point} will stay in current step')\n",
        "\n",
        "\n",
        "      ### make choice\n",
        "      else:\n",
        "        print(f'{rand_num} > {math.exp(-1)}')\n",
        "        print(f'{target_point} won\\'t stay in current step, and it would choose one choice: decay or upconversion, determined by next random number')\n",
        "\n",
        "        info = get_point_info(target_point, points)\n",
        "\n",
        "        neighbors_info=info[:] # include reference point and neighbors, later, because we should consider Ws: 7600 and other upconversion coefficients\n",
        "\n",
        "        types = [neighbor[1]['type'] for neighbor in neighbors_info]\n",
        "        coords = [neighbor[2]['coord'] for neighbor in neighbors_info]\n",
        "        values = [neighbor[3]['value'] for neighbor in neighbors_info]\n",
        "        tags = [list(neighbor[4].keys())[0] for neighbor in neighbors_info]\n",
        "        tag_values = [list(neighbor[4].values())[0] for neighbor in neighbors_info]\n",
        "\n",
        "        #p_stay_Yb1=math.exp(-t*(normalized_p[0]+normalized_p[1]+normalized_p[2]+normalized_p[3]+normalized_p[4]))\n",
        "\n",
        "        #tag_values.append(Ws)\n",
        "        # Sort the tag_values\n",
        "        # all these lists are aligned according to the sorted order of tag_values\n",
        "\n",
        "        sorted_indices = sorted(range(len(tag_values)), key=lambda k: tag_values[k]) #  a list of indices that represent the elements of tag_values in ascending order\n",
        "        types = [types[i] for i in sorted_indices]\n",
        "        coords = [coords[i] for i in sorted_indices]\n",
        "        values = [values[i] for i in sorted_indices]\n",
        "        tags = [tags[i] for i in sorted_indices]\n",
        "        tag_values = [tag_values[i] for i in sorted_indices]\n",
        "\n",
        "\n",
        "        P_total = sum(tag_values)\n",
        "        normalized_tag_values = [p/P_total for p in tag_values]\n",
        "\n",
        "        # Generate a random number for energy transfer event\n",
        "        random_event = random.random()\n",
        "        print(f\"Random number for event: {random_event:.4f}\")\n",
        "\n",
        "        sorted_indices = sorted(range(len(normalized_tag_values)), key=lambda i: normalized_tag_values[i])\n",
        "\n",
        "        # Create a ranked list of elements\n",
        "        ranked_normalized_tag_values = [normalized_tag_values[i] for i in sorted_indices]\n",
        "\n",
        "        # Determine which event occurs based on the normalized probabilities\n",
        "        accumulated_prob = 0\n",
        "\n",
        "        selected_type = None\n",
        "        selected_coord = None\n",
        "        selected_value = None\n",
        "        selected_tag = None\n",
        "\n",
        "        for i, value in enumerate(ranked_normalized_tag_values):\n",
        "            accumulated_prob += value\n",
        "            if random_event < accumulated_prob:\n",
        "                #selected_event_index = i\n",
        "                selected_type = types[i]\n",
        "                selected_coord = coords[i]\n",
        "                selected_value = values[i]\n",
        "                selected_tag = tags[i]\n",
        "                break\n",
        "\n",
        "        target_neighbor=[selected_type, selected_coord, selected_value, selected_tag, tags[selected_tag]]\n",
        "\n",
        "        ###### just decay to ground level\n",
        "\n",
        "        if selected_type=='A':\n",
        "          print(f'{target_point} won\\'t stay in its original state, and there is no up conversion process but only decay to its ground level')\n",
        "          target_point[2]-=1 # 1st excited Yb decay to ground level, type value from 1 to 0\n",
        "\n",
        "          len1=len(qualified_points)\n",
        "          # once the excited Yb decay to ground level, it won't involve in the following decay\n",
        "          qualified_points.remove(target_point)\n",
        "          len2=len(qualified_points)\n",
        "\n",
        "          if len1-len2==1:\n",
        "            print('Remove successfully')\n",
        "          else:\n",
        "            print('Remove error')\n",
        "\n",
        "        ###### up-conversion process\n",
        "\n",
        "        elif selected_type=='B':\n",
        "\n",
        "          print(f'{target_point} won\\'t stay in its original state, and it won\\'t decay to its ground level, one up conversion would happen with one of its neighbor B')\n",
        "\n",
        "          target_point[2]-=1 # 1st excited Yb decay to ground level, type value from 1 to 0\n",
        "\n",
        "          if target_neighbor[2]==2: # ground level Tm, update its energy and append it to qualified points\n",
        "\n",
        "            target_neighbor[2]+=1 # 1st excited Yb tranfer its energy to neighbor B , type value from i to i+1\n",
        "            len1=len(qualified_points)\n",
        "            qualified_points.append(target_neighbor)\n",
        "            len2=len(qualified_points)\n",
        "\n",
        "            if len2-len1==1:\n",
        "              print('append successfully')\n",
        "            else:\n",
        "              print('append error')\n",
        "\n",
        "          else: # if the energy of selected point B is 3, 4, 5, it's already in qualified points list, then just update its energy\n",
        "            target_neighbor[2]+=1\n",
        "\n",
        "\n",
        "\n",
        "\n",
        "   #################################### 1st Tm\n",
        "    elif target_point[2]==3: # 1st Tm, value=3\n",
        "\n",
        "      normalized_p=normalized_Yb_Tm[2]\n",
        "      spontaneous_decay = normalized_p[0]\n",
        "      #p_stay_Tm3=1-spontaneous_decay\n",
        "      # for 1st Tm, decay or not\n",
        "      tag_values=[spontaneous_decay]\n",
        "\n",
        "      rand_num = random.random()\n",
        "\n",
        "      if rand_num < math.exp(-1):\n",
        "        print(f'{target_point} will stay in current step')\n",
        "\n",
        "      else:\n",
        "        print(f'{rand_num} > {math.exp(-1)}')\n",
        "        print(f'{target_point} won\\'t stay in current step, and it has two choice: decay or not(this is 1st excited Tm), determined by next random number')\n",
        "\n",
        "        random_event = random.random()\n",
        "        print(f\"Random number for event: {random_event:.4f}\")\n",
        "\n",
        "        if random_event < tag_values[0]:\n",
        "          print(f'{target_point} will decay to its ground level at current step')\n",
        "          # 1st Tm, type=3, after decay, ground state, type=2,\n",
        "          target_point[2]-=1\n",
        "\n",
        "          len1=len(qualified_points)\n",
        "          # once the excited Tm decay to ground level, it won't involve in the following decay\n",
        "          qualified_points.remove(target_point)\n",
        "          len2=len(qualified_points)\n",
        "          if len1-len2==1:\n",
        "            print('Remove successfully')\n",
        "          else:\n",
        "            print('Remove error')\n",
        "\n",
        "\n",
        "    #################################### 2nd Tm\n",
        "    elif target_point[2]==4: # 2nd Tm, value=4\n",
        "\n",
        "      normalized_p=normalized_Yb_Tm[3]\n",
        "      weight_4 = {'p2':normalized_p[0],'p3_r':normalized_p[1],'p3_k':normalized_p[2]}\n",
        "      #p_stay_Tm4=math.exp(-t*(normalized_p[0]+normalized_p[1]+normalized_p[2]))\n",
        "      #weight_4['stay']=p_stay_Tm4\n",
        "      #which_event=choose_event(weight_4)\n",
        "      rand_num = random.random()\n",
        "\n",
        "      if rand_num < math.exp(-1):\n",
        "        print(f'{target_point} will stay in current step')\n",
        "\n",
        "      else:\n",
        "        print(f'{rand_num} > {math.exp(-1)}')\n",
        "        print(f'{target_point} won\\'t stay in current step, and it would choose three choice: decay to 1st Tm, decay to ground Tm, cross-relaxation to 1st level Tm, determined by next random number')\n",
        "\n",
        "        rand_num = random.random()\n",
        "        print(f\"Random number for event: {random_event:.4f}\")\n",
        "\n",
        "        if random_event < normalized_p[0]:\n",
        "          print(f'{target_point} will decay from 2nd excited level to its ground level at current step')\n",
        "          # 2nd Tm, value=4, 4-2=2, to ground level\n",
        "          target_point[2]=target_point[2]-2\n",
        "\n",
        "          len1=len(qualified_points)\n",
        "          # once the excited Tm decay to ground level, it won't involve in the following decay\n",
        "          qualified_points.remove(target_point)\n",
        "          len2=len(qualified_points)\n",
        "          if len1-len2==1:\n",
        "            print('Remove successfully')\n",
        "          else:\n",
        "            print('Remove error')\n",
        "\n",
        "\n",
        "        elif normalized_p[0] < random_event <= normalized_p[0]+normalized_p[1]:\n",
        "          print(f'{target_point} will decay from 2nd excited level to 1st excited level at current step')\n",
        "          # 2nd Tm, value=4, 4-1=3, to 1st excited level\n",
        "          target_point[2]=target_point[2]-1\n",
        "\n",
        "        else:\n",
        "          print(f'{target_point} will cross-relaxation from 2nd excited level to 1st excited level at current step')\n",
        "          # 2nd Tm, value=4, 4-1=3, to 1st excited level\n",
        "          target_point[2]=target_point[2]-1\n",
        "\n",
        "\n",
        "          # simultaneous, one ground level Tm change the type from 2 to 3\n",
        "          ???????????\n",
        "\n",
        "    #################################### 3rd Tm\n",
        "    elif target_point[2]==5: # 3rd Tm, value=5\n",
        "      normalized_p=normalized_Yb_Tm[4]\n",
        "      weight_5 = {'p4_r':normalized_p[0],'p3':normalized_p[1],'p2':normalized_p[2],'p4_k':normalized_p[3]}\n",
        "      #p_stay_Tm5 = math.exp(-t*(normalized_p[0]+normalized_p[1]+normalized_p[2]+normalized_p[3]))\n",
        "      #which_event=choose_event(weight_5)\n",
        "\n",
        "      rand_num = random.random()\n",
        "\n",
        "      if rand_num < math.exp(-1):\n",
        "        print(f'{target_point} will stay in current step')\n",
        "\n",
        "      else:\n",
        "        print(f'{rand_num} > {math.exp(-1)}')\n",
        "        print(f'{target_point} won\\'t stay in current step, and it would choose four choice: decay to ground level Tm, decay to 1st level Tm, decay to 2nd level Tm, cross-relaxation to 2nd level Tm, determined by next random number')\n",
        "\n",
        "        rand_num = random.random()\n",
        "        print(f\"Random number for event: {random_event:.4f}\")\n",
        "\n",
        "        if random_event < normalized_p[2]:\n",
        "          print(f'{target_point} will decay from 3rd excited level to its ground level at current step')\n",
        "          # 3rd Tm, value=5, 5-3=2, to ground level\n",
        "          target_point[2]=target_point[2]-3\n",
        "\n",
        "\n",
        "        elif normalized_p[2] < random_event <= normalized_p[2]+normalized_p[1]:\n",
        "          print(f'{target_point} will decay from 3rd excited level to 1st excited level at current step')\n",
        "          # 3rd Tm, value=5, 5-2=3, to 1st excited level\n",
        "          target_point[2]=target_point[2]-2\n",
        "\n",
        "        elif normalized_p[2]+normalized_p[1] < random_event <= normalized_p[2]+normalized_p[1]+normalized_p[0]:\n",
        "          print(f'{target_point} will decay from 3rd excited level to 2nd excited level at current step')\n",
        "          # 3rd Tm, value=5, 5-1=4, to 2nd excited level\n",
        "          target_point[2]=target_point[2]-1\n",
        "\n",
        "        else:\n",
        "          print(f'{target_point} will cross-relaxation from 3rd excited level to 2nd excited level at current step')\n",
        "          # 3rd Tm, value=5, 5-1=4, to 2nd excited level\n",
        "          target_point[2]=target_point[2]-1\n",
        "\n",
        "          # simultaneous, one ground level Tm change the type from 2 to 4\n",
        "          ???????????\n",
        "\n",
        "\n",
        "    #################################### 4th Tm\n",
        "    elif target_point[2]==6: # 4th Tm, value=6\n",
        "      normalized_p=normalized_Yb_Tm[5]\n",
        "      weight_6 = {'p5':normalized_p[0],'p4_r':normalized_p[1],'p3':normalized_p[2],'p2':normalized_p[3],'p4_k':normalized_p[4]}\n",
        "      #p_stay_Tm6 = math.exp(-t*(normalized_p[0]+normalized_p[1]+normalized_p[2]+normalized_p[3]+normalized_p[4]))\n",
        "\n",
        "      rand_num = random.random()\n",
        "\n",
        "      if rand_num < math.exp(-1):\n",
        "        print(f'{target_point} will stay in current step')\n",
        "\n",
        "      else:\n",
        "        print(f'{rand_num} > {math.exp(-1)}')\n",
        "        print(f'{target_point} won\\'t stay in current step, and it would choose five choice: decay to ground level Tm, decay to 1st level Tm, decay to 2nd level Tm,  decay to 3rd level Tm, cross-relaxation to 2nd level Tm, determined by next random number')\n",
        "\n",
        "        rand_num = random.random()\n",
        "        print(f\"Random number for event: {random_event:.4f}\")\n",
        "\n",
        "        if random_event < normalized_p[1]:\n",
        "          print(f'{target_point} will decay from 4th excited level to its 2nd excited level at current step')\n",
        "          # 4th Tm, value=6, 6-2=4, to 2nd level\n",
        "          target_point[2]=target_point[2]-2\n",
        "\n",
        "\n",
        "        elif normalized_p[1] < random_event <= normalized_p[1]+normalized_p[2]:\n",
        "          print(f'{target_point} will decay from 4th excited level to 1st excited level at current step')\n",
        "          # 4th Tm, value=6, 6-3=3, to 1st excited level\n",
        "          target_point[2]=target_point[2]-3\n",
        "\n",
        "        elif normalized_p[2]+normalized_p[1] < random_event <= normalized_p[1]+normalized_p[2]+normalized_p[3]:\n",
        "          print(f'{target_point} will decay from 4th excited level to ground level at current step')\n",
        "          # 4th Tm, value=6, 6-4=2, to ground level\n",
        "          target_point[2]=target_point[2]-4\n",
        "\n",
        "        elif  normalized_p[1]+normalized_p[2]+normalized_p[3] < random_event <=  normalized_p[1]+normalized_p[2]+normalized_p[3]+normalized_p[0]:\n",
        "          print(f'{target_point} will decay from 4th excited level to 3rd excited level at current step')\n",
        "          # 4th Tm, value=6, 6-1=5, to 3rd excited level\n",
        "          target_point[2]=target_point[2]-1\n",
        "\n",
        "        else:\n",
        "          print(f'{target_point} will cross-relaxation from 4th excited level to 2nd excited level at current step')\n",
        "          # 4th Tm, value=6, 6-2=4, to 2nd excited level\n",
        "          target_point[2]=target_point[2]-2\n",
        "\n",
        "          # simultaneous, one ground level Tm change the type from 2 to 4\n",
        "          ???????????\n",
        "\n",
        "\n",
        "\n",
        "\n",
        "\n",
        "    # Extract the tag values and the corresponding tags from each neighbor sublist\n",
        "    # in neighbor_info list, it also contains the reference point, because the excited level could be unchanged\n",
        "\n",
        "\n",
        "    # Check which sub-interval the random number belongs to\n",
        "    left_boundary = 0.0\n",
        "\n",
        "\n",
        "\n",
        "    # Plotting-1\n",
        "    plt.figure(figsize=(8, 2))\n",
        "    plt.scatter(tag_values, [0] * len(tag_values), marker='o', color='blue', label='Tag Values')\n",
        "    #plt.scatter([random_num], [0], marker='x', color='red', label='Random Number')\n",
        "\n",
        "    # Adjustments to only show x-axis\n",
        "    plt.yticks([])  # Hide y-axis\n",
        "    plt.ylim(-0.1, 0.1)  # Limit y-axis so only x-axis is shown\n",
        "    plt.xlim(0, 1)\n",
        "    plt.xlabel('Value')\n",
        "    plt.title('1D Representation of all neighbors tag values without normalization')\n",
        "    plt.legend()\n",
        "    plt.grid(True, axis='x')\n",
        "    plt.gca().spines['top'].set_visible(False)\n",
        "    plt.gca().spines['right'].set_visible(False)\n",
        "    plt.gca().spines['left'].set_visible(False)\n",
        "\n",
        "    plt.show()\n",
        "\n",
        "\n",
        "    # Plotting-2\n",
        "    plt.figure(figsize=(8, 2))\n",
        "    plt.scatter(normalized_tag_values, [0] * len(normalized_tag_values), marker='o', color='blue', label='Normalized Tag Values')\n",
        "    plt.scatter([random_event], [0], marker='x', color='red', label='Random Number')\n",
        "\n",
        "    # Adjustments to only show x-axis\n",
        "    plt.yticks([])  # Hide y-axis\n",
        "    plt.ylim(-0.1, 0.1)  # Limit y-axis so only x-axis is shown\n",
        "    plt.xlim(0, 1)\n",
        "    plt.xlabel('Value')\n",
        "    plt.title('1D Representation of Tag Values and Random Number')\n",
        "    plt.legend()\n",
        "    plt.grid(True, axis='x')\n",
        "    plt.gca().spines['top'].set_visible(False)\n",
        "    plt.gca().spines['right'].set_visible(False)\n",
        "    plt.gca().spines['left'].set_visible(False)\n",
        "\n",
        "    plt.show()\n",
        "\n",
        "#################\n",
        "\n",
        "    print('Reference',a[0])\n",
        "    print('All neighbors tag value=',tag_values)\n",
        "    print('Normalized Tag Values', normalized_tag_values)\n",
        "    print('Ramdom number=',random_event)\n",
        "    print(f'Interact with neighbor {target_neighbor}')\n",
        "\n",
        "################ update the neighbor's value, tag, tag_value\n",
        "\n",
        "\n",
        "    list_neighbor = list(target_neighbor)\n",
        "\n",
        "    # Modify the value, for instance, increasing it by 1\n",
        "    target_neighbor[2] += 1\n",
        "\n",
        "\n",
        "    # Mapping of values, tag, and tag value\n",
        "    value_to_tag_map = {\n",
        "        1: ('p1', 0),\n",
        "        2: ('p2', 0.14),\n",
        "        3: ('p3', 0.13),\n",
        "        4: ('p4', 0.12),\n",
        "        5: ('p5', 0.11)\n",
        "    }\n",
        "\n",
        "    # Update tag and tag value\n",
        "    if target_neighbor[2] in value_to_tag_map:\n",
        "        new_tag, new_tag_value = value_to_tag_map[target_neighbor[2]]\n",
        "        #print(new_tag_value)\n",
        "\n",
        "        # Update target_neighbor\n",
        "        target_neighbor[3] = new_tag  # Update the type to the new tag\n",
        "        target_neighbor[4] = new_tag_value\n",
        "        excited_state_A.append(target_neighbor)\n",
        "\n",
        "\n",
        "    global track\n",
        "    track=[]\n",
        "\n",
        "    track.append(target_neighbor)\n",
        "    print('track:', track)\n",
        "\n",
        "    return track\n"
      ]
    },
    {
      "cell_type": "code",
      "execution_count": null,
      "metadata": {
        "colab": {
          "base_uri": "https://localhost:8080/"
        },
        "id": "7mclQJjuCW7z",
        "outputId": "5c7e67ce-fe48-45e0-d8c5-62a779411542"
      },
      "outputs": [
        {
          "data": {
            "text/plain": [
              "[[9, ['A', (0.0, 0.0, 9.0), 1, {'p1': 0}]],\n",
              " [20, ['A', (0.0, 2.0, 0.0), 1, {'p1': 0}]],\n",
              " [67, ['A', (0.0, 6.0, 7.0), 1, {'p1': 0}]],\n",
              " [76, ['A', (0.0, 7.0, 6.0), 1, {'p1': 0}]],\n",
              " [85, ['A', (0.0, 8.0, 5.0), 1, {'p1': 0}]],\n",
              " [90, ['A', (0.0, 9.0, 0.0), 1, {'p1': 0}]],\n",
              " [93, ['A', (0.0, 9.0, 3.0), 1, {'p1': 0}]],\n",
              " [116, ['A', (1.0, 1.0, 6.0), 1, {'p1': 0}]],\n",
              " [117, ['A', (1.0, 1.0, 7.0), 1, {'p1': 0}]],\n",
              " [160, ['A', (1.0, 6.0, 0.0), 1, {'p1': 0}]],\n",
              " [169, ['A', (1.0, 6.0, 9.0), 1, {'p1': 0}]],\n",
              " [231, ['A', (2.0, 3.0, 1.0), 1, {'p1': 0}]],\n",
              " [354, ['A', (3.0, 5.0, 4.0), 1, {'p1': 0}]],\n",
              " [366, ['A', (3.0, 6.0, 6.0), 1, {'p1': 0}]],\n",
              " [406, ['A', (4.0, 0.0, 6.0), 1, {'p1': 0}]],\n",
              " [414, ['A', (4.0, 1.0, 4.0), 1, {'p1': 0}]],\n",
              " [440, ['A', (4.0, 4.0, 0.0), 1, {'p1': 0}]],\n",
              " [573, ['A', (5.0, 7.0, 3.0), 1, {'p1': 0}]],\n",
              " [621, ['A', (6.0, 2.0, 1.0), 1, {'p1': 0}]],\n",
              " [666, ['A', (6.0, 6.0, 6.0), 1, {'p1': 0}]],\n",
              " [730, ['A', (7.0, 3.0, 0.0), 1, {'p1': 0}]],\n",
              " [774, ['A', (7.0, 7.0, 4.0), 1, {'p1': 0}]],\n",
              " [840, ['A', (8.0, 4.0, 0.0), 1, {'p1': 0}]],\n",
              " [889, ['A', (8.0, 8.0, 9.0), 1, {'p1': 0}]],\n",
              " [893, ['A', (8.0, 9.0, 3.0), 1, {'p1': 0}]],\n",
              " [933, ['A', (9.0, 3.0, 3.0), 1, {'p1': 0}]],\n",
              " [954, ['A', (9.0, 5.0, 4.0), 1, {'p1': 0}]],\n",
              " [981, ['A', (9.0, 8.0, 1.0), 1, {'p1': 0}]],\n",
              " [986, ['A', (9.0, 8.0, 6.0), 1, {'p1': 0}]]]"
            ]
          },
          "execution_count": 49,
          "metadata": {},
          "output_type": "execute_result"
        }
      ],
      "source": [
        "excited_state_A_i"
      ]
    },
    {
      "cell_type": "code",
      "execution_count": null,
      "metadata": {
        "colab": {
          "base_uri": "https://localhost:8080/"
        },
        "id": "IsisA15K0eFI",
        "outputId": "e9447e52-5657-4dca-aaf5-9b7e40e91441"
      },
      "outputs": [
        {
          "name": "stdout",
          "output_type": "stream",
          "text": [
            "OK\n"
          ]
        },
        {
          "data": {
            "text/plain": [
              "[['Point is inside the volume',\n",
              "  {'type': 'A'},\n",
              "  {'coord': (2.0, 3.0, 1.0)},\n",
              "  {'value': 1},\n",
              "  {'p1': 0}],\n",
              " ['Neighbor in positive x-direction',\n",
              "  {'type': 'C'},\n",
              "  {'coord': (3.0, 3.0, 1.0)},\n",
              "  {'value': None},\n",
              "  {'pc': 0}],\n",
              " ['Neighbor in negative x-direction',\n",
              "  {'type': 'C'},\n",
              "  {'coord': (1.0, 3.0, 1.0)},\n",
              "  {'value': None},\n",
              "  {'pc': 0}],\n",
              " ['Neighbor in positive y-direction',\n",
              "  {'type': 'C'},\n",
              "  {'coord': (2.0, 4.0, 1.0)},\n",
              "  {'value': None},\n",
              "  {'pc': 0}],\n",
              " ['Neighbor in negative y-direction',\n",
              "  {'type': 'C'},\n",
              "  {'coord': (2.0, 2.0, 1.0)},\n",
              "  {'value': None},\n",
              "  {'pc': 0}],\n",
              " ['Neighbor in positive z-direction',\n",
              "  {'type': 'A'},\n",
              "  {'coord': (2.0, 3.0, 2.0)},\n",
              "  {'value': 0},\n",
              "  {'p0': 0.036875303250849104}],\n",
              " ['Neighbor in negative z-direction',\n",
              "  {'type': 'A'},\n",
              "  {'coord': (2.0, 3.0, 0.0)},\n",
              "  {'value': 0},\n",
              "  {'p0': 0.036875303250849104}]]"
            ]
          },
          "execution_count": 50,
          "metadata": {},
          "output_type": "execute_result"
        }
      ],
      "source": [
        "get_point_info(points[231], points)"
      ]
    },
    {
      "cell_type": "code",
      "execution_count": null,
      "metadata": {
        "colab": {
          "base_uri": "https://localhost:8080/",
          "height": 375
        },
        "id": "GR69sfuJEpXp",
        "outputId": "8331f93b-9011-478a-dc8f-a4e9e5207186"
      },
      "outputs": [
        {
          "name": "stdout",
          "output_type": "stream",
          "text": [
            "OK\n",
            "Spontaneous decay rate is 0.009950166250831893, because the random number is 0.678545711921247, so this excited level hasn't decayed yet at this step\n",
            "This target point would have two options: non-radiative emission(upconversion, MPR, cross-relaxation), or stay in its original state, which is determined by the random number: \n",
            "Random number for event: 0.2853\n"
          ]
        },
        {
          "ename": "NameError",
          "evalue": "ignored",
          "output_type": "error",
          "traceback": [
            "\u001b[0;31m---------------------------------------------------------------------------\u001b[0m",
            "\u001b[0;31mNameError\u001b[0m                                 Traceback (most recent call last)",
            "\u001b[0;32m<ipython-input-51-a522029aa715>\u001b[0m in \u001b[0;36m<cell line: 1>\u001b[0;34m()\u001b[0m\n\u001b[0;32m----> 1\u001b[0;31m \u001b[0mrandom_and_neighbors2\u001b[0m\u001b[0;34m(\u001b[0m\u001b[0mpoints\u001b[0m\u001b[0;34m[\u001b[0m\u001b[0;36m231\u001b[0m\u001b[0;34m]\u001b[0m\u001b[0;34m,\u001b[0m \u001b[0mpoints\u001b[0m\u001b[0;34m)\u001b[0m\u001b[0;34m\u001b[0m\u001b[0;34m\u001b[0m\u001b[0m\n\u001b[0m",
            "\u001b[0;32m<ipython-input-48-1769c9affe63>\u001b[0m in \u001b[0;36mrandom_and_neighbors2\u001b[0;34m(target_point, points)\u001b[0m\n\u001b[1;32m    191\u001b[0m         \u001b[0;31m#print(f\"Selected event index: {selected_event_index}\")\u001b[0m\u001b[0;34m\u001b[0m\u001b[0;34m\u001b[0m\u001b[0m\n\u001b[1;32m    192\u001b[0m \u001b[0;34m\u001b[0m\u001b[0m\n\u001b[0;32m--> 193\u001b[0;31m     \u001b[0mtarget_neighbor\u001b[0m\u001b[0;34m=\u001b[0m\u001b[0;34m[\u001b[0m\u001b[0mselected_type\u001b[0m\u001b[0;34m,\u001b[0m \u001b[0mselected_coord\u001b[0m\u001b[0;34m,\u001b[0m \u001b[0mselected_value\u001b[0m\u001b[0;34m,\u001b[0m \u001b[0mselected_tag\u001b[0m\u001b[0;34m,\u001b[0m \u001b[0mtag\u001b[0m\u001b[0;34m[\u001b[0m\u001b[0mselected_tag\u001b[0m\u001b[0;34m]\u001b[0m\u001b[0;34m]\u001b[0m\u001b[0;34m\u001b[0m\u001b[0;34m\u001b[0m\u001b[0m\n\u001b[0m\u001b[1;32m    194\u001b[0m \u001b[0;34m\u001b[0m\u001b[0m\n\u001b[1;32m    195\u001b[0m \u001b[0;34m\u001b[0m\u001b[0m\n",
            "\u001b[0;31mNameError\u001b[0m: name 'tag' is not defined"
          ]
        }
      ],
      "source": [
        "random_and_neighbors2(points[231], points)"
      ]
    },
    {
      "cell_type": "code",
      "execution_count": null,
      "metadata": {
        "id": "vDPotIzgVjQV"
      },
      "outputs": [],
      "source": [
        "target_neighbor"
      ]
    },
    {
      "cell_type": "markdown",
      "metadata": {
        "id": "I391IadN8FH6"
      },
      "source": []
    },
    {
      "cell_type": "code",
      "execution_count": null,
      "metadata": {
        "id": "rOYibrTMre7o"
      },
      "outputs": [],
      "source": [
        "track"
      ]
    },
    {
      "cell_type": "code",
      "execution_count": null,
      "metadata": {
        "id": "jc9OKLUP1aq0"
      },
      "outputs": [],
      "source": [
        "excited_state_A"
      ]
    },
    {
      "cell_type": "code",
      "execution_count": null,
      "metadata": {
        "id": "d4KWXp4t1bsu"
      },
      "outputs": [],
      "source": [
        "len(excited_state_A)"
      ]
    },
    {
      "cell_type": "markdown",
      "metadata": {
        "id": "n6hdN1GXalW2"
      },
      "source": [
        "### apply the process to all qualified points (A, B)"
      ]
    },
    {
      "cell_type": "code",
      "execution_count": null,
      "metadata": {
        "id": "kHrb1hJP32cb"
      },
      "outputs": [],
      "source": [
        "for step in range(100):\n",
        "  qualified_points=excited_state_A\n",
        "\n",
        "  for target in qualified_points:\n",
        "    random_and_neighbors2(target, points)\n",
        "    print(qualified_points)\n",
        "\n",
        "\n"
      ]
    },
    {
      "cell_type": "code",
      "execution_count": null,
      "metadata": {
        "id": "9OZc4sfiHi0q"
      },
      "outputs": [],
      "source": [
        "len(excited_state_A)"
      ]
    },
    {
      "cell_type": "code",
      "execution_count": null,
      "metadata": {
        "id": "r1k-Tu2FJmks"
      },
      "outputs": [],
      "source": [
        "all_target_points=excited_state_A\n",
        "all_target_points"
      ]
    },
    {
      "cell_type": "markdown",
      "metadata": {
        "id": "10wbWR97OKd8"
      },
      "source": [
        "### some questions\n",
        "\n",
        "1.  decay v.s. transition"
      ]
    },
    {
      "cell_type": "code",
      "execution_count": null,
      "metadata": {
        "id": "BFOU3NmVsIx1"
      },
      "outputs": [],
      "source": []
    }
  ],
  "metadata": {
    "colab": {
      "provenance": []
    },
    "kernelspec": {
      "display_name": "Python 3",
      "name": "python3"
    },
    "language_info": {
      "codemirror_mode": {
        "name": "ipython",
        "version": 3
      },
      "file_extension": ".py",
      "mimetype": "text/x-python",
      "name": "python",
      "nbconvert_exporter": "python",
      "pygments_lexer": "ipython3",
      "version": "3.11.3"
    }
  },
  "nbformat": 4,
  "nbformat_minor": 0
}
