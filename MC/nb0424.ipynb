{
 "cells": [
  {
   "cell_type": "code",
   "execution_count": 2,
   "metadata": {},
   "outputs": [],
   "source": [
    "from point import Point\n",
    "from lattice import Lattice\n",
    "from simulator import Simulator\n",
    "from utils import *\n",
    "# from EnergyTransfer import *\n",
    "import numpy as np\n",
    "import matplotlib.pyplot as plt"
   ]
  },
  {
   "cell_type": "code",
   "execution_count": 5,
   "metadata": {},
   "outputs": [
    {
     "name": "stderr",
     "output_type": "stream",
     "text": [
      "100%|██████████| 3401/3401 [00:08<00:00, 381.60it/s]\n",
      "100%|██████████| 3401/3401 [00:14<00:00, 237.69it/s]\n",
      "100%|██████████| 3401/3401 [00:20<00:00, 166.24it/s]\n",
      "  0%|          | 3/2000 [00:00<01:45, 18.88it/s]\n"
     ]
    },
    {
     "ename": "KeyError",
     "evalue": "'MPR21'",
     "output_type": "error",
     "traceback": [
      "\u001b[1;31m---------------------------------------------------------------------------\u001b[0m",
      "\u001b[1;31mKeyError\u001b[0m                                  Traceback (most recent call last)",
      "Cell \u001b[1;32mIn[5], line 27\u001b[0m\n\u001b[0;32m     25\u001b[0m t1 \u001b[38;5;241m=\u001b[39m \u001b[38;5;241m2000\u001b[39m\n\u001b[0;32m     26\u001b[0m t2 \u001b[38;5;241m=\u001b[39m \u001b[38;5;241m3000\u001b[39m\n\u001b[1;32m---> 27\u001b[0m r \u001b[38;5;241m=\u001b[39m \u001b[43msimulator\u001b[49m\u001b[38;5;241;43m.\u001b[39;49m\u001b[43msimulate\u001b[49m\u001b[43m(\u001b[49m\u001b[43mt1\u001b[49m\u001b[43m,\u001b[49m\u001b[43m \u001b[49m\u001b[43mt2\u001b[49m\u001b[43m)\u001b[49m\n\u001b[0;32m     28\u001b[0m nir, blue \u001b[38;5;241m=\u001b[39m r[\u001b[38;5;124m'\u001b[39m\u001b[38;5;124mnir_avg\u001b[39m\u001b[38;5;124m'\u001b[39m], r[\u001b[38;5;124m'\u001b[39m\u001b[38;5;124mblue_avg\u001b[39m\u001b[38;5;124m'\u001b[39m]\n\u001b[0;32m     29\u001b[0m nir \u001b[38;5;241m=\u001b[39m nir\u001b[38;5;241m*\u001b[39m\u001b[38;5;241m10\u001b[39m\u001b[38;5;241m*\u001b[39m\u001b[38;5;241m*\u001b[39m\u001b[38;5;241m6\u001b[39m\n",
      "File \u001b[1;32md:\\UCNP\\ODE-coefs\\MC\\simulator.py:149\u001b[0m, in \u001b[0;36mSimulator.simulate\u001b[1;34m(self, t1, t2)\u001b[0m\n\u001b[0;32m    147\u001b[0m tm_state_evolution \u001b[38;5;241m=\u001b[39m {i:[] \u001b[38;5;28;01mfor\u001b[39;00m i \u001b[38;5;129;01min\u001b[39;00m \u001b[38;5;28mrange\u001b[39m(\u001b[38;5;241m0\u001b[39m, \u001b[38;5;241m8\u001b[39m)}\n\u001b[0;32m    148\u001b[0m \u001b[38;5;28;01mfor\u001b[39;00m _ \u001b[38;5;129;01min\u001b[39;00m tqdm(\u001b[38;5;28mrange\u001b[39m(t1)):\n\u001b[1;32m--> 149\u001b[0m     r \u001b[38;5;241m=\u001b[39m \u001b[38;5;28;43mself\u001b[39;49m\u001b[38;5;241;43m.\u001b[39;49m\u001b[43mstep\u001b[49m\u001b[43m(\u001b[49m\u001b[43memission\u001b[49m\u001b[38;5;241;43m=\u001b[39;49m\u001b[38;5;28;43;01mTrue\u001b[39;49;00m\u001b[43m)\u001b[49m\n\u001b[0;32m    150\u001b[0m     \u001b[38;5;28;01mfor\u001b[39;00m i \u001b[38;5;129;01min\u001b[39;00m \u001b[38;5;28mrange\u001b[39m(\u001b[38;5;241m2\u001b[39m):\n\u001b[0;32m    151\u001b[0m         yb_state_evolution[i]\u001b[38;5;241m.\u001b[39mappend(r[\u001b[38;5;124m'\u001b[39m\u001b[38;5;124myb_state\u001b[39m\u001b[38;5;124m'\u001b[39m][i])\n",
      "File \u001b[1;32md:\\UCNP\\ODE-coefs\\MC\\simulator.py:65\u001b[0m, in \u001b[0;36mSimulator.step\u001b[1;34m(self, steps, emission)\u001b[0m\n\u001b[0;32m     62\u001b[0m         rates\u001b[38;5;241m.\u001b[39mappend(pair[\u001b[38;5;241m0\u001b[39m])\n\u001b[0;32m     63\u001b[0m         pair_rates\u001b[38;5;241m.\u001b[39mappend((nei, pair[\u001b[38;5;241m1\u001b[39m]))\n\u001b[1;32m---> 65\u001b[0m p_decay_rates \u001b[38;5;241m=\u001b[39m \u001b[43mp\u001b[49m\u001b[38;5;241;43m.\u001b[39;49m\u001b[43mget_decay_rates\u001b[49m\u001b[43m(\u001b[49m\u001b[38;5;28;43mself\u001b[39;49m\u001b[38;5;241;43m.\u001b[39;49m\u001b[43mtag\u001b[49m\u001b[43m)\u001b[49m\n\u001b[0;32m     66\u001b[0m no_reaction_prob \u001b[38;5;241m=\u001b[39m \u001b[38;5;241m1\u001b[39m\u001b[38;5;241m-\u001b[39m\u001b[38;5;28mself\u001b[39m\u001b[38;5;241m.\u001b[39mdt\u001b[38;5;241m*\u001b[39m(\u001b[38;5;28msum\u001b[39m(rates) \u001b[38;5;241m+\u001b[39m \u001b[38;5;28msum\u001b[39m(p_decay_rates))\n\u001b[0;32m     68\u001b[0m \u001b[38;5;66;03m# stay in current state\u001b[39;00m\n",
      "File \u001b[1;32md:\\UCNP\\ODE-coefs\\MC\\point.py:63\u001b[0m, in \u001b[0;36mPoint.get_decay_rates\u001b[1;34m(self, tag)\u001b[0m\n\u001b[0;32m     61\u001b[0m \u001b[38;5;28;01mfor\u001b[39;00m i \u001b[38;5;129;01min\u001b[39;00m \u001b[38;5;28mrange\u001b[39m(\u001b[38;5;28mself\u001b[39m\u001b[38;5;241m.\u001b[39mstate):\n\u001b[0;32m     62\u001b[0m     \u001b[38;5;28;01mif\u001b[39;00m \u001b[38;5;28mself\u001b[39m\u001b[38;5;241m.\u001b[39mstate \u001b[38;5;241m==\u001b[39m \u001b[38;5;241m2\u001b[39m \u001b[38;5;129;01mand\u001b[39;00m i \u001b[38;5;241m==\u001b[39m \u001b[38;5;241m1\u001b[39m:\n\u001b[1;32m---> 63\u001b[0m         ret\u001b[38;5;241m.\u001b[39mappend(tag[\u001b[38;5;124mf\u001b[39m\u001b[38;5;124m'\u001b[39m\u001b[38;5;124mW\u001b[39m\u001b[38;5;132;01m{\u001b[39;00m\u001b[38;5;28mself\u001b[39m\u001b[38;5;241m.\u001b[39mstate\u001b[38;5;132;01m}\u001b[39;00m\u001b[38;5;132;01m{\u001b[39;00mi\u001b[38;5;132;01m}\u001b[39;00m\u001b[38;5;124m'\u001b[39m] \u001b[38;5;241m+\u001b[39m \u001b[43mtag\u001b[49m\u001b[43m[\u001b[49m\u001b[38;5;124;43m'\u001b[39;49m\u001b[38;5;124;43mMPR21\u001b[39;49m\u001b[38;5;124;43m'\u001b[39;49m\u001b[43m]\u001b[49m)\n\u001b[0;32m     64\u001b[0m     \u001b[38;5;28;01melif\u001b[39;00m \u001b[38;5;28mself\u001b[39m\u001b[38;5;241m.\u001b[39mstate \u001b[38;5;241m==\u001b[39m \u001b[38;5;241m4\u001b[39m \u001b[38;5;129;01mand\u001b[39;00m i \u001b[38;5;241m==\u001b[39m \u001b[38;5;241m3\u001b[39m:\n\u001b[0;32m     65\u001b[0m         ret\u001b[38;5;241m.\u001b[39mappend(tag[\u001b[38;5;124mf\u001b[39m\u001b[38;5;124m'\u001b[39m\u001b[38;5;124mW\u001b[39m\u001b[38;5;132;01m{\u001b[39;00m\u001b[38;5;28mself\u001b[39m\u001b[38;5;241m.\u001b[39mstate\u001b[38;5;132;01m}\u001b[39;00m\u001b[38;5;132;01m{\u001b[39;00mi\u001b[38;5;132;01m}\u001b[39;00m\u001b[38;5;124m'\u001b[39m] \u001b[38;5;241m+\u001b[39m tag[\u001b[38;5;124m'\u001b[39m\u001b[38;5;124mMPR43\u001b[39m\u001b[38;5;124m'\u001b[39m])\n",
      "\u001b[1;31mKeyError\u001b[0m: 'MPR21'"
     ]
    }
   ],
   "source": [
    "tag_default={'c0':9.836062e-40, # Yb-Yb resonant energy transfer\n",
    "        'c1':8.823270689202585e-42,'c2':2.824326729780273e-41,'c3':2.510909737310349e-42,'c4':2.5507997193509964e-43,\n",
    "        'k31':2.0458454593341336e-41,'k41':7.299896312979955e-41,'k51':1.2897342736133983e-40,\n",
    "        'Ws':0,\n",
    "        'W10':88.12753083306136,\n",
    "        'W21':13.728308752002313,'W20':105.00663885847584,\n",
    "        'W32':0.6904748414556272,'W31':40.06626483314129,'W30':107.07825106403719,\n",
    "        'W43':1.4142534182563467,'W42':49.124834957391506,'W41':45.114305779338295,'W40':1009.6221517188111,\n",
    "        'W54':0.5491077883920105,'W53':46.481404188403104,'W52':28.889483458690968,'W51':378.15231194559027,'W50':919.1044353717751,\n",
    "        'W65':0.02617036285192619,'W64':8.841624545216064,'W63':47.60084543949401,'W62':41.09061870168263,'W61':71.35702052573745,'W60':2812.803587953125,\n",
    "        'W76':0.4092613138830535,'W75':0.01904121955274265,'W74':3.4467583618029134,'W73':93.44157758618482,'W72':162.98778196545229,'W71':334.1120016219258,'W70':2256.2758284193,\n",
    "        'laser': 1000}\n",
    "\n",
    "conc = 0.08\n",
    "p = 30000\n",
    "# p = 10**4\n",
    "\n",
    "all_results = {}\n",
    "\n",
    "nirs = []\n",
    "blues = []\n",
    "lattice = Lattice(1-conc, conc, 8, 1)\n",
    "tag_default['laser'] = 5.76*(p/100)\n",
    "simulator = Simulator(lattice, tag = tag_default)\n",
    "t1 = 2000\n",
    "t2 = 3000\n",
    "r = simulator.simulate(t1, t2)\n",
    "nir, blue = r['nir_avg'], r['blue_avg']\n",
    "nir = nir*10**6\n",
    "green = blue*10**6\n",
    "nirs.append(nir)\n",
    "blues.append(blue)\n",
    "all_results[conc] = nirs, blues\n",
    "print(all_results)\n"
   ]
  },
  {
   "cell_type": "code",
   "execution_count": null,
   "metadata": {},
   "outputs": [],
   "source": []
  }
 ],
 "metadata": {
  "kernelspec": {
   "display_name": "Python 3",
   "language": "python",
   "name": "python3"
  },
  "language_info": {
   "codemirror_mode": {
    "name": "ipython",
    "version": 3
   },
   "file_extension": ".py",
   "mimetype": "text/x-python",
   "name": "python",
   "nbconvert_exporter": "python",
   "pygments_lexer": "ipython3",
   "version": "3.11.3"
  }
 },
 "nbformat": 4,
 "nbformat_minor": 2
}
